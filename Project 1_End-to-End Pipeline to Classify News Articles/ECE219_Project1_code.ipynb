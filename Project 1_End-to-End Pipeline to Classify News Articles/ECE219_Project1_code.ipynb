{
 "cells": [
  {
   "attachments": {},
   "cell_type": "markdown",
   "id": "034482bf",
   "metadata": {
    "id": "034482bf"
   },
   "source": [
    "# ECE 219 Project 1: End-to-End Pipeline to Classify News Articles"
   ]
  },
  {
   "cell_type": "code",
   "execution_count": 2,
   "id": "2e97aed6",
   "metadata": {
    "colab": {
     "base_uri": "https://localhost:8080/"
    },
    "id": "2e97aed6",
    "outputId": "4025d4b1-5df8-4711-bdb0-4280d9b54737"
   },
   "outputs": [
    {
     "name": "stdout",
     "output_type": "stream",
     "text": [
      "Mounted at /content/drive/\n"
     ]
    }
   ],
   "source": [
    "# import all necessary libraries \n",
    "import numpy as np\n",
    "import pandas as pd\n",
    "import matplotlib.pyplot as plt\n",
    "\n",
    "# allows matlab plots to be generated in line\n",
    "%matplotlib inline\n",
    "\n",
    "from google.colab import drive\n",
    "drive.mount(\"/content/drive/\")"
   ]
  },
  {
   "cell_type": "markdown",
   "id": "a5a3bd33",
   "metadata": {
    "id": "a5a3bd33"
   },
   "source": [
    "## Getting familiar with the dataset"
   ]
  },
  {
   "cell_type": "code",
   "execution_count": 3,
   "id": "75b316f8",
   "metadata": {
    "colab": {
     "base_uri": "https://localhost:8080/",
     "height": 257
    },
    "id": "75b316f8",
    "outputId": "18664dec-1cb8-42e3-9ed7-5624f578c444",
    "scrolled": true
   },
   "outputs": [
    {
     "name": "stdout",
     "output_type": "stream",
     "text": [
      "Total number of rows: 3150 and columns: 8\n"
     ]
    },
    {
     "data": {
      "text/html": [
       "\n",
       "  <div id=\"df-120cce82-a27d-4f25-81d9-e8c062613599\">\n",
       "    <div class=\"colab-df-container\">\n",
       "      <div>\n",
       "<style scoped>\n",
       "    .dataframe tbody tr th:only-of-type {\n",
       "        vertical-align: middle;\n",
       "    }\n",
       "\n",
       "    .dataframe tbody tr th {\n",
       "        vertical-align: top;\n",
       "    }\n",
       "\n",
       "    .dataframe thead th {\n",
       "        text-align: right;\n",
       "    }\n",
       "</style>\n",
       "<table border=\"1\" class=\"dataframe\">\n",
       "  <thead>\n",
       "    <tr style=\"text-align: right;\">\n",
       "      <th></th>\n",
       "      <th>full_text</th>\n",
       "      <th>summary</th>\n",
       "      <th>keywords</th>\n",
       "      <th>publish_date</th>\n",
       "      <th>authors</th>\n",
       "      <th>url</th>\n",
       "      <th>leaf_label</th>\n",
       "      <th>root_label</th>\n",
       "    </tr>\n",
       "  </thead>\n",
       "  <tbody>\n",
       "    <tr>\n",
       "      <th>0</th>\n",
       "      <td>'Pure Hockey, the largest hockey retailer in t...</td>\n",
       "      <td>'Pure Hockey, the largest hockey retailer in t...</td>\n",
       "      <td>['acquire', 'agrees', 'nevada', 'retail', 'hoc...</td>\n",
       "      <td>2022-10-21 17:11:22+00:00</td>\n",
       "      <td>['Ein News']</td>\n",
       "      <td>https://www.einnews.com/pr_news/597148062/pure...</td>\n",
       "      <td>hockey</td>\n",
       "      <td>sports</td>\n",
       "    </tr>\n",
       "    <tr>\n",
       "      <th>1</th>\n",
       "      <td>'HKO Hockey Canada Sponsorship 20221006\\n\\nHoc...</td>\n",
       "      <td>'The tally of Hockey Canada’s sponsorship loss...</td>\n",
       "      <td>['sexual', 'exclusive', 'settlement', 'million...</td>\n",
       "      <td>NaN</td>\n",
       "      <td>['Barbara Shecter']</td>\n",
       "      <td>https://ca.finance.yahoo.com/news/exclusive-ho...</td>\n",
       "      <td>hockey</td>\n",
       "      <td>sports</td>\n",
       "    </tr>\n",
       "    <tr>\n",
       "      <th>2</th>\n",
       "      <td>'Canadian Prime Minister Justin Trudeau said W...</td>\n",
       "      <td>'Canadian Prime Minister Justin Trudeau said W...</td>\n",
       "      <td>['québec', 'surprise', 'trust', 'sexual', 'org...</td>\n",
       "      <td>2022-10-05 00:00:00</td>\n",
       "      <td>['The Athletic Staff']</td>\n",
       "      <td>https://theathletic.com/3659888/2022/10/05/hoc...</td>\n",
       "      <td>hockey</td>\n",
       "      <td>sports</td>\n",
       "    </tr>\n",
       "  </tbody>\n",
       "</table>\n",
       "</div>\n",
       "      <button class=\"colab-df-convert\" onclick=\"convertToInteractive('df-120cce82-a27d-4f25-81d9-e8c062613599')\"\n",
       "              title=\"Convert this dataframe to an interactive table.\"\n",
       "              style=\"display:none;\">\n",
       "        \n",
       "  <svg xmlns=\"http://www.w3.org/2000/svg\" height=\"24px\"viewBox=\"0 0 24 24\"\n",
       "       width=\"24px\">\n",
       "    <path d=\"M0 0h24v24H0V0z\" fill=\"none\"/>\n",
       "    <path d=\"M18.56 5.44l.94 2.06.94-2.06 2.06-.94-2.06-.94-.94-2.06-.94 2.06-2.06.94zm-11 1L8.5 8.5l.94-2.06 2.06-.94-2.06-.94L8.5 2.5l-.94 2.06-2.06.94zm10 10l.94 2.06.94-2.06 2.06-.94-2.06-.94-.94-2.06-.94 2.06-2.06.94z\"/><path d=\"M17.41 7.96l-1.37-1.37c-.4-.4-.92-.59-1.43-.59-.52 0-1.04.2-1.43.59L10.3 9.45l-7.72 7.72c-.78.78-.78 2.05 0 2.83L4 21.41c.39.39.9.59 1.41.59.51 0 1.02-.2 1.41-.59l7.78-7.78 2.81-2.81c.8-.78.8-2.07 0-2.86zM5.41 20L4 18.59l7.72-7.72 1.47 1.35L5.41 20z\"/>\n",
       "  </svg>\n",
       "      </button>\n",
       "      \n",
       "  <style>\n",
       "    .colab-df-container {\n",
       "      display:flex;\n",
       "      flex-wrap:wrap;\n",
       "      gap: 12px;\n",
       "    }\n",
       "\n",
       "    .colab-df-convert {\n",
       "      background-color: #E8F0FE;\n",
       "      border: none;\n",
       "      border-radius: 50%;\n",
       "      cursor: pointer;\n",
       "      display: none;\n",
       "      fill: #1967D2;\n",
       "      height: 32px;\n",
       "      padding: 0 0 0 0;\n",
       "      width: 32px;\n",
       "    }\n",
       "\n",
       "    .colab-df-convert:hover {\n",
       "      background-color: #E2EBFA;\n",
       "      box-shadow: 0px 1px 2px rgba(60, 64, 67, 0.3), 0px 1px 3px 1px rgba(60, 64, 67, 0.15);\n",
       "      fill: #174EA6;\n",
       "    }\n",
       "\n",
       "    [theme=dark] .colab-df-convert {\n",
       "      background-color: #3B4455;\n",
       "      fill: #D2E3FC;\n",
       "    }\n",
       "\n",
       "    [theme=dark] .colab-df-convert:hover {\n",
       "      background-color: #434B5C;\n",
       "      box-shadow: 0px 1px 3px 1px rgba(0, 0, 0, 0.15);\n",
       "      filter: drop-shadow(0px 1px 2px rgba(0, 0, 0, 0.3));\n",
       "      fill: #FFFFFF;\n",
       "    }\n",
       "  </style>\n",
       "\n",
       "      <script>\n",
       "        const buttonEl =\n",
       "          document.querySelector('#df-120cce82-a27d-4f25-81d9-e8c062613599 button.colab-df-convert');\n",
       "        buttonEl.style.display =\n",
       "          google.colab.kernel.accessAllowed ? 'block' : 'none';\n",
       "\n",
       "        async function convertToInteractive(key) {\n",
       "          const element = document.querySelector('#df-120cce82-a27d-4f25-81d9-e8c062613599');\n",
       "          const dataTable =\n",
       "            await google.colab.kernel.invokeFunction('convertToInteractive',\n",
       "                                                     [key], {});\n",
       "          if (!dataTable) return;\n",
       "\n",
       "          const docLinkHtml = 'Like what you see? Visit the ' +\n",
       "            '<a target=\"_blank\" href=https://colab.research.google.com/notebooks/data_table.ipynb>data table notebook</a>'\n",
       "            + ' to learn more about interactive tables.';\n",
       "          element.innerHTML = '';\n",
       "          dataTable['output_type'] = 'display_data';\n",
       "          await google.colab.output.renderOutput(dataTable, element);\n",
       "          const docLink = document.createElement('div');\n",
       "          docLink.innerHTML = docLinkHtml;\n",
       "          element.appendChild(docLink);\n",
       "        }\n",
       "      </script>\n",
       "    </div>\n",
       "  </div>\n",
       "  "
      ],
      "text/plain": [
       "                                           full_text  \\\n",
       "0  'Pure Hockey, the largest hockey retailer in t...   \n",
       "1  'HKO Hockey Canada Sponsorship 20221006\\n\\nHoc...   \n",
       "2  'Canadian Prime Minister Justin Trudeau said W...   \n",
       "\n",
       "                                             summary  \\\n",
       "0  'Pure Hockey, the largest hockey retailer in t...   \n",
       "1  'The tally of Hockey Canada’s sponsorship loss...   \n",
       "2  'Canadian Prime Minister Justin Trudeau said W...   \n",
       "\n",
       "                                            keywords  \\\n",
       "0  ['acquire', 'agrees', 'nevada', 'retail', 'hoc...   \n",
       "1  ['sexual', 'exclusive', 'settlement', 'million...   \n",
       "2  ['québec', 'surprise', 'trust', 'sexual', 'org...   \n",
       "\n",
       "                publish_date                 authors  \\\n",
       "0  2022-10-21 17:11:22+00:00            ['Ein News']   \n",
       "1                        NaN     ['Barbara Shecter']   \n",
       "2        2022-10-05 00:00:00  ['The Athletic Staff']   \n",
       "\n",
       "                                                 url leaf_label root_label  \n",
       "0  https://www.einnews.com/pr_news/597148062/pure...     hockey     sports  \n",
       "1  https://ca.finance.yahoo.com/news/exclusive-ho...     hockey     sports  \n",
       "2  https://theathletic.com/3659888/2022/10/05/hoc...     hockey     sports  "
      ]
     },
     "execution_count": 3,
     "metadata": {},
     "output_type": "execute_result"
    }
   ],
   "source": [
    "# read the csv file and get the shape\n",
    "dataset = pd.read_csv('/content/drive/MyDrive/Colab Notebooks/Project1-Classification.csv')\n",
    "\n",
    "rows, columns = dataset.shape\n",
    "\n",
    "print('Total number of rows: {0} and columns: {1}'.format(rows, columns))\n",
    "dataset.head(3)"
   ]
  },
  {
   "cell_type": "markdown",
   "id": "51cf8eb7",
   "metadata": {
    "id": "51cf8eb7"
   },
   "source": [
    "#### Plot histogram (a)"
   ]
  },
  {
   "cell_type": "code",
   "execution_count": 155,
   "id": "7b6cdc83",
   "metadata": {
    "colab": {
     "base_uri": "https://localhost:8080/",
     "height": 404
    },
    "id": "7b6cdc83",
    "outputId": "8578efe4-2fee-41e7-98eb-8941e5643914",
    "scrolled": false
   },
   "outputs": [
    {
     "name": "stdout",
     "output_type": "stream",
     "text": [
      "unique count on x axis: [   39    43    47 ... 47388 66189 80326]\n",
      "the corresponding frequency on y axis: [ 1 13  1 ...  1  1  1]\n"
     ]
    },
    {
     "data": {
      "image/png": "[encoded data removed]",
      "text/plain": [
       "<Figure size 1080x360 with 1 Axes>"
      ]
     },
     "metadata": {
      "needs_background": "light"
     },
     "output_type": "display_data"
    }
   ],
   "source": [
    "# define a function for finding all alpha-numeric characters\n",
    "def find_alpha_numeric(text):\n",
    "    \"\"\"\n",
    "    Args:\n",
    "        text: a string of text\n",
    "    Returns:\n",
    "        result: a list of all alpha-numeric charactres\n",
    "    \"\"\"\n",
    "    result = [i for i in text if i.isalpha() or i.isdigit()]\n",
    "    \n",
    "    return result\n",
    "\n",
    "\n",
    "# iteratively get all total number for each row\n",
    "num_alpha_numeric = np.array([len(find_alpha_numeric(each_text)) for each_text in dataset['full_text']])\n",
    "\n",
    "# get the unique value of count and frequency of that count\n",
    "unique, counts = np.unique(num_alpha_numeric, return_counts=True)\n",
    "print('unique count on x axis: {}'.format(unique))\n",
    "print('the corresponding frequency on y axis: {}'.format(counts))\n",
    "\n",
    "# plot\n",
    "fig, axes = plt.subplots(nrows=1, ncols=1, figsize=(15, 5))\n",
    "axes.hist(num_alpha_numeric, bins=len(unique))\n",
    "axes.set_xlabel(\"Count of the alpha-numeric characters\")\n",
    "axes.set_ylabel(\"Frequency of the alpha-numeric characters\")\n",
    "fig.tight_layout()"
   ]
  },
  {
   "cell_type": "markdown",
   "id": "db86dcca",
   "metadata": {
    "id": "db86dcca"
   },
   "source": [
    "#### Plot histogram (b)"
   ]
  },
  {
   "cell_type": "code",
   "execution_count": 4,
   "id": "bd416f19",
   "metadata": {
    "colab": {
     "base_uri": "https://localhost:8080/",
     "height": 374
    },
    "id": "bd416f19",
    "outputId": "70361871-b382-4f34-ccae-fb66a6f602f6"
   },
   "outputs": [
    {
     "data": {
      "text/plain": [
       "<matplotlib.axes._subplots.AxesSubplot at 0x7f46fb0d8f40>"
      ]
     },
     "execution_count": 4,
     "metadata": {},
     "output_type": "execute_result"
    },
    {
     "data": {
      "image/png": "[encoded data removed]",
      "text/plain": [
       "<Figure size 432x288 with 1 Axes>"
      ]
     },
     "metadata": {
      "needs_background": "light"
     },
     "output_type": "display_data"
    }
   ],
   "source": [
    "dataset['leaf_label'].value_counts().plot(kind='bar', rot=60)"
   ]
  },
  {
   "cell_type": "markdown",
   "id": "2694db29",
   "metadata": {
    "id": "2694db29"
   },
   "source": [
    "#### Plot histogram (c)"
   ]
  },
  {
   "cell_type": "code",
   "execution_count": 5,
   "id": "a22085d6",
   "metadata": {
    "colab": {
     "base_uri": "https://localhost:8080/",
     "height": 282
    },
    "id": "a22085d6",
    "outputId": "637f7030-7a8d-44c0-dcbf-25c6355eb7b1"
   },
   "outputs": [
    {
     "data": {
      "text/plain": [
       "<matplotlib.axes._subplots.AxesSubplot at 0x7f46f8109df0>"
      ]
     },
     "execution_count": 5,
     "metadata": {},
     "output_type": "execute_result"
    },
    {
     "data": {
      "image/png": "[encoded data removed]",
      "text/plain": [
       "<Figure size 432x288 with 1 Axes>"
      ]
     },
     "metadata": {
      "needs_background": "light"
     },
     "output_type": "display_data"
    }
   ],
   "source": [
    "dataset['root_label'].value_counts().plot(kind='bar', rot=0)"
   ]
  },
  {
   "cell_type": "markdown",
   "id": "7133a0a7",
   "metadata": {
    "id": "7133a0a7"
   },
   "source": [
    "<div class=\"alert alert-block alert-success\">\n",
    "<b>Question 1:</b> Provide answers to the following questions:\n",
    "<ul>  \n",
    "  <li><b>Overview:</b> How many rows (samples) and columns (features) are present in the dataset?</li>\n",
    "  <li><b>Histograms</b> Plot 3 histograms on: </li>\n",
    "    <ul>\n",
    "      <li>(a) The total number of alpha-numeric characters per data point (row) in the feature full text: i.e count on the x-axis and frequency on the y-axis; </li>\n",
    "      <li>(b) The column leaf label – class on the x-axis; </li>\n",
    "      <li>(c) The column root label – class on the x-axis. </li>\n",
    "    </ul>\n",
    "   <li><b>Interpret Plots:</b> Provide qualitative interpretations of the histograms.</li>\n",
    "</ul>\n",
    "</div>\n"
   ]
  },
  {
   "cell_type": "markdown",
   "id": "2b5485e5",
   "metadata": {
    "id": "2b5485e5"
   },
   "source": [
    "<div class=\"alert alert-block alert-success\">\n",
    "<b>Answer:</b> \n",
    "<ul>\n",
    "  <li><b>Overview:</b> In total, there are 3150 samples and 8 features present in the dataset.</li>\n",
    "  <li><b>Histograms:</b>\n",
    "    <ul>\n",
    "      <li> (a) as shown above</li>\n",
    "      <li> (b) as shown above</li>\n",
    "      <li> (c) as shown above</li>\n",
    "    </ul>\n",
    "  <li> <b>Interpret Plots:</b> According to the histogram (a), one can first observe a substantial inequality between each total number of alpha-numeric characters on the x-axis, ranging from only 39 to 80326. The frequency of each number is also unequally distributed, leading to a potential problem of bias towards certain class labels if we train the model based on alpha-numeric characters. Furthermore, histogram (b) shows an equal distribution between the 9 different lead labels with an amount of 350. Root label, on the other hand, offers an unequal distribution of 1750 and 1400 between sports and climate classes, respectively. This means that one has to be more careful about training based on root labels as there is a hidden bias towards sports class in the dataset.</li>\n",
    "        \n",
    "</ul>\n",
    "</div>"
   ]
  },
  {
   "cell_type": "markdown",
   "id": "2549d52a",
   "metadata": {
    "id": "2549d52a"
   },
   "source": [
    "## Binary Classification\n",
    "\n",
    "For the first part of the project, we will be using only the **full text column** as the raw\n",
    "features per sample (row) and the **root label column** as the label for each sample. The\n",
    "root labels are well-separated."
   ]
  },
  {
   "cell_type": "code",
   "execution_count": 5,
   "id": "d407610a",
   "metadata": {
    "id": "d407610a"
   },
   "outputs": [],
   "source": [
    "import numpy as np\n",
    "import random\n",
    "\n",
    "# set up random seed\n",
    "np.random.seed(42)\n",
    "random.seed(42)"
   ]
  },
  {
   "cell_type": "markdown",
   "id": "4f38d1a3",
   "metadata": {
    "id": "4f38d1a3"
   },
   "source": [
    "### 1. Splitting the entire dataset into training and testing data"
   ]
  },
  {
   "cell_type": "code",
   "execution_count": 7,
   "id": "3b07c47f",
   "metadata": {
    "colab": {
     "base_uri": "https://localhost:8080/"
    },
    "id": "3b07c47f",
    "outputId": "2f5afe96-e2d2-49e0-c809-5e75f3f7f004"
   },
   "outputs": [
    {
     "name": "stdout",
     "output_type": "stream",
     "text": [
      "Number of training samples: 2520\n",
      "Number of testing samples: 630\n"
     ]
    }
   ],
   "source": [
    "from sklearn.model_selection import train_test_split\n",
    "\n",
    "# extract only full_text and root_label columns and split into train and test\n",
    "train, test = train_test_split(dataset[[\"full_text\",\"root_label\"]], test_size=0.2)\n",
    "\n",
    "print(\"Number of training samples: {}\".format(train.shape[0]))\n",
    "print(\"Number of testing samples: {}\".format(test.shape[0]))"
   ]
  },
  {
   "cell_type": "markdown",
   "id": "f73fb44b",
   "metadata": {
    "id": "f73fb44b"
   },
   "source": [
    "<div class=\"alert alert-block alert-success\">\n",
    "<b>Question 2:</b> Report the number of training and testing samples.\n",
    "</div>"
   ]
  },
  {
   "cell_type": "markdown",
   "id": "a8107408",
   "metadata": {},
   "source": [
    "<div class=\"alert alert-block alert-success\">\n",
    "<b>Answer:</b> In total, there are 2520 training samples and 630 testing samples\n",
    "</div>"
   ]
  },
  {
   "cell_type": "markdown",
   "id": "218e8ca9",
   "metadata": {
    "id": "218e8ca9"
   },
   "source": [
    "### 2. Feature Extraction"
   ]
  },
  {
   "cell_type": "code",
   "execution_count": 6,
   "id": "b158899a",
   "metadata": {
    "id": "b158899a"
   },
   "outputs": [],
   "source": [
    "import re\n",
    "\n",
    "# function to clean the text\n",
    "def clean(text):\n",
    "    text = re.sub(r'^https?:\\/\\/.*[\\r\\n]*', '', text, flags=re.MULTILINE)\n",
    "    texter = re.sub(r\"<br />\", \" \", text)\n",
    "    texter = re.sub(r\"&quot;\", \"\\\"\",texter)\n",
    "    texter = re.sub('&#39;', \"\\\"\", texter)\n",
    "    texter = re.sub('\\n', \" \", texter)\n",
    "    texter = re.sub(' u ',\" you \", texter)\n",
    "    texter = re.sub('`',\"\", texter)\n",
    "    texter = re.sub(' +', ' ', texter)\n",
    "    texter = re.sub(r\"(!)\\1+\", r\"!\", texter)\n",
    "    texter = re.sub(r\"(\\?)\\1+\", r\"?\", texter)\n",
    "    texter = re.sub('&amp;', 'and', texter)\n",
    "    texter = re.sub('\\r', ' ',texter)\n",
    "    clean = re.compile('<.*?>')\n",
    "    texter = texter.encode('ascii', 'ignore').decode('ascii')\n",
    "    texter = re.sub(clean, '', texter)\n",
    "    if texter == \"\":\n",
    "        texter = \"\"\n",
    "        \n",
    "    return texter"
   ]
  },
  {
   "cell_type": "markdown",
   "id": "9df08708",
   "metadata": {
    "id": "9df08708"
   },
   "source": [
    "<div class=\"alert alert-block alert-success\">\n",
    "Use the following specs to extract features from the textual data:\n",
    "<ul>\n",
    "  <li>Before doing anything, please clean each data sample using the code block provided above. This function helps remove many but not all HTML artefacts from the crawler’s output. You can also build your own cleaning module if you find this function to be ineffective.</li>\n",
    "  <li>Use the “english” stopwords of the CountVectorizer</li>\n",
    "  <li>Exclude terms that are numbers (e.g. “123”, “-45”, “6.7” etc.)</li>\n",
    "  <li>Perform lemmatization with nltk.wordnet.WordNetLemmatizer and pos_tag</li>\n",
    "  <li>Use min_df=3</li>\n",
    "</ul>\n",
    "</div>"
   ]
  },
  {
   "cell_type": "code",
   "execution_count": 9,
   "id": "3d8dd475",
   "metadata": {
    "id": "3d8dd475"
   },
   "outputs": [],
   "source": [
    "# clean the full_text\n",
    "train = train.applymap(clean)\n",
    "test = test.applymap(clean)"
   ]
  },
  {
   "cell_type": "markdown",
   "id": "052a3e96",
   "metadata": {
    "id": "052a3e96"
   },
   "source": [
    "#### Stemming"
   ]
  },
  {
   "cell_type": "code",
   "execution_count": 10,
   "id": "1707ddbf",
   "metadata": {
    "colab": {
     "base_uri": "https://localhost:8080/"
    },
    "id": "1707ddbf",
    "outputId": "2e6fae49-fd59-4b84-fb5a-7e0b7636538c"
   },
   "outputs": [
    {
     "name": "stderr",
     "output_type": "stream",
     "text": [
      "[nltk_data] Downloading package stopwords to /root/nltk_data...\n",
      "[nltk_data]   Unzipping corpora/stopwords.zip.\n"
     ]
    },
    {
     "name": "stdout",
     "output_type": "stream",
     "text": [
      "[[0 0 0 ... 0 0 0]\n",
      " [0 0 0 ... 0 0 0]\n",
      " [0 0 0 ... 0 0 0]\n",
      " ...\n",
      " [0 0 0 ... 0 0 0]\n",
      " [0 0 0 ... 0 0 0]\n",
      " [0 0 0 ... 0 0 0]]\n"
     ]
    }
   ],
   "source": [
    "from sklearn.feature_extraction.text import CountVectorizer\n",
    "from sklearn.feature_extraction import text\n",
    "from nltk.corpus import stopwords\n",
    "from string import punctuation\n",
    "import nltk\n",
    "\n",
    "nltk.download('stopwords')\n",
    "\n",
    "# define the whole process of stemming\n",
    "def stemming(doc):\n",
    "    \"\"\"\n",
    "    Args:\n",
    "        doc: a string of text\n",
    "    Returns:\n",
    "        stemmed_words: a list of words (string)\n",
    "    \"\"\"\n",
    "    # step 1: define tokenizer to tokenize the sentence into words (string)\n",
    "    tokenizer = CountVectorizer().build_analyzer()\n",
    "    \n",
    "    # step 2: remove stopwords, punctuations, and numbers\n",
    "    stop_words_skt = text.ENGLISH_STOP_WORDS\n",
    "    stop_words_en = stopwords.words('english')\n",
    "    combined_stopwords = set.union(set(stop_words_en),set(punctuation),set(stop_words_skt))\n",
    "    words = [word for word in tokenizer(doc) \n",
    "             if word not in combined_stopwords and not word.isdigit()]\n",
    "    \n",
    "    # step 3: stem each word\n",
    "    sno = nltk.stem.SnowballStemmer('english')  # or nltk.stem.PorterStemmer()\n",
    "    stemmed_words = [sno.stem(word) for word in words]\n",
    "    \n",
    "    return stemmed_words\n",
    "\n",
    "\n",
    "# step 4: train the CountVectorizer with lemmatizer as analyzer\n",
    "stem_vectorizer = CountVectorizer(min_df=3, analyzer=stemming, stop_words='english')\n",
    "X_train_stem = stem_vectorizer.fit_transform(train['full_text'])\n",
    "X_test_stem = stem_vectorizer.transform(test['full_text'])\n",
    "\n",
    "print(X_train_stem.toarray())"
   ]
  },
  {
   "cell_type": "markdown",
   "id": "47c1cc3b",
   "metadata": {
    "id": "47c1cc3b"
   },
   "source": [
    "#### Lemmatization"
   ]
  },
  {
   "cell_type": "code",
   "execution_count": 11,
   "id": "5afdb781",
   "metadata": {
    "colab": {
     "base_uri": "https://localhost:8080/"
    },
    "id": "5afdb781",
    "outputId": "17535a87-7fda-4f5a-a9bc-4e9b23de7ec2"
   },
   "outputs": [
    {
     "name": "stderr",
     "output_type": "stream",
     "text": [
      "[nltk_data] Downloading package averaged_perceptron_tagger to\n",
      "[nltk_data]     /root/nltk_data...\n",
      "[nltk_data]   Unzipping taggers/averaged_perceptron_tagger.zip.\n",
      "[nltk_data] Downloading package wordnet to /root/nltk_data...\n",
      "[nltk_data] Downloading package omw-1.4 to /root/nltk_data...\n"
     ]
    },
    {
     "name": "stdout",
     "output_type": "stream",
     "text": [
      "[[0 0 0 ... 0 0 0]\n",
      " [0 0 0 ... 0 0 0]\n",
      " [0 0 0 ... 0 0 0]\n",
      " ...\n",
      " [0 0 0 ... 0 0 0]\n",
      " [0 0 0 ... 0 0 0]\n",
      " [0 0 0 ... 0 0 0]]\n"
     ]
    }
   ],
   "source": [
    "from sklearn.feature_extraction.text import CountVectorizer\n",
    "from sklearn.feature_extraction import text\n",
    "from nltk.corpus import stopwords\n",
    "from string import punctuation\n",
    "import nltk\n",
    "from nltk import pos_tag\n",
    "\n",
    "nltk.download('averaged_perceptron_tagger')\n",
    "nltk.download('wordnet')\n",
    "nltk.download('omw-1.4')\n",
    "\n",
    "# Converts Penn Treebank tags to WordNet\n",
    "def penn2wn(penntag):\n",
    "    wn_tag = {'NN':'n', 'JJ':'a',\n",
    "                  'VB':'v', 'RB':'r'}\n",
    "    try:\n",
    "        return wn_tag[penntag[:2]]\n",
    "    except:\n",
    "        return 'n'\n",
    "\n",
    "# define the whole process of lemmatization\n",
    "def lemmatization(doc):\n",
    "    \"\"\"\n",
    "    Args:\n",
    "        doc: a string of text\n",
    "    Returns:\n",
    "        lemmatized_words: a list of words (string)\n",
    "    \"\"\"\n",
    "    # step 1: define tokenizer to tokenize the sentence into words (string)\n",
    "    tokenizer = CountVectorizer().build_analyzer()\n",
    "\n",
    "    # step 2: assign word’s part-of-speech (POS) tag with pos_tag\n",
    "    words_tags = pos_tag(tokenizer(doc))\n",
    "\n",
    "    # step 3: convert Penn Treebank tags to WordNet with penn2wn\n",
    "    words_tags = [(word, penn2wn(tag)) for word, tag in words_tags]\n",
    "    \n",
    "    # step 4: lemmatize each word based on converted part-of-speech tag\n",
    "    wnl = nltk.wordnet.WordNetLemmatizer()\n",
    "    lemmatized_words = [wnl.lemmatize(word.lower(), pos=tag) for word, tag in words_tags]\n",
    "    \n",
    "    # step 5: remove stopwords, punctuations, and numbers\n",
    "    stop_words_skt = text.ENGLISH_STOP_WORDS\n",
    "    stop_words_en = stopwords.words('english')\n",
    "    combined_stopwords = set.union(set(stop_words_en),set(punctuation),set(stop_words_skt))\n",
    "    \n",
    "    lemmatized_words = [word for word in lemmatized_words \n",
    "                        if word not in combined_stopwords and not word.isdigit()]\n",
    "    \n",
    "    return lemmatized_words\n",
    "\n",
    "\n",
    "# step 6: train the CountVectorizer with lemmatizer as analyzer\n",
    "lemma_vectorizer = CountVectorizer(min_df=3, analyzer=lemmatization, stop_words='english')\n",
    "X_train_lemma = lemma_vectorizer.fit_transform(train['full_text'])\n",
    "X_test_lemma = lemma_vectorizer.transform(test['full_text'])\n",
    "\n",
    "print(X_train_lemma.toarray())"
   ]
  },
  {
   "cell_type": "markdown",
   "id": "09b04c63",
   "metadata": {
    "id": "09b04c63"
   },
   "source": [
    "#### Term Frequency-Inverse Document Frequency Model (TF-IDF)"
   ]
  },
  {
   "cell_type": "code",
   "execution_count": 12,
   "id": "db77aa0f",
   "metadata": {
    "colab": {
     "base_uri": "https://localhost:8080/"
    },
    "id": "db77aa0f",
    "outputId": "43b587ab-8023-4cf8-f95e-213e468e77e9",
    "scrolled": false
   },
   "outputs": [
    {
     "name": "stdout",
     "output_type": "stream",
     "text": [
      "(2520, 50592)\n",
      "(2520, 28057)\n",
      "(2520, 20338)\n",
      "(2520, 16300)\n"
     ]
    }
   ],
   "source": [
    "# test different min_dfs for Q3-2\n",
    "\n",
    "from sklearn.feature_extraction.text import CountVectorizer\n",
    "from sklearn.feature_extraction.text import TfidfTransformer\n",
    "\n",
    "min_dfs = range(1,5)\n",
    "for min_df in min_dfs:\n",
    "    \n",
    "    # set up CountVectorizer\n",
    "    exclude_nums = lambda x: re.sub(r'\\d+', '', x)\n",
    "    vectorizer = CountVectorizer(preprocessor=exclude_nums, \n",
    "                                 stop_words='english', min_df=min_df)\n",
    "\n",
    "    # convert text documents to document-term matrix\n",
    "    X_train_vec = vectorizer.fit_transform(train['full_text'])\n",
    "    X_test_vec = vectorizer.transform(test['full_text'])\n",
    "\n",
    "    # convert to TF-IDF matrix\n",
    "    tfidf_transformer = TfidfTransformer()\n",
    "    X_train_tfidf = tfidf_transformer.fit_transform(X_train_vec)\n",
    "    X_test_tfidf = tfidf_transformer.transform(X_test_vec)\n",
    "    \n",
    "\n",
    "    print(X_train_tfidf.shape)"
   ]
  },
  {
   "cell_type": "code",
   "execution_count": 13,
   "id": "c19a4745",
   "metadata": {
    "colab": {
     "base_uri": "https://localhost:8080/"
    },
    "id": "c19a4745",
    "outputId": "6eaeb85a-d46a-480d-833c-226e94709c53"
   },
   "outputs": [
    {
     "name": "stdout",
     "output_type": "stream",
     "text": [
      "Shape of TF-IDF-processed train matrix: (2520, 13715)\n",
      "Shape of TF-IDF-processed test matrix: (630, 13715)\n"
     ]
    }
   ],
   "source": [
    "# Report the shape of TF-IDF-processed matrix for Q3-4\n",
    "\n",
    "# vectorizer with lemmatization\n",
    "lemma_vectorizer = CountVectorizer(min_df=3, analyzer=lemmatization, stop_words='english')\n",
    "\n",
    "# train the vectorizer, and convert text documents to document-term matrix\n",
    "X_train_lemma = lemma_vectorizer.fit_transform(train['full_text'])\n",
    "X_test_lemma = lemma_vectorizer.transform(test['full_text'])\n",
    "\n",
    "# convert to TF-IDF matrix\n",
    "tfidf_transformer = TfidfTransformer()\n",
    "X_train_tfidf = tfidf_transformer.fit_transform(X_train_lemma)\n",
    "X_test_tfidf = tfidf_transformer.transform(X_test_lemma)\n",
    "\n",
    "print(\"Shape of TF-IDF-processed train matrix: {}\".format(X_train_tfidf.shape))\n",
    "print(\"Shape of TF-IDF-processed test matrix: {}\".format(X_test_tfidf.shape))"
   ]
  },
  {
   "cell_type": "markdown",
   "id": "2bf71b2e",
   "metadata": {},
   "source": [
    "<div class=\"alert alert-block alert-success\">\n",
    "<b>Question 3:</b> Please answer the following questions:\n",
    "<ul>\n",
    "  <li>What are the pros and cons of lemmatization versus stemming? How do these processes affect the dictionary size?</li>\n",
    "  <li>min_df means minimum document frequency. How does varying min_df change the TF-IDF matrix?</li>\n",
    "  <li>Should I remove stopwords before or after lemmatizing? Should I remove punctuations before or after lemmatizing? Should I remove numbers before or after lemmatizing? Hint: Recall that the full sentence is input into the Lemmatizer and the lemmatizer is tagging the position of every word based on the sentence structure.</li>\n",
    "  <li>Report the shape of the TF-IDF-processed train and test matrices. The number of rows should match the results of Question 2. The number of columns should roughly be in the order of k×103. This dimension will vary depending on your exact method of cleaning and lemmatizing and that is okay.</li>\n",
    "    \n",
    "</ul>\n",
    "</div>"
   ]
  },
  {
   "cell_type": "markdown",
   "id": "1bc82791",
   "metadata": {
    "id": "1bc82791"
   },
   "source": [
    "<div class=\"alert alert-block alert-success\">\n",
    "<b>Answer:</b>\n",
    "<ul> \n",
    "  <li>Lemmatization has almost always higher accuracy than stemming as it is a canonical dictionary-based approach that performs an analysis depending on the word’s part-of-speech and produces actual dictionary words, whereas stemming is a rule-based approach that trims words regardless of the context. Moreover, lemmatization has the advantage of context awareness since it trims words context-dependently and is thus better for context analysis. However, lemmatization is more sophisticated, harder to implement, and slower compared to stemming. Overall, lemmatization will almost always generate a larger dictionary size based on its properties.</li>\n",
    "  <li>The higher the \"min_df\" value is set, the fewer columns the TF-IDF matrix has, leading to the smaller matrix (same rows x smaller columns)</li>\n",
    "  <li>Stopwords, Punctuations, and numbers should be removed after lemmatizing since they provide the context for the sentence. Removing them beforehand will cause the sentence to lose a certain meaning, which is critical in lemmatization as it should be context-dependently to yield better performance.</li>\n",
    "  <li>The shape of the TF-IDF-processed train matrix is (2520, 13715) and the test matrix is (630, 13715)</li>\n",
    "</ul>\n",
    "</div>\n",
    "\n",
    "\n",
    "\n"
   ]
  },
  {
   "cell_type": "markdown",
   "id": "cf78182d",
   "metadata": {
    "id": "cf78182d"
   },
   "source": [
    "### 3. Dimensionality Reduction"
   ]
  },
  {
   "cell_type": "markdown",
   "id": "eecc66cd",
   "metadata": {
    "id": "eecc66cd"
   },
   "source": [
    "#### Latent Semantic Indexing (LSI) with different number of components"
   ]
  },
  {
   "cell_type": "code",
   "execution_count": 14,
   "id": "011a820e",
   "metadata": {
    "colab": {
     "base_uri": "https://localhost:8080/",
     "height": 297
    },
    "id": "011a820e",
    "outputId": "a0407c22-4f36-4974-e325-dd87d6f457ca"
   },
   "outputs": [
    {
     "data": {
      "image/png": "[encoded data removed]",
      "text/plain": [
       "<Figure size 432x288 with 1 Axes>"
      ]
     },
     "metadata": {
      "needs_background": "light"
     },
     "output_type": "display_data"
    }
   ],
   "source": [
    "from sklearn.decomposition import TruncatedSVD\n",
    "\n",
    "# Define the number of topics or components\n",
    "n_components=[1, 10, 50, 100, 200, 500, 1000, 2000]\n",
    "ExVar_ratios = []\n",
    "ExVar_ratios_sum = []\n",
    "sum_ratio = 0\n",
    "\n",
    "for k in n_components:    \n",
    "    # create SVD object for LSI\n",
    "    lsi = TruncatedSVD(n_components=k, n_iter=5, random_state=42)\n",
    "\n",
    "    # fit SVD model on with TF-IDF processed matrix\n",
    "    X_train_lsi = lsi.fit_transform(X_train_tfidf)\n",
    "\n",
    "    # # get singular values, right singular vectors, explained variance\n",
    "    # Sigma = lsi.singular_values_ \n",
    "    # V_transpose = lsi.components_.T\n",
    "    # ExVar = lsi.explained_variance_\n",
    "    \n",
    "    # store explained variance ratio for the plot\n",
    "    ExVar_ratio = lsi.explained_variance_ratio_.sum()\n",
    "    ExVar_ratios.append(ExVar_ratio)\n",
    "    sum_ratio += ExVar_ratio\n",
    "    ExVar_ratios_sum.append(sum_ratio)\n",
    "    \n",
    "    \n",
    "plt.bar(range(0,len(ExVar_ratios)), ExVar_ratios, alpha=0.5, \n",
    "        align='center', label='Individual explained variance')\n",
    "# plt.step(range(0,len(ExVar_ratios_sum)), ExVar_ratios_sum, \n",
    "#          where='mid',label='Cumulative explained variance')\n",
    "plt.plot(range(0,len(ExVar_ratios_sum)), ExVar_ratios_sum, \n",
    "         color='orange', label='Cumulative explained variance')\n",
    "plt.ylabel('Explained variance ratio')\n",
    "plt.xlabel('Principal component index')\n",
    "plt.legend(loc='best')\n",
    "plt.tight_layout()\n",
    "plt.show()"
   ]
  },
  {
   "cell_type": "markdown",
   "id": "3e9fa9f7",
   "metadata": {
    "id": "3e9fa9f7"
   },
   "source": [
    "#### Latent Semantic Indexing (LSI) and Non-negative Matrix Factorization (NMF) with K = 50"
   ]
  },
  {
   "cell_type": "code",
   "execution_count": 113,
   "id": "9acf1e59",
   "metadata": {
    "colab": {
     "base_uri": "https://localhost:8080/"
    },
    "id": "9acf1e59",
    "outputId": "cbd9ce95-965f-447f-8ffa-2eb102b900d9"
   },
   "outputs": [
    {
     "name": "stdout",
     "output_type": "stream",
     "text": [
      "The MSE loss of training set in LSI is 1670.6571084153147\n",
      "The MSE loss of testing set in LSI is 444.207301657836\n",
      "The MSE loss of training set in NMF is 1697.8966418578825\n",
      "The MSE loss of testing set in NMF is 452.0613550888077\n"
     ]
    }
   ],
   "source": [
    "from sklearn.decomposition import TruncatedSVD\n",
    "from sklearn.decomposition import NMF\n",
    "\n",
    "# reduce to k features\n",
    "k=50\n",
    "\n",
    "# Latent Semantic Indexing (LSI)\n",
    "lsi = TruncatedSVD(n_components=k, n_iter=5, random_state=42)\n",
    "X_train_lsi = lsi.fit_transform(X_train_tfidf)\n",
    "X_test_lsi = lsi.transform(X_test_tfidf)\n",
    "Sigma = lsi.singular_values_ \n",
    "V_transpose = lsi.components_.T\n",
    "\n",
    "# calculate MSE loss of LSI\n",
    "train_loss_lsi = np.sum(np.array(X_train_tfidf - np.matmul(X_train_lsi, V_transpose.T))**2)\n",
    "test_loss_lsi = np.sum(np.array(X_test_tfidf - np.matmul(X_test_lsi, V_transpose.T))**2)\n",
    "\n",
    "# Non-negative Matrix Factorization (NMF)\n",
    "nmf = NMF(n_components=k, init='random', random_state=42)\n",
    "W_nmf = nmf.fit_transform(X_train_tfidf)\n",
    "W_nmf_test = nmf.transform(X_test_tfidf)\n",
    "H_nmf = nmf.components_\n",
    "\n",
    "# calculate MSE loss of NMF\n",
    "train_loss_nmf = np.sum(np.array(X_train_tfidf - np.matmul(W_nmf, H_nmf))**2)\n",
    "test_loss_nmf = np.sum(np.array(X_test_tfidf - np.matmul(W_nmf_test, H_nmf))**2)\n",
    "\n",
    "\n",
    "print('The MSE loss of training set in LSI is {}'.format(train_loss_lsi))\n",
    "print('The MSE loss of testing set in LSI is {}'.format(test_loss_lsi))\n",
    "print('The MSE loss of training set in NMF is {}'.format(train_loss_nmf))\n",
    "print('The MSE loss of testing set in NMF is {}'.format(test_loss_nmf))"
   ]
  },
  {
   "cell_type": "markdown",
   "id": "d849687e",
   "metadata": {},
   "source": [
    "<div class=\"alert alert-block alert-success\">\n",
    "<b>QUESTION 4:</b> Reduce the dimensionality of the data using the methods above:\n",
    "<ul>    \n",
    "  <li>Plot the explained variance ratio across multiple different k = [1, 10, 50, 100, 200, 500, 1000, 2000] for LSI and for the next few sections choose k = 50. What does the explained variance ratio plot look like? What does the plot’s concavity suggest?</li>\n",
    "  <li>With k = 50 found in the previous sections, calculate the reconstruction residual MSE error when using LSI and NMF – they both should use the same k = 50. Which one is larger, the $∥X −WH∥^2_F$ in NMF or the $∥X −U_k\\Sigma_kV^T_k∥^2_F$ in LSI and why?</li>\n",
    "</ul>    \n",
    "</div>"
   ]
  },
  {
   "cell_type": "markdown",
   "id": "ddabf16e",
   "metadata": {
    "id": "ddabf16e"
   },
   "source": [
    "<div class=\"alert alert-block alert-success\">\n",
    "<b>Answer:</b>\n",
    "<ul> \n",
    "  <li>As shown above, the explained variance ratio plot looks like an exponential function. Based on the concavity, we could tell that the more features we keep (higher k value), the more representative the transformed matrix is with respect to the original matrix, and it grows not linearly but exponentially.</li>\n",
    "  <li>The MSE loss in NMF is larger in both the training and testing dataset because NMF usually works better with shorter texts, whereas LSI is better with longer texts, and most of our texts here are pretty long. Moreover, NMF fails to consider the context in the text, and thus, it is obvious that NMF leads to a larger loss compared with LSI when the feature dimension is so largely reduced (only 4% left).</li>\n",
    "</ul>\n",
    "</div>"
   ]
  },
  {
   "cell_type": "markdown",
   "id": "e8923e4e",
   "metadata": {
    "id": "e8923e4e"
   },
   "source": [
    "### 4. Classification Algorithms\n",
    "\n",
    "In this part, you are asked to use the dimensionality-reduced training data from LSI with your choice of k to train (different types of) classifiers, and evaluate the 6 trained classifiers with test data. Your task would be to classify the documents into two classes (for now a binary classification task) sports versus climate."
   ]
  },
  {
   "cell_type": "code",
   "execution_count": 24,
   "id": "ac91eabf",
   "metadata": {
    "id": "ac91eabf"
   },
   "outputs": [],
   "source": [
    "# create several useful functions\n",
    "\n",
    "from sklearn import metrics\n",
    "\n",
    "def plot_roc(fpr, tpr):\n",
    "    fig, ax = plt.subplots()\n",
    "    \n",
    "    roc_auc = metrics.auc(fpr,tpr)\n",
    "    \n",
    "    ax.plot(fpr, tpr, lw=2, label= 'area under curve = %0.4f' % roc_auc)\n",
    "    ax.grid(color='0.7', linestyle='--', linewidth=1)\n",
    "\n",
    "    ax.set_xlim([-0.1, 1.1])\n",
    "    ax.set_ylim([0.0, 1.05])\n",
    "    ax.set_xlabel('False Positive Rate',fontsize=15)\n",
    "    ax.set_ylabel('True Positive Rate',fontsize=15)\n",
    "    ax.legend(loc=\"lower right\")\n",
    "\n",
    "    for label in ax.get_xticklabels()+ax.get_yticklabels():\n",
    "        label.set_fontsize(15)\n",
    "\n",
    "        \n",
    "def standard_confusion_matrix(gt, pred):\n",
    "    \"\"\"\n",
    "    Make confusion matrix with format:\n",
    "                  -----------\n",
    "                  | TP | FP |\n",
    "                  -----------\n",
    "                  | FN | TN |\n",
    "                  -----------\n",
    "    \"\"\"\n",
    "    [[tn, fp], [fn, tp]] = metrics.confusion_matrix(np.asarray(gt), np.asarray(pred))\n",
    "    \n",
    "    return np.array([[tp, fp], [fn, tn]])\n",
    "\n",
    "\n",
    "def evaluation_scores(gt, pred):\n",
    "    [[tn, fp], [fn, tp]] = metrics.confusion_matrix(np.asarray(gt), np.asarray(pred))\n",
    "    # accuracy\n",
    "    accuracy = (tp + tn) / (tp + fp + fn + tn)\n",
    "    # Precision, Recall, F1-score\n",
    "    precision = tp / (tp + fp)\n",
    "    recall = tp / (tp + fn)\n",
    "    f1_score = 2 * (precision * recall) / (precision + recall)\n",
    "    # # TPR(sensitivity), TNR(specificity)\n",
    "    # tpr = tp / (tp + fn)\n",
    "    # tnr = tn / (tn + fp)\n",
    "    \n",
    "    return accuracy, precision, recall, f1_score\n",
    "\n",
    "\n",
    "def print_cm(cm):\n",
    "    print(f'  - Confusion Matrix:\\n'\n",
    "          '    -----------------------\\n'\n",
    "          f'    | TP: {cm[0,0]:4.0f} | FP: {cm[0,1]:4.0f} |\\n'\n",
    "          '    -----------------------\\n'\n",
    "          f'    | FN: {cm[1,0]:4.0f} | TN: {cm[1,1]:4.0f} |\\n'\n",
    "          '    -----------------------')\n",
    "    \n",
    "def print_scores(accuracy, precision, recall, f1_score):\n",
    "    print('- Classification:\\n'\n",
    "          '    Accuracy: {0:5.2f}%\\n'\n",
    "          '    Precision: {1:6.4f}\\n'\n",
    "          '    Recall: {2:6.4f}\\n'\n",
    "          '    F1-score: {3:6.4f}'.format(accuracy*100, precision,\n",
    "                                          recall, f1_score))"
   ]
  },
  {
   "cell_type": "code",
   "execution_count": 114,
   "id": "pD_l75nr5OXc",
   "metadata": {
    "id": "pD_l75nr5OXc"
   },
   "outputs": [],
   "source": [
    "from sklearn.decomposition import TruncatedSVD\n",
    "\n",
    "# convert GT class labels to numbers {'climate': 0, 'sports': 1}\n",
    "labels_dict = dict(zip(train['root_label'].unique(), \n",
    "                       range(0,train['root_label'].unique().size)))\n",
    "Y_train = train['root_label'].map(labels_dict, na_action='ignore')\n",
    "Y_test = test['root_label'].map(labels_dict, na_action='ignore')\n",
    "\n",
    "# choose specific k\n",
    "k = 1000\n",
    "\n",
    "# create SVD object for LSI and train + transform\n",
    "lsi = TruncatedSVD(n_components=k, n_iter=5, random_state=42)\n",
    "X_train_lsi = lsi.fit_transform(X_train_tfidf)\n",
    "X_test_lsi = lsi.transform(X_test_tfidf)"
   ]
  },
  {
   "cell_type": "markdown",
   "id": "b9l95M2s4XFR",
   "metadata": {
    "id": "b9l95M2s4XFR"
   },
   "source": [
    "#### Support Vector Machines (SVM) with $\\gamma = 1000$ (hard margin) "
   ]
  },
  {
   "cell_type": "code",
   "execution_count": 18,
   "id": "E6TF5tWj4UUM",
   "metadata": {
    "colab": {
     "base_uri": "https://localhost:8080/",
     "height": 497
    },
    "id": "E6TF5tWj4UUM",
    "outputId": "4981609c-9eee-4502-e21a-1711f59e0690"
   },
   "outputs": [
    {
     "name": "stdout",
     "output_type": "stream",
     "text": [
      "- Classification:\n",
      "    Accuracy: 97.14%    Precision: 0.9861\n",
      "    Recall: 0.9646\n",
      "    F1-score: 0.9752\n",
      "--------------------\n",
      "  - Confusion Matrix:\n",
      "    -----------------------\n",
      "    | TP:  354 | FP:    5 |\n",
      "    -----------------------\n",
      "    | FN:   13 | TN:  258 |\n",
      "    -----------------------\n",
      "--------------------\n"
     ]
    },
    {
     "data": {
      "image/png": "[encoded data removed]",
      "text/plain": [
       "<Figure size 432x288 with 1 Axes>"
      ]
     },
     "metadata": {
      "needs_background": "light"
     },
     "output_type": "display_data"
    }
   ],
   "source": [
    "from sklearn.svm import SVC\n",
    "\n",
    "# SVM with hard margin\n",
    "svm_hard = SVC(C=1000, kernel='linear', probability=True, random_state=42)\n",
    "svm_hard = svm_hard.fit(X_train_lsi, Y_train)\n",
    "svm_hard_pred = svm_hard.predict(X_test_lsi)\n",
    "svm_hard_pred_prob = svm_hard.predict_proba(X_test_lsi)[::, 1]\n",
    "# evaluate\n",
    "fpr, tpr, thresholds = metrics.roc_curve(Y_test, svm_hard_pred, pos_label=1)\n",
    "cm = standard_confusion_matrix(Y_test, svm_hard_pred)\n",
    "accuracy, precision, recall, f1_score = evaluation_scores(Y_test, svm_hard_pred)\n",
    "\n",
    "# report\n",
    "print_scores(accuracy, precision, recall, f1_score)\n",
    "print('-' * 20)\n",
    "print_cm(cm)\n",
    "print('-' * 20)\n",
    "plot_roc(fpr, tpr)"
   ]
  },
  {
   "cell_type": "markdown",
   "id": "9elmfYMJ42_6",
   "metadata": {
    "id": "9elmfYMJ42_6"
   },
   "source": [
    "#### Support Vector Machines (SVM) with $\\gamma = 0.0001$ (soft margin) "
   ]
  },
  {
   "cell_type": "code",
   "execution_count": 19,
   "id": "7nCK1zI74O8f",
   "metadata": {
    "colab": {
     "base_uri": "https://localhost:8080/",
     "height": 497
    },
    "id": "7nCK1zI74O8f",
    "outputId": "9473ec47-3a0e-45c3-c819-cf9fa3dc6f74"
   },
   "outputs": [
    {
     "name": "stdout",
     "output_type": "stream",
     "text": [
      "- Classification:\n",
      "    Accuracy: 58.25%    Precision: 0.5825\n",
      "    Recall: 1.0000\n",
      "    F1-score: 0.7362\n",
      "--------------------\n",
      "  - Confusion Matrix:\n",
      "    -----------------------\n",
      "    | TP:  367 | FP:  263 |\n",
      "    -----------------------\n",
      "    | FN:    0 | TN:    0 |\n",
      "    -----------------------\n",
      "--------------------\n"
     ]
    },
    {
     "data": {
      "image/png": "[encoded data removed]",
      "text/plain": [
       "<Figure size 432x288 with 1 Axes>"
      ]
     },
     "metadata": {
      "needs_background": "light"
     },
     "output_type": "display_data"
    }
   ],
   "source": [
    "from sklearn.svm import SVC\n",
    "\n",
    "# SVM with soft margin\n",
    "svm_soft = SVC(C=0.0001, kernel='linear', probability=True, random_state=42)\n",
    "svm_soft = svm_soft.fit(X_train_lsi, Y_train)\n",
    "svm_soft_pred = svm_soft.predict(X_test_lsi)\n",
    "svm_soft_pred_prob = svm_soft.predict_proba(X_test_lsi)[::, 1]\n",
    "# evaluate\n",
    "fpr, tpr, thresholds = metrics.roc_curve(Y_test, svm_soft_pred, pos_label=1)\n",
    "cm = standard_confusion_matrix(Y_test, svm_soft_pred)\n",
    "accuracy, precision, recall, f1_score = evaluation_scores(Y_test, svm_soft_pred)\n",
    "\n",
    "# report\n",
    "print_scores(accuracy, precision, recall, f1_score)\n",
    "print('-' * 20)\n",
    "print_cm(cm)\n",
    "print('-' * 20)\n",
    "plot_roc(fpr, tpr)"
   ]
  },
  {
   "cell_type": "markdown",
   "id": "1nmEDN8W495U",
   "metadata": {
    "id": "1nmEDN8W495U"
   },
   "source": [
    "#### Support Vector Machines (SVM) with $\\gamma = 100000$ (hard margin) "
   ]
  },
  {
   "cell_type": "code",
   "execution_count": 20,
   "id": "8qq3jRta48a7",
   "metadata": {
    "colab": {
     "base_uri": "https://localhost:8080/",
     "height": 497
    },
    "id": "8qq3jRta48a7",
    "outputId": "fe77bd7c-1fff-4078-ca89-2f705d224961"
   },
   "outputs": [
    {
     "name": "stdout",
     "output_type": "stream",
     "text": [
      "- Classification:\n",
      "    Accuracy: 97.14%    Precision: 0.9861\n",
      "    Recall: 0.9646\n",
      "    F1-score: 0.9752\n",
      "--------------------\n",
      "  - Confusion Matrix:\n",
      "    -----------------------\n",
      "    | TP:  354 | FP:    5 |\n",
      "    -----------------------\n",
      "    | FN:   13 | TN:  258 |\n",
      "    -----------------------\n",
      "--------------------\n"
     ]
    },
    {
     "data": {
      "image/png": "[encoded data removed]",
      "text/plain": [
       "<Figure size 432x288 with 1 Axes>"
      ]
     },
     "metadata": {
      "needs_background": "light"
     },
     "output_type": "display_data"
    }
   ],
   "source": [
    "from sklearn.svm import SVC\n",
    "\n",
    "# SVM with hard margin\n",
    "svm_hard = SVC(C=100000, kernel='linear', probability=True, random_state=42)\n",
    "svm_hard = svm_hard.fit(X_train_lsi, Y_train)\n",
    "svm_hard_pred = svm_hard.predict(X_test_lsi)\n",
    "svm_hard_pred_prob = svm_hard.predict_proba(X_test_lsi)[::, 1]\n",
    "# evaluate\n",
    "fpr, tpr, thresholds = metrics.roc_curve(Y_test, svm_hard_pred, pos_label=1)\n",
    "cm = standard_confusion_matrix(Y_test, svm_hard_pred)\n",
    "accuracy, precision, recall, f1_score = evaluation_scores(Y_test, svm_hard_pred)\n",
    "\n",
    "# report\n",
    "print_scores(accuracy, precision, recall, f1_score)\n",
    "print('-' * 20)\n",
    "print_cm(cm)\n",
    "print('-' * 20)\n",
    "plot_roc(fpr, tpr)"
   ]
  },
  {
   "cell_type": "markdown",
   "id": "QuBQXx_I83I7",
   "metadata": {
    "id": "QuBQXx_I83I7"
   },
   "source": [
    "#### Use 5-fold cross-validation to choose $\\gamma$ in range $\\{10^k| − 3 ≤ k ≤6, k \\in \\mathbb{Z}\\}$ for SVM"
   ]
  },
  {
   "cell_type": "code",
   "execution_count": 21,
   "id": "1fa1c4a6",
   "metadata": {
    "colab": {
     "base_uri": "https://localhost:8080/",
     "height": 515
    },
    "id": "1fa1c4a6",
    "outputId": "8b94bf4d-9267-415c-84cc-02f834e59b04"
   },
   "outputs": [
    {
     "name": "stdout",
     "output_type": "stream",
     "text": [
      "The best gamma is 1 with the 95.48% accuracy\n",
      "- Classification:\n",
      "    Accuracy: 96.67%    Precision: 0.9832\n",
      "    Recall: 0.9591\n",
      "    F1-score: 0.9710\n",
      "--------------------\n",
      "  - Confusion Matrix:\n",
      "    -----------------------\n",
      "    | TP:  352 | FP:    6 |\n",
      "    -----------------------\n",
      "    | FN:   15 | TN:  257 |\n",
      "    -----------------------\n",
      "--------------------\n"
     ]
    },
    {
     "data": {
      "image/png": "[encoded data removed]",
      "text/plain": [
       "<Figure size 432x288 with 1 Axes>"
      ]
     },
     "metadata": {
      "needs_background": "light"
     },
     "output_type": "display_data"
    }
   ],
   "source": [
    "from sklearn.model_selection import cross_val_score\n",
    "from sklearn.model_selection import ShuffleSplit, KFold\n",
    "from sklearn.svm import SVC\n",
    "\n",
    "best_score = 0\n",
    "scores_list = []\n",
    "\n",
    "# find best gamma\n",
    "for k in range(-3, 6+1):\n",
    "    \n",
    "    # SVM model\n",
    "    gamma = 10**k\n",
    "    svm = SVC(C=gamma, kernel='linear', probability=True, random_state=42)\n",
    "\n",
    "    # k-fold cross-validation \n",
    "    cv = KFold(n_splits=5, shuffle=True, random_state=42)\n",
    "    scores = cross_val_score(svm, X_train_lsi, Y_train , cv=cv, scoring='accuracy')\n",
    "    \n",
    "    cur_score = scores.mean()\n",
    "    scores_list.append(cur_score)\n",
    "\n",
    "    if cur_score > best_score:\n",
    "        best_score = cur_score\n",
    "        best_gamma = gamma\n",
    "\n",
    "print('The best gamma is {} with the {:5.2f}% accuracy'.format(best_gamma, best_score*100))\n",
    "\n",
    "# SVM with best gamma\n",
    "svm_hard = SVC(C=best_gamma, kernel='linear', probability=True, random_state=42)\n",
    "svm_hard = svm_hard.fit(X_train_lsi, Y_train)\n",
    "svm_hard_pred = svm_hard.predict(X_test_lsi)\n",
    "svm_hard_pred_prob = svm_hard.predict_proba(X_test_lsi)[::, 1]\n",
    "# evaluate\n",
    "fpr, tpr, thresholds = metrics.roc_curve(Y_test, svm_hard_pred, pos_label=1)\n",
    "cm = standard_confusion_matrix(Y_test, svm_hard_pred)\n",
    "accuracy, precision, recall, f1_score = evaluation_scores(Y_test, svm_hard_pred)\n",
    "\n",
    "# report\n",
    "print_scores(accuracy, precision, recall, f1_score)\n",
    "print('-' * 20)\n",
    "print_cm(cm)\n",
    "print('-' * 20)\n",
    "plot_roc(fpr, tpr)"
   ]
  },
  {
   "cell_type": "markdown",
   "id": "fbb5bc16",
   "metadata": {
    "id": "fbb5bc16"
   },
   "source": [
    "<div class=\"alert alert-block alert-success\">\n",
    "<b>QUESTION 5:</b> Compare and contrast hard-margin and soft-margin linear SVMs:\n",
    "<ul> \n",
    "  <li><b>Train two linear SVMs:</b></li>\n",
    "    <ul>\n",
    "      <li>Train one SVM with $\\gamma$ = 1000 (hard margin), another with $\\gamma$ = 0.0001 (soft margin).</li>\n",
    "      <li>Plot the ROC curve, report the confusion matrix and calculate the accuracy, recall, precision and F-1 score of both SVM classifiers on the testing set. Which one performs better? What about for $\\gamma$ = 100000?</li>\n",
    "      <li>What happens for the soft margin SVM? Why is the case? Analyze in terms of the confusion matrix.</li>\n",
    "      <li>Does the ROC curve reflect the performance of the soft-margin SVM? Why?</li>\n",
    "    </ul>\n",
    "  <li><b>Use cross-validation to choose $\\gamma$ (use average validation 3 accuracy to compare):</b> Using a 5-fold cross-validation, find the best value of the parameter $\\gamma$ in the range $\\{10^k| − 3 ≤ k ≤6, k \\in \\mathbb{Z}\\}$. Again, plot the ROC curve and report the confusion matrix and calculate the accuracy, recall precision and F-1 score of this best SVM.</li>\n",
    "</ul>\n",
    "</div>\n",
    "\n"
   ]
  },
  {
   "cell_type": "markdown",
   "id": "6ece8fc9",
   "metadata": {},
   "source": [
    "<div class=\"alert alert-block alert-success\">\n",
    "<b>Answer:</b>\n",
    "<ul>\n",
    "  <li><b>Train two linear SVMs:</b></li>\n",
    "    <ul>\n",
    "      <li> The results of the trained SVMs with hard and soft margins are shown above.</li>\n",
    "      <li> The plots as well as the reports of the confusion matrix and each classification score are shown above under each section. The SVM with a hard margin ($\\gamma=1000$) yields better performance compared with SVM with a soft margin in this case with higher accuracy, F-1 score, area under ROC curve, etc. As for the SVM with hard margin ($\\gamma=100000$), a similar result at each classification score in respect of $\\gamma=1000$ is achieved, meaning that the global minimum is probably arrived with $\\gamma=1000$ and thus, increasing the value of $\\gamma$ doesn't improve the SVM model performance. </li>\n",
    "      <li> Based on the confusion matrix of SVM with soft margin, one can realize that the model isn't well trained at all since it only predicts one class as result regardless of which input data points, meaning that the model allows a lot of misclassification during the training. This happens because, with such a low penalty (low value of $\\gamma$), the classifier is algorithmically allowed to misclassify lots of points to maximize the margin. Therefore, we can say that the SVM with a soft margin will lead to a random classifier.</li>\n",
    "      <li> Yes, the ROC curve also reflects the worse performance of the soft-margin SVM. Since the ROC curve is a straight line and has an area under the curve of 0.5, it is expected that the soft-margin SVM is like a random classifier.</li>\n",
    "    </ul>\n",
    "  <li><b>Use cross-validation to choose $\\gamma$:</b> The best value of the parameter $\\gamma$ is equal to 1. The implementation, the plot, and the report of the classification scores are all shown above. </li>\n",
    "</ul>\n",
    "</div>"
   ]
  },
  {
   "cell_type": "markdown",
   "id": "miEEUla2QdU7",
   "metadata": {
    "id": "miEEUla2QdU7"
   },
   "source": [
    "#### Logistic Regression (LR) without regularization"
   ]
  },
  {
   "cell_type": "code",
   "execution_count": 22,
   "id": "5Ovi6qLPImN_",
   "metadata": {
    "colab": {
     "base_uri": "https://localhost:8080/",
     "height": 497
    },
    "id": "5Ovi6qLPImN_",
    "outputId": "aa47f768-ba45-4ddd-d3db-6bb3c6c6afb9"
   },
   "outputs": [
    {
     "name": "stdout",
     "output_type": "stream",
     "text": [
      "- Classification:\n",
      "    Accuracy: 96.98%    Precision: 0.9915\n",
      "    Recall: 0.9564\n",
      "    F1-score: 0.9736\n",
      "--------------------\n",
      "  - Confusion Matrix:\n",
      "    -----------------------\n",
      "    | TP:  351 | FP:    3 |\n",
      "    -----------------------\n",
      "    | FN:   16 | TN:  260 |\n",
      "    -----------------------\n",
      "--------------------\n"
     ]
    },
    {
     "data": {
      "image/png": "[encoded data removed]",
      "text/plain": [
       "<Figure size 432x288 with 1 Axes>"
      ]
     },
     "metadata": {
      "needs_background": "light"
     },
     "output_type": "display_data"
    }
   ],
   "source": [
    "from sklearn.linear_model import LogisticRegression\n",
    "\n",
    "# Logistic Regression model without regularization\n",
    "LR_noreg = LogisticRegression(penalty='none')\n",
    "LR_noreg = LR_noreg.fit(X_train_lsi, Y_train)\n",
    "LR_noreg_pred = LR_noreg.predict(X_test_lsi)\n",
    "LR_noreg_pred_prob = LR_noreg.predict_proba(X_test_lsi)[::, 1]\n",
    "# evaluate\n",
    "fpr, tpr, thresholds = metrics.roc_curve(Y_test, LR_noreg_pred, pos_label=1)\n",
    "cm = standard_confusion_matrix(Y_test, LR_noreg_pred)\n",
    "accuracy, precision, recall, f1_score = evaluation_scores(Y_test, LR_noreg_pred)\n",
    "\n",
    "# report\n",
    "print_scores(accuracy, precision, recall, f1_score)\n",
    "print('-' * 20)\n",
    "print_cm(cm)\n",
    "print('-' * 20)\n",
    "plot_roc(fpr, tpr)\n"
   ]
  },
  {
   "cell_type": "markdown",
   "id": "LYIzGxSGTWQ0",
   "metadata": {
    "id": "LYIzGxSGTWQ0"
   },
   "source": [
    "#### Logistic Regression (LR) with L1 regularization and 5-fold cross-validation"
   ]
  },
  {
   "cell_type": "code",
   "execution_count": 23,
   "id": "C4Aabxo4IpWC",
   "metadata": {
    "colab": {
     "base_uri": "https://localhost:8080/",
     "height": 549
    },
    "id": "C4Aabxo4IpWC",
    "outputId": "3e1bd86f-708c-44eb-8aed-2cd7b67af59f"
   },
   "outputs": [
    {
     "name": "stderr",
     "output_type": "stream",
     "text": [
      "/usr/local/lib/python3.8/dist-packages/sklearn/svm/_base.py:1206: ConvergenceWarning: Liblinear failed to converge, increase the number of iterations.\n",
      "  warnings.warn(\n"
     ]
    },
    {
     "name": "stdout",
     "output_type": "stream",
     "text": [
      "The best gamma is 1 with the 95.48% accuracy\n",
      "- Classification:\n",
      "    Accuracy: 95.71%    Precision: 0.9749\n",
      "    Recall: 0.9510\n",
      "    F1-score: 0.9628\n",
      "--------------------\n",
      "  - Confusion Matrix:\n",
      "    -----------------------\n",
      "    | TP:  349 | FP:    9 |\n",
      "    -----------------------\n",
      "    | FN:   18 | TN:  254 |\n",
      "    -----------------------\n",
      "--------------------\n"
     ]
    },
    {
     "data": {
      "image/png": "[encoded data removed]",
      "text/plain": [
       "<Figure size 432x288 with 1 Axes>"
      ]
     },
     "metadata": {
      "needs_background": "light"
     },
     "output_type": "display_data"
    }
   ],
   "source": [
    "from sklearn.linear_model import LogisticRegression\n",
    "from sklearn.model_selection import cross_val_score\n",
    "from sklearn.model_selection import ShuffleSplit, KFold\n",
    "\n",
    "best_score = 0\n",
    "scores_list = []\n",
    "\n",
    "# find best gamma\n",
    "for k in range(-5, 5+1):\n",
    "    \n",
    "    # SVM model\n",
    "    gamma = 10**k\n",
    "    LR_l1 = LogisticRegression(penalty='l1', C=gamma, solver='liblinear')\n",
    "\n",
    "    # k-fold cross-validation \n",
    "    cv = KFold(n_splits=5, shuffle=True, random_state=42)\n",
    "    scores = cross_val_score(LR_l1, X_train_lsi, Y_train , cv=cv, scoring='accuracy')\n",
    "    \n",
    "    cur_score = scores.mean()\n",
    "    scores_list.append(cur_score)\n",
    "\n",
    "    if cur_score > best_score:\n",
    "        best_score = cur_score\n",
    "        best_gamma = gamma\n",
    "\n",
    "print('The best gamma is {} with the {:5.2f}% accuracy'.format(best_gamma, best_score*100))\n",
    "\n",
    "# SVM with best gamma\n",
    "LR_l1 = LogisticRegression(penalty='l1', C=best_gamma, solver='liblinear')\n",
    "LR_l1 = LR_l1.fit(X_train_lsi, Y_train)\n",
    "LR_l1_pred = LR_l1.predict(X_test_lsi)\n",
    "LR_l1_pred_prob = LR_l1.predict_proba(X_test_lsi)[::, 1]\n",
    "# evaluate\n",
    "fpr, tpr, thresholds = metrics.roc_curve(Y_test, LR_l1_pred, pos_label=1)\n",
    "cm = standard_confusion_matrix(Y_test, LR_l1_pred)\n",
    "accuracy, precision, recall, f1_score = evaluation_scores(Y_test, LR_l1_pred)\n",
    "\n",
    "# report\n",
    "print_scores(accuracy, precision, recall, f1_score)\n",
    "print('-' * 20)\n",
    "print_cm(cm)\n",
    "print('-' * 20)\n",
    "plot_roc(fpr, tpr)"
   ]
  },
  {
   "cell_type": "markdown",
   "id": "diiYHdLqVtRX",
   "metadata": {
    "id": "diiYHdLqVtRX"
   },
   "source": [
    "#### Logistic Regression (LR) with L2 regularization and 5-fold cross-validation"
   ]
  },
  {
   "cell_type": "code",
   "execution_count": 116,
   "id": "2950116b",
   "metadata": {
    "colab": {
     "base_uri": "https://localhost:8080/",
     "height": 497
    },
    "id": "2950116b",
    "outputId": "53501801-b4ce-4f22-c630-63961c6e4d67"
   },
   "outputs": [
    {
     "name": "stdout",
     "output_type": "stream",
     "text": [
      "- Classification:\n",
      "    Accuracy: 95.40%    Precision: 0.9509\n",
      "    Recall: 0.9476\n",
      "    F1-score: 0.9492\n",
      "--------------------\n",
      "  - Confusion Matrix:\n",
      "    -----------------------\n",
      "    | TP:  271 | FP:   14 |\n",
      "    -----------------------\n",
      "    | FN:   15 | TN:  330 |\n",
      "    -----------------------\n",
      "--------------------\n"
     ]
    },
    {
     "data": {
      "image/png": "[encoded data removed]",
      "text/plain": [
       "<Figure size 432x288 with 1 Axes>"
      ]
     },
     "metadata": {
      "needs_background": "light"
     },
     "output_type": "display_data"
    }
   ],
   "source": [
    "from sklearn.linear_model import LogisticRegression\n",
    "from sklearn.model_selection import cross_val_score\n",
    "from sklearn.model_selection import ShuffleSplit, KFold\n",
    "\n",
    "best_score = 0\n",
    "scores_list = []\n",
    "\n",
    "# find best gamma\n",
    "for k in range(-5, 5+1):\n",
    "    \n",
    "    # SVM model\n",
    "    gamma = 10**k\n",
    "    LR_l2 = LogisticRegression(penalty='l2', C=gamma)\n",
    "\n",
    "    # k-fold cross-validation \n",
    "    cv = KFold(n_splits=5, shuffle=True, random_state=42)\n",
    "    scores = cross_val_score(LR_l2, X_train_lsi, Y_train , cv=cv, scoring='accuracy')\n",
    "    \n",
    "    cur_score = scores.mean()\n",
    "    scores_list.append(cur_score)\n",
    "\n",
    "    if cur_score > best_score:\n",
    "        best_score = cur_score\n",
    "        best_gamma = gamma\n",
    "\n",
    "print('The best gamma is {} with the {:5.2f}% accuracy'.format(best_gamma, best_score*100))\n",
    "\n",
    "# SVM with best gamma\n",
    "LR_l2 = LogisticRegression(penalty='l2', C=best_gamma)\n",
    "LR_l2 = LR_l2.fit(X_train_lsi, Y_train)\n",
    "LR_l2_pred = LR_l2.predict(X_test_lsi)\n",
    "LR_l2_pred_prob = LR_l2.predict_proba(X_test_lsi)[::, 1]\n",
    "# evaluate\n",
    "fpr, tpr, thresholds = metrics.roc_curve(Y_test, LR_l2_pred, pos_label=1)\n",
    "cm = standard_confusion_matrix(Y_test, LR_l2_pred)\n",
    "accuracy, precision, recall, f1_score = evaluation_scores(Y_test, LR_l2_pred)\n",
    "\n",
    "# report\n",
    "print_scores(accuracy, precision, recall, f1_score)\n",
    "print('-' * 20)\n",
    "print_cm(cm)\n",
    "print('-' * 20)\n",
    "plot_roc(fpr, tpr)"
   ]
  },
  {
   "cell_type": "markdown",
   "id": "43cb4b1c",
   "metadata": {
    "id": "43cb4b1c"
   },
   "source": [
    "<div class=\"alert alert-block alert-success\">\n",
    "<b>QUESTION 6:</b> Evaluate a logistic classifier:\n",
    "<ul>\n",
    "  <li>Train a logistic classifier without regularization (you may need to come up with some way to approximate this if you use sklearn.linear model.LogisticRegression); plot the ROC curve and report the confusion matrix and calculate the accuracy, recall precision and F-1 score of this classifier on the testing set.</li>\n",
    "  <li><b>Find the optimal regularization coefficient:</b></li>\n",
    "    <ul>\n",
    "      <li>Using 5-fold cross-validation on the dimension-reduced-by-SVD training data, find the optimal regularization strength in the range $\\{10^k| −5 ≤ k ≤ 5, k \\in \\mathbb{Z}\\}$ for logistic regression with L1 regularization and logistic regression with L2 regularization, respectively.</li>\n",
    "      <li>Compare the performance (accuracy, precision, recall and F-1 score) of 3 logistic classifiers: w/o regularization, w/ L1 regularization and w/ L2 regularization (with the best parameters you found from the part above), using test data.</li>\n",
    "      <li>How does the regularization parameter affect the test error? How are the learnt coefficients affected? Why might one be interested in each type of regularization?</li>\n",
    "      <li>Both logistic regression and linear SVM are trying to classify data points using a linear decision boundary. What is the difference between their ways to find this boundary? Why do their performances differ? Is this difference statistically significant?</li>\n",
    "    </ul>\n",
    "</ul>\n",
    "</div>"
   ]
  },
  {
   "cell_type": "markdown",
   "id": "df91fcaf",
   "metadata": {},
   "source": [
    "<div class=\"alert alert-block alert-success\">\n",
    "<b>Answer:</b>\n",
    "<ul>   \n",
    "  <li>The result, the plot, and the classification scores are all shown above. To avoid the utilization of regularization, the penalty is set to \"None\" in the sklearn.linear model.LogisticRegression model (penalty='none')</li>\n",
    "  <li><b>Find the optimal regularization coefficient:</b></li>\n",
    "    <ul>\n",
    "      <li>Based on the 5-fold cross-validation shown above, the best regularization strength $\\gamma$ is equal to 1 for both logistic regression with L1 regularization and logistic regression with L2 regularization.</li>\n",
    "      <li>Overall, the logistic classifier without regularization yields slightly better performance compared with the other two with the highest accuracy and AUC value.</li>\n",
    "      <li>By adding the regularization term, there is a chance that the test error will reduce due to the reduction of the variance of the model. However, in my case, the test error slightly increases in both regularized classifiers and thus the accuracy goes down a little bit. For L1 regularization, it helps to handle the sparsity of the learned coefficients, meaning that it decreases the less important feature’s coefficient to zero and inherently performs feature selection. L2 regularization, on the other hand, provides the ability to avoid overfitting. it adds a penalty to the excessive fluctuation of the learned coefficients and forces weights toward zero.</li>\n",
    "      <li>SVM tries to find the best boundary that maximizes the margin to separate the data points into each class. Logistic regression, on the other hand, tries to optimize the output probability of each data point to each class, depending on the sum of the inputs and parameters. It can have different decision boundaries with different weights that might be near the optimal point. Therefore, based on the different characteristics of each algorithm, they have different performances. This difference can either be statistically important or unimportant, depending on the complexity of the data. SVM performs well on unstructured data and logistic regression works better with easily structured data. Therefore, the more complex the data structure is, the better performance the SVM model can potentially have compared with the logistic regression model. </li>\n",
    "    </ul>\n",
    "</ul>\n",
    "</div>"
   ]
  },
  {
   "cell_type": "markdown",
   "id": "rbgb96cvXYFt",
   "metadata": {
    "id": "rbgb96cvXYFt"
   },
   "source": [
    "#### Na¨ıve Bayes Model"
   ]
  },
  {
   "cell_type": "code",
   "execution_count": 25,
   "id": "a205f354",
   "metadata": {
    "colab": {
     "base_uri": "https://localhost:8080/",
     "height": 497
    },
    "id": "a205f354",
    "outputId": "4a3da043-f838-43f9-ed84-e5b50856c236"
   },
   "outputs": [
    {
     "name": "stdout",
     "output_type": "stream",
     "text": [
      "- Classification:\n",
      "    Accuracy: 80.63%    Precision: 0.7995\n",
      "    Recall: 0.8910\n",
      "    F1-score: 0.8428\n",
      "--------------------\n",
      "  - Confusion Matrix:\n",
      "    -----------------------\n",
      "    | TP:  327 | FP:   82 |\n",
      "    -----------------------\n",
      "    | FN:   40 | TN:  181 |\n",
      "    -----------------------\n",
      "--------------------\n"
     ]
    },
    {
     "data": {
      "image/png": "[encoded data removed]",
      "text/plain": [
       "<Figure size 432x288 with 1 Axes>"
      ]
     },
     "metadata": {
      "needs_background": "light"
     },
     "output_type": "display_data"
    }
   ],
   "source": [
    "from sklearn.naive_bayes import GaussianNB\n",
    "\n",
    "# Na¨ıve Bayes Model\n",
    "gnb = GaussianNB()\n",
    "gnb = gnb.fit(X_train_lsi, Y_train)\n",
    "gnb_pred = gnb.predict(X_test_lsi)\n",
    "gnb_pred_prob = gnb.predict_proba(X_test_lsi)[::, 1]\n",
    "# evaluate\n",
    "fpr, tpr, thresholds = metrics.roc_curve(Y_test, gnb_pred, pos_label=1)\n",
    "cm = standard_confusion_matrix(Y_test, gnb_pred)\n",
    "accuracy, precision, recall, f1_score = evaluation_scores(Y_test, gnb_pred)\n",
    "\n",
    "# report\n",
    "print_scores(accuracy, precision, recall, f1_score)\n",
    "print('-' * 20)\n",
    "print_cm(cm)\n",
    "print('-' * 20)\n",
    "plot_roc(fpr, tpr)\n"
   ]
  },
  {
   "cell_type": "markdown",
   "id": "12b4d6a2",
   "metadata": {},
   "source": [
    "<div class=\"alert alert-block alert-success\">\n",
    "<b>Question 7:</b> Evaluate and profile a Na¨ıve Bayes classifier: Train a GaussianNB classifier; plot the ROC curve and report the confusion matrix and calculate the accuracy, recall, precision and F-1 score of this classifier on the testing set.\n",
    "</div>"
   ]
  },
  {
   "cell_type": "markdown",
   "id": "c8fc5d12",
   "metadata": {
    "id": "c8fc5d12"
   },
   "source": [
    "<div class=\"alert alert-block alert-success\">\n",
    "<b>Answer:</b> The result of the trained Na¨ıve Bayes classifier is shown above, along with all classification scores and confusion matrix.\n",
    "</div>\n"
   ]
  },
  {
   "cell_type": "markdown",
   "id": "8633d6f6",
   "metadata": {
    "id": "8633d6f6"
   },
   "source": [
    "## Grid Search of Parameters"
   ]
  },
  {
   "cell_type": "code",
   "execution_count": 40,
   "id": "-xiPJLw-Fd60",
   "metadata": {
    "id": "-xiPJLw-Fd60"
   },
   "outputs": [],
   "source": [
    "from sklearn.model_selection import train_test_split\n",
    "\n",
    "# extract only full_text and leaf_label columns and split into train and test\n",
    "train, test = train_test_split(dataset[[\"full_text\",\"root_label\"]], test_size=0.2)\n",
    "\n",
    "# clean the full_text\n",
    "train = train.applymap(clean)\n",
    "test = test.applymap(clean)"
   ]
  },
  {
   "cell_type": "code",
   "execution_count": 41,
   "id": "aK6VirGvjASx",
   "metadata": {
    "id": "aK6VirGvjASx"
   },
   "outputs": [],
   "source": [
    "# basic\n",
    "import numpy as np\n",
    "import matplotlib.pyplot as plt\n",
    "# feature extraction\n",
    "from sklearn.feature_extraction.text import CountVectorizer, TfidfTransformer\n",
    "# dimensionality reduction\n",
    "from sklearn.decomposition import TruncatedSVD, NMF\n",
    "# model\n",
    "from sklearn.svm import SVC\n",
    "from sklearn.linear_model import LogisticRegression\n",
    "from sklearn.naive_bayes import GaussianNB\n",
    "# grid seach related\n",
    "from sklearn.model_selection import GridSearchCV\n",
    "from sklearn.pipeline import Pipeline"
   ]
  },
  {
   "cell_type": "code",
   "execution_count": 47,
   "id": "28ee2457",
   "metadata": {
    "id": "28ee2457"
   },
   "outputs": [],
   "source": [
    "# get the input data\n",
    "train, test = train_test_split(dataset[[\"full_text\", \"root_label\"]], test_size=0.2)\n",
    "\n",
    "# clean data\n",
    "train = train.applymap(clean)\n",
    "test = test.applymap(clean)\n",
    "\n",
    "# set up pipeline\n",
    "pipeline = Pipeline([\n",
    "    ('vect', CountVectorizer(stop_words='english')),\n",
    "    ('tfidf', TfidfTransformer()),\n",
    "    ('reduce_dim', TruncatedSVD(random_state=42)),\n",
    "    ('clf', SVC()),\n",
    "])\n",
    "\n",
    "# best gamma previously found\n",
    "svm_best_gamma = 1\n",
    "lr_l1_best_gamma = 1\n",
    "lr_l2_best_gamma = 1\n",
    "\n",
    "# parameters\n",
    "MIN_DIF = [3, 5]\n",
    "ANALYSER = [lemmatization, stemming]\n",
    "REDUCE_DIM_MODELS = [TruncatedSVD(random_state=42), NMF(random_state=42)]\n",
    "N_FEATURES_OPTIONS = [5, 30, 80]\n",
    "LR_MODELS = [LogisticRegression(penalty='l1', C=lr_l1_best_gamma, solver='liblinear'),\n",
    "             LogisticRegression(penalty='l2', C=lr_l2_best_gamma, solver='liblinear')]\n",
    "\n",
    "param_grid = [\n",
    "    {\n",
    "        'vect__min_df': MIN_DIF,                        # 2 choices\n",
    "        'vect__analyzer': ANALYSER,                     # 2 choices\n",
    "        'reduce_dim': REDUCE_DIM_MODELS,                # 2 choices\n",
    "        'reduce_dim__n_components': N_FEATURES_OPTIONS, # 3 choices\n",
    "        'clf': [SVC(C=svm_best_gamma, kernel='linear', \n",
    "                    probability=True, random_state=42)],\n",
    "        # 24 choices\n",
    "    },\n",
    "    {\n",
    "        'vect__min_df': MIN_DIF,                        # 2 choices\n",
    "        'vect__analyzer': ANALYSER,                     # 2 choices\n",
    "        'reduce_dim': REDUCE_DIM_MODELS,                # 2 choices\n",
    "        'reduce_dim__n_components': N_FEATURES_OPTIONS, # 3 choices\n",
    "        'clf': LR_MODELS,                               # 2 choices\n",
    "        # 48 choices\n",
    "    },\n",
    "    {\n",
    "        'vect__min_df': MIN_DIF,                        # 2 choices\n",
    "        'vect__analyzer': ANALYSER,                     # 2 choices\n",
    "        'reduce_dim': REDUCE_DIM_MODELS,                # 2 choices\n",
    "        'reduce_dim__n_components': N_FEATURES_OPTIONS, # 3 choices\n",
    "        'clf': [GaussianNB()],\n",
    "        # 24\n",
    "    },\n",
    "    # 24 + 48 + 24 = 96 choices in total\n",
    "]"
   ]
  },
  {
   "cell_type": "code",
   "execution_count": 78,
   "id": "yR4MEi_ix7Oq",
   "metadata": {
    "id": "yR4MEi_ix7Oq"
   },
   "outputs": [],
   "source": [
    "# start grid search\n",
    "num_folds = 5\n",
    "grid = GridSearchCV(pipeline, param_grid=param_grid, \n",
    "                    scoring='accuracy', n_jobs=1, cv=num_folds)\n",
    "grid.fit(train['full_text'], train['root_label'])"
   ]
  },
  {
   "cell_type": "code",
   "execution_count": null,
   "id": "_ZNqKoAWqWe9",
   "metadata": {
    "id": "_ZNqKoAWqWe9"
   },
   "outputs": [],
   "source": [
    "# import joblib\n",
    "# # save grid search results\n",
    "# joblib.dump(grid, '/content/drive/MyDrive/Colab Notebooks/grid_search_result.pkl')\n",
    "\n",
    "# # load grid search results for further usage\n",
    "# joblib.load('/content/drive/MyDrive/Colab Notebooks/grid_search_result.pkl')"
   ]
  },
  {
   "cell_type": "markdown",
   "id": "zvkqRNwgmNgn",
   "metadata": {
    "id": "zvkqRNwgmNgn"
   },
   "source": [
    "##### Print out the setting of the best 5 models from Grid Search"
   ]
  },
  {
   "cell_type": "code",
   "execution_count": 85,
   "id": "3KaIlRSqmGRT",
   "metadata": {
    "colab": {
     "base_uri": "https://localhost:8080/"
    },
    "id": "3KaIlRSqmGRT",
    "outputId": "d12b2269-f5c5-46c4-fb3d-c5a04e06b8b3"
   },
   "outputs": [
    {
     "name": "stdout",
     "output_type": "stream",
     "text": [
      "The highest 5 mean test scores on validation are: [0.95833333 0.95793651 0.95714286 0.95674603 0.95436508]\n",
      "The corresponding 5 best combinations are:\n",
      "{'clf': GaussianNB(), 'reduce_dim': NMF(n_components=80, random_state=42), 'reduce_dim__n_components': 80, 'vect__analyzer': <function lemmatization at 0x7f46ee9568b0>, 'vect__min_df': 5}\n",
      "{'clf': GaussianNB(), 'reduce_dim': NMF(n_components=80, random_state=42), 'reduce_dim__n_components': 80, 'vect__analyzer': <function lemmatization at 0x7f46ee9568b0>, 'vect__min_df': 3}\n",
      "{'clf': GaussianNB(), 'reduce_dim': NMF(n_components=80, random_state=42), 'reduce_dim__n_components': 80, 'vect__analyzer': <function stemming at 0x7f46ee9560d0>, 'vect__min_df': 3}\n",
      "{'clf': GaussianNB(), 'reduce_dim': NMF(n_components=80, random_state=42), 'reduce_dim__n_components': 80, 'vect__analyzer': <function stemming at 0x7f46ee9560d0>, 'vect__min_df': 5}\n",
      "{'clf': GaussianNB(), 'reduce_dim': NMF(n_components=80, random_state=42), 'reduce_dim__n_components': 30, 'vect__analyzer': <function lemmatization at 0x7f46ee9568b0>, 'vect__min_df': 5}\n"
     ]
    }
   ],
   "source": [
    "# get the highest 5 mean test scores on validation\n",
    "best_scores = np.sort(grid.cv_results_['mean_test_score'])[::-1][:5]\n",
    "print('The highest 5 mean test scores on validation are: {}'.format(best_scores))\n",
    "\n",
    "# get the corresponding indices\n",
    "best_scores_idx = np.argsort(grid.cv_results_['mean_test_score'])[::-1][:5]\n",
    "\n",
    "# print the 5 best combinations\n",
    "print('The corresponding 5 best combinations are:')\n",
    "for i in best_scores_idx:\n",
    "    print(grid.cv_results_['params'][i])"
   ]
  },
  {
   "cell_type": "markdown",
   "id": "1fc4ea31",
   "metadata": {
    "id": "1fc4ea31"
   },
   "source": [
    "<div class=\"alert alert-block alert-success\">\n",
    "<b>Question 8:</b> In this part, you will attempt to find the best model for binary classification.\n",
    "<ul>\n",
    "  <li>Construct a Pipeline that performs feature extraction, dimensionality reduction and classification.</li>\n",
    "  <li>The evaluation of each combination is performed with 5-fold cross-validation (use the average validation set accuracy across folds).</li>\n",
    "  <li>In addition to any other hyperparameters you choose, your gridsearch must at least include: (see Table 1 in the project PDF)</li>\n",
    "  <li>What are the 5 best combinations? Report their performances on the testing set.</li>\n",
    "</ul>\n",
    "</div>"
   ]
  },
  {
   "cell_type": "markdown",
   "id": "98bc7614",
   "metadata": {},
   "source": [
    "<div class=\"alert alert-block alert-success\">\n",
    "<b>Answer:</b> The 5 best combinations as well as each report and performance are demonstrated below. \n",
    "</div>\n"
   ]
  },
  {
   "cell_type": "markdown",
   "id": "BbVUrvGnqdIp",
   "metadata": {
    "id": "BbVUrvGnqdIp"
   },
   "source": [
    "#### Report the performances of the 5 best models on the testing set"
   ]
  },
  {
   "cell_type": "markdown",
   "id": "lHBJGGrir1Po",
   "metadata": {
    "id": "lHBJGGrir1Po"
   },
   "source": [
    "##### The best combination:\n",
    "  \n",
    "    {'clf': GaussianNB(), \n",
    "     'reduce_dim': NMF(n_components=80, random_state=42),\n",
    "     'reduce_dim__n_components': 80, \n",
    "     'vect__analyzer': <function lemmatization at 0x7f46ee9568b0>,\n",
    "     'vect__min_df': 5}"
   ]
  },
  {
   "cell_type": "code",
   "execution_count": 97,
   "id": "riuEZfTcmGNu",
   "metadata": {
    "colab": {
     "base_uri": "https://localhost:8080/"
    },
    "id": "riuEZfTcmGNu",
    "outputId": "a5b9f656-7cca-4929-c95f-d1d8dc670731"
   },
   "outputs": [
    {
     "name": "stdout",
     "output_type": "stream",
     "text": [
      "The performance of the best combination:\n",
      "\n",
      "- Classification:\n",
      "    Accuracy: 96.19%    Precision: 0.9878\n",
      "    Recall: 0.9419\n",
      "    F1-score: 0.9643\n",
      "--------------------\n",
      "  - Confusion Matrix:\n",
      "    -----------------------\n",
      "    | TP:  324 | FP:    4 |\n",
      "    -----------------------\n",
      "    | FN:   20 | TN:  282 |\n",
      "    -----------------------\n",
      "--------------------\n"
     ]
    }
   ],
   "source": [
    "from sklearn.feature_extraction.text import CountVectorizer, TfidfTransformer\n",
    "from sklearn.decomposition import TruncatedSVD, NMF\n",
    "from sklearn.decomposition import TruncatedSVD\n",
    "from sklearn.naive_bayes import GaussianNB\n",
    "\n",
    "# lemmatization for vectorizer and min_df = 5\n",
    "lemma_vectorizer = CountVectorizer(min_df=5, analyzer=lemmatization, stop_words='english')\n",
    "X_train_lemma = lemma_vectorizer.fit_transform(train['full_text'])\n",
    "X_test_lemma = lemma_vectorizer.transform(test['full_text'])\n",
    "\n",
    "# convert to TF-IDF matrix\n",
    "tfidf_transformer = TfidfTransformer()\n",
    "X_train_tfidf = tfidf_transformer.fit_transform(X_train_lemma)\n",
    "X_test_tfidf = tfidf_transformer.transform(X_test_lemma)\n",
    "\n",
    "# NMF for dimension reduction with n_components = 80\n",
    "nmf = NMF(n_components=80, random_state=42)\n",
    "X_train_nmf = nmf.fit_transform(X_train_tfidf)\n",
    "X_test_nmf = nmf.transform(X_test_tfidf)\n",
    "\n",
    "# Na¨ıve Bayes Model\n",
    "gnb = GaussianNB()\n",
    "gnb = gnb.fit(X_train_nmf, train['root_label'])\n",
    "gnb_pred = gnb.predict(X_test_nmf)\n",
    "# evaluate\n",
    "cm = standard_confusion_matrix(test['root_label'], gnb_pred)\n",
    "accuracy, precision, recall, f1_score = evaluation_scores(test['root_label'], gnb_pred)\n",
    "\n",
    "# report\n",
    "print('The performance of the best combination:\\n')\n",
    "print_scores(accuracy, precision, recall, f1_score)\n",
    "print('-' * 20)\n",
    "print_cm(cm)\n",
    "print('-' * 20)"
   ]
  },
  {
   "cell_type": "markdown",
   "id": "OI0J2Y5gwqu7",
   "metadata": {
    "id": "OI0J2Y5gwqu7"
   },
   "source": [
    "##### The second best combination:\n",
    "\n",
    "    {'clf': GaussianNB(), \n",
    "     'reduce_dim': NMF(n_components=80, random_state=42),\n",
    "     'reduce_dim__n_components': 80, \n",
    "     'vect__analyzer': <function lemmatization at 0x7f46ee9568b0>, \n",
    "     'vect__min_df': 3}"
   ]
  },
  {
   "cell_type": "code",
   "execution_count": 99,
   "id": "3s1ZbV1UmGLM",
   "metadata": {
    "colab": {
     "base_uri": "https://localhost:8080/"
    },
    "id": "3s1ZbV1UmGLM",
    "outputId": "0f08d5d9-da6b-4e25-bd7d-85d40c0f24d6"
   },
   "outputs": [
    {
     "name": "stdout",
     "output_type": "stream",
     "text": [
      "The performance of the second best combination:\n",
      "\n",
      "- Classification:\n",
      "    Accuracy: 96.35%    Precision: 0.9878\n",
      "    Recall: 0.9448\n",
      "    F1-score: 0.9658\n",
      "--------------------\n",
      "  - Confusion Matrix:\n",
      "    -----------------------\n",
      "    | TP:  325 | FP:    4 |\n",
      "    -----------------------\n",
      "    | FN:   19 | TN:  282 |\n",
      "    -----------------------\n",
      "--------------------\n"
     ]
    }
   ],
   "source": [
    "from sklearn.feature_extraction.text import CountVectorizer, TfidfTransformer\n",
    "from sklearn.decomposition import TruncatedSVD, NMF\n",
    "from sklearn.decomposition import TruncatedSVD\n",
    "from sklearn.naive_bayes import GaussianNB\n",
    "\n",
    "# lemmatization for vectorizer and min_df = 3\n",
    "lemma_vectorizer = CountVectorizer(min_df=3, analyzer=lemmatization, stop_words='english')\n",
    "X_train_lemma = lemma_vectorizer.fit_transform(train['full_text'])\n",
    "X_test_lemma = lemma_vectorizer.transform(test['full_text'])\n",
    "\n",
    "# convert to TF-IDF matrix\n",
    "tfidf_transformer = TfidfTransformer()\n",
    "X_train_tfidf = tfidf_transformer.fit_transform(X_train_lemma)\n",
    "X_test_tfidf = tfidf_transformer.transform(X_test_lemma)\n",
    "\n",
    "# NMF for dimension reduction with n_components = 80\n",
    "nmf = NMF(n_components=80, random_state=42)\n",
    "X_train_nmf = nmf.fit_transform(X_train_tfidf)\n",
    "X_test_nmf = nmf.transform(X_test_tfidf)\n",
    "\n",
    "# Na¨ıve Bayes Model\n",
    "gnb = GaussianNB()\n",
    "gnb = gnb.fit(X_train_nmf, train['root_label'])\n",
    "gnb_pred = gnb.predict(X_test_nmf)\n",
    "# evaluate\n",
    "cm = standard_confusion_matrix(test['root_label'], gnb_pred)\n",
    "accuracy, precision, recall, f1_score = evaluation_scores(test['root_label'], gnb_pred)\n",
    "\n",
    "# report\n",
    "print('The performance of the second best combination:\\n')\n",
    "print_scores(accuracy, precision, recall, f1_score)\n",
    "print('-' * 20)\n",
    "print_cm(cm)\n",
    "print('-' * 20)"
   ]
  },
  {
   "cell_type": "markdown",
   "id": "E2QvacDnxIGa",
   "metadata": {
    "id": "E2QvacDnxIGa"
   },
   "source": [
    "##### The third best combination:\n",
    "\n",
    "    {'clf': GaussianNB(), \n",
    "     'reduce_dim': NMF(n_components=80, random_state=42),\n",
    "     'reduce_dim__n_components': 80, \n",
    "     'vect__analyzer': <function stemming at 0x7f46ee9560d0>, \n",
    "     'vect__min_df': 3}\n"
   ]
  },
  {
   "cell_type": "code",
   "execution_count": 106,
   "id": "H97SXVi4x_AS",
   "metadata": {
    "colab": {
     "base_uri": "https://localhost:8080/"
    },
    "id": "H97SXVi4x_AS",
    "outputId": "163a02df-1cb4-42ce-f614-789821f1cc04"
   },
   "outputs": [
    {
     "name": "stdout",
     "output_type": "stream",
     "text": [
      "The performance of the third best combination:\n",
      "\n",
      "- Classification:\n",
      "    Accuracy: 96.03%    Precision: 0.9848\n",
      "    Recall: 0.9419\n",
      "    F1-score: 0.9629\n",
      "--------------------\n",
      "  - Confusion Matrix:\n",
      "    -----------------------\n",
      "    | TP:  324 | FP:    5 |\n",
      "    -----------------------\n",
      "    | FN:   20 | TN:  281 |\n",
      "    -----------------------\n",
      "--------------------\n"
     ]
    }
   ],
   "source": [
    "from sklearn.feature_extraction.text import CountVectorizer, TfidfTransformer\n",
    "from sklearn.decomposition import TruncatedSVD, NMF\n",
    "from sklearn.decomposition import TruncatedSVD\n",
    "from sklearn.naive_bayes import GaussianNB\n",
    "\n",
    "# stemming for vectorizer and min_df = 3\n",
    "stem_vectorizer = CountVectorizer(min_df=3, analyzer=stemming, stop_words='english')\n",
    "X_train_stem = stem_vectorizer.fit_transform(train['full_text'])\n",
    "X_test_stem = stem_vectorizer.transform(test['full_text'])\n",
    "\n",
    "# convert to TF-IDF matrix\n",
    "tfidf_transformer = TfidfTransformer()\n",
    "X_train_tfidf = tfidf_transformer.fit_transform(X_train_stem)\n",
    "X_test_tfidf = tfidf_transformer.transform(X_test_stem)\n",
    "\n",
    "# NMF for dimension reduction with n_components = 80\n",
    "nmf = NMF(n_components=80, random_state=42)\n",
    "X_train_nmf = nmf.fit_transform(X_train_tfidf)\n",
    "X_test_nmf = nmf.transform(X_test_tfidf)\n",
    "\n",
    "# Na¨ıve Bayes Model\n",
    "gnb = GaussianNB()\n",
    "gnb = gnb.fit(X_train_nmf, train['root_label'])\n",
    "gnb_pred = gnb.predict(X_test_nmf)\n",
    "# evaluate\n",
    "cm = standard_confusion_matrix(test['root_label'], gnb_pred)\n",
    "accuracy, precision, recall, f1_score = evaluation_scores(test['root_label'], gnb_pred)\n",
    "\n",
    "# report\n",
    "print('The performance of the third best combination:\\n')\n",
    "print_scores(accuracy, precision, recall, f1_score)\n",
    "print('-' * 20)\n",
    "print_cm(cm)\n",
    "print('-' * 20)"
   ]
  },
  {
   "cell_type": "markdown",
   "id": "ewqdAHbI0DNb",
   "metadata": {
    "id": "ewqdAHbI0DNb"
   },
   "source": [
    "##### The fourth best combination:\n",
    "\n",
    "    {'clf': GaussianNB(), \n",
    "     'reduce_dim': NMF(n_components=80, random_state=42),\n",
    "     'reduce_dim__n_components': 80,\n",
    "     'vect__analyzer': <function stemming at 0x7f46ee9560d0>,\n",
    "     'vect__min_df': 5}\n"
   ]
  },
  {
   "cell_type": "code",
   "execution_count": 102,
   "id": "SYpfCtL-kft9",
   "metadata": {
    "colab": {
     "base_uri": "https://localhost:8080/"
    },
    "id": "SYpfCtL-kft9",
    "outputId": "f391b4b6-fc01-4c9c-8859-b747e0b471ce"
   },
   "outputs": [
    {
     "name": "stdout",
     "output_type": "stream",
     "text": [
      "The performance of the fourth best combination:\n",
      "\n",
      "- Classification:\n",
      "    Accuracy: 96.19%    Precision: 0.9848\n",
      "    Recall: 0.9448\n",
      "    F1-score: 0.9644\n",
      "--------------------\n",
      "  - Confusion Matrix:\n",
      "    -----------------------\n",
      "    | TP:  325 | FP:    5 |\n",
      "    -----------------------\n",
      "    | FN:   19 | TN:  281 |\n",
      "    -----------------------\n",
      "--------------------\n"
     ]
    }
   ],
   "source": [
    "from sklearn.feature_extraction.text import CountVectorizer, TfidfTransformer\n",
    "from sklearn.decomposition import TruncatedSVD, NMF\n",
    "from sklearn.decomposition import TruncatedSVD\n",
    "from sklearn.naive_bayes import GaussianNB\n",
    "\n",
    "# stemming for vectorizer and min_df = 5\n",
    "stem_vectorizer = CountVectorizer(min_df=5, analyzer=stemming, stop_words='english')\n",
    "X_train_stem = stem_vectorizer.fit_transform(train['full_text'])\n",
    "X_test_stem = stem_vectorizer.transform(test['full_text'])\n",
    "\n",
    "# convert to TF-IDF matrix\n",
    "tfidf_transformer = TfidfTransformer()\n",
    "X_train_tfidf = tfidf_transformer.fit_transform(X_train_stem)\n",
    "X_test_tfidf = tfidf_transformer.transform(X_test_stem)\n",
    "\n",
    "# NMF for dimension reduction with n_components = 80\n",
    "nmf = NMF(n_components=80, random_state=42)\n",
    "X_train_nmf = nmf.fit_transform(X_train_tfidf)\n",
    "X_test_nmf = nmf.transform(X_test_tfidf)\n",
    "\n",
    "# Na¨ıve Bayes Model\n",
    "gnb = GaussianNB()\n",
    "gnb = gnb.fit(X_train_nmf, train['root_label'])\n",
    "gnb_pred = gnb.predict(X_test_nmf)\n",
    "# evaluate\n",
    "cm = standard_confusion_matrix(test['root_label'], gnb_pred)\n",
    "accuracy, precision, recall, f1_score = evaluation_scores(test['root_label'], gnb_pred)\n",
    "\n",
    "# report\n",
    "print('The performance of the fourth best combination:\\n')\n",
    "print_scores(accuracy, precision, recall, f1_score)\n",
    "print('-' * 20)\n",
    "print_cm(cm)\n",
    "print('-' * 20)"
   ]
  },
  {
   "cell_type": "markdown",
   "id": "RhbrzYtH08V3",
   "metadata": {
    "id": "RhbrzYtH08V3"
   },
   "source": [
    "##### The fifth best combination:\n",
    "\n",
    "    {'clf': GaussianNB(), \n",
    "     'reduce_dim': NMF(n_components=80, random_state=42),\n",
    "     'reduce_dim__n_components': 30,\n",
    "     'vect__analyzer': <function lemmatization at 0x7f46ee9568b0>,\n",
    "     'vect__min_df': 5}"
   ]
  },
  {
   "cell_type": "code",
   "execution_count": 104,
   "id": "CLoaf5UJht5n",
   "metadata": {
    "colab": {
     "base_uri": "https://localhost:8080/"
    },
    "id": "CLoaf5UJht5n",
    "outputId": "e8d1a1d3-75c3-4778-a5e9-f58820c58cb8"
   },
   "outputs": [
    {
     "name": "stdout",
     "output_type": "stream",
     "text": [
      "The performance of the fifth best combination:\n",
      "\n",
      "- Classification:\n",
      "    Accuracy: 95.56%    Precision: 0.9877\n",
      "    Recall: 0.9302\n",
      "    F1-score: 0.9581\n",
      "--------------------\n",
      "  - Confusion Matrix:\n",
      "    -----------------------\n",
      "    | TP:  320 | FP:    4 |\n",
      "    -----------------------\n",
      "    | FN:   24 | TN:  282 |\n",
      "    -----------------------\n",
      "--------------------\n"
     ]
    }
   ],
   "source": [
    "from sklearn.feature_extraction.text import CountVectorizer, TfidfTransformer\n",
    "from sklearn.decomposition import TruncatedSVD, NMF\n",
    "from sklearn.decomposition import TruncatedSVD\n",
    "from sklearn.naive_bayes import GaussianNB\n",
    "\n",
    "# lemmatization for vectorizer and min_df = 5\n",
    "lemma_vectorizer = CountVectorizer(min_df=5, analyzer=lemmatization, stop_words='english')\n",
    "X_train_lemma = lemma_vectorizer.fit_transform(train['full_text'])\n",
    "X_test_lemma = lemma_vectorizer.transform(test['full_text'])\n",
    "\n",
    "# convert to TF-IDF matrix\n",
    "tfidf_transformer = TfidfTransformer()\n",
    "X_train_tfidf = tfidf_transformer.fit_transform(X_train_lemma)\n",
    "X_test_tfidf = tfidf_transformer.transform(X_test_lemma)\n",
    "\n",
    "# NMF for dimension reduction with n_components = 30\n",
    "nmf = NMF(n_components=30, random_state=42)\n",
    "X_train_nmf = nmf.fit_transform(X_train_tfidf)\n",
    "X_test_nmf = nmf.transform(X_test_tfidf)\n",
    "\n",
    "# Na¨ıve Bayes Model\n",
    "gnb = GaussianNB()\n",
    "gnb = gnb.fit(X_train_nmf, train['root_label'])\n",
    "gnb_pred = gnb.predict(X_test_nmf)\n",
    "# evaluate\n",
    "cm = standard_confusion_matrix(test['root_label'], gnb_pred)\n",
    "accuracy, precision, recall, f1_score = evaluation_scores(test['root_label'], gnb_pred)\n",
    "\n",
    "# report\n",
    "print('The performance of the fifth best combination:\\n')\n",
    "print_scores(accuracy, precision, recall, f1_score)\n",
    "print('-' * 20)\n",
    "print_cm(cm)\n",
    "print('-' * 20)"
   ]
  },
  {
   "cell_type": "markdown",
   "id": "3fd90325",
   "metadata": {
    "id": "3fd90325"
   },
   "source": [
    "## Multiclass Classification\n",
    "\n",
    "We have so far been dealing with classifying the data points into two classes. In this part, we explore multiclass classification techniques through different algorithms. You will need to use the column of labels marked **leaf_label** for this section."
   ]
  },
  {
   "cell_type": "code",
   "execution_count": 26,
   "id": "37a78c2f",
   "metadata": {
    "colab": {
     "base_uri": "https://localhost:8080/"
    },
    "id": "37a78c2f",
    "outputId": "85f86dbe-6310-4979-c199-ba9983c27d73"
   },
   "outputs": [
    {
     "name": "stdout",
     "output_type": "stream",
     "text": [
      "Number of training samples: 2520\n",
      "Number of testing samples: 630\n"
     ]
    }
   ],
   "source": [
    "from sklearn.model_selection import train_test_split\n",
    "\n",
    "# extract only full_text and leaf_label columns and split into train and test\n",
    "train, test = train_test_split(dataset[[\"full_text\",\"leaf_label\"]], test_size=0.2)\n",
    "print(\"Number of training samples: {}\".format(train.shape[0]))\n",
    "print(\"Number of testing samples: {}\".format(test.shape[0]))\n",
    "\n",
    "# clean the full_text\n",
    "train = train.applymap(clean)\n",
    "test = test.applymap(clean)\n",
    "\n",
    "# convert GT class labels to numbers\n",
    "'''\n",
    "{0:\"chess\", 1:\"cricket\", 2:\"hockey\", 3:\"soccer\", 4:\"football\", \n",
    " 5:\"%22forest%20fire%22\", 6:\"flood\", 7:\"earthquake\", 8:\"drought\"}\n",
    "'''\n",
    "num_classes = len(labels_dict)\n",
    "labels_dict = {\"chess\": 0, \"cricket\": 1, \"hockey\": 2, \"soccer\": 3, \"football\": 4,\n",
    "               \"%22forest%20fire%22\": 5, \"flood\": 6, \"earthquake\": 7, \"drought\": 8}\n",
    "Y_train = train['leaf_label'].map(labels_dict, na_action='ignore')\n",
    "Y_test = test['leaf_label'].map(labels_dict, na_action='ignore')\n"
   ]
  },
  {
   "cell_type": "code",
   "execution_count": 27,
   "id": "piyW5pQvhL4n",
   "metadata": {
    "id": "piyW5pQvhL4n"
   },
   "outputs": [],
   "source": [
    "from sklearn.feature_extraction.text import CountVectorizer\n",
    "from sklearn.feature_extraction.text import TfidfTransformer\n",
    "from sklearn.decomposition import TruncatedSVD\n",
    "\n",
    "# vectorizer with lemmatization\n",
    "lemma_vectorizer = CountVectorizer(min_df=3, analyzer=lemmatization, stop_words='english')\n",
    "\n",
    "# train the vectorizer, and convert text documents to document-term matrix\n",
    "X_train_lemma = lemma_vectorizer.fit_transform(train['full_text'])\n",
    "X_test_lemma = lemma_vectorizer.transform(test['full_text'])\n",
    "\n",
    "# convert to TF-IDF matrix\n",
    "tfidf_transformer = TfidfTransformer()\n",
    "X_train_tfidf = tfidf_transformer.fit_transform(X_train_lemma)\n",
    "X_test_tfidf = tfidf_transformer.transform(X_test_lemma)\n",
    "\n",
    "# create SVD object for LSI and train + transform with specific k\n",
    "k = 1000\n",
    "lsi = TruncatedSVD(n_components=k, n_iter=5, random_state=42)\n",
    "X_train_lsi = lsi.fit_transform(X_train_tfidf)\n",
    "X_test_lsi = lsi.transform(X_test_tfidf)"
   ]
  },
  {
   "cell_type": "markdown",
   "id": "Lj0M7rfSi7RA",
   "metadata": {
    "id": "Lj0M7rfSi7RA"
   },
   "source": [
    "#### Na¨ıve Bayes multiclass classification"
   ]
  },
  {
   "cell_type": "code",
   "execution_count": 28,
   "id": "nyeDLZGMamHr",
   "metadata": {
    "colab": {
     "base_uri": "https://localhost:8080/",
     "height": 609
    },
    "id": "nyeDLZGMamHr",
    "outputId": "5f936267-f2f7-4a6d-daa7-32521adf4d66"
   },
   "outputs": [
    {
     "name": "stdout",
     "output_type": "stream",
     "text": [
      "\n",
      "Classification Report\n",
      "\n",
      "                     precision    recall  f1-score   support\n",
      "\n",
      "              chess       0.48      0.42      0.45        71\n",
      "            cricket       0.61      0.17      0.27        63\n",
      "             hockey       0.19      0.10      0.13        80\n",
      "             soccer       0.14      0.56      0.22        84\n",
      "           football       0.14      0.12      0.13        65\n",
      "%22forest%20fire%22       0.71      0.09      0.16        56\n",
      "              flood       0.55      0.24      0.33        76\n",
      "         earthquake       0.84      0.48      0.61        65\n",
      "            drought       0.92      0.47      0.62        70\n",
      "\n",
      "           accuracy                           0.30       630\n",
      "          macro avg       0.51      0.29      0.33       630\n",
      "       weighted avg       0.49      0.30      0.32       630\n",
      "\n"
     ]
    },
    {
     "data": {
      "image/png": "[encoded data removed]",
      "text/plain": [
       "<Figure size 432x288 with 2 Axes>"
      ]
     },
     "metadata": {
      "needs_background": "light"
     },
     "output_type": "display_data"
    }
   ],
   "source": [
    "from sklearn.naive_bayes import GaussianNB\n",
    "from sklearn.metrics import confusion_matrix, ConfusionMatrixDisplay\n",
    "from sklearn.metrics import classification_report\n",
    "\n",
    "# Logistic Regression model without regularization\n",
    "gnb = GaussianNB()\n",
    "gnb = gnb.fit(X_train_lsi, Y_train)\n",
    "gnb_pred = gnb.predict(X_test_lsi)\n",
    "\n",
    "# report\n",
    "print('\\nClassification Report\\n')\n",
    "print(classification_report(Y_test, gnb_pred, target_names=list(labels_dict.keys())))\n",
    "\n",
    "cm = confusion_matrix(Y_test, gnb_pred)\n",
    "disp = ConfusionMatrixDisplay(confusion_matrix=cm, \n",
    "                              display_labels=gnb.classes_)\n",
    "disp.plot()\n",
    "plt.show()"
   ]
  },
  {
   "cell_type": "markdown",
   "id": "zUOX9SCD3Jon",
   "metadata": {
    "id": "zUOX9SCD3Jon"
   },
   "source": [
    "#### SVM multiclass classification (One VS One) with class weight balance\n",
    "\n",
    "- class_weight: \n",
    "  \n",
    "  dict or ‘balanced’, default=None\n",
    "Set the parameter C of class i to class_weight[i]*C for SVC. If not given, all classes are supposed to have weight one. The “balanced” mode uses the values of y to automatically adjust weights inversely proportional to class frequencies in the input data as n_samples / (n_classes * np.bincount(y))"
   ]
  },
  {
   "cell_type": "code",
   "execution_count": 29,
   "id": "NbVHBBKY3IyZ",
   "metadata": {
    "colab": {
     "base_uri": "https://localhost:8080/",
     "height": 609
    },
    "id": "NbVHBBKY3IyZ",
    "outputId": "60235bb7-5f0c-4a06-b2b3-7514a91ddd5b"
   },
   "outputs": [
    {
     "name": "stdout",
     "output_type": "stream",
     "text": [
      "\n",
      "Classification Report\n",
      "\n",
      "                     precision    recall  f1-score   support\n",
      "\n",
      "              chess       0.92      0.93      0.92        71\n",
      "            cricket       0.97      0.94      0.95        63\n",
      "             hockey       0.95      0.90      0.92        80\n",
      "             soccer       0.30      0.30      0.30        84\n",
      "           football       0.06      0.06      0.06        65\n",
      "%22forest%20fire%22       0.69      0.91      0.78        56\n",
      "              flood       0.97      0.93      0.95        76\n",
      "         earthquake       0.97      0.86      0.91        65\n",
      "            drought       0.91      0.90      0.91        70\n",
      "\n",
      "           accuracy                           0.74       630\n",
      "          macro avg       0.75      0.75      0.75       630\n",
      "       weighted avg       0.75      0.74      0.74       630\n",
      "\n"
     ]
    },
    {
     "data": {
      "image/png": "[encoded data removed]",
      "text/plain": [
       "<Figure size 432x288 with 2 Axes>"
      ]
     },
     "metadata": {
      "needs_background": "light"
     },
     "output_type": "display_data"
    }
   ],
   "source": [
    "from sklearn.svm import SVC\n",
    "from sklearn.multiclass import OneVsOneClassifier\n",
    "\n",
    "# SVM with one vs one\n",
    "svm_ovo = OneVsOneClassifier(SVC(C=1000, kernel='linear', probability=True,\n",
    "                                 class_weight='balanced', random_state=42))\n",
    "svm_ovo = svm_ovo.fit(X_train_lsi, Y_train)\n",
    "svm_ovo_pred = svm_ovo.predict(X_test_lsi)\n",
    "\n",
    "# report\n",
    "print('\\nClassification Report\\n')\n",
    "print(classification_report(Y_test, svm_ovo_pred, target_names=list(labels_dict.keys())))\n",
    "\n",
    "cm = confusion_matrix(Y_test, svm_ovo_pred)\n",
    "disp = ConfusionMatrixDisplay(confusion_matrix=cm, \n",
    "                              display_labels=svm_ovo.classes_)\n",
    "disp.plot()\n",
    "plt.show()"
   ]
  },
  {
   "cell_type": "markdown",
   "id": "w-Dyv30L3o2a",
   "metadata": {
    "id": "w-Dyv30L3o2a"
   },
   "source": [
    "#### SVM multiclass classification (One VS the rest) with class weight balance"
   ]
  },
  {
   "cell_type": "code",
   "execution_count": 30,
   "id": "CaFqRQTUcg0c",
   "metadata": {
    "colab": {
     "base_uri": "https://localhost:8080/",
     "height": 609
    },
    "id": "CaFqRQTUcg0c",
    "outputId": "13861c82-9a21-49ad-c91e-0c2710bc5b7d"
   },
   "outputs": [
    {
     "name": "stdout",
     "output_type": "stream",
     "text": [
      "\n",
      "Classification Report\n",
      "\n",
      "                     precision    recall  f1-score   support\n",
      "\n",
      "              chess       0.80      0.94      0.86        71\n",
      "            cricket       0.92      0.97      0.95        63\n",
      "             hockey       0.89      0.90      0.89        80\n",
      "             soccer       0.18      0.13      0.15        84\n",
      "           football       0.17      0.23      0.20        65\n",
      "%22forest%20fire%22       0.90      0.84      0.87        56\n",
      "              flood       0.96      0.95      0.95        76\n",
      "         earthquake       0.97      0.88      0.92        65\n",
      "            drought       0.95      0.90      0.93        70\n",
      "\n",
      "           accuracy                           0.74       630\n",
      "          macro avg       0.75      0.75      0.75       630\n",
      "       weighted avg       0.74      0.74      0.74       630\n",
      "\n"
     ]
    },
    {
     "data": {
      "image/png": "[encoded data removed]",
      "text/plain": [
       "<Figure size 432x288 with 2 Axes>"
      ]
     },
     "metadata": {
      "needs_background": "light"
     },
     "output_type": "display_data"
    }
   ],
   "source": [
    "from sklearn.svm import SVC\n",
    "from sklearn.multiclass import OneVsRestClassifier\n",
    "\n",
    "# SVM with one vs rest\n",
    "svm_ovr = OneVsRestClassifier(SVC(C=1000, kernel='linear', probability=True,\n",
    "                                  class_weight='balanced', random_state=42))\n",
    "svm_ovr = svm_ovr.fit(X_train_lsi, Y_train)\n",
    "svm_ovr_pred = svm_ovr.predict(X_test_lsi)\n",
    "\n",
    "# report\n",
    "print('\\nClassification Report\\n')\n",
    "print(classification_report(Y_test, svm_ovr_pred, target_names=list(labels_dict.keys())))\n",
    "\n",
    "cm = confusion_matrix(Y_test, svm_ovr_pred)\n",
    "disp = ConfusionMatrixDisplay(confusion_matrix=cm, \n",
    "                              display_labels=svm_ovr.classes_)\n",
    "disp.plot()\n",
    "plt.show()"
   ]
  },
  {
   "cell_type": "markdown",
   "id": "us9LwnPnaTkU",
   "metadata": {
    "id": "us9LwnPnaTkU"
   },
   "source": [
    "#### Merging class 3 and 4 into new larger label (class 9) and recompute the SVM in One VS One and One VS the rest (both with class balance technique)"
   ]
  },
  {
   "cell_type": "code",
   "execution_count": 31,
   "id": "ttC74PoXcO38",
   "metadata": {
    "id": "ttC74PoXcO38"
   },
   "outputs": [],
   "source": [
    "# merging class 3 and 4 to class 9\n",
    "Y_train_rep = Y_train.replace([3, 4], 9)\n",
    "Y_test_rep = Y_test.replace([3, 4], 9)"
   ]
  },
  {
   "cell_type": "code",
   "execution_count": 32,
   "id": "Xm01pokvIZF7",
   "metadata": {
    "colab": {
     "base_uri": "https://localhost:8080/",
     "height": 349
    },
    "id": "Xm01pokvIZF7",
    "outputId": "af5c03a3-ba94-4a31-fe90-45428d62ad4b"
   },
   "outputs": [
    {
     "name": "stdout",
     "output_type": "stream",
     "text": [
      "\n",
      "Classification Report:\n",
      "  accuracy: 92.06% \n",
      "\n"
     ]
    },
    {
     "data": {
      "image/png": "[encoded data removed]",
      "text/plain": [
       "<Figure size 432x288 with 2 Axes>"
      ]
     },
     "metadata": {
      "needs_background": "light"
     },
     "output_type": "display_data"
    }
   ],
   "source": [
    "# SVM with one vs one\n",
    "svm_ovo = OneVsOneClassifier(SVC(C=1000, kernel='linear', probability=True,\n",
    "                                 class_weight='balanced', random_state=42))\n",
    "svm_ovo = svm_ovo.fit(X_train_lsi, Y_train_rep)\n",
    "svm_ovo_pred = svm_ovo.predict(X_test_lsi)\n",
    "\n",
    "# report\n",
    "cm = confusion_matrix(Y_test_rep, svm_ovo_pred)\n",
    "accuracy = np.array([cm[i,i] for i in range(cm.shape[0])]).sum() / cm.sum()\n",
    "disp = ConfusionMatrixDisplay(confusion_matrix=cm, \n",
    "                              display_labels=svm_ovo.classes_)\n",
    "\n",
    "print('\\nClassification Report:')\n",
    "print('  accuracy: {:5.2f}% \\n'.format(accuracy*100))\n",
    "\n",
    "disp.plot()\n",
    "plt.show()"
   ]
  },
  {
   "cell_type": "code",
   "execution_count": 33,
   "id": "zrjmnjgkIZCS",
   "metadata": {
    "colab": {
     "base_uri": "https://localhost:8080/",
     "height": 349
    },
    "id": "zrjmnjgkIZCS",
    "outputId": "6c561ad6-bf5a-4d09-f0db-fbbddbb4a6c9"
   },
   "outputs": [
    {
     "name": "stdout",
     "output_type": "stream",
     "text": [
      "\n",
      "Classification Report:\n",
      "  accuracy: 92.22% \n",
      "\n"
     ]
    },
    {
     "data": {
      "image/png": "[encoded data removed]",
      "text/plain": [
       "<Figure size 432x288 with 2 Axes>"
      ]
     },
     "metadata": {
      "needs_background": "light"
     },
     "output_type": "display_data"
    }
   ],
   "source": [
    "from sklearn.svm import SVC\n",
    "from sklearn.multiclass import OneVsRestClassifier\n",
    "\n",
    "# SVM with one vs rest\n",
    "svm_ovr = OneVsRestClassifier(SVC(C=1000, kernel='linear', probability=True,\n",
    "                                  class_weight='balanced', random_state=42))\n",
    "svm_ovr = svm_ovr.fit(X_train_lsi, Y_train_rep)\n",
    "svm_ovr_pred = svm_ovr.predict(X_test_lsi)\n",
    "\n",
    "# report\n",
    "cm = confusion_matrix(Y_test_rep, svm_ovr_pred)\n",
    "accuracy = np.array([cm[i,i] for i in range(cm.shape[0])]).sum() / cm.sum()\n",
    "disp = ConfusionMatrixDisplay(confusion_matrix=cm, \n",
    "                              display_labels=svm_ovr.classes_)\n",
    "\n",
    "print('\\nClassification Report:')\n",
    "print('  accuracy: {:5.2f}% \\n'.format(accuracy*100))\n",
    "\n",
    "disp.plot()\n",
    "plt.show()"
   ]
  },
  {
   "cell_type": "markdown",
   "id": "vlHVB47RLNvG",
   "metadata": {
    "id": "vlHVB47RLNvG"
   },
   "source": [
    "#### Show the class imbalance impact on the performance of both SVM in One VS One and One VS the rest\n",
    "\n"
   ]
  },
  {
   "cell_type": "code",
   "execution_count": 34,
   "id": "rDqxp8fMLMTq",
   "metadata": {
    "id": "rDqxp8fMLMTq"
   },
   "outputs": [],
   "source": [
    "# merging class 3 and 4 to class 9\n",
    "Y_train_rep = Y_train.replace([3, 4], 9)\n",
    "Y_test_rep = Y_test.replace([3, 4], 9)"
   ]
  },
  {
   "cell_type": "code",
   "execution_count": 35,
   "id": "31c17709",
   "metadata": {
    "colab": {
     "base_uri": "https://localhost:8080/",
     "height": 349
    },
    "id": "31c17709",
    "outputId": "2086eaa8-e5c5-4c8e-bcb2-81aa31443c57"
   },
   "outputs": [
    {
     "name": "stdout",
     "output_type": "stream",
     "text": [
      "\n",
      "Classification Report:\n",
      "  accuracy: 92.06% \n",
      "\n"
     ]
    },
    {
     "data": {
      "image/png": "[encoded data removed]",
      "text/plain": [
       "<Figure size 432x288 with 2 Axes>"
      ]
     },
     "metadata": {
      "needs_background": "light"
     },
     "output_type": "display_data"
    }
   ],
   "source": [
    "# SVM with one vs one (no class balancing technique)\n",
    "svm_ovo = OneVsOneClassifier(SVC(C=1000, kernel='linear', probability=True,\n",
    "                                 class_weight=None, random_state=42))\n",
    "svm_ovo = svm_ovo.fit(X_train_lsi, Y_train_rep)\n",
    "svm_ovo_pred = svm_ovo.predict(X_test_lsi)\n",
    "\n",
    "# report\n",
    "cm = confusion_matrix(Y_test_rep, svm_ovo_pred)\n",
    "accuracy = np.array([cm[i,i] for i in range(cm.shape[0])]).sum() / cm.sum()\n",
    "disp = ConfusionMatrixDisplay(confusion_matrix=cm, \n",
    "                              display_labels=svm_ovo.classes_)\n",
    "\n",
    "print('\\nClassification Report:')\n",
    "print('  accuracy: {:5.2f}% \\n'.format(accuracy*100))\n",
    "\n",
    "disp.plot()\n",
    "plt.show()"
   ]
  },
  {
   "cell_type": "code",
   "execution_count": 36,
   "id": "3763e581",
   "metadata": {
    "colab": {
     "base_uri": "https://localhost:8080/",
     "height": 349
    },
    "id": "3763e581",
    "outputId": "9f38d99d-f332-47b8-e5e7-225c1971b429"
   },
   "outputs": [
    {
     "name": "stdout",
     "output_type": "stream",
     "text": [
      "\n",
      "Classification Report:\n",
      "  accuracy: 92.06% \n",
      "\n"
     ]
    },
    {
     "data": {
      "image/png": "[encoded data removed]",
      "text/plain": [
       "<Figure size 432x288 with 2 Axes>"
      ]
     },
     "metadata": {
      "needs_background": "light"
     },
     "output_type": "display_data"
    }
   ],
   "source": [
    "from sklearn.svm import SVC\n",
    "from sklearn.multiclass import OneVsRestClassifier\n",
    "\n",
    "# SVM with one vs rest (no class balancing technique)\n",
    "svm_ovr = OneVsRestClassifier(SVC(C=1000, kernel='linear', probability=True,\n",
    "                                  class_weight=None, random_state=42))\n",
    "svm_ovr = svm_ovr.fit(X_train_lsi, Y_train_rep)\n",
    "svm_ovr_pred = svm_ovr.predict(X_test_lsi)\n",
    "\n",
    "# report\n",
    "cm = confusion_matrix(Y_test_rep, svm_ovr_pred)\n",
    "accuracy = np.array([cm[i,i] for i in range(cm.shape[0])]).sum() / cm.sum()\n",
    "disp = ConfusionMatrixDisplay(confusion_matrix=cm, \n",
    "                              display_labels=svm_ovr.classes_)\n",
    "\n",
    "print('\\nClassification Report:')\n",
    "print('  accuracy: {:5.2f}% \\n'.format(accuracy*100))\n",
    "\n",
    "disp.plot()\n",
    "plt.show()"
   ]
  },
  {
   "cell_type": "markdown",
   "id": "00be3b96",
   "metadata": {
    "id": "00be3b96"
   },
   "source": [
    "<div class=\"alert alert-block alert-success\">\n",
    "<b>Question 9:</b> In this part, we aim to learn classifiers on the documents belonging to unique classes in the column leaf label.\n",
    " \n",
    "Perform Na¨ıve Bayes classification and multiclass SVM classification (with both One VS One and One VS the rest methods described above) and report the confusion matrix and calculate the accuracy, recall, precision and F-1 score of your classifiers. How did you resolve the class imbalance issue in the One VS the rest model?\n",
    "    \n",
    "<ul>\n",
    "  <li>In the confusion matrix you should have an 9 × 9 matrix where 9 is the number of unique labels in the column leaf label. Please make sure that the order of these labels is as follows:</li>\n",
    "    <ul> \n",
    " map_row_to_class = {0:\"chess\", 1:\"cricket\", 2:\"hockey\", 3:\"soccer\", 4:\"football\", 5:\"%22forest%20fire%22\", 6:\"flood\", 7:\"earthquake\", 8:\"drought\"}\n",
    "    </ul>\n",
    "    Do you observe any structure in the confusion matrix? Are there distinct visible blocks on the major diagonal? What does this mean?\n",
    " \n",
    " \n",
    "  <li>Based on your observation from the previous part, suggest a subset of labels that should be merged into a new larger label and recompute the accuracy and plot the confusion matrix. How did the accuracy change in One VS One and One VS the rest?\n",
    "  <li>Does class imbalance impact the performance of the classification once some classes are merged? Provide a resolution for the class imbalance and recompute the accuracy and plot the confusion matrix in One VS One and One VS the rest?.</li>\n",
    "</ul>\n",
    "</div>"
   ]
  },
  {
   "cell_type": "markdown",
   "id": "h3rIwFJrmf3w",
   "metadata": {
    "id": "h3rIwFJrmf3w"
   },
   "source": [
    "<div class=\"alert alert-block alert-success\">\n",
    "<b>Answer:</b>\n",
    "\n",
    "All of the experiment results are shown above. To resolve the class imbalance issue in the One VS the rest model, I applied class weight balance to the model, which will automatically adjust weights inversely proportional to class frequencies in the input data.\n",
    "\n",
    "<ul>\n",
    "  <li>Based on the result shown above, there are distinctly visible blocks on the major diagonal in both SVM One VS One and One VS rest models. This means that a large portion of the model prediction is correct which corresponds to a high accuracy of 74% for both as shown above. However, in the Na¨ıve Bayes model, instead of on the major diagonal, the distinctly visible blocks are on the fourth column, which is class 3. This means that the Na¨ıve Bayes model tends to falsely predict class 3 as the output. Therefore, the accuracy is relatively low, only 30%.</li>\n",
    "  <li>Based on the result from the SVM One VS One and One VS rest models, it is reasonable to merge classes 3 and 4 into a larger label, namely class 9, since they are largely confused with each other, leading to lots of wrong predictions and low accuracy. After the merge, the accuracy of the SVM One VS One model raises from 74% to 92.06%, and the accuracy of the SVM One VS rest model raises from 74% to 92.22%.</li>\n",
    "  <li>For the SVM One VS One model, the class imbalance issue doesn't impact any model performance after the classes are merged. However, the SVM One VS rest model does show a slight performance reduction due to the class imbalance (around 0.2%). The result of the accuracy and the confusion matrix of the SVM One VS One and One VS rest models without class balancing technique is demonstrated above.</li>\n",
    "</ul>\n",
    "</div>"
   ]
  },
  {
   "cell_type": "markdown",
   "id": "qxqIi_jXMyFw",
   "metadata": {
    "id": "qxqIi_jXMyFw"
   },
   "source": [
    "## Word Embedding"
   ]
  },
  {
   "cell_type": "code",
   "execution_count": 9,
   "id": "aw8Tv-sbMxWP",
   "metadata": {
    "id": "aw8Tv-sbMxWP"
   },
   "outputs": [],
   "source": [
    "embeddings_dict = {}\n",
    "dimension_of_glove = 300\n",
    "with open(\"/content/drive/MyDrive/Colab Notebooks/glove/glove.6B.300d.txt\", 'r') as f: # if 'r' fails with unicode\n",
    "    for line in f:\n",
    "        values = line.split()\n",
    "        word = values[0]\n",
    "        vector = np.asarray(values[1:], \"float32\")\n",
    "        embeddings_dict[word] = vector"
   ]
  },
  {
   "cell_type": "code",
   "execution_count": 10,
   "id": "2AXgZVZQ6Rjf",
   "metadata": {
    "colab": {
     "base_uri": "https://localhost:8080/"
    },
    "id": "2AXgZVZQ6Rjf",
    "outputId": "58adfd89-b45b-413f-f1c3-8a6126ea3da1"
   },
   "outputs": [
    {
     "name": "stdout",
     "output_type": "stream",
     "text": [
      "Expected value for Q(c)-1: 6.165036678314209\n"
     ]
    }
   ],
   "source": [
    "exp = embeddings_dict['queen'] - embeddings_dict['king'] - embeddings_dict['wife'] + embeddings_dict['husband']\n",
    "print('Expected value for Q(c)-1: {}'.format(np.linalg.norm(exp, ord=2)))"
   ]
  },
  {
   "cell_type": "code",
   "execution_count": 11,
   "id": "Aoedrklb662N",
   "metadata": {
    "colab": {
     "base_uri": "https://localhost:8080/"
    },
    "id": "Aoedrklb662N",
    "outputId": "8865b9dc-118f-4331-b9de-60d55cd11a31"
   },
   "outputs": [
    {
     "name": "stdout",
     "output_type": "stream",
     "text": [
      "Expected value for Q(c)-2: 5.9662580490112305\n"
     ]
    }
   ],
   "source": [
    "exp = embeddings_dict['queen'] - embeddings_dict['king']\n",
    "print('Expected value for Q(c)-2: {}'.format(np.linalg.norm(exp, ord=2)))"
   ]
  },
  {
   "cell_type": "code",
   "execution_count": 12,
   "id": "VKuA3fCQ66y5",
   "metadata": {
    "colab": {
     "base_uri": "https://localhost:8080/"
    },
    "id": "VKuA3fCQ66y5",
    "outputId": "13dab317-3e07-421c-fff8-6ef209f3da5d"
   },
   "outputs": [
    {
     "name": "stdout",
     "output_type": "stream",
     "text": [
      "Expected value for Q(c)-2: 3.1520464420318604\n"
     ]
    }
   ],
   "source": [
    "exp = embeddings_dict['wife'] - embeddings_dict['husband']\n",
    "print('Expected value for Q(c)-2: {}'.format(np.linalg.norm(exp, ord=2)))"
   ]
  },
  {
   "cell_type": "markdown",
   "id": "1fZ0fszGQjrd",
   "metadata": {
    "id": "1fZ0fszGQjrd"
   },
   "source": [
    "<div class=\"alert alert-block alert-success\">\n",
    "<b>Question 10:</b> Read the paper about GLoVE embeddings and answer the following:\n",
    "<ul>\n",
    "  <li>(a) Why are GLoVE embeddings trained on the ratio of co-occurrence probabilities rather than the probabilities themselves?</li> \n",
    "  <li>(b) In the two sentences: “James is running in the park.” and “James is running for the presidency.”, would GLoVE embeddings return the same vector for the word running in both cases? Why or why not?</li> \n",
    "  <li>(c) What do you expect for the values of,</li> \n",
    "    <ul>\n",
    "      <li>$||GLoVE[\"queen\"] - GLoVE[\"king\"] - GLoVE[\"wife\"] + GLoVE[\"husband\"]||_2$,</li> \n",
    "      <li>$||GLoVE[\"queen\"] - GLoVE[\"king\"]||_2$</li> \n",
    "      <li>$||GLoVE[\"wife\"] - GLoVE[\"husband\"]||_2$</li> \n",
    "        Compare these values.\n",
    "    </ul>\n",
    "  <li>(d) Given a word, would you rather stem or lemmatize the word before mapping it to its GLoVE embedding? </li>\n",
    "</ul>\n",
    "</div>"
   ]
  },
  {
   "cell_type": "markdown",
   "id": "X2Pt8hjASI8o",
   "metadata": {
    "id": "X2Pt8hjASI8o"
   },
   "source": [
    "<div class=\"alert alert-block alert-success\">\n",
    "<b>Answer:</b>\n",
    "<ul>\n",
    "  <li>(a) Compared to the raw probabilities, the ratio is better able to distinguish relevant words from irrelevant words and it is also better able to discriminate between the two relevant words.</li>\n",
    "  <li>(b) GLoVE embeddings will return the same vector in both cases since it is not context-aware and will only generate fixed embeddings based on the mapping.</li>\n",
    "  <li>(c) Since $||(a-b) - (c-d)||_2 \\geq ||(a-b)||_2 - ||(c-d)||_2$ so:</li>\n",
    "    $||GLoVE[\"queen\"] - GLoVE[\"king\"] - GLoVE[\"wife\"] + GLoVE[\"husband\"]||_2 $\n",
    "    $ \\space\\space \\geq ||GLoVE[\"queen\"]−GLoVE[\"king\"]||_2 - ||GLoVE[\"wife\"]−GLoVE[\"husband\"]||_2$\n",
    "  <li>(d) I would rather lemmatize the word since stemming tries to map multiple word derivatives to the same root word by cutting off some parts. If the stemmed word does not exist in GLoVe embeddings then this word will be assigned a default vector of '0's, which losses it's meaning at all.</li>\n",
    "</ul>\n",
    "</div>"
   ]
  },
  {
   "cell_type": "markdown",
   "id": "JS1Q6ibHUykW",
   "metadata": {
    "id": "JS1Q6ibHUykW"
   },
   "source": [
    "Simple concatenation of all of the embeddings of words in that segment will result in a highdimensional\n",
    "vector representation of varying sizes. Therefore, we need to design a feature\n",
    "construction procedure to make use of the word embeddings. The goals include:\n",
    "\n",
    "1. The representation of segments of text of varying lengths – we plotted the histogram\n",
    "in Question 1 – should be mapped into the same dimension to facilitate downstream\n",
    "applications;\n",
    "2. The representation should be a sufficient description of the content of a document, so as\n",
    "to support the classification."
   ]
  },
  {
   "cell_type": "code",
   "execution_count": 64,
   "id": "4679545a",
   "metadata": {
    "colab": {
     "base_uri": "https://localhost:8080/",
     "height": 206
    },
    "id": "4679545a",
    "outputId": "11e3b436-7625-42b1-be7c-d2a61aa2f5c6"
   },
   "outputs": [
    {
     "data": {
      "text/html": [
       "\n",
       "  <div id=\"df-c511e048-21e1-49ca-910e-5efdf41cf4fd\">\n",
       "    <div class=\"colab-df-container\">\n",
       "      <div>\n",
       "<style scoped>\n",
       "    .dataframe tbody tr th:only-of-type {\n",
       "        vertical-align: middle;\n",
       "    }\n",
       "\n",
       "    .dataframe tbody tr th {\n",
       "        vertical-align: top;\n",
       "    }\n",
       "\n",
       "    .dataframe thead th {\n",
       "        text-align: right;\n",
       "    }\n",
       "</style>\n",
       "<table border=\"1\" class=\"dataframe\">\n",
       "  <thead>\n",
       "    <tr style=\"text-align: right;\">\n",
       "      <th></th>\n",
       "      <th>full_text</th>\n",
       "      <th>summary</th>\n",
       "      <th>keywords</th>\n",
       "      <th>root_label</th>\n",
       "    </tr>\n",
       "  </thead>\n",
       "  <tbody>\n",
       "    <tr>\n",
       "      <th>1563</th>\n",
       "      <td>[The, Collegian, team, put, their, fortune-tel...</td>\n",
       "      <td>[The, Collegian, team, put, their, fortune-tel...</td>\n",
       "      <td>[2023, season, second, predictions, collegian,...</td>\n",
       "      <td>sports</td>\n",
       "    </tr>\n",
       "    <tr>\n",
       "      <th>986</th>\n",
       "      <td>[The, information, given, to, the, U.S, Soccer...</td>\n",
       "      <td>[They, also, played, together, on, the, 2002, ...</td>\n",
       "      <td>[reynas, soccer, wife, earnie, statement, moth...</td>\n",
       "      <td>sports</td>\n",
       "    </tr>\n",
       "    <tr>\n",
       "      <th>2152</th>\n",
       "      <td>[Legislation, passed, this, week, by, the, Flo...</td>\n",
       "      <td>[And, the, residents, for, the, most, part, ca...</td>\n",
       "      <td>[requirements, flood, homeowners, key, propert...</td>\n",
       "      <td>climate</td>\n",
       "    </tr>\n",
       "    <tr>\n",
       "      <th>2016</th>\n",
       "      <td>[A, new, report, shows, California, utilities,...</td>\n",
       "      <td>[A, new, report, shows, California, utilities,...</td>\n",
       "      <td>[reduced, wildfires, utility, vulnerable, liab...</td>\n",
       "      <td>climate</td>\n",
       "    </tr>\n",
       "    <tr>\n",
       "      <th>1682</th>\n",
       "      <td>[Its, been, two, years, since, weve, been, abl...</td>\n",
       "      <td>[Its, been, two, years, since, weve, been, abl...</td>\n",
       "      <td>[season, elizabeth, crown, prince, historical,...</td>\n",
       "      <td>sports</td>\n",
       "    </tr>\n",
       "  </tbody>\n",
       "</table>\n",
       "</div>\n",
       "      <button class=\"colab-df-convert\" onclick=\"convertToInteractive('df-c511e048-21e1-49ca-910e-5efdf41cf4fd')\"\n",
       "              title=\"Convert this dataframe to an interactive table.\"\n",
       "              style=\"display:none;\">\n",
       "        \n",
       "  <svg xmlns=\"http://www.w3.org/2000/svg\" height=\"24px\"viewBox=\"0 0 24 24\"\n",
       "       width=\"24px\">\n",
       "    <path d=\"M0 0h24v24H0V0z\" fill=\"none\"/>\n",
       "    <path d=\"M18.56 5.44l.94 2.06.94-2.06 2.06-.94-2.06-.94-.94-2.06-.94 2.06-2.06.94zm-11 1L8.5 8.5l.94-2.06 2.06-.94-2.06-.94L8.5 2.5l-.94 2.06-2.06.94zm10 10l.94 2.06.94-2.06 2.06-.94-2.06-.94-.94-2.06-.94 2.06-2.06.94z\"/><path d=\"M17.41 7.96l-1.37-1.37c-.4-.4-.92-.59-1.43-.59-.52 0-1.04.2-1.43.59L10.3 9.45l-7.72 7.72c-.78.78-.78 2.05 0 2.83L4 21.41c.39.39.9.59 1.41.59.51 0 1.02-.2 1.41-.59l7.78-7.78 2.81-2.81c.8-.78.8-2.07 0-2.86zM5.41 20L4 18.59l7.72-7.72 1.47 1.35L5.41 20z\"/>\n",
       "  </svg>\n",
       "      </button>\n",
       "      \n",
       "  <style>\n",
       "    .colab-df-container {\n",
       "      display:flex;\n",
       "      flex-wrap:wrap;\n",
       "      gap: 12px;\n",
       "    }\n",
       "\n",
       "    .colab-df-convert {\n",
       "      background-color: #E8F0FE;\n",
       "      border: none;\n",
       "      border-radius: 50%;\n",
       "      cursor: pointer;\n",
       "      display: none;\n",
       "      fill: #1967D2;\n",
       "      height: 32px;\n",
       "      padding: 0 0 0 0;\n",
       "      width: 32px;\n",
       "    }\n",
       "\n",
       "    .colab-df-convert:hover {\n",
       "      background-color: #E2EBFA;\n",
       "      box-shadow: 0px 1px 2px rgba(60, 64, 67, 0.3), 0px 1px 3px 1px rgba(60, 64, 67, 0.15);\n",
       "      fill: #174EA6;\n",
       "    }\n",
       "\n",
       "    [theme=dark] .colab-df-convert {\n",
       "      background-color: #3B4455;\n",
       "      fill: #D2E3FC;\n",
       "    }\n",
       "\n",
       "    [theme=dark] .colab-df-convert:hover {\n",
       "      background-color: #434B5C;\n",
       "      box-shadow: 0px 1px 3px 1px rgba(0, 0, 0, 0.15);\n",
       "      filter: drop-shadow(0px 1px 2px rgba(0, 0, 0, 0.3));\n",
       "      fill: #FFFFFF;\n",
       "    }\n",
       "  </style>\n",
       "\n",
       "      <script>\n",
       "        const buttonEl =\n",
       "          document.querySelector('#df-c511e048-21e1-49ca-910e-5efdf41cf4fd button.colab-df-convert');\n",
       "        buttonEl.style.display =\n",
       "          google.colab.kernel.accessAllowed ? 'block' : 'none';\n",
       "\n",
       "        async function convertToInteractive(key) {\n",
       "          const element = document.querySelector('#df-c511e048-21e1-49ca-910e-5efdf41cf4fd');\n",
       "          const dataTable =\n",
       "            await google.colab.kernel.invokeFunction('convertToInteractive',\n",
       "                                                     [key], {});\n",
       "          if (!dataTable) return;\n",
       "\n",
       "          const docLinkHtml = 'Like what you see? Visit the ' +\n",
       "            '<a target=\"_blank\" href=https://colab.research.google.com/notebooks/data_table.ipynb>data table notebook</a>'\n",
       "            + ' to learn more about interactive tables.';\n",
       "          element.innerHTML = '';\n",
       "          dataTable['output_type'] = 'display_data';\n",
       "          await google.colab.output.renderOutput(dataTable, element);\n",
       "          const docLink = document.createElement('div');\n",
       "          docLink.innerHTML = docLinkHtml;\n",
       "          element.appendChild(docLink);\n",
       "        }\n",
       "      </script>\n",
       "    </div>\n",
       "  </div>\n",
       "  "
      ],
      "text/plain": [
       "                                              full_text  \\\n",
       "1563  [The, Collegian, team, put, their, fortune-tel...   \n",
       "986   [The, information, given, to, the, U.S, Soccer...   \n",
       "2152  [Legislation, passed, this, week, by, the, Flo...   \n",
       "2016  [A, new, report, shows, California, utilities,...   \n",
       "1682  [Its, been, two, years, since, weve, been, abl...   \n",
       "\n",
       "                                                summary  \\\n",
       "1563  [The, Collegian, team, put, their, fortune-tel...   \n",
       "986   [They, also, played, together, on, the, 2002, ...   \n",
       "2152  [And, the, residents, for, the, most, part, ca...   \n",
       "2016  [A, new, report, shows, California, utilities,...   \n",
       "1682  [Its, been, two, years, since, weve, been, abl...   \n",
       "\n",
       "                                               keywords root_label  \n",
       "1563  [2023, season, second, predictions, collegian,...     sports  \n",
       "986   [reynas, soccer, wife, earnie, statement, moth...     sports  \n",
       "2152  [requirements, flood, homeowners, key, propert...    climate  \n",
       "2016  [reduced, wildfires, utility, vulnerable, liab...    climate  \n",
       "1682  [season, elizabeth, crown, prince, historical,...     sports  "
      ]
     },
     "execution_count": 64,
     "metadata": {},
     "output_type": "execute_result"
    }
   ],
   "source": [
    "from sklearn.model_selection import train_test_split\n",
    "import re\n",
    "\n",
    "# extract only full_text and leaf_label columns and split into train and test\n",
    "train, test = train_test_split(dataset[[\"full_text\", \"summary\", \"keywords\", \"root_label\"]], \n",
    "                               test_size=0.2)\n",
    "\n",
    "# clean the full_text\n",
    "train = train.applymap(clean)\n",
    "test = test.applymap(clean)\n",
    "\n",
    "# convert each text to list of words\n",
    "for row in train.index.values:\n",
    "    train['full_text'][row] = re.findall(r'\\b\\S+\\b', train['full_text'][row])\n",
    "    train['summary'][row] = re.findall(r'\\b\\S+\\b', train['summary'][row])\n",
    "    train['keywords'][row] = re.findall(r'\\b\\S+\\b', train['keywords'][row])\n",
    "    \n",
    "for row in test.index.values:\n",
    "    test['full_text'][row] = re.findall(r'\\b\\S+\\b', test['full_text'][row])\n",
    "    test['summary'][row] = re.findall(r'\\b\\S+\\b', test['summary'][row])\n",
    "    test['keywords'][row] = re.findall(r'\\b\\S+\\b', test['keywords'][row])\n",
    "    \n",
    "train.head()  "
   ]
  },
  {
   "cell_type": "code",
   "execution_count": 65,
   "id": "6dc713eb",
   "metadata": {
    "id": "6dc713eb"
   },
   "outputs": [],
   "source": [
    "# convert to GloVe vectors based on sum and mean \n",
    "def glove_feature_transform(words):\n",
    "    embed_vec = 0\n",
    "    for word in words:\n",
    "        if word in embeddings_dict.keys():\n",
    "            embed_vec += embeddings_dict[word]\n",
    "        else: \n",
    "            embed_vec += 0\n",
    "            \n",
    "    return embed_vec / len(words)\n",
    "\n",
    "train['full_text'] = train['full_text'].apply(glove_feature_transform)\n",
    "train['summary'] = train['summary'].apply(glove_feature_transform)\n",
    "train['keywords'] = train['keywords'].apply(glove_feature_transform)\n",
    "test['full_text'] = test['full_text'].apply(glove_feature_transform)\n",
    "test['summary'] = test['summary'].apply(glove_feature_transform)\n",
    "test['keywords'] = test['keywords'].apply(glove_feature_transform)"
   ]
  },
  {
   "cell_type": "code",
   "execution_count": 66,
   "id": "HrTVsQzOWBjg",
   "metadata": {
    "id": "HrTVsQzOWBjg"
   },
   "outputs": [],
   "source": [
    "# convert GT class labels to numbers {'climate': 0, 'sports': 1}\n",
    "labels_dict = dict(zip(train['root_label'].unique(), \n",
    "                       range(0,train['root_label'].unique().size)))\n",
    "Y_train = train['root_label'].map(labels_dict, na_action='ignore')\n",
    "Y_test = test['root_label'].map(labels_dict, na_action='ignore')"
   ]
  },
  {
   "cell_type": "code",
   "execution_count": 67,
   "id": "_8S2OVr0WBgK",
   "metadata": {
    "colab": {
     "base_uri": "https://localhost:8080/"
    },
    "id": "_8S2OVr0WBgK",
    "outputId": "40980256-514a-442f-9af9-0dbb26d6acd2"
   },
   "outputs": [
    {
     "data": {
      "text/plain": [
       "((2520, 300), (630, 300))"
      ]
     },
     "execution_count": 67,
     "metadata": {},
     "output_type": "execute_result"
    }
   ],
   "source": [
    "# combine all together by normalizing and then summing each feature vectors \n",
    "X_train = np.array(np.array([i / np.linalg.norm(i) for i in train['keywords'].values]) + \n",
    "                   np.array([i / np.linalg.norm(i) for i in train['summary'].values]) + \n",
    "                   np.array([i / np.linalg.norm(i) for i in train['full_text'].values]))\n",
    "\n",
    "X_test = np.array(np.array([i / np.linalg.norm(i) for i in test['keywords'].values]) + \n",
    "                  np.array([i / np.linalg.norm(i) for i in test['summary'].values]) + \n",
    "                  np.array([i / np.linalg.norm(i) for i in test['full_text'].values]))\n",
    "\n",
    "X_train.shape, X_test.shape"
   ]
  },
  {
   "cell_type": "code",
   "execution_count": 76,
   "id": "cRKnNsB3WBdc",
   "metadata": {
    "colab": {
     "base_uri": "https://localhost:8080/",
     "height": 515
    },
    "id": "cRKnNsB3WBdc",
    "outputId": "d9991591-5ecd-42ff-93a9-f20a79d2da55"
   },
   "outputs": [
    {
     "name": "stdout",
     "output_type": "stream",
     "text": [
      "- Classification:\n",
      "    Accuracy: 97.14%\n",
      "    Precision: 0.9681\n",
      "    Recall: 0.9681\n",
      "    F1-score: 0.9681\n",
      "--------------------\n",
      "  - Confusion Matrix:\n",
      "    -----------------------\n",
      "    | TP:  273 | FP:    9 |\n",
      "    -----------------------\n",
      "    | FN:    9 | TN:  339 |\n",
      "    -----------------------\n",
      "--------------------\n"
     ]
    },
    {
     "data": {
      "image/png": "[encoded data removed]",
      "text/plain": [
       "<Figure size 432x288 with 1 Axes>"
      ]
     },
     "metadata": {
      "needs_background": "light"
     },
     "output_type": "display_data"
    }
   ],
   "source": [
    "# use SVM model as classifier model\n",
    "\n",
    "from sklearn.svm import SVC\n",
    "\n",
    "# SVM\n",
    "svm = SVC(C=2, kernel='linear', probability=True, random_state=42)\n",
    "svm = svm.fit(X_train, Y_train)\n",
    "svm_pred = svm.predict(X_test)\n",
    "svm_pred_prob = svm.predict_proba(X_test)[::, 1]\n",
    "# evaluate\n",
    "fpr, tpr, thresholds = metrics.roc_curve(Y_test, svm_pred, pos_label=1)\n",
    "cm = standard_confusion_matrix(Y_test, svm_pred)\n",
    "accuracy, precision, recall, f1_score = evaluation_scores(Y_test, svm_pred)\n",
    "\n",
    "svm_glove300_acc = accuracy\n",
    "\n",
    "# report\n",
    "print_scores(accuracy, precision, recall, f1_score)\n",
    "print('-' * 20)\n",
    "print_cm(cm)\n",
    "print('-' * 20)\n",
    "plot_roc(fpr, tpr)"
   ]
  },
  {
   "cell_type": "markdown",
   "id": "c0849ba4",
   "metadata": {
    "id": "c0849ba4"
   },
   "source": [
    "<div class=\"alert alert-block alert-success\">\n",
    "<b>Question 11:</b> For the binary classification task distinguishing the “sports” class and “climate” class:\n",
    "<ul>\n",
    "  <li>(a) Describe a feature engineering process that uses GLoVE word embeddings to represent each document. <b>You have to abide by the following rules:</b></li>\n",
    "    <ul>\n",
    "      <li>A representation of a text segment needs to have a vector dimension that CANNOT exceed the dimension of the GLoVE embedding used per word of the segment.  </li>\n",
    "      <li>You cannot use TF-IDF scores (or any measure that requires looking at the complete dataset) as a pre-processing routine.</li>\n",
    "      <li><b>Important:</b> In this section, feel free to use raw features from any column in the original data file not just full text. The column keywords might be useful... or not.</li>\n",
    "      <li>To aggregate these words into a single vector consider normalization the vectors, averaging across the vectors.</li>\n",
    "    </ul>\n",
    "  <li>(b) Select a classifier model, train and evaluate it with your GLoVE-based feature. If you are doing any cross-validation, please make sure to use a limited set of options so that your code finishes running in a reasonable amount of time.  </li>\n",
    "</ul>\n",
    "</div>"
   ]
  },
  {
   "cell_type": "markdown",
   "id": "1u0mzbdDV1FA",
   "metadata": {
    "id": "1u0mzbdDV1FA"
   },
   "source": [
    "<div class=\"alert alert-block alert-success\">\n",
    "<b>Answer:</b> \n",
    "<ul>\n",
    "  <li>(a) The feature engineering process: Three features are extracted from the dataset to train the model, namely \"full_text\", \"summary\", and \"keywords\". To convert textual data to computer-understandable numeric data, the pre-trained GLoVe model is applied to map each word in a text of each feature to a GLoVE word embedding. These embeddings are then summed together to form a single representation vector for that particular feature, without any normalization of each word vector here as I would like to preserve the hidden information of all word vectors that correspond to the meaning of their original words. After that, to avoid any weight bias toward any feature and keep the dimension of the embedding, normalization is performed on each feature representation vector and these normalized vectors are then added together to generate the final single vector which represents that whole text. </li>\n",
    "  <li>(b) SVM with $\\gamma=2$ is selected here since it yields the best performance after several experiments. The result as well as the classification scores are all shown above. </li>\n",
    "</ul>\n",
    "</div>"
   ]
  },
  {
   "cell_type": "markdown",
   "id": "K3qinl1iM5lD",
   "metadata": {
    "id": "K3qinl1iM5lD"
   },
   "source": [
    "### Load different pre-trained GLoVE embedding with different dimension [50, 100, 200]"
   ]
  },
  {
   "cell_type": "code",
   "execution_count": 147,
   "id": "SyEveMYsQL6B",
   "metadata": {
    "id": "SyEveMYsQL6B"
   },
   "outputs": [],
   "source": [
    "from sklearn.model_selection import train_test_split\n",
    "import re\n",
    "\n",
    "# extract only full_text and leaf_label columns and split into train and test\n",
    "train, test = train_test_split(dataset[[\"full_text\", \"summary\", \"keywords\", \"root_label\"]], \n",
    "                               test_size=0.2)\n",
    "\n",
    "# clean the full_text\n",
    "train = train.applymap(clean)\n",
    "test = test.applymap(clean)\n",
    "\n",
    "# convert each text to list of words\n",
    "for row in train.index.values:\n",
    "    train['full_text'][row] = re.findall(r'\\b\\S+\\b', train['full_text'][row])\n",
    "    train['summary'][row] = re.findall(r'\\b\\S+\\b', train['summary'][row])\n",
    "    train['keywords'][row] = re.findall(r'\\b\\S+\\b', train['keywords'][row])\n",
    "    \n",
    "for row in test.index.values:\n",
    "    test['full_text'][row] = re.findall(r'\\b\\S+\\b', test['full_text'][row])\n",
    "    test['summary'][row] = re.findall(r'\\b\\S+\\b', test['summary'][row])\n",
    "    test['keywords'][row] = re.findall(r'\\b\\S+\\b', test['keywords'][row])"
   ]
  },
  {
   "cell_type": "code",
   "execution_count": 148,
   "id": "OWxWQOfYSMsp",
   "metadata": {
    "id": "OWxWQOfYSMsp"
   },
   "outputs": [],
   "source": [
    "def glove_embedding_classifier(train, test, glove_file):\n",
    "\n",
    "    # read GLoVe_50d file\n",
    "    embeddings_dict = {}\n",
    "    with open(glove_file, 'r') as f: # if 'r' fails with unicode\n",
    "        for line in f:\n",
    "            values = line.split()\n",
    "            word = values[0]\n",
    "            vector = np.asarray(values[1:], \"float32\")\n",
    "            embeddings_dict[word] = vector\n",
    "\n",
    "    # function to convert to GloVe vectors based on sum and mean \n",
    "    def glove_feature_transform(words):\n",
    "        embed_vec = 0\n",
    "        for word in words:\n",
    "            if word in embeddings_dict.keys():\n",
    "                embed_vec += embeddings_dict[word]\n",
    "            else: \n",
    "                embed_vec += 0\n",
    "                \n",
    "        return embed_vec / len(words)\n",
    "\n",
    "    # convert to GloVe vectors\n",
    "    train_glove50_text = train['full_text'].apply(glove_feature_transform)\n",
    "    train_glove50_sum = train['summary'].apply(glove_feature_transform)\n",
    "    train_glove50_key = train['keywords'].apply(glove_feature_transform)\n",
    "    test_glove50_text = test['full_text'].apply(glove_feature_transform)\n",
    "    test_glove50_sum = test['summary'].apply(glove_feature_transform)\n",
    "    test_glove50_key  = test['keywords'].apply(glove_feature_transform)\n",
    "\n",
    "    # convert GT class labels to numbers {'climate': 0, 'sports': 1}\n",
    "    labels_dict = dict(zip(train['root_label'].unique(), \n",
    "                           range(0,train['root_label'].unique().size)))\n",
    "    Y_train = train['root_label'].map(labels_dict, na_action='ignore')\n",
    "    Y_test = test['root_label'].map(labels_dict, na_action='ignore')\n",
    "\n",
    "    # combine all together by normalizing and then summing each feature vectors \n",
    "    X_train = np.array(np.array([i / np.linalg.norm(i) for i in train_glove50_text.values]) + \n",
    "                      np.array([i / np.linalg.norm(i) for i in train_glove50_sum.values]) + \n",
    "                      np.array([i / np.linalg.norm(i) for i in train_glove50_key.values]))\n",
    "\n",
    "    X_test = np.array(np.array([i / np.linalg.norm(i) for i in test_glove50_text.values]) + \n",
    "                      np.array([i / np.linalg.norm(i) for i in test_glove50_sum.values]) + \n",
    "                      np.array([i / np.linalg.norm(i) for i in test_glove50_key.values]))\n",
    "    \n",
    "    # normalize the final vector of each text (each row)\n",
    "    X_train = X_train / np.linalg.norm(X_train, axis=1)[:, np.newaxis]\n",
    "    X_test = X_test / np.linalg.norm(X_test, axis=1)[:, np.newaxis]\n",
    "\n",
    "    # SVM\n",
    "    svm = SVC(C=2, kernel='linear', probability=True, random_state=42)\n",
    "    svm = svm.fit(X_train, Y_train)\n",
    "    svm_pred = svm.predict(X_test)\n",
    "    svm_pred_prob = svm.predict_proba(X_test)[::, 1]\n",
    "    # evaluate\n",
    "    fpr, tpr, thresholds = metrics.roc_curve(Y_test, svm_pred, pos_label=1)\n",
    "    cm = standard_confusion_matrix(Y_test, svm_pred)\n",
    "    accuracy, precision, recall, f1_score = evaluation_scores(Y_test, svm_pred)\n",
    "\n",
    "    # # report\n",
    "    # print_scores(accuracy, precision, recall, f1_score)\n",
    "    # print('-' * 20)\n",
    "    # print_cm(cm)\n",
    "    # print('-' * 20)\n",
    "    # plot_roc(fpr, tpr)\n",
    "\n",
    "    return accuracy"
   ]
  },
  {
   "cell_type": "code",
   "execution_count": 149,
   "id": "Mkkr2Icoo7cr",
   "metadata": {
    "colab": {
     "base_uri": "https://localhost:8080/",
     "height": 279
    },
    "id": "Mkkr2Icoo7cr",
    "outputId": "2aa16b1e-f960-4f50-a813-38086f74cac3"
   },
   "outputs": [
    {
     "data": {
      "image/png": "[encoded data removed]",
      "text/plain": [
       "<Figure size 432x288 with 1 Axes>"
      ]
     },
     "metadata": {
      "needs_background": "light"
     },
     "output_type": "display_data"
    }
   ],
   "source": [
    "glove50_file = \"/content/drive/MyDrive/Colab Notebooks/glove/glove.6B.50d.txt\"\n",
    "glove100_file = \"/content/drive/MyDrive/Colab Notebooks/glove/glove.6B.100d.txt\"\n",
    "glove200_file = \"/content/drive/MyDrive/Colab Notebooks/glove/glove.6B.200d.txt\"\n",
    "glove300_file = \"/content/drive/MyDrive/Colab Notebooks/glove/glove.6B.300d.txt\"\n",
    "\n",
    "glove_files = [glove50_file, glove100_file, glove200_file, glove300_file]\n",
    "glove_dim = [50, 100, 200, 300]\n",
    "accuracies = []\n",
    "\n",
    "for glove_file in glove_files:\n",
    "    accuracies.append(glove_embedding_classifier(train, test, glove_file))\n",
    "\n",
    "plt.plot(glove_dim, accuracies)\n",
    "plt.xlabel(\"Dimension of the pre-trained GLoVE embedding\")\n",
    "plt.ylabel(\"Accuracy\")\n",
    "plt.show()"
   ]
  },
  {
   "cell_type": "markdown",
   "id": "sab_6U5OWwY7",
   "metadata": {
    "id": "sab_6U5OWwY7"
   },
   "source": [
    "<div class=\"alert alert-block alert-success\">\n",
    "<b>Question 12:</b> Plot the relationship between the dimension of the pre-trained GLoVE embedding and the resulting accuracy of the model in the classification task. Describe the observed trend. Is this trend expected? Why or why not? In this part use the different sets of GLoVE vectors from the link.\n",
    "</div>"
   ]
  },
  {
   "cell_type": "markdown",
   "id": "yDUsMSRYW-TC",
   "metadata": {
    "id": "yDUsMSRYW-TC"
   },
   "source": [
    "<div class=\"alert alert-block alert-success\">\n",
    "<b>Answer:</b> As illustrated in the plot above, there is an increasing trend of accuracy as the dimension of the pre-trained GLoVE embedding increases. This is to be expected since the higher the feature dimension is, the higher representation as well as the more information the final converted vector can preserve, leading to a more informative data to train the model and thus higher accuracy. \n",
    "</div>"
   ]
  },
  {
   "cell_type": "markdown",
   "id": "gNaPChjGXL-m",
   "metadata": {
    "id": "gNaPChjGXL-m"
   },
   "source": [
    "Visualize the set of normalized GLoVE-based embeddings of the documents with their binary labels in a 2D plane using the UMAP library. Similarly generate a set of normalized random vectors of the same dimension as GLoVE and visualize these in a 2D plane with UMAP."
   ]
  },
  {
   "cell_type": "code",
   "execution_count": 150,
   "id": "ZFrLM3FVWOzj",
   "metadata": {
    "id": "ZFrLM3FVWOzj"
   },
   "outputs": [],
   "source": [
    "# read GLoVe_50d file\n",
    "embeddings_dict = {}\n",
    "with open(\"/content/drive/MyDrive/Colab Notebooks/glove/glove.6B.300d.txt\", 'r') as f: # if 'r' fails with unicode\n",
    "    for line in f:\n",
    "        values = line.split()\n",
    "        word = values[0]\n",
    "        vector = np.asarray(values[1:], \"float32\")\n",
    "        embeddings_dict[word] = vector\n",
    "\n",
    "# function to convert to GloVe vectors based on sum and mean \n",
    "def glove_feature_transform(words):\n",
    "    embed_vec = 0\n",
    "    for word in words:\n",
    "        if word in embeddings_dict.keys():\n",
    "            embed_vec += embeddings_dict[word]\n",
    "        else: \n",
    "            embed_vec += 0\n",
    "            \n",
    "    return embed_vec / len(words)\n",
    "\n",
    "# convert to GloVe vectors\n",
    "train_glove50_text = train['full_text'].apply(glove_feature_transform)\n",
    "train_glove50_sum = train['summary'].apply(glove_feature_transform)\n",
    "train_glove50_key = train['keywords'].apply(glove_feature_transform)\n",
    "test_glove50_text = test['full_text'].apply(glove_feature_transform)\n",
    "test_glove50_sum = test['summary'].apply(glove_feature_transform)\n",
    "test_glove50_key  = test['keywords'].apply(glove_feature_transform)\n",
    "\n",
    "# combine all together by normalizing and then summing each feature vectors \n",
    "X_train = np.array(np.array([i / np.linalg.norm(i) for i in train_glove50_text.values]) + \n",
    "                   np.array([i / np.linalg.norm(i) for i in train_glove50_sum.values]) + \n",
    "                   np.array([i / np.linalg.norm(i) for i in train_glove50_key.values]))\n",
    "\n",
    "X_test = np.array(np.array([i / np.linalg.norm(i) for i in test_glove50_text.values]) + \n",
    "                  np.array([i / np.linalg.norm(i) for i in test_glove50_sum.values]) + \n",
    "                  np.array([i / np.linalg.norm(i) for i in test_glove50_key.values]))\n",
    "\n",
    "# normalize the final vector of each text (each row)\n",
    "X_train = X_train / np.linalg.norm(X_train, axis=1)[:, np.newaxis]\n",
    "X_test = X_test / np.linalg.norm(X_test, axis=1)[:, np.newaxis]"
   ]
  },
  {
   "cell_type": "code",
   "execution_count": 151,
   "id": "Qm1BJfJtU980",
   "metadata": {
    "id": "Qm1BJfJtU980"
   },
   "outputs": [],
   "source": [
    "# !pip install umap-learn"
   ]
  },
  {
   "cell_type": "code",
   "execution_count": 152,
   "id": "2de26cf0",
   "metadata": {
    "colab": {
     "base_uri": "https://localhost:8080/",
     "height": 441
    },
    "id": "2de26cf0",
    "outputId": "cbb1dfdf-edd8-48ac-df5f-9b34536f3ad2"
   },
   "outputs": [
    {
     "data": {
      "image/png": "[encoded data removed]",
      "text/plain": [
       "<Figure size 864x432 with 2 Axes>"
      ]
     },
     "metadata": {
      "needs_background": "light"
     },
     "output_type": "display_data"
    }
   ],
   "source": [
    "import umap\n",
    "\n",
    "# apply UMAP to our data\n",
    "reducer = umap.UMAP(random_state=42)\n",
    "embedding = reducer.fit_transform(X_train)\n",
    "\n",
    "# apply UMAP to random vectors\n",
    "rand_norm_vector = np.random.standard_normal(size=X_train.shape)\n",
    "reducer_norm = umap.UMAP(random_state=42)\n",
    "embedding_norm = reducer_norm.fit_transform(rand_norm_vector)\n",
    "\n",
    "# plots\n",
    "fig, axes = plt.subplots(nrows=1, ncols=2, figsize=(12,6))\n",
    "axes[0].scatter(reducer.embedding_[:, 0], \n",
    "                reducer.embedding_[:, 1], \n",
    "                s=5, c=Y_train, cmap='Spectral')\n",
    "axes[0].set_title('UMAP projection of GloVe converted data', fontsize=12)\n",
    "\n",
    "axes[1].scatter(reducer_norm.embedding_[:, 0], \n",
    "                reducer_norm.embedding_[:, 1], \n",
    "                s=5, c=Y_train, cmap='Spectral')\n",
    "axes[1].set_title('UMAP projection of random data', fontsize=12)\n",
    "\n",
    "fig.tight_layout()"
   ]
  },
  {
   "cell_type": "markdown",
   "id": "tvYCxfiHXQt4",
   "metadata": {
    "id": "tvYCxfiHXQt4"
   },
   "source": [
    "<div class=\"alert alert-block alert-success\">\n",
    "<b>Question 13:</b> Compare and contrast the two visualizations. Are there clusters formed in either or both of the plots? We will pursue the clustering aspect further in the next project.\n",
    "</div>"
   ]
  },
  {
   "cell_type": "markdown",
   "id": "a9A8Q2ULXZab",
   "metadata": {
    "id": "a9A8Q2ULXZab"
   },
   "source": [
    "<div class=\"alert alert-block alert-success\">\n",
    "<b>Answer:</b> Based on the experiment result shown above, there isn't any cluster formed in both of the plots.\n",
    "</div>"
   ]
  }
 ],
 "metadata": {
  "colab": {
   "provenance": []
  },
  "gpuClass": "standard",
  "kernelspec": {
   "display_name": "Python 3 (ipykernel)",
   "language": "python",
   "name": "python3"
  },
  "language_info": {
   "codemirror_mode": {
    "name": "ipython",
    "version": 3
   },
   "file_extension": ".py",
   "mimetype": "text/x-python",
   "name": "python",
   "nbconvert_exporter": "python",
   "pygments_lexer": "ipython3",
   "version": "3.8.3"
  }
 },
 "nbformat": 4,
 "nbformat_minor": 5
}
