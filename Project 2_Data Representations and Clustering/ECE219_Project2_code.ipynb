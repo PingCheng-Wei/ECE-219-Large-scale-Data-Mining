{
 "cells": [
  {
   "attachments": {},
   "cell_type": "markdown",
   "id": "6e8ae358",
   "metadata": {
    "id": "6e8ae358"
   },
   "source": [
    "# ECE 219 Project 2: Data Representations and Clustering"
   ]
  },
  {
   "cell_type": "code",
   "execution_count": 1,
   "id": "cda637fd",
   "metadata": {
    "colab": {
     "base_uri": "https://localhost:8080/"
    },
    "executionInfo": {
     "elapsed": 20659,
     "status": "ok",
     "timestamp": 1676254745331,
     "user": {
      "displayName": "PING-CHENG WEI",
      "userId": "17456108749581822272"
     },
     "user_tz": 480
    },
    "id": "cda637fd",
    "outputId": "a348a63e-aa0f-4e3d-ab6d-0b893713dcc5"
   },
   "outputs": [
    {
     "name": "stdout",
     "output_type": "stream",
     "text": [
      "Mounted at /content/drive/\n"
     ]
    }
   ],
   "source": [
    "# import all necessary libraries \n",
    "import numpy as np\n",
    "import pandas as pd\n",
    "import matplotlib.pyplot as plt\n",
    "\n",
    "# allows matlab plots to be generated in line\n",
    "%matplotlib inline\n",
    "\n",
    "from google.colab import drive\n",
    "drive.mount(\"/content/drive/\")\n",
    "\n",
    "# add system path to current directory\n",
    "import sys\n",
    "sys.path.append('/content/drive/MyDrive/Colab Notebooks/ECE_219/Project2')"
   ]
  },
  {
   "cell_type": "markdown",
   "id": "7fab1235",
   "metadata": {
    "id": "7fab1235"
   },
   "source": [
    "# Part 1 - Clustering on Text Data"
   ]
  },
  {
   "cell_type": "code",
   "execution_count": 2,
   "id": "4716c797",
   "metadata": {
    "executionInfo": {
     "elapsed": 14345,
     "status": "ok",
     "timestamp": 1676229673787,
     "user": {
      "displayName": "PING-CHENG WEI",
      "userId": "17456108749581822272"
     },
     "user_tz": 480
    },
    "id": "4716c797"
   },
   "outputs": [],
   "source": [
    "from sklearn.datasets import fetch_20newsgroups\n",
    "\n",
    "# load whole dataset\n",
    "removed_items = ('headers', 'footers')\n",
    "newsgroups_train = fetch_20newsgroups(subset='train', \n",
    "                                      remove=removed_items,\n",
    "                                      shuffle=True,\n",
    "                                      random_state=0)\n",
    "newsgroups_test = fetch_20newsgroups(subset='test', \n",
    "                                     remove=removed_items,\n",
    "                                     shuffle=True,\n",
    "                                     random_state=0)"
   ]
  },
  {
   "cell_type": "markdown",
   "id": "fU1pJGh88xva",
   "metadata": {
    "id": "fU1pJGh88xva"
   },
   "source": [
    "Define two classes based on a well-separable subset of samples and newly mark the class label"
   ]
  },
  {
   "cell_type": "code",
   "execution_count": 3,
   "id": "CgZj-3Np22Lp",
   "metadata": {
    "colab": {
     "base_uri": "https://localhost:8080/"
    },
    "executionInfo": {
     "elapsed": 1632,
     "status": "ok",
     "timestamp": 1676229703068,
     "user": {
      "displayName": "PING-CHENG WEI",
      "userId": "17456108749581822272"
     },
     "user_tz": 480
    },
    "id": "CgZj-3Np22Lp",
    "outputId": "73292ed5-632f-4f3c-a46a-24b7c8682870"
   },
   "outputs": [
    {
     "name": "stdout",
     "output_type": "stream",
     "text": [
      "Class names:  ['comp.graphics', 'comp.os.ms-windows.misc', 'comp.sys.ibm.pc.hardware', 'comp.sys.mac.hardware', 'rec.autos', 'rec.motorcycles', 'rec.sport.baseball', 'rec.sport.hockey']\n",
      "2 categories - 4732 documents\n",
      "Class 0: 2343 documents\n",
      "Class 1: 2389 documents\n",
      " \n",
      "['/root/scikit_learn_data/20news_home/20news-bydate-train/rec.sport.baseball/102694'\n",
      " '/root/scikit_learn_data/20news_home/20news-bydate-train/rec.autos/103185'\n",
      " '/root/scikit_learn_data/20news_home/20news-bydate-train/comp.graphics/38342'\n",
      " '/root/scikit_learn_data/20news_home/20news-bydate-train/comp.os.ms-windows.misc/9686'\n",
      " '/root/scikit_learn_data/20news_home/20news-bydate-train/comp.graphics/38550']\n",
      "[1 1 0 0 0]\n"
     ]
    }
   ],
   "source": [
    "# class 1 categories - label [0, 1, 2, 3] -> label 0\n",
    "class1_cats = ['comp.graphics', 'comp.os.ms-windows.misc',\n",
    "               'comp.sys.ibm.pc.hardware', 'comp.sys.mac.hardware']\n",
    "\n",
    "# class 2 categories - label [4, 5, 6, 7] -> label 1\n",
    "class2_cats = ['rec.autos', 'rec.motorcycles', \n",
    "               'rec.sport.baseball', 'rec.sport.hockey']\n",
    "\n",
    "# load newsgroups subsets and remove headers&footers\n",
    "removed_items = ('headers', 'footers')\n",
    "subset_train = fetch_20newsgroups(subset='train', \n",
    "                                  remove=removed_items, \n",
    "                                  categories=class1_cats+class2_cats,\n",
    "                                  shuffle=True,\n",
    "                                  random_state=0)\n",
    "subset_test = fetch_20newsgroups(subset='test', \n",
    "                                 remove=removed_items, \n",
    "                                 categories=class1_cats+class2_cats,\n",
    "                                 shuffle=True,\n",
    "                                 random_state=0)\n",
    "\n",
    "# convert to new class labels: class 1 - label 0, class 2 - label 1\n",
    "subset_train.target = np.isin(subset_train.target, [4, 5, 6, 7]).astype(int)\n",
    "subset_test.target = np.isin(subset_test.target, [4, 5, 6, 7]).astype(int)\n",
    "\n",
    "# print some info\n",
    "print('Class names: ', subset_train.target_names)\n",
    "unique_labels, category_sizes = np.unique(subset_train.target, return_counts=True)\n",
    "print(f\"{unique_labels.shape[0]} categories - {len(subset_train.data)} documents\")\n",
    "print(f\"Class 0: {category_sizes[0]} documents\")\n",
    "print(f\"Class 1: {category_sizes[1]} documents\")\n",
    "\n",
    "# take a look\n",
    "print(' ')\n",
    "print(subset_train.filenames[:5])\n",
    "print(subset_train.target[:5])"
   ]
  },
  {
   "cell_type": "markdown",
   "id": "ad76ef32",
   "metadata": {
    "id": "ad76ef32"
   },
   "source": [
    "## Clustering with Sparse Text Representations"
   ]
  },
  {
   "cell_type": "markdown",
   "id": "66590907",
   "metadata": {
    "id": "66590907"
   },
   "source": [
    "### 1. Generate sparse TF-IDF representations: \n",
    "\n",
    "Following the steps in Project 1, transform the documents into TF-IDF vectors. Use <b>min_df = 3</b>, exclude the stopwords (no need to do stemming or lemmatization), and remove the headers and footers. No need to do any additional data cleaning."
   ]
  },
  {
   "cell_type": "code",
   "execution_count": 4,
   "id": "e0021d00",
   "metadata": {
    "colab": {
     "base_uri": "https://localhost:8080/"
    },
    "executionInfo": {
     "elapsed": 1257,
     "status": "ok",
     "timestamp": 1676229709513,
     "user": {
      "displayName": "PING-CHENG WEI",
      "userId": "17456108749581822272"
     },
     "user_tz": 480
    },
    "id": "e0021d00",
    "outputId": "02b8e41a-6db2-422e-d8b1-8591a14cb473"
   },
   "outputs": [
    {
     "name": "stdout",
     "output_type": "stream",
     "text": [
      "Vectorization done in 1.065 s\n",
      "Shape of the TF-IDF converted matrix: (4732, 17131)\n"
     ]
    }
   ],
   "source": [
    "from sklearn.feature_extraction.text import TfidfVectorizer\n",
    "from time import time\n",
    "\n",
    "t0 = time()\n",
    "\n",
    "# convert to TF-IDF matrix\n",
    "min_df = 3\n",
    "tfidf_vec = TfidfVectorizer(min_df=min_df, stop_words='english')\n",
    "X_train_tfidf = tfidf_vec.fit_transform(subset_train.data)\n",
    "\n",
    "print('Vectorization done in {:.3f} s'.format(time() - t0))\n",
    "print('Shape of the TF-IDF converted matrix: {}'.format(X_train_tfidf.shape))"
   ]
  },
  {
   "cell_type": "markdown",
   "id": "7c5bef6a",
   "metadata": {
    "id": "7c5bef6a"
   },
   "source": [
    "<div class=\"alert alert-block alert-success\">\n",
    "<b>QUESTION 1:</b> Report the dimensions of the TF-IDF matrix you obtain.\n",
    "</div>"
   ]
  },
  {
   "cell_type": "markdown",
   "id": "1f05add6",
   "metadata": {
    "id": "1f05add6"
   },
   "source": [
    "<div class=\"alert alert-block alert-success\">\n",
    "<b>ANSWER 1:</b> The output dimension of the TF-IDF converted matrix is (4732 x 17131)\n",
    "</div>"
   ]
  },
  {
   "cell_type": "markdown",
   "id": "3b3c1d0d",
   "metadata": {
    "id": "3b3c1d0d"
   },
   "source": [
    "### 2. Clustering: \n",
    "\n",
    "Apply K-means clustering with <b>k = 2</b> using the TF-IDF data. Note that the KMeans class in sklearn has parameters named <b>random_state, max_iter and n_init</b>. Please use <b>random_state=0, max_iter ≥ 1000 and n_init ≥ 30.</b>"
   ]
  },
  {
   "cell_type": "code",
   "execution_count": 10,
   "id": "ldSUExcDzxmk",
   "metadata": {
    "colab": {
     "base_uri": "https://localhost:8080/",
     "height": 441
    },
    "executionInfo": {
     "elapsed": 15109,
     "status": "ok",
     "timestamp": 1676230039587,
     "user": {
      "displayName": "PING-CHENG WEI",
      "userId": "17456108749581822272"
     },
     "user_tz": 480
    },
    "id": "ldSUExcDzxmk",
    "outputId": "a2a79ee4-8ebc-4542-f846-55eae81715f0"
   },
   "outputs": [
    {
     "data": {
      "image/png": "[encoded data removed]",
      "text/plain": [
       "<Figure size 576x432 with 2 Axes>"
      ]
     },
     "metadata": {
      "needs_background": "light"
     },
     "output_type": "display_data"
    }
   ],
   "source": [
    "from sklearn.cluster import KMeans\n",
    "from sklearn.metrics.cluster import contingency_matrix\n",
    "from plotmat import plot_mat\n",
    "\n",
    "# setup K-means model\n",
    "k = 2\n",
    "kmeans = KMeans(n_clusters=k, max_iter=2000,\n",
    "                n_init=100, random_state=0)\n",
    "\n",
    "# train the model\n",
    "kmeans.fit(X_train_tfidf)\n",
    "\n",
    "# report contigency matrix\n",
    "cmat = contingency_matrix(subset_train.target, kmeans.labels_)\n",
    "unique_clusters, cluster_sizes = np.unique(kmeans.labels_, return_counts=True)\n",
    "\n",
    "# plot\n",
    "xlabels = [f'Cluster {i+1}' for i in range(len(unique_clusters))]\n",
    "ylabels = [f'Class {i+1}' for i in range(len(unique_labels))]\n",
    "cmat_title = 'Contigency Matrix Report'\n",
    "plot_mat(mat=cmat, xticklabels = xlabels, yticklabels = ylabels, \n",
    "         size=(8,6), title = cmat_title, pic_fname = cmat_title)"
   ]
  },
  {
   "cell_type": "markdown",
   "id": "c6c411f7",
   "metadata": {
    "id": "c6c411f7"
   },
   "source": [
    "<div class=\"alert alert-block alert-success\">\n",
    "<b>QUESTION 2:</b> Report the contingency table of your clustering result. You may use the provided plotmat.py to visualize the matrix. Does the contingency matrix have to be square-shaped?\n",
    "</div>"
   ]
  },
  {
   "cell_type": "markdown",
   "id": "7f94ece7",
   "metadata": {
    "id": "7f94ece7"
   },
   "source": [
    "<div class=\"alert alert-block alert-success\">\n",
    "<b>ANSWER 2:</b> \n",
    "\n",
    "The plotted contingency table is shown above. \n",
    "\n",
    "No, the contingency matrix doesn't have to be square-shaped since the labels on x- and y-axis are not the same. In our case, x-axis corresponds to the clusters and y-axis to the classes. This means that if we, for example, change $k=4$, we will get a (2x4) contingency matrix\n",
    "</div>"
   ]
  },
  {
   "cell_type": "markdown",
   "id": "1SZ66GJkAIDg",
   "metadata": {
    "id": "1SZ66GJkAIDg"
   },
   "source": [
    "Clustering algorithms are fundamentally unsupervised learning methods. However, since we happen to have class labels for this specific dataset, it is possible to use evaluation metrics that leverage this “supervised” ground truth information to quantify the quality of the resulting clusters. Examples of such metrics are the following:\n",
    "\n",
    "<ul>\n",
    "  <li><b>Homogeneity</b>, which quantifies how much clusters contain only members of a single class</li>\n",
    "  <li><b>Completeness</b>, which quantifies how much members of a given class are assigned to the same clusters</li>\n",
    "  <li><b>V-measure</b>, the harmonic mean of completeness and homogeneity</li>\n",
    "  <li><b>Rand-Index</b>, which measures how frequently pairs of data points are grouped consistently according to the result of the clustering algorithm and the ground truth class assignment</li>\n",
    "  <li><b>Adjusted Rand-Index</b>, a chance-adjusted Rand-Index such that random cluster assignment have an ARI of 0.0 in expectation </li>\n",
    "  <li><b>Silhouette Coefficient</b>, is a measure of how similar an object is to its own cluster (cohesion) compared to other clusters (separation). The best value is 1 and the worst value is -1. Values near 0 indicate overlapping clusters. Negative values generally indicate that a sample has been assigned to the wrong cluster, as a different cluster is more similar.</li>\n",
    "</ul>"
   ]
  },
  {
   "cell_type": "code",
   "execution_count": 11,
   "id": "QnzV2prB8sXB",
   "metadata": {
    "colab": {
     "base_uri": "https://localhost:8080/"
    },
    "executionInfo": {
     "elapsed": 1429,
     "status": "ok",
     "timestamp": 1676230050182,
     "user": {
      "displayName": "PING-CHENG WEI",
      "userId": "17456108749581822272"
     },
     "user_tz": 480
    },
    "id": "QnzV2prB8sXB",
    "outputId": "e4cd7008-869d-4545-c9d9-33c614452ef1"
   },
   "outputs": [
    {
     "data": {
      "text/plain": [
       "{'Homogeneity': 0.5834030920023915,\n",
       " 'Completeness': 0.5954525486253484,\n",
       " 'V-measure': 0.589366239658909,\n",
       " 'Adjusted Rand-Index': 0.6522945138990512,\n",
       " 'Silhouette Coefficient': 0.0048285485321181406}"
      ]
     },
     "execution_count": 11,
     "metadata": {},
     "output_type": "execute_result"
    }
   ],
   "source": [
    "from sklearn.metrics import homogeneity_score, completeness_score\n",
    "from sklearn.metrics import v_measure_score, rand_score\n",
    "from sklearn.metrics import adjusted_rand_score, silhouette_score\n",
    "\n",
    "# evaluation\n",
    "km_scores = {}\n",
    "km_scores[\"Homogeneity\"] = homogeneity_score(subset_train.target, kmeans.labels_)\n",
    "km_scores[\"Completeness\"] = completeness_score(subset_train.target, kmeans.labels_)\n",
    "km_scores[\"V-measure\"] = v_measure_score(subset_train.target, kmeans.labels_)\n",
    "# km_scores[\"Rand_Index\"] = rand_score(subset_train.target, kmeans.labels_)\n",
    "km_scores[\"Adjusted Rand-Index\"] = adjusted_rand_score(subset_train.target, kmeans.labels_)\n",
    "km_scores[\"Silhouette Coefficient\"] = silhouette_score(X_train_tfidf, kmeans.labels_)\n",
    "\n",
    "# Report the 5 clustering measures\n",
    "km_scores"
   ]
  },
  {
   "cell_type": "markdown",
   "id": "b491db8c",
   "metadata": {
    "id": "b491db8c"
   },
   "source": [
    "<div class=\"alert alert-block alert-success\">\n",
    "<b>QUESTION 3:</b> Report the 5 clustering measures explained in the introduction for Kmeans clustering.\n",
    "</div>"
   ]
  },
  {
   "cell_type": "markdown",
   "id": "e85fb28b",
   "metadata": {
    "id": "e85fb28b"
   },
   "source": [
    "<div class=\"alert alert-block alert-success\">\n",
    "<b>ANSWER 3:</b> The 5 clustering measures are reported above.\n",
    "</div>"
   ]
  },
  {
   "cell_type": "markdown",
   "id": "779e3add",
   "metadata": {
    "id": "779e3add"
   },
   "source": [
    "## Clustering with Dense Text Representations"
   ]
  },
  {
   "cell_type": "markdown",
   "id": "8c7edbd6",
   "metadata": {
    "id": "8c7edbd6"
   },
   "source": [
    "### 1. Generate dense representations for better K-Means Clustering"
   ]
  },
  {
   "cell_type": "markdown",
   "id": "ac3e1b88",
   "metadata": {
    "id": "ac3e1b88"
   },
   "source": [
    "<ul>\n",
    "  <li>(a) First we want to find the effective dimension of the data through inspection of the top singular values of the TF-IDF matrix and see how many of them are significant in reconstructing the matrix with the truncated SVD representation. A guideline is to see what ratio of the variance of the original data is retained after the dimensionality reduction. </li>\n",
    "</ul>"
   ]
  },
  {
   "cell_type": "code",
   "execution_count": 19,
   "id": "9a2ed958",
   "metadata": {
    "colab": {
     "base_uri": "https://localhost:8080/",
     "height": 297
    },
    "executionInfo": {
     "elapsed": 688,
     "status": "ok",
     "timestamp": 1676230855974,
     "user": {
      "displayName": "PING-CHENG WEI",
      "userId": "17456108749581822272"
     },
     "user_tz": 480
    },
    "id": "9a2ed958",
    "outputId": "e9be57fc-9e52-464b-d140-4c94db43dd3d"
   },
   "outputs": [
    {
     "data": {
      "image/png": "[encoded data removed]",
      "text/plain": [
       "<Figure size 432x288 with 1 Axes>"
      ]
     },
     "metadata": {
      "needs_background": "light"
     },
     "output_type": "display_data"
    }
   ],
   "source": [
    "from sklearn.decomposition import TruncatedSVD\n",
    "\n",
    "# Define the number of components\n",
    "n_components=[1, 100, 200, 300, 400, 500, \n",
    "              600, 700, 800, 900, 1000]\n",
    "ExVar_ratios = []\n",
    "ExVar_ratios_sum = []\n",
    "sum_ratio = 0\n",
    "\n",
    "for r in n_components:    \n",
    "    # create SVD object\n",
    "    svd = TruncatedSVD(n_components=r, n_iter=5, random_state=0)\n",
    "\n",
    "    # fit SVD model on with TF-IDF processed matrix\n",
    "    X_train_svd = svd.fit_transform(X_train_tfidf)\n",
    "    \n",
    "    # store explained variance ratio for the plot\n",
    "    ExVar_ratio = svd.explained_variance_ratio_.sum()\n",
    "    ExVar_ratios.append(ExVar_ratio)\n",
    "    sum_ratio += ExVar_ratio\n",
    "    ExVar_ratios_sum.append(sum_ratio)\n",
    "\n",
    "plt.bar(range(0,len(ExVar_ratios_sum)), ExVar_ratios, alpha=0.5, \n",
    "        align='center', label='Individual explained variance')\n",
    "# plt.step(range(0,len(ExVar_ratios_sum)), ExVar_ratios_sum, \n",
    "#          where='mid',label='Cumulative explained variance')\n",
    "plt.plot(range(0,len(ExVar_ratios_sum)), ExVar_ratios_sum, \n",
    "         color='orange', label='Cumulative explained variance')\n",
    "plt.ylabel('Explained variance ratio')\n",
    "plt.xlabel('Principal component index (in unit 100)')\n",
    "plt.legend(loc='best')\n",
    "plt.tight_layout()\n",
    "plt.show()"
   ]
  },
  {
   "cell_type": "markdown",
   "id": "f843ed32",
   "metadata": {
    "id": "f843ed32"
   },
   "source": [
    "<div class=\"alert alert-block alert-success\">\n",
    "<b>QUESTION 4:</b> Report the plot of the percentage of variance that the top $r$ principle components retain v.s. $r$, for $r$ = 1 to 1000.\n",
    "</div>"
   ]
  },
  {
   "cell_type": "markdown",
   "id": "03eaf5e2",
   "metadata": {
    "id": "03eaf5e2"
   },
   "source": [
    "<div class=\"alert alert-block alert-success\">\n",
    "<b>ANSWER 4:</b> The result is shown above. Here, I only test the following values: $r = [1, 100, 200, 300, 400, 500, 600, 700, 800, 900, 1000]$ to save some time.\n",
    "</div>"
   ]
  },
  {
   "cell_type": "markdown",
   "id": "bd91bda4",
   "metadata": {
    "id": "bd91bda4"
   },
   "source": [
    "<ul>\n",
    "  <li>(b) Now, use the following two methods to reduce the dimension of the data. Sweep over the dimension parameters for each method, and choose one that yields better results in terms of clustering purity metrics. </li>\n",
    "  <ul>\n",
    "      <li>Truncated SVD / PCA: Note that you don’t need to perform SVD multiple times: performing SVD with $r$ = 1000 gives you the data projected on all the top 1000 principle components, so for smaller $r$’s, you just need to exclude the least important features.</li>\n",
    "      <li>NMF</li>\n",
    "  </ul>\n",
    "</ul>"
   ]
  },
  {
   "cell_type": "code",
   "execution_count": 20,
   "id": "1a0a4586",
   "metadata": {
    "colab": {
     "base_uri": "https://localhost:8080/",
     "height": 424
    },
    "executionInfo": {
     "elapsed": 982888,
     "status": "ok",
     "timestamp": 1676231974449,
     "user": {
      "displayName": "PING-CHENG WEI",
      "userId": "17456108749581822272"
     },
     "user_tz": 480
    },
    "id": "1a0a4586",
    "outputId": "88ad7258-ee3a-4370-ba54-63e3f2cb30ec"
   },
   "outputs": [
    {
     "name": "stderr",
     "output_type": "stream",
     "text": [
      "/usr/local/lib/python3.8/dist-packages/sklearn/decomposition/_nmf.py:1637: ConvergenceWarning: Maximum number of iterations 200 reached. Increase it to improve convergence.\n",
      "  warnings.warn(\n"
     ]
    },
    {
     "data": {
      "image/png": "[encoded data removed]",
      "text/plain": [
       "<Figure size 864x360 with 2 Axes>"
      ]
     },
     "metadata": {
      "needs_background": "light"
     },
     "output_type": "display_data"
    }
   ],
   "source": [
    "from sklearn.decomposition import TruncatedSVD, NMF\n",
    "\n",
    "# function for calculating all cluster measures\n",
    "def cluster_evaluation(X, y_true, y_pred):\n",
    "    score = {}\n",
    "    score[\"Homogeneity\"] = homogeneity_score(y_true, y_pred)\n",
    "    score[\"Completeness\"] = completeness_score(y_true, y_pred)\n",
    "    score[\"V-measure\"] = v_measure_score(y_true, y_pred)\n",
    "    score[\"Adjusted Rand-Index\"] = adjusted_rand_score(y_true, y_pred)\n",
    "    score[\"Silhouette Coefficient\"] = silhouette_score(X, y_pred)\n",
    "    \n",
    "    return score\n",
    "\n",
    "\n",
    "# init\n",
    "k = 2\n",
    "n_components = [1, 2, 3, 4, 5, 6, 7, 8, 9, 10, 20, 50, 100, 300]\n",
    "scores = {'SVD': {'Homogeneity': [], \"Completeness\": [], \"V-measure\": [], \n",
    "                  \"Adjusted Rand-Index\": [], \"Silhouette Coefficient\": []}, \n",
    "          'NMF': {'Homogeneity': [], \"Completeness\": [], \"V-measure\": [], \n",
    "                  \"Adjusted Rand-Index\": [], \"Silhouette Coefficient\": []}}\n",
    "score_names = ['Homogeneity', \"Completeness\", \"V-measure\", \n",
    "               \"Adjusted Rand-Index\", \"Silhouette Coefficient\"]\n",
    "\n",
    "for r in n_components:  \n",
    "    # SVD\n",
    "    svd = TruncatedSVD(n_components=r, n_iter=5, random_state=0)\n",
    "    X_train_svd = svd.fit_transform(X_train_tfidf)\n",
    "    # setup K-means model for SVD\n",
    "    svd_kmeans = KMeans(n_clusters=k, max_iter=1000, n_init=50, random_state=0)\n",
    "    # train\n",
    "    svd_kmeans.fit(X_train_svd)\n",
    "    # evaluation\n",
    "    svd_score = cluster_evaluation(X_train_svd, \n",
    "                                   subset_train.target, svd_kmeans.labels_)\n",
    "    for name in score_names:\n",
    "        scores['SVD'][name].append(svd_score[name])\n",
    "\n",
    "    # NMF\n",
    "    nmf = NMF(n_components=r, init='random', random_state=0)\n",
    "    W_nmf = nmf.fit_transform(X_train_tfidf)\n",
    "    # setup K-means model for NMF\n",
    "    nmf_kmeans = KMeans(n_clusters=k, max_iter=1000, n_init=50, random_state=0)\n",
    "    # train\n",
    "    nmf_kmeans.fit(W_nmf)\n",
    "    # evaluation\n",
    "    nmf_score = cluster_evaluation(W_nmf, \n",
    "                                   subset_train.target, nmf_kmeans.labels_)\n",
    "    for name in score_names:\n",
    "        scores['NMF'][name].append(nmf_score[name])\n",
    "\n",
    "\n",
    "# plot results\n",
    "fig, axes = plt.subplots(nrows=1, ncols=2, figsize=(12, 5))\n",
    "for name in score_names:\n",
    "    axes[0].plot(n_components, scores['SVD'][name], label=name)\n",
    "    axes[1].plot(n_components, scores['NMF'][name], label=name)\n",
    "\n",
    "axes[0].set_xlabel(\"Principal component index\")\n",
    "axes[0].set_ylabel(\"Cluster measure scores\")\n",
    "axes[0].set_title('Clustering Result with SVD')\n",
    "axes[0].legend()\n",
    "\n",
    "axes[1].set_xlabel(\"Principal component index\")\n",
    "axes[1].set_ylabel(\"Cluster measure scores\")\n",
    "axes[1].set_title('Clustering Result with NMF')\n",
    "axes[1].legend()\n",
    "\n",
    "fig.tight_layout()"
   ]
  },
  {
   "cell_type": "markdown",
   "id": "bQa_85u1ITek",
   "metadata": {
    "id": "bQa_85u1ITek"
   },
   "source": [
    "#### find out the best $r$ for SVD and NMF"
   ]
  },
  {
   "cell_type": "code",
   "execution_count": 22,
   "id": "Xzc8mKwgHQlU",
   "metadata": {
    "colab": {
     "base_uri": "https://localhost:8080/"
    },
    "executionInfo": {
     "elapsed": 263,
     "status": "ok",
     "timestamp": 1676232531782,
     "user": {
      "displayName": "PING-CHENG WEI",
      "userId": "17456108749581822272"
     },
     "user_tz": 480
    },
    "id": "Xzc8mKwgHQlU",
    "outputId": "d54bdb58-b539-48f3-e8c6-9798ca71ead9"
   },
   "outputs": [
    {
     "name": "stdout",
     "output_type": "stream",
     "text": [
      "For SVD results\n",
      "- Best r in Homogeneity is: r = 300 with value 0.5840574224178467\n",
      "- Best r in Completeness is: r = 300 with value 0.595502213276126\n",
      "- Best r in V-measure is: r = 300 with value 0.5897242957547468\n",
      "- Best r in Adjusted Rand-Index is: r = 300 with value 0.655028881549984\n",
      "- Best r in Silhouette Coefficient is: r = 1 with value 0.5474965183265669\n",
      "\n",
      "For NMF results\n",
      "- Best r in Homogeneity is: r = 2 with value 0.4950453839087971\n",
      "- Best r in Completeness is: r = 2 with value 0.5174355469228464\n",
      "- Best r in V-measure is: r = 2 with value 0.5059928956174533\n",
      "- Best r in Adjusted Rand-Index is: r = 2 with value 0.5395035409494571\n",
      "- Best r in Silhouette Coefficient is: r = 6 with value 0.7111108262227275\n"
     ]
    }
   ],
   "source": [
    "# SVD\n",
    "print('For SVD results')\n",
    "for name in score_names:\n",
    "    best_idx = np.argmax(scores['SVD'][name])\n",
    "    print('- Best r in {} is: r = {}'\\\n",
    "          ' with value {}'.format(name, n_components[best_idx], \n",
    "                                  np.max(scores['SVD'][name])))\n",
    "\n",
    "# NMF\n",
    "print('\\nFor NMF results')\n",
    "for name in score_names:\n",
    "    best_idx = np.argmax(scores['NMF'][name])\n",
    "    print('- Best r in {} is: r = {}'\\\n",
    "          ' with value {}'.format(name, n_components[best_idx], \n",
    "                                  np.max(scores['NMF'][name])))"
   ]
  },
  {
   "cell_type": "markdown",
   "id": "7b1d8474",
   "metadata": {
    "id": "7b1d8474"
   },
   "source": [
    "<div class=\"alert alert-block alert-success\">\n",
    "<b>QUESTION 5:</b> Let r be the dimension that we want to reduce the data to (i.e. n components). Try r = 1 − 10, 20, 50, 100, 300, and plot the 5 measure scores v.s. r for both SVD and NMF. Report a good choice of r for SVD and NMF respectively.\n",
    "    \n",
    "Note: In the choice of r, there is a trade-off between the information preservation, and better performance of k-means in lower dimensions.\n",
    "</div>"
   ]
  },
  {
   "cell_type": "markdown",
   "id": "a1b38b67",
   "metadata": {
    "id": "a1b38b67"
   },
   "source": [
    "<div class=\"alert alert-block alert-success\">\n",
    "<b>ANSWER 5:</b> The plots of 5 measure scores v.s. $r$ for both SVD and NMF are shown above. Based on the result, a good choice of $r$ for SVD is $r = 300$ and for NMF is $r = 2$\n",
    "</div>"
   ]
  },
  {
   "cell_type": "markdown",
   "id": "9c6f4e2a",
   "metadata": {
    "id": "9c6f4e2a"
   },
   "source": [
    "<div class=\"alert alert-block alert-success\">\n",
    "<b>QUESTION 6:</b> How do you explain the non-monotonic behavior of the measures as $r$ increases?\n",
    "</div>"
   ]
  },
  {
   "cell_type": "markdown",
   "id": "19185902",
   "metadata": {
    "id": "19185902"
   },
   "source": [
    "<div class=\"alert alert-block alert-success\">\n",
    "<b>ANSWER 6:</b> In the plot of NMF, we do observe a pretty strong non-monotonic behavior of the measures as $r$ increases. One potential reason for that, as mentioned in the project instruction, is the tendency of yielding similar Euclidean distance between data points through K-Means in higher-dimensional space. Therefore, there is a trade-off between the information preservation and better performance of utilizing K-Means with lower-dimensional data features. Moreover, the higher the dimension of the data points is, the more complex the spatial structure is. Hense, it is potentially difficult for K-Means to correctly cluster as it implicitly assumes that clusters are isotropically shaped.\n",
    "</div>\n"
   ]
  },
  {
   "cell_type": "markdown",
   "id": "e9504fed",
   "metadata": {
    "id": "e9504fed"
   },
   "source": [
    "<div class=\"alert alert-block alert-success\">\n",
    "<b>QUESTION 7:</b> Are these measures on average better than those computed in Question 3?\n",
    "</div>"
   ]
  },
  {
   "cell_type": "markdown",
   "id": "08f86078",
   "metadata": {
    "id": "08f86078"
   },
   "source": [
    "<div class=\"alert alert-block alert-success\">\n",
    "<b>ANSWER 7:</b> For the measures with SVD at here, yes, it yields a slightly better performance on average in the first 4 metrics and a lot in silhouette coefficient, compared with those in Q3. However, for the measures with NMF, the results are mostly worse, besides the silhouette coefficient.\n",
    "</div>"
   ]
  },
  {
   "cell_type": "markdown",
   "id": "ece9d254",
   "metadata": {
    "id": "ece9d254"
   },
   "source": [
    "### 2. Visualize the clusters\n",
    "\n",
    "We can visualize the clustering results by projecting the dimension-reduced data points onto a 2-D plane by once again using SVD, and coloring the points according to the:\n",
    "<ul>\n",
    "  <li>Ground truth class label</li>\n",
    "  <li>Clustering label</li>\n",
    "</ul>\n",
    "respectively."
   ]
  },
  {
   "cell_type": "markdown",
   "id": "tlfTgIu8SRWL",
   "metadata": {
    "id": "tlfTgIu8SRWL"
   },
   "source": [
    "#### SVD with optimal choice of $r$ for K-Means clustering ($r = 100$)"
   ]
  },
  {
   "cell_type": "code",
   "execution_count": 23,
   "id": "07d37359",
   "metadata": {
    "colab": {
     "base_uri": "https://localhost:8080/",
     "height": 345
    },
    "executionInfo": {
     "elapsed": 9163,
     "status": "ok",
     "timestamp": 1676232653205,
     "user": {
      "displayName": "PING-CHENG WEI",
      "userId": "17456108749581822272"
     },
     "user_tz": 480
    },
    "id": "07d37359",
    "outputId": "88178f5a-a469-40b2-b6f4-c052d0feb0b4"
   },
   "outputs": [
    {
     "data": {
      "image/png": "[encoded data removed]",
      "text/plain": [
       "<Figure size 864x360 with 2 Axes>"
      ]
     },
     "metadata": {
      "needs_background": "light"
     },
     "output_type": "display_data"
    }
   ],
   "source": [
    "# best choice of r based on the result shown above\n",
    "r = 300\n",
    "svd = TruncatedSVD(n_components=r, n_iter=5, random_state=0)\n",
    "X_train_svd = svd.fit_transform(X_train_tfidf)\n",
    "# setup K-means model for SVD\n",
    "k = 2\n",
    "svd_kmeans = KMeans(n_clusters=k, max_iter=1000, n_init=50, random_state=0)\n",
    "# train\n",
    "svd_kmeans.fit(X_train_svd)\n",
    "\n",
    "# project into data into 2-D plane for visualization\n",
    "X_svd_2d = TruncatedSVD(n_components=2, n_iter=5,\n",
    "                        random_state=0).fit_transform(X_train_svd)\n",
    "\n",
    "# plot\n",
    "fig, axs = plt.subplots(nrows=1, ncols=2, figsize=(12, 5))\n",
    "\n",
    "axs[0].scatter(X_svd_2d[:, 0], X_svd_2d[:, 1], c=subset_train.target)\n",
    "axs[0].set_title(\"Ground Truth Class Label\")\n",
    "\n",
    "axs[1].scatter(X_svd_2d[:, 0], X_svd_2d[:, 1], c=svd_kmeans.labels_)\n",
    "axs[1].set_title(\"Clustering Label\")\n",
    "\n",
    "plt.suptitle(\"Clustering results\").set_y(0.95)\n",
    "plt.show()"
   ]
  },
  {
   "cell_type": "markdown",
   "id": "ZWx0Gh7AT_Ei",
   "metadata": {
    "id": "ZWx0Gh7AT_Ei"
   },
   "source": [
    "#### NMF with optimal choice of $r$ for K-Means clustering ($r = 2$)"
   ]
  },
  {
   "cell_type": "code",
   "execution_count": 24,
   "id": "ZzeZ9h1KT7sh",
   "metadata": {
    "colab": {
     "base_uri": "https://localhost:8080/",
     "height": 345
    },
    "executionInfo": {
     "elapsed": 2477,
     "status": "ok",
     "timestamp": 1676232655893,
     "user": {
      "displayName": "PING-CHENG WEI",
      "userId": "17456108749581822272"
     },
     "user_tz": 480
    },
    "id": "ZzeZ9h1KT7sh",
    "outputId": "de6402cd-6ffe-4d78-9625-2e7377bb6880"
   },
   "outputs": [
    {
     "data": {
      "image/png": "[encoded data removed]",
      "text/plain": [
       "<Figure size 864x360 with 2 Axes>"
      ]
     },
     "metadata": {
      "needs_background": "light"
     },
     "output_type": "display_data"
    }
   ],
   "source": [
    "# best choice of r based on the result shown above\n",
    "r = 2\n",
    "nmf = NMF(n_components=r, init='random', random_state=0)\n",
    "W_nmf = nmf.fit_transform(X_train_tfidf)\n",
    "# setup K-means model for SVD\n",
    "k = 2\n",
    "nmf_kmeans = KMeans(n_clusters=k, max_iter=1000, n_init=50, random_state=0)\n",
    "# train\n",
    "nmf_kmeans.fit(W_nmf)\n",
    "\n",
    "# plot\n",
    "fig, axs = plt.subplots(nrows=1, ncols=2, figsize=(12, 5))\n",
    "\n",
    "axs[0].scatter(W_nmf[:, 0], W_nmf[:, 1], c=subset_train.target)\n",
    "axs[0].set_title(\"Ground Truth Class Label\")\n",
    "\n",
    "axs[1].scatter(W_nmf[:, 0], W_nmf[:, 1], c=nmf_kmeans.labels_)\n",
    "axs[1].set_title(\"Clustering Label\")\n",
    "\n",
    "plt.suptitle(\"Clustering results\").set_y(0.95)\n",
    "plt.show()"
   ]
  },
  {
   "cell_type": "markdown",
   "id": "242ad2fd",
   "metadata": {
    "id": "242ad2fd"
   },
   "source": [
    "<div class=\"alert alert-block alert-success\">\n",
    "<b>QUESTION 8:</b> Visualize the clustering results for:\n",
    "<ul>\n",
    "  <li>SVD with your optimal choice of r for K-Means clustering</li>\n",
    "  <li>NMF with your choice of r for K-Means clustering</li>\n",
    "</ul>\n",
    "    \n",
    "To recap, you can accomplish this by first creating the dense representations and then once again projecting these representations into a 2-D plane for visualization. \n",
    "</div>"
   ]
  },
  {
   "cell_type": "markdown",
   "id": "7bb18b2d",
   "metadata": {
    "id": "7bb18b2d"
   },
   "source": [
    "<div class=\"alert alert-block alert-success\">\n",
    "<b>ANSWER 8:</b> Both SVD and NMF clustering visualizations are shown above. \n",
    "</div>"
   ]
  },
  {
   "cell_type": "markdown",
   "id": "b0a14a2a",
   "metadata": {
    "id": "b0a14a2a"
   },
   "source": [
    "<div class=\"alert alert-block alert-success\">\n",
    "<b>QUESTION 9:</b> What do you observe in the visualization? How are the data points of the two classes distributed? Is distribution of the data ideal for K-Means clustering?\n",
    "</div>"
   ]
  },
  {
   "cell_type": "markdown",
   "id": "a8cacf93",
   "metadata": {
    "id": "a8cacf93"
   },
   "source": [
    "<div class=\"alert alert-block alert-success\">\n",
    "<b>ANSWER 9:</b> In general, we can notice that there is a clear boundary in the clustering label plots of both SVD and NMF, which corresponds to the characteristics of assuming isotropically shaped clusters from K-Means. However, by comparing to the ground truth plots of both which include overlap between two classes, we know that this data distribution is not ideal for K-Means clustering. Especially in NMF, the overlap is pretty large, and thus, there are lots of misclassification, leading to lower performance.\n",
    "</div>"
   ]
  },
  {
   "cell_type": "markdown",
   "id": "6a4f59c5",
   "metadata": {
    "id": "6a4f59c5"
   },
   "source": [
    "### 3. Clustering of the Entire 20 Classes\n",
    "\n",
    "We have been dealing with a relatively simple clustering task with only two well-separated classes. Now let’s face a more challenging one: clustering for the entire 20 categories in the 20newsgroups dataset."
   ]
  },
  {
   "cell_type": "code",
   "execution_count": 7,
   "id": "4JbhCiGYEw8N",
   "metadata": {
    "executionInfo": {
     "elapsed": 4707,
     "status": "ok",
     "timestamp": 1676238399260,
     "user": {
      "displayName": "PING-CHENG WEI",
      "userId": "17456108749581822272"
     },
     "user_tz": 480
    },
    "id": "4JbhCiGYEw8N"
   },
   "outputs": [],
   "source": [
    "from sklearn.datasets import fetch_20newsgroups\n",
    "from sklearn.feature_extraction.text import TfidfVectorizer\n",
    "from sklearn.decomposition import TruncatedSVD, NMF\n",
    "from sklearn.cluster import KMeans\n",
    "from sklearn.metrics import homogeneity_score, completeness_score\n",
    "from sklearn.metrics import v_measure_score, rand_score\n",
    "from sklearn.metrics import adjusted_rand_score, silhouette_score\n",
    "from sklearn.metrics.cluster import contingency_matrix\n",
    "from scipy.optimize import linear_sum_assignment\n",
    "from plotmat import plot_mat\n",
    "\n",
    "\n",
    "# function for calculating all cluster measures\n",
    "def cluster_evaluation(X, y_true, y_pred):\n",
    "    score = {}\n",
    "    score[\"Homogeneity\"] = homogeneity_score(y_true, y_pred)\n",
    "    score[\"Completeness\"] = completeness_score(y_true, y_pred)\n",
    "    score[\"V-measure\"] = v_measure_score(y_true, y_pred)\n",
    "    score[\"Adjusted Rand-Index\"] = adjusted_rand_score(y_true, y_pred)\n",
    "    score[\"Silhouette Coefficient\"] = silhouette_score(X, y_pred)\n",
    "    \n",
    "    return score\n",
    "\n",
    "\n",
    "# load whole dataset\n",
    "removed_items = ('headers', 'footers')\n",
    "newsgroups_train = fetch_20newsgroups(subset='train', \n",
    "                                      remove=removed_items,\n",
    "                                      shuffle=True,\n",
    "                                      random_state=0)\n",
    "unique_labels, category_sizes = np.unique(newsgroups_train.target, \n",
    "                                          return_counts=True)\n",
    "\n",
    "# parameters\n",
    "min_df = 3  # for min_df in TF-IDF\n",
    "k = 20      # for n_clusters\n",
    "\n",
    "# convert to TF-IDF matrix\n",
    "tfidf_vec = TfidfVectorizer(min_df=min_df, stop_words='english')\n",
    "X_train_tfidf = tfidf_vec.fit_transform(newsgroups_train.data)"
   ]
  },
  {
   "cell_type": "markdown",
   "id": "9NO-R931eaCC",
   "metadata": {
    "id": "9NO-R931eaCC"
   },
   "source": [
    "#### Visualizing the contingency matrix and report the five clustering metrics of SVD"
   ]
  },
  {
   "cell_type": "code",
   "execution_count": 33,
   "id": "cba7e268",
   "metadata": {
    "colab": {
     "base_uri": "https://localhost:8080/",
     "height": 562
    },
    "executionInfo": {
     "elapsed": 72288,
     "status": "ok",
     "timestamp": 1676233100365,
     "user": {
      "displayName": "PING-CHENG WEI",
      "userId": "17456108749581822272"
     },
     "user_tz": 480
    },
    "id": "cba7e268",
    "outputId": "731871f9-75a4-407a-c7a4-d2e1ccddbc60"
   },
   "outputs": [
    {
     "data": {
      "image/png": "[encoded data removed]",
      "text/plain": [
       "<Figure size 576x432 with 2 Axes>"
      ]
     },
     "metadata": {
      "needs_background": "light"
     },
     "output_type": "display_data"
    },
    {
     "name": "stdout",
     "output_type": "stream",
     "text": [
      "\n",
      "Report of 5 clustering metrics of SVD:\n"
     ]
    },
    {
     "data": {
      "text/plain": [
       "{'Homogeneity': 0.33111354494447337,\n",
       " 'Completeness': 0.4232367765815317,\n",
       " 'V-measure': 0.3715499959257377,\n",
       " 'Adjusted Rand-Index': 0.10629510031842208,\n",
       " 'Silhouette Coefficient': 0.008902149910074009}"
      ]
     },
     "execution_count": 33,
     "metadata": {},
     "output_type": "execute_result"
    }
   ],
   "source": [
    "# SVD\n",
    "svd = TruncatedSVD(n_components=300, n_iter=5, random_state=0)\n",
    "X_train_svd = svd.fit_transform(X_train_tfidf)\n",
    "# K-mean train and evaluate\n",
    "svd_kmeans = KMeans(n_clusters=k, max_iter=1000, n_init=50, random_state=0)\n",
    "svd_kmeans.fit(X_train_svd)\n",
    "\n",
    "# visualize contigency matrix\n",
    "cmat_svd = contingency_matrix(newsgroups_train.target, svd_kmeans.labels_)\n",
    "unique_clusters_svd, cluster_sizes_svd = np.unique(svd_kmeans.labels_,\n",
    "                                                   return_counts=True)\n",
    "rows, cols = linear_sum_assignment(cmat_svd, maximize=True)\n",
    "# xlabels = [f'Cluster {i+1}' for i in range(len(unique_clusters_svd))]\n",
    "xlabels = [f'{i+1}' for i in range(len(unique_clusters_svd))]\n",
    "ylabels = [f'Class {i+1}' for i in range(len(unique_labels))]\n",
    "cmat_title = 'Contigency Matrix Report of SVD'\n",
    "plot_mat(mat=cmat_svd[rows[:, np.newaxis], cols], size=(8, 6),\n",
    "         xticklabels=xlabels, yticklabels=ylabels, if_show_values=False,\n",
    "         title=cmat_title, pic_fname=cmat_title)\n",
    "\n",
    "# report evaluation\n",
    "svd_score = cluster_evaluation(X_train_svd, newsgroups_train.target, \n",
    "                               svd_kmeans.labels_)\n",
    "print('\\nReport of 5 clustering metrics of SVD:')\n",
    "svd_score"
   ]
  },
  {
   "cell_type": "markdown",
   "id": "wHY7ZQczej4X",
   "metadata": {
    "id": "wHY7ZQczej4X"
   },
   "source": [
    "#### Visualizing the contingency matrix and report the five clustering metrics of NMF"
   ]
  },
  {
   "cell_type": "code",
   "execution_count": 34,
   "id": "OrN2xitsejlo",
   "metadata": {
    "colab": {
     "base_uri": "https://localhost:8080/",
     "height": 562
    },
    "executionInfo": {
     "elapsed": 21154,
     "status": "ok",
     "timestamp": 1676233221661,
     "user": {
      "displayName": "PING-CHENG WEI",
      "userId": "17456108749581822272"
     },
     "user_tz": 480
    },
    "id": "OrN2xitsejlo",
    "outputId": "411c63a9-21ff-4033-9d42-ef3c60a29595"
   },
   "outputs": [
    {
     "data": {
      "image/png": "[encoded data removed]",
      "text/plain": [
       "<Figure size 576x432 with 2 Axes>"
      ]
     },
     "metadata": {
      "needs_background": "light"
     },
     "output_type": "display_data"
    },
    {
     "name": "stdout",
     "output_type": "stream",
     "text": [
      "\n",
      "Report of 5 clustering metrics of NMF:\n"
     ]
    },
    {
     "data": {
      "text/plain": [
       "{'Homogeneity': 0.1950827972264987,\n",
       " 'Completeness': 0.2078578721585144,\n",
       " 'V-measure': 0.20126782033751764,\n",
       " 'Adjusted Rand-Index': 0.05778775797174292,\n",
       " 'Silhouette Coefficient': 0.37328775120685537}"
      ]
     },
     "execution_count": 34,
     "metadata": {},
     "output_type": "execute_result"
    }
   ],
   "source": [
    "# NMF\n",
    "nmf = NMF(n_components=2, init='random', random_state=0)\n",
    "W_nmf = nmf.fit_transform(X_train_tfidf)\n",
    "nmf_kmeans = KMeans(n_clusters=k, max_iter=1000, n_init=50, random_state=0)\n",
    "nmf_kmeans.fit(W_nmf)\n",
    "\n",
    "# visualize contigency matrix\n",
    "cmat_nmf = contingency_matrix(newsgroups_train.target, nmf_kmeans.labels_)\n",
    "unique_clusters_nmf, cluster_sizes_nmf = np.unique(nmf_kmeans.labels_,\n",
    "                                                   return_counts=True)\n",
    "rows, cols = linear_sum_assignment(cmat_nmf, maximize=True)\n",
    "# xlabels = [f'Cluster {i+1}' for i in range(len(unique_clusters_svd))]\n",
    "xlabels = [f'{i+1}' for i in range(len(unique_clusters_nmf))]\n",
    "ylabels = [f'Class {i+1}' for i in range(len(unique_labels))]\n",
    "cmat_title = 'Contigency Matrix Report of NMF'\n",
    "plot_mat(mat=cmat_nmf[rows[:, np.newaxis], cols], size=(8, 6),\n",
    "         xticklabels=xlabels, yticklabels=ylabels, if_show_values=False,\n",
    "         title=cmat_title, pic_fname=cmat_title)\n",
    "\n",
    "# report evaluation\n",
    "nmf_score = cluster_evaluation(W_nmf, newsgroups_train.target, \n",
    "                               nmf_kmeans.labels_)\n",
    "print('\\nReport of 5 clustering metrics of NMF:')\n",
    "nmf_score"
   ]
  },
  {
   "cell_type": "markdown",
   "id": "bf4c0284",
   "metadata": {
    "id": "bf4c0284"
   },
   "source": [
    "<div class=\"alert alert-block alert-success\">\n",
    "<b>QUESTION 10:</b> Load documents with the same configuration as in Question 1, but for ALL 20 categories. Construct the TF-IDF matrix, reduce its dimensionality using BOTH NMF and SVD (specify settings you choose and why), and perform K-Means clustering with <b>k=20</b>. <b>Visualize the contingency matrix and report the five clustering metrics (DO BOTH NMF AND SVD).</b>\n",
    "</div>"
   ]
  },
  {
   "cell_type": "markdown",
   "id": "9dd06abf",
   "metadata": {
    "id": "9dd06abf"
   },
   "source": [
    "<div class=\"alert alert-block alert-success\">\n",
    "<b>ANSWER 10:</b> The visualized contingency matrix as well as the report of 5 clustering metrics for both SVD and NMF are shown above. Here we set $r = 300$ for SVD and $r = 2$ for NMF as they yield the best result based on the experiment in Q5. I do have experiment with large $r$ such as $r = 100$ for NMF. However, it takes around 8 minutes per run, which is way too inefficient. Therefore, I change it back to smaller value.\n",
    "</div>"
   ]
  },
  {
   "cell_type": "markdown",
   "id": "0e882446",
   "metadata": {
    "id": "0e882446"
   },
   "source": [
    "### 4. UMAP\n",
    "\n",
    "The clustering performance is poor for the 20 categories data. To see if we can improve this performance, we consider UMAP for dimensionality reduction. UMAP uses cosine distances to compare representations. Consider two documents that are about the same\n",
    "topic and are similar, but one is very long while the other is short. The magnitude of the TF-IDF vector will be high for the long document and low for the short one, even though the orientation of their TF-IDF vectors might be very close. In this case, the cosine distance adopted by UMAP will correctly identify the similarity, whereas Euclidean distance might fail."
   ]
  },
  {
   "cell_type": "code",
   "execution_count": 4,
   "id": "YxaSUNRarWbn",
   "metadata": {
    "executionInfo": {
     "elapsed": 195,
     "status": "ok",
     "timestamp": 1676238251089,
     "user": {
      "displayName": "PING-CHENG WEI",
      "userId": "17456108749581822272"
     },
     "user_tz": 480
    },
    "id": "YxaSUNRarWbn"
   },
   "outputs": [],
   "source": [
    "# !pip install umap-learn"
   ]
  },
  {
   "cell_type": "code",
   "execution_count": 8,
   "id": "0ibKw0kvl6fx",
   "metadata": {
    "executionInfo": {
     "elapsed": 245,
     "status": "ok",
     "timestamp": 1676238430512,
     "user": {
      "displayName": "PING-CHENG WEI",
      "userId": "17456108749581822272"
     },
     "user_tz": 480
    },
    "id": "0ibKw0kvl6fx"
   },
   "outputs": [],
   "source": [
    "from umap import UMAP\n",
    "\n",
    "def apply_umap_report(r, metric):\n",
    "    # set up UMAP\n",
    "    umap = UMAP(n_components=r, metric=metric, random_state=0)\n",
    "    X_train_umap = umap.fit_transform(X_train_tfidf)\n",
    "  \n",
    "    # set up K-Means\n",
    "    umap_kmeans = KMeans(n_clusters=20, max_iter=1000, n_init=50, random_state=0)\n",
    "    umap_kmeans.fit(X_train_umap)\n",
    "\n",
    "    # visualize contigency matrix\n",
    "    cmat_umap = contingency_matrix(newsgroups_train.target, umap_kmeans.labels_)\n",
    "    unique_clusters_umap, cluster_sizes_umap = np.unique(umap_kmeans.labels_,\n",
    "                                                        return_counts=True)\n",
    "    rows, cols = linear_sum_assignment(cmat_umap, maximize=True)\n",
    "    # xlabels = [f'Cluster {i+1}' for i in range(len(unique_clusters_svd))]\n",
    "    xlabels = [f'{i+1}' for i in range(len(unique_clusters_umap))]\n",
    "    ylabels = [f'Class {i+1}' for i in range(len(unique_labels))]\n",
    "    cmat_title = 'Contigency Matrix Report of UMAP with ({}, {}) pair'.format(r, metric)\n",
    "    plot_mat(mat=cmat_umap[rows[:, np.newaxis], cols], size=(8, 6),\n",
    "             xticklabels=xlabels, yticklabels=ylabels, if_show_values=False,\n",
    "             title=cmat_title, pic_fname=cmat_title)\n",
    "\n",
    "    # report evaluation\n",
    "    umap_score = cluster_evaluation(X_train_umap, newsgroups_train.target, \n",
    "                                    umap_kmeans.labels_)\n",
    "    \n",
    "    return umap_score"
   ]
  },
  {
   "cell_type": "markdown",
   "id": "VsrLb-9XpYei",
   "metadata": {
    "id": "VsrLb-9XpYei"
   },
   "source": [
    "#### UMAP with $r = 5$ & metric = \"cosine\""
   ]
  },
  {
   "cell_type": "code",
   "execution_count": 9,
   "id": "362816cf",
   "metadata": {
    "colab": {
     "base_uri": "https://localhost:8080/",
     "height": 580
    },
    "executionInfo": {
     "elapsed": 87948,
     "status": "ok",
     "timestamp": 1676238523076,
     "user": {
      "displayName": "PING-CHENG WEI",
      "userId": "17456108749581822272"
     },
     "user_tz": 480
    },
    "id": "362816cf",
    "outputId": "3d255f7e-3924-4231-f9b6-e56346c11310"
   },
   "outputs": [
    {
     "data": {
      "image/png": "[encoded data removed]",
      "text/plain": [
       "<Figure size 576x432 with 2 Axes>"
      ]
     },
     "metadata": {
      "needs_background": "light"
     },
     "output_type": "display_data"
    },
    {
     "name": "stdout",
     "output_type": "stream",
     "text": [
      "\n",
      "Report of 5 clustering metrics of UMAP:\n",
      "- setting: r = 5, metric = \"cosine\"\n"
     ]
    },
    {
     "data": {
      "text/plain": [
       "{'Homogeneity': 0.560647320029495,\n",
       " 'Completeness': 0.583611426951223,\n",
       " 'V-measure': 0.5718989403789216,\n",
       " 'Adjusted Rand-Index': 0.4230273745776628,\n",
       " 'Silhouette Coefficient': 0.37965083}"
      ]
     },
     "execution_count": 9,
     "metadata": {},
     "output_type": "execute_result"
    }
   ],
   "source": [
    "umap_score = apply_umap_report(r=5, metric='cosine')\n",
    "print('\\nReport of 5 clustering metrics of UMAP:')\n",
    "print('- setting: r = 5, metric = \\\"cosine\\\"')\n",
    "umap_score"
   ]
  },
  {
   "cell_type": "markdown",
   "id": "sNjlDjxWsfqP",
   "metadata": {
    "id": "sNjlDjxWsfqP"
   },
   "source": [
    "#### UMAP with $r = 20$ & metric = \"cosine\""
   ]
  },
  {
   "cell_type": "code",
   "execution_count": 10,
   "id": "g-5WbAkGqJD0",
   "metadata": {
    "colab": {
     "base_uri": "https://localhost:8080/",
     "height": 580
    },
    "executionInfo": {
     "elapsed": 75470,
     "status": "ok",
     "timestamp": 1676238598542,
     "user": {
      "displayName": "PING-CHENG WEI",
      "userId": "17456108749581822272"
     },
     "user_tz": 480
    },
    "id": "g-5WbAkGqJD0",
    "outputId": "a5769115-e403-42e7-86c0-b949388af090"
   },
   "outputs": [
    {
     "data": {
      "image/png": "[encoded data removed]",
      "text/plain": [
       "<Figure size 576x432 with 2 Axes>"
      ]
     },
     "metadata": {
      "needs_background": "light"
     },
     "output_type": "display_data"
    },
    {
     "name": "stdout",
     "output_type": "stream",
     "text": [
      "\n",
      "Report of 5 clustering metrics of UMAP:\n",
      "- setting: r = 20, metric = \"cosine\"\n"
     ]
    },
    {
     "data": {
      "text/plain": [
       "{'Homogeneity': 0.5689519254949048,\n",
       " 'Completeness': 0.5943209079687889,\n",
       " 'V-measure': 0.5813597897647045,\n",
       " 'Adjusted Rand-Index': 0.436592713134769,\n",
       " 'Silhouette Coefficient': 0.37802404}"
      ]
     },
     "execution_count": 10,
     "metadata": {},
     "output_type": "execute_result"
    }
   ],
   "source": [
    "umap_score = apply_umap_report(r=20, metric='cosine')\n",
    "print('\\nReport of 5 clustering metrics of UMAP:')\n",
    "print('- setting: r = 20, metric = \\\"cosine\\\"')\n",
    "umap_score"
   ]
  },
  {
   "cell_type": "markdown",
   "id": "R4m6j75mtFeF",
   "metadata": {
    "id": "R4m6j75mtFeF"
   },
   "source": [
    "#### UMAP with $r = 200$ & metric = \"cosine\""
   ]
  },
  {
   "cell_type": "code",
   "execution_count": 11,
   "id": "XDrbvl04tadK",
   "metadata": {
    "colab": {
     "base_uri": "https://localhost:8080/",
     "height": 580
    },
    "executionInfo": {
     "elapsed": 200064,
     "status": "ok",
     "timestamp": 1676238798602,
     "user": {
      "displayName": "PING-CHENG WEI",
      "userId": "17456108749581822272"
     },
     "user_tz": 480
    },
    "id": "XDrbvl04tadK",
    "outputId": "16a29048-75df-4f9a-9ed3-de5c928dabd6"
   },
   "outputs": [
    {
     "data": {
      "image/png": "[encoded data removed]",
      "text/plain": [
       "<Figure size 576x432 with 2 Axes>"
      ]
     },
     "metadata": {
      "needs_background": "light"
     },
     "output_type": "display_data"
    },
    {
     "name": "stdout",
     "output_type": "stream",
     "text": [
      "\n",
      "Report of 5 clustering metrics of UMAP:\n",
      "- setting: r = 200, metric = \"cosine\"\n"
     ]
    },
    {
     "data": {
      "text/plain": [
       "{'Homogeneity': 0.569948128458261,\n",
       " 'Completeness': 0.6018289524090229,\n",
       " 'V-measure': 0.585454845769198,\n",
       " 'Adjusted Rand-Index': 0.4481831915801822,\n",
       " 'Silhouette Coefficient': 0.38318607}"
      ]
     },
     "execution_count": 11,
     "metadata": {},
     "output_type": "execute_result"
    }
   ],
   "source": [
    "umap_score = apply_umap_report(r=200, metric='cosine')\n",
    "print('\\nReport of 5 clustering metrics of UMAP:')\n",
    "print('- setting: r = 200, metric = \\\"cosine\\\"')\n",
    "umap_score"
   ]
  },
  {
   "cell_type": "markdown",
   "id": "Qa1KA0hhtFal",
   "metadata": {
    "id": "Qa1KA0hhtFal"
   },
   "source": [
    "#### UMAP with $r = 5$ & metric = \"euclidean\""
   ]
  },
  {
   "cell_type": "code",
   "execution_count": 12,
   "id": "OwsohRHltolp",
   "metadata": {
    "colab": {
     "base_uri": "https://localhost:8080/",
     "height": 580
    },
    "executionInfo": {
     "elapsed": 71367,
     "status": "ok",
     "timestamp": 1676238869965,
     "user": {
      "displayName": "PING-CHENG WEI",
      "userId": "17456108749581822272"
     },
     "user_tz": 480
    },
    "id": "OwsohRHltolp",
    "outputId": "6c19c851-60b0-446e-aa6a-0d7395c51676"
   },
   "outputs": [
    {
     "data": {
      "image/png": "[encoded data removed]",
      "text/plain": [
       "<Figure size 576x432 with 2 Axes>"
      ]
     },
     "metadata": {
      "needs_background": "light"
     },
     "output_type": "display_data"
    },
    {
     "name": "stdout",
     "output_type": "stream",
     "text": [
      "\n",
      "Report of 5 clustering metrics of UMAP:\n",
      "- setting: r = 5, metric = \"euclidean\"\n"
     ]
    },
    {
     "data": {
      "text/plain": [
       "{'Homogeneity': 0.009308692426102525,\n",
       " 'Completeness': 0.009490205354500056,\n",
       " 'V-measure': 0.009398572590436268,\n",
       " 'Adjusted Rand-Index': 0.0009043184700830223,\n",
       " 'Silhouette Coefficient': 0.41387036}"
      ]
     },
     "execution_count": 12,
     "metadata": {},
     "output_type": "execute_result"
    }
   ],
   "source": [
    "umap_score = apply_umap_report(r=5, metric='euclidean')\n",
    "print('\\nReport of 5 clustering metrics of UMAP:')\n",
    "print('- setting: r = 5, metric = \\\"euclidean\\\"')\n",
    "umap_score"
   ]
  },
  {
   "cell_type": "markdown",
   "id": "CXG071djtFX6",
   "metadata": {
    "id": "CXG071djtFX6"
   },
   "source": [
    "#### UMAP with $r = 20$ & metric = \"euclidean\""
   ]
  },
  {
   "cell_type": "code",
   "execution_count": 13,
   "id": "6QHpUvwutvI0",
   "metadata": {
    "colab": {
     "base_uri": "https://localhost:8080/",
     "height": 580
    },
    "executionInfo": {
     "elapsed": 90282,
     "status": "ok",
     "timestamp": 1676238960244,
     "user": {
      "displayName": "PING-CHENG WEI",
      "userId": "17456108749581822272"
     },
     "user_tz": 480
    },
    "id": "6QHpUvwutvI0",
    "outputId": "4aa0f2bd-b229-41a2-b968-edb057e06749"
   },
   "outputs": [
    {
     "data": {
      "image/png": "[encoded data removed]",
      "text/plain": [
       "<Figure size 576x432 with 2 Axes>"
      ]
     },
     "metadata": {
      "needs_background": "light"
     },
     "output_type": "display_data"
    },
    {
     "name": "stdout",
     "output_type": "stream",
     "text": [
      "\n",
      "Report of 5 clustering metrics of UMAP:\n",
      "- setting: r = 20, metric = \"euclidean\"\n"
     ]
    },
    {
     "data": {
      "text/plain": [
       "{'Homogeneity': 0.010361894261561156,\n",
       " 'Completeness': 0.010555385729010798,\n",
       " 'V-measure': 0.010457745066595615,\n",
       " 'Adjusted Rand-Index': 0.001455752684803986,\n",
       " 'Silhouette Coefficient': 0.41455543}"
      ]
     },
     "execution_count": 13,
     "metadata": {},
     "output_type": "execute_result"
    }
   ],
   "source": [
    "umap_score = apply_umap_report(r=20, metric='euclidean')\n",
    "print('\\nReport of 5 clustering metrics of UMAP:')\n",
    "print('- setting: r = 20, metric = \\\"euclidean\\\"')\n",
    "umap_score"
   ]
  },
  {
   "cell_type": "markdown",
   "id": "fl3BxW-gtFVa",
   "metadata": {
    "id": "fl3BxW-gtFVa"
   },
   "source": [
    "#### UMAP with $r = 200$ & metric = \"euclidean\""
   ]
  },
  {
   "cell_type": "code",
   "execution_count": 14,
   "id": "i9upKCg3ty1-",
   "metadata": {
    "colab": {
     "base_uri": "https://localhost:8080/",
     "height": 580
    },
    "executionInfo": {
     "elapsed": 375694,
     "status": "ok",
     "timestamp": 1676239335934,
     "user": {
      "displayName": "PING-CHENG WEI",
      "userId": "17456108749581822272"
     },
     "user_tz": 480
    },
    "id": "i9upKCg3ty1-",
    "outputId": "4b3b2b47-a49e-4eff-df4b-48983195e6e0"
   },
   "outputs": [
    {
     "data": {
      "image/png": "[encoded data removed]",
      "text/plain": [
       "<Figure size 576x432 with 2 Axes>"
      ]
     },
     "metadata": {
      "needs_background": "light"
     },
     "output_type": "display_data"
    },
    {
     "name": "stdout",
     "output_type": "stream",
     "text": [
      "\n",
      "Report of 5 clustering metrics of UMAP:\n",
      "- setting: r = 200, metric = \"euclidean\"\n"
     ]
    },
    {
     "data": {
      "text/plain": [
       "{'Homogeneity': 0.00949511281383021,\n",
       " 'Completeness': 0.009727737417701254,\n",
       " 'V-measure': 0.009610017566789529,\n",
       " 'Adjusted Rand-Index': 0.0011988817555190086,\n",
       " 'Silhouette Coefficient': 0.41222063}"
      ]
     },
     "execution_count": 14,
     "metadata": {},
     "output_type": "execute_result"
    }
   ],
   "source": [
    "umap_score = apply_umap_report(r=200, metric='euclidean')\n",
    "print('\\nReport of 5 clustering metrics of UMAP:')\n",
    "print('- setting: r = 200, metric = \\\"euclidean\\\"')\n",
    "umap_score"
   ]
  },
  {
   "cell_type": "markdown",
   "id": "2b0bc428",
   "metadata": {
    "id": "2b0bc428"
   },
   "source": [
    "<div class=\"alert alert-block alert-success\">\n",
    "<b>QUESTION 11:</b> Reduce the dimension of your dataset with UMAP. Consider the following settings: n components = [5, 20, 200], metric = ”cosine” vs. ”euclidean”. If ”cosine” metric fails, please look at the FAQ at the end of this spec. <b>Report the permuted contingency matrix and the five clustering evaluation metrics for the different combinations (6 combinations).</b>\n",
    "</div>"
   ]
  },
  {
   "cell_type": "markdown",
   "id": "1dc727a9",
   "metadata": {
    "id": "1dc727a9"
   },
   "source": [
    "<div class=\"alert alert-block alert-success\">\n",
    "<b>ANSWER 11:</b> The reports of the permuted contingency matrix and the five clustering evaluation metrics of all 6 combinations are shown above.\n",
    "</div>"
   ]
  },
  {
   "cell_type": "markdown",
   "id": "a7a02dc2",
   "metadata": {
    "id": "a7a02dc2"
   },
   "source": [
    "<div class=\"alert alert-block alert-success\">\n",
    "<b>QUESTION 12:</b> Analyze the contingency matrices. Which setting works best and why? What about for each metric choice?\n",
    "</div>"
   ]
  },
  {
   "cell_type": "markdown",
   "id": "cfa7be29",
   "metadata": {
    "id": "cfa7be29"
   },
   "source": [
    "<div class=\"alert alert-block alert-success\">\n",
    "<b>ANSWER 12:</b> After taking a glance at the contingency matrix demonstrated above, it is obvious that the utilization of cosine distance outperforms the euclidean distance enormously. Overall, the (200, \"consine\") pair setting works the best by showning the clearest diagonal line and the least amount of misclassified data. In terms of each metric, the (200, \"consine\") pair also yields the highest scores in every metrics.\n",
    "</div>"
   ]
  },
  {
   "cell_type": "markdown",
   "id": "07b0b128",
   "metadata": {
    "id": "07b0b128"
   },
   "source": [
    "<div class=\"alert alert-block alert-success\">\n",
    "<b>QUESTION 13:</b> So far, we have attempted K-Means clustering with 4 different representation learning techniques (sparse TF-IDF representation, PCA-reduced, NMF-reduced, UMAP-reduced). Compare and contrast the clustering results across the 4 choices, and suggest an approach that is best for the K-Means clustering task on the 20-class text data. Choose any choice of clustering metrics for your comparison.\n",
    "</div>"
   ]
  },
  {
   "cell_type": "markdown",
   "id": "6cf048ba",
   "metadata": {
    "id": "6cf048ba"
   },
   "source": [
    "<div class=\"alert alert-block alert-success\">\n",
    "<b>ANSWER 13:</b> Based on the experiment results demonstrated above, the best approach for the K-Means clustering task on the 20-class text data is utilizing UMAP with cosine distance to project the TF-IDF representation of text data to lower-dimension. With this approach, I get the highest value in every evaluation metrics. On top of that, the UMAP setting with $r = 200$ and cosine distance is the most successful setting as explained the the Q12.\n",
    "</div>"
   ]
  },
  {
   "cell_type": "markdown",
   "id": "159f1871",
   "metadata": {
    "id": "159f1871"
   },
   "source": [
    "## Clustering Algorithms that do not explicitly rely on the Gaussian distribution per cluster"
   ]
  },
  {
   "cell_type": "markdown",
   "id": "c0d7c79a",
   "metadata": {
    "id": "c0d7c79a"
   },
   "source": [
    "### 1. Agglomerative Clustering\n",
    "\n",
    "The AgglomerativeClustering object performs a hierarchical clustering using a bottom up approach: each observation starts in its own cluster, and clusters are successively merged together. There are 4 linkage criteria that determines the merge strategy."
   ]
  },
  {
   "cell_type": "markdown",
   "id": "OiruX9tqxgHq",
   "metadata": {
    "id": "OiruX9tqxgHq"
   },
   "source": [
    "#### Agglomerative Clustering with \"ward linkage\""
   ]
  },
  {
   "cell_type": "code",
   "execution_count": 43,
   "id": "145e590e",
   "metadata": {
    "colab": {
     "base_uri": "https://localhost:8080/"
    },
    "executionInfo": {
     "elapsed": 195760,
     "status": "ok",
     "timestamp": 1676234347246,
     "user": {
      "displayName": "PING-CHENG WEI",
      "userId": "17456108749581822272"
     },
     "user_tz": 480
    },
    "id": "145e590e",
    "outputId": "2afceecf-0ac7-4276-c7a6-3ddcb3760480"
   },
   "outputs": [
    {
     "name": "stdout",
     "output_type": "stream",
     "text": [
      "Report of 5 clustering metrics of Agglomerative Clustering with \"ward linkage\":\n"
     ]
    },
    {
     "data": {
      "text/plain": [
       "{'Homogeneity': 0.5603486802748011,\n",
       " 'Completeness': 0.5804476065436044,\n",
       " 'V-measure': 0.5702210886441117,\n",
       " 'Adjusted Rand-Index': 0.4238295827887172,\n",
       " 'Silhouette Coefficient': 0.35759848}"
      ]
     },
     "execution_count": 43,
     "metadata": {},
     "output_type": "execute_result"
    }
   ],
   "source": [
    "from sklearn.cluster import AgglomerativeClustering\n",
    "from umap import UMAP\n",
    "\n",
    "# UMAP\n",
    "umap = UMAP(n_components=200, metric='cosine', random_state=0)\n",
    "X_train_umap = umap.fit_transform(X_train_tfidf)\n",
    "\n",
    "# Agglomerative Clustering\n",
    "umap_ac = AgglomerativeClustering(n_clusters=20, linkage='ward')\n",
    "umap_ac.fit(X_train_umap)\n",
    "\n",
    "# report evaluation\n",
    "umap_ac_score = cluster_evaluation(X_train_umap, newsgroups_train.target, \n",
    "                                   umap_ac.labels_)\n",
    "print('Report of 5 clustering metrics of Agglomerative Clustering with \"ward linkage\":')\n",
    "umap_ac_score"
   ]
  },
  {
   "cell_type": "markdown",
   "id": "98n6x3w5_hP3",
   "metadata": {
    "id": "98n6x3w5_hP3"
   },
   "source": [
    "#### Agglomerative Clustering with \"single linkage\""
   ]
  },
  {
   "cell_type": "code",
   "execution_count": 45,
   "id": "qWaHsZTY_jEn",
   "metadata": {
    "colab": {
     "base_uri": "https://localhost:8080/"
    },
    "executionInfo": {
     "elapsed": 191855,
     "status": "ok",
     "timestamp": 1676234735721,
     "user": {
      "displayName": "PING-CHENG WEI",
      "userId": "17456108749581822272"
     },
     "user_tz": 480
    },
    "id": "qWaHsZTY_jEn",
    "outputId": "04e12908-bee1-43c9-827f-a898da170832"
   },
   "outputs": [
    {
     "name": "stdout",
     "output_type": "stream",
     "text": [
      "Report of 5 clustering metrics of Agglomerative Clustering with \"single linkage\":\n"
     ]
    },
    {
     "data": {
      "text/plain": [
       "{'Homogeneity': 0.023877067992176988,\n",
       " 'Completeness': 0.3937529021970088,\n",
       " 'V-measure': 0.045023899092376224,\n",
       " 'Adjusted Rand-Index': 0.000732020206081807,\n",
       " 'Silhouette Coefficient': -0.48783275}"
      ]
     },
     "execution_count": 45,
     "metadata": {},
     "output_type": "execute_result"
    }
   ],
   "source": [
    "# UMAP\n",
    "umap = UMAP(n_components=200, metric='cosine', random_state=0)\n",
    "X_train_umap = umap.fit_transform(X_train_tfidf)\n",
    "\n",
    "# Agglomerative Clustering\n",
    "umap_ac = AgglomerativeClustering(n_clusters=20, linkage='single')\n",
    "umap_ac.fit(X_train_umap)\n",
    "\n",
    "# report evaluation\n",
    "umap_ac_score = cluster_evaluation(X_train_umap, newsgroups_train.target, \n",
    "                                   umap_ac.labels_)\n",
    "print('Report of 5 clustering metrics of Agglomerative Clustering with \"single linkage\":')\n",
    "umap_ac_score"
   ]
  },
  {
   "cell_type": "markdown",
   "id": "7fc66e20",
   "metadata": {
    "id": "7fc66e20"
   },
   "source": [
    "<div class=\"alert alert-block alert-success\">\n",
    "<b>QUESTION 14:</b> Use UMAP to reduce the dimensionality properly, and perform Agglomerative clustering with <b>n_clusters=20</b>. Compare the performance of “ward” and “single” linkage criteria. Report the five clustering evaluation metrics for each case.\n",
    "</div>"
   ]
  },
  {
   "cell_type": "markdown",
   "id": "8ae0464b",
   "metadata": {
    "id": "8ae0464b"
   },
   "source": [
    "<div class=\"alert alert-block alert-success\">\n",
    "<b>ANSWER 14:</b> The report of evaluation metrics for each case are shown above. Overall, the performance of “ward” linkage criteria is better.\n",
    "</div>"
   ]
  },
  {
   "cell_type": "markdown",
   "id": "b5330d59",
   "metadata": {
    "id": "b5330d59"
   },
   "source": [
    "### 2. HDBSCAN"
   ]
  },
  {
   "cell_type": "code",
   "execution_count": 47,
   "id": "rpye8_iUDJ1q",
   "metadata": {
    "executionInfo": {
     "elapsed": 186,
     "status": "ok",
     "timestamp": 1676234922807,
     "user": {
      "displayName": "PING-CHENG WEI",
      "userId": "17456108749581822272"
     },
     "user_tz": 480
    },
    "id": "rpye8_iUDJ1q"
   },
   "outputs": [],
   "source": [
    "# !pip install hdbscan"
   ]
  },
  {
   "cell_type": "code",
   "execution_count": 52,
   "id": "FG5unZgmC_Xg",
   "metadata": {
    "colab": {
     "base_uri": "https://localhost:8080/",
     "height": 206
    },
    "executionInfo": {
     "elapsed": 121334,
     "status": "ok",
     "timestamp": 1676235824453,
     "user": {
      "displayName": "PING-CHENG WEI",
      "userId": "17456108749581822272"
     },
     "user_tz": 480
    },
    "id": "FG5unZgmC_Xg",
    "outputId": "2ea775ca-921e-4dcb-f075-fd0f4ca3bea8"
   },
   "outputs": [
    {
     "data": {
      "text/html": [
       "\n",
       "  <div id=\"df-908c853d-4ab7-4740-83ed-d878345e2db4\">\n",
       "    <div class=\"colab-df-container\">\n",
       "      <div>\n",
       "<style scoped>\n",
       "    .dataframe tbody tr th:only-of-type {\n",
       "        vertical-align: middle;\n",
       "    }\n",
       "\n",
       "    .dataframe tbody tr th {\n",
       "        vertical-align: top;\n",
       "    }\n",
       "\n",
       "    .dataframe thead th {\n",
       "        text-align: right;\n",
       "    }\n",
       "</style>\n",
       "<table border=\"1\" class=\"dataframe\">\n",
       "  <thead>\n",
       "    <tr style=\"text-align: right;\">\n",
       "      <th></th>\n",
       "      <th>CS20</th>\n",
       "      <th>CS100</th>\n",
       "      <th>CS200</th>\n",
       "    </tr>\n",
       "  </thead>\n",
       "  <tbody>\n",
       "    <tr>\n",
       "      <th>Homogeneity</th>\n",
       "      <td>0.434329</td>\n",
       "      <td>0.380663</td>\n",
       "      <td>0.358437</td>\n",
       "    </tr>\n",
       "    <tr>\n",
       "      <th>Completeness</th>\n",
       "      <td>0.474095</td>\n",
       "      <td>0.616571</td>\n",
       "      <td>0.605149</td>\n",
       "    </tr>\n",
       "    <tr>\n",
       "      <th>V-measure</th>\n",
       "      <td>0.453342</td>\n",
       "      <td>0.470713</td>\n",
       "      <td>0.450210</td>\n",
       "    </tr>\n",
       "    <tr>\n",
       "      <th>Adjusted Rand-Index</th>\n",
       "      <td>0.095842</td>\n",
       "      <td>0.170661</td>\n",
       "      <td>0.158023</td>\n",
       "    </tr>\n",
       "    <tr>\n",
       "      <th>Silhouette Coefficient</th>\n",
       "      <td>0.007742</td>\n",
       "      <td>0.312843</td>\n",
       "      <td>0.258611</td>\n",
       "    </tr>\n",
       "  </tbody>\n",
       "</table>\n",
       "</div>\n",
       "      <button class=\"colab-df-convert\" onclick=\"convertToInteractive('df-908c853d-4ab7-4740-83ed-d878345e2db4')\"\n",
       "              title=\"Convert this dataframe to an interactive table.\"\n",
       "              style=\"display:none;\">\n",
       "        \n",
       "  <svg xmlns=\"http://www.w3.org/2000/svg\" height=\"24px\"viewBox=\"0 0 24 24\"\n",
       "       width=\"24px\">\n",
       "    <path d=\"M0 0h24v24H0V0z\" fill=\"none\"/>\n",
       "    <path d=\"M18.56 5.44l.94 2.06.94-2.06 2.06-.94-2.06-.94-.94-2.06-.94 2.06-2.06.94zm-11 1L8.5 8.5l.94-2.06 2.06-.94-2.06-.94L8.5 2.5l-.94 2.06-2.06.94zm10 10l.94 2.06.94-2.06 2.06-.94-2.06-.94-.94-2.06-.94 2.06-2.06.94z\"/><path d=\"M17.41 7.96l-1.37-1.37c-.4-.4-.92-.59-1.43-.59-.52 0-1.04.2-1.43.59L10.3 9.45l-7.72 7.72c-.78.78-.78 2.05 0 2.83L4 21.41c.39.39.9.59 1.41.59.51 0 1.02-.2 1.41-.59l7.78-7.78 2.81-2.81c.8-.78.8-2.07 0-2.86zM5.41 20L4 18.59l7.72-7.72 1.47 1.35L5.41 20z\"/>\n",
       "  </svg>\n",
       "      </button>\n",
       "      \n",
       "  <style>\n",
       "    .colab-df-container {\n",
       "      display:flex;\n",
       "      flex-wrap:wrap;\n",
       "      gap: 12px;\n",
       "    }\n",
       "\n",
       "    .colab-df-convert {\n",
       "      background-color: #E8F0FE;\n",
       "      border: none;\n",
       "      border-radius: 50%;\n",
       "      cursor: pointer;\n",
       "      display: none;\n",
       "      fill: #1967D2;\n",
       "      height: 32px;\n",
       "      padding: 0 0 0 0;\n",
       "      width: 32px;\n",
       "    }\n",
       "\n",
       "    .colab-df-convert:hover {\n",
       "      background-color: #E2EBFA;\n",
       "      box-shadow: 0px 1px 2px rgba(60, 64, 67, 0.3), 0px 1px 3px 1px rgba(60, 64, 67, 0.15);\n",
       "      fill: #174EA6;\n",
       "    }\n",
       "\n",
       "    [theme=dark] .colab-df-convert {\n",
       "      background-color: #3B4455;\n",
       "      fill: #D2E3FC;\n",
       "    }\n",
       "\n",
       "    [theme=dark] .colab-df-convert:hover {\n",
       "      background-color: #434B5C;\n",
       "      box-shadow: 0px 1px 3px 1px rgba(0, 0, 0, 0.15);\n",
       "      filter: drop-shadow(0px 1px 2px rgba(0, 0, 0, 0.3));\n",
       "      fill: #FFFFFF;\n",
       "    }\n",
       "  </style>\n",
       "\n",
       "      <script>\n",
       "        const buttonEl =\n",
       "          document.querySelector('#df-908c853d-4ab7-4740-83ed-d878345e2db4 button.colab-df-convert');\n",
       "        buttonEl.style.display =\n",
       "          google.colab.kernel.accessAllowed ? 'block' : 'none';\n",
       "\n",
       "        async function convertToInteractive(key) {\n",
       "          const element = document.querySelector('#df-908c853d-4ab7-4740-83ed-d878345e2db4');\n",
       "          const dataTable =\n",
       "            await google.colab.kernel.invokeFunction('convertToInteractive',\n",
       "                                                     [key], {});\n",
       "          if (!dataTable) return;\n",
       "\n",
       "          const docLinkHtml = 'Like what you see? Visit the ' +\n",
       "            '<a target=\"_blank\" href=https://colab.research.google.com/notebooks/data_table.ipynb>data table notebook</a>'\n",
       "            + ' to learn more about interactive tables.';\n",
       "          element.innerHTML = '';\n",
       "          dataTable['output_type'] = 'display_data';\n",
       "          await google.colab.output.renderOutput(dataTable, element);\n",
       "          const docLink = document.createElement('div');\n",
       "          docLink.innerHTML = docLinkHtml;\n",
       "          element.appendChild(docLink);\n",
       "        }\n",
       "      </script>\n",
       "    </div>\n",
       "  </div>\n",
       "  "
      ],
      "text/plain": [
       "                            CS20     CS100     CS200\n",
       "Homogeneity             0.434329  0.380663  0.358437\n",
       "Completeness            0.474095  0.616571  0.605149\n",
       "V-measure               0.453342  0.470713  0.450210\n",
       "Adjusted Rand-Index     0.095842  0.170661  0.158023\n",
       "Silhouette Coefficient  0.007742  0.312843  0.258611"
      ]
     },
     "execution_count": 52,
     "metadata": {},
     "output_type": "execute_result"
    }
   ],
   "source": [
    "from hdbscan import HDBSCAN\n",
    "import pandas as pd\n",
    "\n",
    "# UMAP\n",
    "umap = UMAP(n_components=200, metric='cosine', random_state=0)\n",
    "X_train_umap = umap.fit_transform(X_train_tfidf)\n",
    "\n",
    "# init\n",
    "hdbscan_scores = {\"Homogeneity\": [], \"Completeness\": [], \"V-measure\": [], \n",
    "                  \"Adjusted Rand-Index\": [], \"Silhouette Coefficient\": []}\n",
    "score_names = [\"Homogeneity\", \"Completeness\", \"V-measure\", \n",
    "               \"Adjusted Rand-Index\", \"Silhouette Coefficient\"]\n",
    "ks = [20, 100, 200]\n",
    "\n",
    "for k in ks:\n",
    "    # set up HDBSCAN\n",
    "    hdbscan_umap = HDBSCAN(min_cluster_size=k)\n",
    "    hdbscan_umap.fit(X_train_umap)\n",
    "\n",
    "    # evaluation\n",
    "    hdbscan_umap_score = cluster_evaluation(X_train_umap, \n",
    "                                            newsgroups_train.target, \n",
    "                                            hdbscan_umap.labels_)\n",
    "    \n",
    "    # save scores\n",
    "    for name in score_names:\n",
    "        hdbscan_scores[name].append(hdbscan_umap_score[name])\n",
    "\n",
    "\n",
    "pd.DataFrame.from_dict(hdbscan_scores, orient='index',\n",
    "                       columns=['CS20', 'CS100', 'CS200'])"
   ]
  },
  {
   "cell_type": "markdown",
   "id": "7984d9cd",
   "metadata": {
    "id": "7984d9cd"
   },
   "source": [
    "<div class=\"alert alert-block alert-success\">\n",
    "<b>QUESTION 15:</b> Apply HDBSCAN on UMAP-transformed 20-category data. Use <b>min_cluster_size=100</b>. \n",
    "    \n",
    "<b>Vary the min_cluster_size among 20, 100, 200 and report your findings in terms of the five clustering evaluation metrics - you will plot the best contingency matrix in the next question. Feel free to try modifying other parameters in HDBSCAN to get better performance.</b>\n",
    "</div>"
   ]
  },
  {
   "cell_type": "markdown",
   "id": "e2aadeb8",
   "metadata": {
    "id": "e2aadeb8"
   },
   "source": [
    "<div class=\"alert alert-block alert-success\">\n",
    "<b>ANSWER 15:</b> The comparison results of the different min_cluster_sizes are shown in the table above, marked with CS{value of min_cluster_size}. One can notice that the HDBSCAN with minimal cluster size equal to 20 yields the highest performance in homogeneity, meaning that this setting tends to achieve relative pure clusters. However, it also has one drawback of high misclustering of data points since the completness score of this setting is also the lowest. The HDBSCAN with minimal cluster size equal to 100, on the other hand, performs the best with correctly clustering the data points with the highest completeness score. Even though it has a slightly lower performance in homogeneity compared with the HDBSCAN with minimal cluster size equal to 20, it is overall the best setting for the HDBSCAN, proven by achieving the highest scores in 4 out of 5 measure metrics, besides homogeneity. As for the HDBSCAN with minimal cluster size equal to 200, it is kind of the trade off between those characteristics shown in minimal cluster size equal to 20 and 100. Therefore, the performance is kind of in between of both.\n",
    "</div>"
   ]
  },
  {
   "cell_type": "code",
   "execution_count": 57,
   "id": "3rohgyceMlxe",
   "metadata": {
    "colab": {
     "base_uri": "https://localhost:8080/",
     "height": 441
    },
    "executionInfo": {
     "elapsed": 6097,
     "status": "ok",
     "timestamp": 1676236129346,
     "user": {
      "displayName": "PING-CHENG WEI",
      "userId": "17456108749581822272"
     },
     "user_tz": 480
    },
    "id": "3rohgyceMlxe",
    "outputId": "07cdca93-d130-40a1-cdb5-82f7d38d47d6"
   },
   "outputs": [
    {
     "data": {
      "image/png": "[encoded data removed]",
      "text/plain": [
       "<Figure size 720x432 with 2 Axes>"
      ]
     },
     "metadata": {
      "needs_background": "light"
     },
     "output_type": "display_data"
    }
   ],
   "source": [
    "# best HDBSCAN with min_cluster_size = 100\n",
    "hdbscan_umap = HDBSCAN(min_cluster_size=100)\n",
    "hdbscan_umap.fit(X_train_umap)\n",
    "\n",
    "# evaluation\n",
    "hdbscan_umap_score = cluster_evaluation(X_train_umap, \n",
    "                                        newsgroups_train.target, \n",
    "                                        hdbscan_umap.labels_)\n",
    "\n",
    "# visualize contigency matrix\n",
    "cmat_hdbscan = contingency_matrix(newsgroups_train.target, hdbscan_umap.labels_)\n",
    "unique_clusters_hdbscan, cluster_sizes_hdbscan = np.unique(hdbscan_umap.labels_,\n",
    "                                                           return_counts=True)\n",
    "xlabels = [f'Cluster {i+1}' for i in range(len(unique_clusters_hdbscan))]\n",
    "ylabels = [f'Class {i+1}' for i in range(len(unique_labels))]\n",
    "cmat_title = 'Contigency Matrix Report of HDBSCAN'\n",
    "plot_mat(mat=cmat_hdbscan, size=(10, 6),\n",
    "         xticklabels=xlabels, yticklabels=ylabels,\n",
    "         title=cmat_title, pic_fname=cmat_title)"
   ]
  },
  {
   "cell_type": "markdown",
   "id": "faa7a497",
   "metadata": {
    "id": "faa7a497"
   },
   "source": [
    "<div class=\"alert alert-block alert-success\">\n",
    "<b>QUESTION 16:</b> Contingency matrix\n",
    "    \n",
    "Plot the contingency matrix for the best clustering model from Question 15.\n",
    "    \n",
    "How many clusters are given by the model? What does “-1” mean for the clustering labels?\n",
    "    \n",
    "<b>Interpret the contingency matrix considering the answer to these questions.</b>\n",
    "</div>"
   ]
  },
  {
   "cell_type": "markdown",
   "id": "ea085014",
   "metadata": {
    "id": "ea085014"
   },
   "source": [
    "<div class=\"alert alert-block alert-success\">\n",
    "<b>ANSWER 16:</b> The result of the contigency matrix is plotted above. In total, 10 clusters are returned by the HDBSCAN model instead of 20 as labeled in the ground truth. This reduction of 10 classes is caused by the misclustering of classes, which can be observed in the contingency matrix. For example, class 2-9 and 13 are all assigned to cluster 7, which is a reduction of 8 classes, and class 10 and 11 are assigned to cluster 2, a reduction of 1 classes. More similar cases can be observed above. Furthermore, a single class can also be splitted into multiple clusters. For example, class 20 are clustered mainly into 2 different clusters, i.e. cluster 1, 6. As for the \"-1\" in the clustering labels, it means that the data points are alone or have less than min_sample neighbors in the eps neighbourhood and are considered as noise.\n",
    "</div>"
   ]
  },
  {
   "cell_type": "markdown",
   "id": "WWZkELbXVm54",
   "metadata": {
    "id": "WWZkELbXVm54"
   },
   "source": [
    "#### Computing grid search to find the best dimensionality reduction technique and clustering methods that work best together for 20-class text data.\n",
    "\n",
    "Add a timeout for the options that take too long. You are right to think that combinations that do not converge fast are likely not good models. "
   ]
  },
  {
   "cell_type": "code",
   "execution_count": null,
   "id": "o3vP3ps2yKBJ",
   "metadata": {
    "id": "o3vP3ps2yKBJ"
   },
   "outputs": [],
   "source": [
    "# !pip install umap-learn\n",
    "# !pip install hdbscan"
   ]
  },
  {
   "cell_type": "code",
   "execution_count": 23,
   "id": "nr0ma3-4ygiD",
   "metadata": {
    "executionInfo": {
     "elapsed": 160,
     "status": "ok",
     "timestamp": 1676250604502,
     "user": {
      "displayName": "PING-CHENG WEI",
      "userId": "17456108749581822272"
     },
     "user_tz": 480
    },
    "id": "nr0ma3-4ygiD"
   },
   "outputs": [],
   "source": [
    "# import all necessary libraries\n",
    "\n",
    "# dataset, vectorizer\n",
    "from sklearn.datasets import fetch_20newsgroups\n",
    "from sklearn.feature_extraction.text import TfidfVectorizer\n",
    "# dimensionality reduction\n",
    "from sklearn.decomposition import TruncatedSVD, NMF\n",
    "from umap import UMAP\n",
    "# clustering\n",
    "from sklearn.cluster import KMeans\n",
    "from sklearn.cluster import AgglomerativeClustering\n",
    "from hdbscan import HDBSCAN\n",
    "# evaluation\n",
    "from sklearn.metrics import homogeneity_score, completeness_score\n",
    "from sklearn.metrics import v_measure_score, rand_score\n",
    "from sklearn.metrics import adjusted_rand_score, silhouette_score\n",
    "# save file\n",
    "import joblib\n",
    "# create table\n",
    "import pandas as pd\n",
    "# grid search\n",
    "from sklearn.model_selection import GridSearchCV\n",
    "from sklearn.pipeline import Pipeline\n",
    "# plot\n",
    "from sklearn.metrics.cluster import contingency_matrix\n",
    "from scipy.optimize import linear_sum_assignment\n",
    "from plotmat import plot_mat"
   ]
  },
  {
   "cell_type": "code",
   "execution_count": 3,
   "id": "vvWZritPUnrM",
   "metadata": {
    "executionInfo": {
     "elapsed": 14462,
     "status": "ok",
     "timestamp": 1676246389269,
     "user": {
      "displayName": "PING-CHENG WEI",
      "userId": "17456108749581822272"
     },
     "user_tz": 480
    },
    "id": "vvWZritPUnrM"
   },
   "outputs": [],
   "source": [
    "# load the input data\n",
    "removed_items = ('headers', 'footers')\n",
    "newsgroups_train = fetch_20newsgroups(subset='train', \n",
    "                                      remove=removed_items,\n",
    "                                      shuffle=True,\n",
    "                                      random_state=0)\n",
    "unique_labels, category_sizes = np.unique(newsgroups_train.target, \n",
    "                                          return_counts=True)\n",
    "\n",
    "# convert to TF-IDF matrix\n",
    "min_df = 3\n",
    "tfidf_vec = TfidfVectorizer(min_df=min_df, stop_words='english')\n",
    "X_train_tfidf = tfidf_vec.fit_transform(newsgroups_train.data)\n",
    "X_train_tfidf = X_train_tfidf.todense()"
   ]
  },
  {
   "cell_type": "code",
   "execution_count": null,
   "id": "DSmSIBK40o5f",
   "metadata": {
    "id": "DSmSIBK40o5f"
   },
   "outputs": [],
   "source": [
    "# =============================================================== #\n",
    "# Dimensionality Reduction:\n",
    "#   To speed up the runtime, I will just generate the \n",
    "#   dimension-reduced features with all different required \n",
    "#   techniques at here, save them, and call them out later \n",
    "#   for grid search. \n",
    "# =============================================================== #\n",
    "\n",
    "# init\n",
    "path = \"/content/drive/MyDrive/Colab Notebooks/ECE_219/Project2/Q17_grid_search\"\n",
    "rs = [5, 20, 200]\n",
    "\n",
    "# # None\n",
    "# joblib.dump(X_train_tfidf, f'{path}/DR_None.pkl')\n",
    "\n",
    "for r in rs:\n",
    "    # SVD\n",
    "    svd = TruncatedSVD(n_components=r, n_iter=5, random_state=0)\n",
    "    X_train_svd = svd.fit_transform(X_train_tfidf)\n",
    "    joblib.dump(X_train_svd, f'{path}/DR_SVD_{r}.pkl')\n",
    "\n",
    "    # NMF\n",
    "    '''\n",
    "    For n_components=200 in NMF, I have waited over 1 hour to generate the\n",
    "    dimensional-reduced metrix but still haven't finished yet. Thus, I just \n",
    "    interrupt the process and decide not to test this one in the grid search.\n",
    "    Otherwise, I have no idea how long I am supposed to wait.\n",
    "    Hope that's ok and you can understand that.\n",
    "    '''\n",
    "    nmf = NMF(n_components=r, init='random', random_state=0)\n",
    "    W_nmf = nmf.fit_transform(X_train_tfidf)\n",
    "    joblib.dump(W_nmf, f'{path}/DR_NMF_{r}.pkl')\n",
    "\n",
    "    # UMAP\n",
    "    umap = UMAP(n_components=r, metric='cosine', random_state=0)\n",
    "    X_train_umap = umap.fit_transform(X_train_tfidf)\n",
    "    joblib.dump(X_train_umap, f'{path}/DR_UMAP_{r}.pkl')"
   ]
  },
  {
   "cell_type": "code",
   "execution_count": 19,
   "id": "afZA0mdZgDa7",
   "metadata": {
    "colab": {
     "base_uri": "https://localhost:8080/",
     "height": 1000
    },
    "executionInfo": {
     "elapsed": 236,
     "status": "ok",
     "timestamp": 1676248406656,
     "user": {
      "displayName": "PING-CHENG WEI",
      "userId": "17456108749581822272"
     },
     "user_tz": 480
    },
    "id": "afZA0mdZgDa7",
    "outputId": "c042f3c9-5562-40da-9117-69fade5b27a0"
   },
   "outputs": [
    {
     "data": {
      "text/html": [
       "\n",
       "  <div id=\"df-e384e927-91c1-492d-b1d9-03683504e52f\">\n",
       "    <div class=\"colab-df-container\">\n",
       "      <div>\n",
       "<style scoped>\n",
       "    .dataframe tbody tr th:only-of-type {\n",
       "        vertical-align: middle;\n",
       "    }\n",
       "\n",
       "    .dataframe tbody tr th {\n",
       "        vertical-align: top;\n",
       "    }\n",
       "\n",
       "    .dataframe thead th {\n",
       "        text-align: right;\n",
       "    }\n",
       "</style>\n",
       "<table border=\"1\" class=\"dataframe\">\n",
       "  <thead>\n",
       "    <tr style=\"text-align: right;\">\n",
       "      <th></th>\n",
       "      <th>dataset</th>\n",
       "      <th>cluster</th>\n",
       "      <th>Homogeneity</th>\n",
       "      <th>Completeness</th>\n",
       "      <th>V-measure</th>\n",
       "      <th>Adjusted Rand-Index</th>\n",
       "      <th>Silhouette Coefficient</th>\n",
       "    </tr>\n",
       "  </thead>\n",
       "  <tbody>\n",
       "    <tr>\n",
       "      <th>0</th>\n",
       "      <td>DR_SVD_5</td>\n",
       "      <td>K-Means_10</td>\n",
       "      <td>0.261162</td>\n",
       "      <td>0.394300</td>\n",
       "      <td>0.314209</td>\n",
       "      <td>0.104391</td>\n",
       "      <td>0.254827</td>\n",
       "    </tr>\n",
       "    <tr>\n",
       "      <th>1</th>\n",
       "      <td>DR_SVD_5</td>\n",
       "      <td>K-Means_20</td>\n",
       "      <td>0.315292</td>\n",
       "      <td>0.344534</td>\n",
       "      <td>0.329265</td>\n",
       "      <td>0.121766</td>\n",
       "      <td>0.206593</td>\n",
       "    </tr>\n",
       "    <tr>\n",
       "      <th>2</th>\n",
       "      <td>DR_SVD_5</td>\n",
       "      <td>K-Means_50</td>\n",
       "      <td>0.370342</td>\n",
       "      <td>0.301902</td>\n",
       "      <td>0.332638</td>\n",
       "      <td>0.099294</td>\n",
       "      <td>0.176643</td>\n",
       "    </tr>\n",
       "    <tr>\n",
       "      <th>3</th>\n",
       "      <td>DR_SVD_5</td>\n",
       "      <td>Agglomerative_20</td>\n",
       "      <td>0.309765</td>\n",
       "      <td>0.335864</td>\n",
       "      <td>0.322287</td>\n",
       "      <td>0.120045</td>\n",
       "      <td>0.131434</td>\n",
       "    </tr>\n",
       "    <tr>\n",
       "      <th>4</th>\n",
       "      <td>DR_SVD_5</td>\n",
       "      <td>HDBSCAN_100</td>\n",
       "      <td>0.001266</td>\n",
       "      <td>0.074801</td>\n",
       "      <td>0.002489</td>\n",
       "      <td>-0.000018</td>\n",
       "      <td>-0.227272</td>\n",
       "    </tr>\n",
       "    <tr>\n",
       "      <th>5</th>\n",
       "      <td>DR_SVD_5</td>\n",
       "      <td>HDBSCAN_200</td>\n",
       "      <td>0.003453</td>\n",
       "      <td>0.116210</td>\n",
       "      <td>0.006707</td>\n",
       "      <td>0.000017</td>\n",
       "      <td>-0.270529</td>\n",
       "    </tr>\n",
       "    <tr>\n",
       "      <th>6</th>\n",
       "      <td>DR_SVD_20</td>\n",
       "      <td>K-Means_10</td>\n",
       "      <td>0.253368</td>\n",
       "      <td>0.421529</td>\n",
       "      <td>0.316498</td>\n",
       "      <td>0.076011</td>\n",
       "      <td>0.138883</td>\n",
       "    </tr>\n",
       "    <tr>\n",
       "      <th>7</th>\n",
       "      <td>DR_SVD_20</td>\n",
       "      <td>K-Means_20</td>\n",
       "      <td>0.345174</td>\n",
       "      <td>0.392752</td>\n",
       "      <td>0.367429</td>\n",
       "      <td>0.129206</td>\n",
       "      <td>0.167457</td>\n",
       "    </tr>\n",
       "    <tr>\n",
       "      <th>8</th>\n",
       "      <td>DR_SVD_20</td>\n",
       "      <td>K-Means_50</td>\n",
       "      <td>0.442500</td>\n",
       "      <td>0.365119</td>\n",
       "      <td>0.400102</td>\n",
       "      <td>0.149595</td>\n",
       "      <td>0.113689</td>\n",
       "    </tr>\n",
       "    <tr>\n",
       "      <th>9</th>\n",
       "      <td>DR_SVD_20</td>\n",
       "      <td>Agglomerative_20</td>\n",
       "      <td>0.367527</td>\n",
       "      <td>0.423065</td>\n",
       "      <td>0.393346</td>\n",
       "      <td>0.148674</td>\n",
       "      <td>0.124816</td>\n",
       "    </tr>\n",
       "    <tr>\n",
       "      <th>10</th>\n",
       "      <td>DR_SVD_20</td>\n",
       "      <td>HDBSCAN_100</td>\n",
       "      <td>0.000682</td>\n",
       "      <td>0.040336</td>\n",
       "      <td>0.001342</td>\n",
       "      <td>-0.000005</td>\n",
       "      <td>-0.253961</td>\n",
       "    </tr>\n",
       "    <tr>\n",
       "      <th>11</th>\n",
       "      <td>DR_SVD_20</td>\n",
       "      <td>HDBSCAN_200</td>\n",
       "      <td>0.000933</td>\n",
       "      <td>0.031398</td>\n",
       "      <td>0.001812</td>\n",
       "      <td>0.000006</td>\n",
       "      <td>-0.255885</td>\n",
       "    </tr>\n",
       "    <tr>\n",
       "      <th>12</th>\n",
       "      <td>DR_SVD_200</td>\n",
       "      <td>K-Means_10</td>\n",
       "      <td>0.270359</td>\n",
       "      <td>0.425581</td>\n",
       "      <td>0.330660</td>\n",
       "      <td>0.100163</td>\n",
       "      <td>0.003814</td>\n",
       "    </tr>\n",
       "    <tr>\n",
       "      <th>13</th>\n",
       "      <td>DR_SVD_200</td>\n",
       "      <td>K-Means_20</td>\n",
       "      <td>0.337240</td>\n",
       "      <td>0.435040</td>\n",
       "      <td>0.379947</td>\n",
       "      <td>0.099930</td>\n",
       "      <td>0.018462</td>\n",
       "    </tr>\n",
       "    <tr>\n",
       "      <th>14</th>\n",
       "      <td>DR_SVD_200</td>\n",
       "      <td>K-Means_50</td>\n",
       "      <td>0.440524</td>\n",
       "      <td>0.396301</td>\n",
       "      <td>0.417244</td>\n",
       "      <td>0.123802</td>\n",
       "      <td>0.015935</td>\n",
       "    </tr>\n",
       "    <tr>\n",
       "      <th>15</th>\n",
       "      <td>DR_SVD_200</td>\n",
       "      <td>Agglomerative_20</td>\n",
       "      <td>0.354606</td>\n",
       "      <td>0.492625</td>\n",
       "      <td>0.412373</td>\n",
       "      <td>0.107966</td>\n",
       "      <td>0.019255</td>\n",
       "    </tr>\n",
       "    <tr>\n",
       "      <th>16</th>\n",
       "      <td>DR_SVD_200</td>\n",
       "      <td>HDBSCAN_100</td>\n",
       "      <td>0.000760</td>\n",
       "      <td>0.044938</td>\n",
       "      <td>0.001495</td>\n",
       "      <td>0.000039</td>\n",
       "      <td>-0.278074</td>\n",
       "    </tr>\n",
       "    <tr>\n",
       "      <th>17</th>\n",
       "      <td>DR_SVD_200</td>\n",
       "      <td>HDBSCAN_200</td>\n",
       "      <td>0.001526</td>\n",
       "      <td>0.051360</td>\n",
       "      <td>0.002964</td>\n",
       "      <td>0.000091</td>\n",
       "      <td>-0.257762</td>\n",
       "    </tr>\n",
       "    <tr>\n",
       "      <th>18</th>\n",
       "      <td>DR_NMF_5</td>\n",
       "      <td>K-Means_10</td>\n",
       "      <td>0.220232</td>\n",
       "      <td>0.353208</td>\n",
       "      <td>0.271302</td>\n",
       "      <td>0.074618</td>\n",
       "      <td>0.302051</td>\n",
       "    </tr>\n",
       "    <tr>\n",
       "      <th>19</th>\n",
       "      <td>DR_NMF_5</td>\n",
       "      <td>K-Means_20</td>\n",
       "      <td>0.260837</td>\n",
       "      <td>0.302463</td>\n",
       "      <td>0.280112</td>\n",
       "      <td>0.081400</td>\n",
       "      <td>0.278883</td>\n",
       "    </tr>\n",
       "    <tr>\n",
       "      <th>20</th>\n",
       "      <td>DR_NMF_5</td>\n",
       "      <td>K-Means_50</td>\n",
       "      <td>0.306456</td>\n",
       "      <td>0.256353</td>\n",
       "      <td>0.279174</td>\n",
       "      <td>0.068869</td>\n",
       "      <td>0.246978</td>\n",
       "    </tr>\n",
       "    <tr>\n",
       "      <th>21</th>\n",
       "      <td>DR_NMF_5</td>\n",
       "      <td>Agglomerative_20</td>\n",
       "      <td>0.259511</td>\n",
       "      <td>0.302701</td>\n",
       "      <td>0.279447</td>\n",
       "      <td>0.081806</td>\n",
       "      <td>0.213347</td>\n",
       "    </tr>\n",
       "    <tr>\n",
       "      <th>22</th>\n",
       "      <td>DR_NMF_5</td>\n",
       "      <td>HDBSCAN_100</td>\n",
       "      <td>0.055546</td>\n",
       "      <td>0.263730</td>\n",
       "      <td>0.091765</td>\n",
       "      <td>0.024754</td>\n",
       "      <td>0.026554</td>\n",
       "    </tr>\n",
       "    <tr>\n",
       "      <th>23</th>\n",
       "      <td>DR_NMF_5</td>\n",
       "      <td>HDBSCAN_200</td>\n",
       "      <td>0.005417</td>\n",
       "      <td>0.182288</td>\n",
       "      <td>0.010521</td>\n",
       "      <td>0.000089</td>\n",
       "      <td>-0.282529</td>\n",
       "    </tr>\n",
       "    <tr>\n",
       "      <th>24</th>\n",
       "      <td>DR_NMF_20</td>\n",
       "      <td>K-Means_10</td>\n",
       "      <td>0.230687</td>\n",
       "      <td>0.462860</td>\n",
       "      <td>0.307912</td>\n",
       "      <td>0.052493</td>\n",
       "      <td>0.174209</td>\n",
       "    </tr>\n",
       "    <tr>\n",
       "      <th>25</th>\n",
       "      <td>DR_NMF_20</td>\n",
       "      <td>K-Means_20</td>\n",
       "      <td>0.310156</td>\n",
       "      <td>0.361342</td>\n",
       "      <td>0.333798</td>\n",
       "      <td>0.100763</td>\n",
       "      <td>0.228139</td>\n",
       "    </tr>\n",
       "    <tr>\n",
       "      <th>26</th>\n",
       "      <td>DR_NMF_20</td>\n",
       "      <td>K-Means_50</td>\n",
       "      <td>0.413207</td>\n",
       "      <td>0.346292</td>\n",
       "      <td>0.376802</td>\n",
       "      <td>0.131347</td>\n",
       "      <td>0.180592</td>\n",
       "    </tr>\n",
       "    <tr>\n",
       "      <th>27</th>\n",
       "      <td>DR_NMF_20</td>\n",
       "      <td>Agglomerative_20</td>\n",
       "      <td>0.353524</td>\n",
       "      <td>0.426592</td>\n",
       "      <td>0.386636</td>\n",
       "      <td>0.116940</td>\n",
       "      <td>0.177969</td>\n",
       "    </tr>\n",
       "    <tr>\n",
       "      <th>28</th>\n",
       "      <td>DR_NMF_20</td>\n",
       "      <td>HDBSCAN_100</td>\n",
       "      <td>0.000635</td>\n",
       "      <td>0.037534</td>\n",
       "      <td>0.001249</td>\n",
       "      <td>-0.000003</td>\n",
       "      <td>-0.305330</td>\n",
       "    </tr>\n",
       "    <tr>\n",
       "      <th>29</th>\n",
       "      <td>DR_NMF_20</td>\n",
       "      <td>HDBSCAN_200</td>\n",
       "      <td>0.000789</td>\n",
       "      <td>0.026555</td>\n",
       "      <td>0.001533</td>\n",
       "      <td>0.000021</td>\n",
       "      <td>-0.304754</td>\n",
       "    </tr>\n",
       "    <tr>\n",
       "      <th>30</th>\n",
       "      <td>DR_UMAP_5</td>\n",
       "      <td>K-Means_10</td>\n",
       "      <td>0.475041</td>\n",
       "      <td>0.652959</td>\n",
       "      <td>0.549969</td>\n",
       "      <td>0.340189</td>\n",
       "      <td>0.438730</td>\n",
       "    </tr>\n",
       "    <tr>\n",
       "      <th>31</th>\n",
       "      <td>DR_UMAP_5</td>\n",
       "      <td>K-Means_20</td>\n",
       "      <td>0.574285</td>\n",
       "      <td>0.592827</td>\n",
       "      <td>0.583409</td>\n",
       "      <td>0.448293</td>\n",
       "      <td>0.383208</td>\n",
       "    </tr>\n",
       "    <tr>\n",
       "      <th>32</th>\n",
       "      <td>DR_UMAP_5</td>\n",
       "      <td>K-Means_50</td>\n",
       "      <td>0.625552</td>\n",
       "      <td>0.499816</td>\n",
       "      <td>0.555660</td>\n",
       "      <td>0.386976</td>\n",
       "      <td>0.352785</td>\n",
       "    </tr>\n",
       "    <tr>\n",
       "      <th>33</th>\n",
       "      <td>DR_UMAP_5</td>\n",
       "      <td>Agglomerative_20</td>\n",
       "      <td>0.562475</td>\n",
       "      <td>0.579859</td>\n",
       "      <td>0.571035</td>\n",
       "      <td>0.432199</td>\n",
       "      <td>0.365103</td>\n",
       "    </tr>\n",
       "    <tr>\n",
       "      <th>34</th>\n",
       "      <td>DR_UMAP_5</td>\n",
       "      <td>HDBSCAN_100</td>\n",
       "      <td>0.005842</td>\n",
       "      <td>0.053649</td>\n",
       "      <td>0.010536</td>\n",
       "      <td>0.001149</td>\n",
       "      <td>-0.030003</td>\n",
       "    </tr>\n",
       "    <tr>\n",
       "      <th>35</th>\n",
       "      <td>DR_UMAP_5</td>\n",
       "      <td>HDBSCAN_200</td>\n",
       "      <td>0.012297</td>\n",
       "      <td>0.101172</td>\n",
       "      <td>0.021928</td>\n",
       "      <td>0.002798</td>\n",
       "      <td>0.025678</td>\n",
       "    </tr>\n",
       "    <tr>\n",
       "      <th>36</th>\n",
       "      <td>DR_UMAP_20</td>\n",
       "      <td>K-Means_10</td>\n",
       "      <td>0.475948</td>\n",
       "      <td>0.653510</td>\n",
       "      <td>0.550772</td>\n",
       "      <td>0.342365</td>\n",
       "      <td>0.436179</td>\n",
       "    </tr>\n",
       "    <tr>\n",
       "      <th>37</th>\n",
       "      <td>DR_UMAP_20</td>\n",
       "      <td>K-Means_20</td>\n",
       "      <td>0.567406</td>\n",
       "      <td>0.588280</td>\n",
       "      <td>0.577654</td>\n",
       "      <td>0.439677</td>\n",
       "      <td>0.377446</td>\n",
       "    </tr>\n",
       "    <tr>\n",
       "      <th>38</th>\n",
       "      <td>DR_UMAP_20</td>\n",
       "      <td>K-Means_50</td>\n",
       "      <td>0.622821</td>\n",
       "      <td>0.498381</td>\n",
       "      <td>0.553695</td>\n",
       "      <td>0.368264</td>\n",
       "      <td>0.325623</td>\n",
       "    </tr>\n",
       "    <tr>\n",
       "      <th>39</th>\n",
       "      <td>DR_UMAP_20</td>\n",
       "      <td>Agglomerative_20</td>\n",
       "      <td>0.557539</td>\n",
       "      <td>0.580241</td>\n",
       "      <td>0.568664</td>\n",
       "      <td>0.419030</td>\n",
       "      <td>0.365111</td>\n",
       "    </tr>\n",
       "    <tr>\n",
       "      <th>40</th>\n",
       "      <td>DR_UMAP_20</td>\n",
       "      <td>HDBSCAN_100</td>\n",
       "      <td>0.005246</td>\n",
       "      <td>0.052570</td>\n",
       "      <td>0.009539</td>\n",
       "      <td>0.000873</td>\n",
       "      <td>-0.029370</td>\n",
       "    </tr>\n",
       "    <tr>\n",
       "      <th>41</th>\n",
       "      <td>DR_UMAP_20</td>\n",
       "      <td>HDBSCAN_200</td>\n",
       "      <td>0.012837</td>\n",
       "      <td>0.097571</td>\n",
       "      <td>0.022689</td>\n",
       "      <td>0.003239</td>\n",
       "      <td>0.019672</td>\n",
       "    </tr>\n",
       "    <tr>\n",
       "      <th>42</th>\n",
       "      <td>DR_UMAP_200</td>\n",
       "      <td>K-Means_10</td>\n",
       "      <td>0.476287</td>\n",
       "      <td>0.654378</td>\n",
       "      <td>0.551307</td>\n",
       "      <td>0.341067</td>\n",
       "      <td>0.434374</td>\n",
       "    </tr>\n",
       "    <tr>\n",
       "      <th>43</th>\n",
       "      <td>DR_UMAP_200</td>\n",
       "      <td>K-Means_20</td>\n",
       "      <td>0.575797</td>\n",
       "      <td>0.592301</td>\n",
       "      <td>0.583932</td>\n",
       "      <td>0.459044</td>\n",
       "      <td>0.369268</td>\n",
       "    </tr>\n",
       "    <tr>\n",
       "      <th>44</th>\n",
       "      <td>DR_UMAP_200</td>\n",
       "      <td>K-Means_50</td>\n",
       "      <td>0.628740</td>\n",
       "      <td>0.501983</td>\n",
       "      <td>0.558257</td>\n",
       "      <td>0.378942</td>\n",
       "      <td>0.320624</td>\n",
       "    </tr>\n",
       "    <tr>\n",
       "      <th>45</th>\n",
       "      <td>DR_UMAP_200</td>\n",
       "      <td>Agglomerative_20</td>\n",
       "      <td>0.556779</td>\n",
       "      <td>0.578812</td>\n",
       "      <td>0.567582</td>\n",
       "      <td>0.420718</td>\n",
       "      <td>0.358121</td>\n",
       "    </tr>\n",
       "    <tr>\n",
       "      <th>46</th>\n",
       "      <td>DR_UMAP_200</td>\n",
       "      <td>HDBSCAN_100</td>\n",
       "      <td>0.006039</td>\n",
       "      <td>0.053246</td>\n",
       "      <td>0.010848</td>\n",
       "      <td>0.001243</td>\n",
       "      <td>-0.036342</td>\n",
       "    </tr>\n",
       "    <tr>\n",
       "      <th>47</th>\n",
       "      <td>DR_UMAP_200</td>\n",
       "      <td>HDBSCAN_200</td>\n",
       "      <td>0.012762</td>\n",
       "      <td>0.099017</td>\n",
       "      <td>0.022610</td>\n",
       "      <td>0.003244</td>\n",
       "      <td>0.020052</td>\n",
       "    </tr>\n",
       "  </tbody>\n",
       "</table>\n",
       "</div>\n",
       "      <button class=\"colab-df-convert\" onclick=\"convertToInteractive('df-e384e927-91c1-492d-b1d9-03683504e52f')\"\n",
       "              title=\"Convert this dataframe to an interactive table.\"\n",
       "              style=\"display:none;\">\n",
       "        \n",
       "  <svg xmlns=\"http://www.w3.org/2000/svg\" height=\"24px\"viewBox=\"0 0 24 24\"\n",
       "       width=\"24px\">\n",
       "    <path d=\"M0 0h24v24H0V0z\" fill=\"none\"/>\n",
       "    <path d=\"M18.56 5.44l.94 2.06.94-2.06 2.06-.94-2.06-.94-.94-2.06-.94 2.06-2.06.94zm-11 1L8.5 8.5l.94-2.06 2.06-.94-2.06-.94L8.5 2.5l-.94 2.06-2.06.94zm10 10l.94 2.06.94-2.06 2.06-.94-2.06-.94-.94-2.06-.94 2.06-2.06.94z\"/><path d=\"M17.41 7.96l-1.37-1.37c-.4-.4-.92-.59-1.43-.59-.52 0-1.04.2-1.43.59L10.3 9.45l-7.72 7.72c-.78.78-.78 2.05 0 2.83L4 21.41c.39.39.9.59 1.41.59.51 0 1.02-.2 1.41-.59l7.78-7.78 2.81-2.81c.8-.78.8-2.07 0-2.86zM5.41 20L4 18.59l7.72-7.72 1.47 1.35L5.41 20z\"/>\n",
       "  </svg>\n",
       "      </button>\n",
       "      \n",
       "  <style>\n",
       "    .colab-df-container {\n",
       "      display:flex;\n",
       "      flex-wrap:wrap;\n",
       "      gap: 12px;\n",
       "    }\n",
       "\n",
       "    .colab-df-convert {\n",
       "      background-color: #E8F0FE;\n",
       "      border: none;\n",
       "      border-radius: 50%;\n",
       "      cursor: pointer;\n",
       "      display: none;\n",
       "      fill: #1967D2;\n",
       "      height: 32px;\n",
       "      padding: 0 0 0 0;\n",
       "      width: 32px;\n",
       "    }\n",
       "\n",
       "    .colab-df-convert:hover {\n",
       "      background-color: #E2EBFA;\n",
       "      box-shadow: 0px 1px 2px rgba(60, 64, 67, 0.3), 0px 1px 3px 1px rgba(60, 64, 67, 0.15);\n",
       "      fill: #174EA6;\n",
       "    }\n",
       "\n",
       "    [theme=dark] .colab-df-convert {\n",
       "      background-color: #3B4455;\n",
       "      fill: #D2E3FC;\n",
       "    }\n",
       "\n",
       "    [theme=dark] .colab-df-convert:hover {\n",
       "      background-color: #434B5C;\n",
       "      box-shadow: 0px 1px 3px 1px rgba(0, 0, 0, 0.15);\n",
       "      filter: drop-shadow(0px 1px 2px rgba(0, 0, 0, 0.3));\n",
       "      fill: #FFFFFF;\n",
       "    }\n",
       "  </style>\n",
       "\n",
       "      <script>\n",
       "        const buttonEl =\n",
       "          document.querySelector('#df-e384e927-91c1-492d-b1d9-03683504e52f button.colab-df-convert');\n",
       "        buttonEl.style.display =\n",
       "          google.colab.kernel.accessAllowed ? 'block' : 'none';\n",
       "\n",
       "        async function convertToInteractive(key) {\n",
       "          const element = document.querySelector('#df-e384e927-91c1-492d-b1d9-03683504e52f');\n",
       "          const dataTable =\n",
       "            await google.colab.kernel.invokeFunction('convertToInteractive',\n",
       "                                                     [key], {});\n",
       "          if (!dataTable) return;\n",
       "\n",
       "          const docLinkHtml = 'Like what you see? Visit the ' +\n",
       "            '<a target=\"_blank\" href=https://colab.research.google.com/notebooks/data_table.ipynb>data table notebook</a>'\n",
       "            + ' to learn more about interactive tables.';\n",
       "          element.innerHTML = '';\n",
       "          dataTable['output_type'] = 'display_data';\n",
       "          await google.colab.output.renderOutput(dataTable, element);\n",
       "          const docLink = document.createElement('div');\n",
       "          docLink.innerHTML = docLinkHtml;\n",
       "          element.appendChild(docLink);\n",
       "        }\n",
       "      </script>\n",
       "    </div>\n",
       "  </div>\n",
       "  "
      ],
      "text/plain": [
       "        dataset           cluster  Homogeneity  Completeness  V-measure  \\\n",
       "0      DR_SVD_5        K-Means_10     0.261162      0.394300   0.314209   \n",
       "1      DR_SVD_5        K-Means_20     0.315292      0.344534   0.329265   \n",
       "2      DR_SVD_5        K-Means_50     0.370342      0.301902   0.332638   \n",
       "3      DR_SVD_5  Agglomerative_20     0.309765      0.335864   0.322287   \n",
       "4      DR_SVD_5       HDBSCAN_100     0.001266      0.074801   0.002489   \n",
       "5      DR_SVD_5       HDBSCAN_200     0.003453      0.116210   0.006707   \n",
       "6     DR_SVD_20        K-Means_10     0.253368      0.421529   0.316498   \n",
       "7     DR_SVD_20        K-Means_20     0.345174      0.392752   0.367429   \n",
       "8     DR_SVD_20        K-Means_50     0.442500      0.365119   0.400102   \n",
       "9     DR_SVD_20  Agglomerative_20     0.367527      0.423065   0.393346   \n",
       "10    DR_SVD_20       HDBSCAN_100     0.000682      0.040336   0.001342   \n",
       "11    DR_SVD_20       HDBSCAN_200     0.000933      0.031398   0.001812   \n",
       "12   DR_SVD_200        K-Means_10     0.270359      0.425581   0.330660   \n",
       "13   DR_SVD_200        K-Means_20     0.337240      0.435040   0.379947   \n",
       "14   DR_SVD_200        K-Means_50     0.440524      0.396301   0.417244   \n",
       "15   DR_SVD_200  Agglomerative_20     0.354606      0.492625   0.412373   \n",
       "16   DR_SVD_200       HDBSCAN_100     0.000760      0.044938   0.001495   \n",
       "17   DR_SVD_200       HDBSCAN_200     0.001526      0.051360   0.002964   \n",
       "18     DR_NMF_5        K-Means_10     0.220232      0.353208   0.271302   \n",
       "19     DR_NMF_5        K-Means_20     0.260837      0.302463   0.280112   \n",
       "20     DR_NMF_5        K-Means_50     0.306456      0.256353   0.279174   \n",
       "21     DR_NMF_5  Agglomerative_20     0.259511      0.302701   0.279447   \n",
       "22     DR_NMF_5       HDBSCAN_100     0.055546      0.263730   0.091765   \n",
       "23     DR_NMF_5       HDBSCAN_200     0.005417      0.182288   0.010521   \n",
       "24    DR_NMF_20        K-Means_10     0.230687      0.462860   0.307912   \n",
       "25    DR_NMF_20        K-Means_20     0.310156      0.361342   0.333798   \n",
       "26    DR_NMF_20        K-Means_50     0.413207      0.346292   0.376802   \n",
       "27    DR_NMF_20  Agglomerative_20     0.353524      0.426592   0.386636   \n",
       "28    DR_NMF_20       HDBSCAN_100     0.000635      0.037534   0.001249   \n",
       "29    DR_NMF_20       HDBSCAN_200     0.000789      0.026555   0.001533   \n",
       "30    DR_UMAP_5        K-Means_10     0.475041      0.652959   0.549969   \n",
       "31    DR_UMAP_5        K-Means_20     0.574285      0.592827   0.583409   \n",
       "32    DR_UMAP_5        K-Means_50     0.625552      0.499816   0.555660   \n",
       "33    DR_UMAP_5  Agglomerative_20     0.562475      0.579859   0.571035   \n",
       "34    DR_UMAP_5       HDBSCAN_100     0.005842      0.053649   0.010536   \n",
       "35    DR_UMAP_5       HDBSCAN_200     0.012297      0.101172   0.021928   \n",
       "36   DR_UMAP_20        K-Means_10     0.475948      0.653510   0.550772   \n",
       "37   DR_UMAP_20        K-Means_20     0.567406      0.588280   0.577654   \n",
       "38   DR_UMAP_20        K-Means_50     0.622821      0.498381   0.553695   \n",
       "39   DR_UMAP_20  Agglomerative_20     0.557539      0.580241   0.568664   \n",
       "40   DR_UMAP_20       HDBSCAN_100     0.005246      0.052570   0.009539   \n",
       "41   DR_UMAP_20       HDBSCAN_200     0.012837      0.097571   0.022689   \n",
       "42  DR_UMAP_200        K-Means_10     0.476287      0.654378   0.551307   \n",
       "43  DR_UMAP_200        K-Means_20     0.575797      0.592301   0.583932   \n",
       "44  DR_UMAP_200        K-Means_50     0.628740      0.501983   0.558257   \n",
       "45  DR_UMAP_200  Agglomerative_20     0.556779      0.578812   0.567582   \n",
       "46  DR_UMAP_200       HDBSCAN_100     0.006039      0.053246   0.010848   \n",
       "47  DR_UMAP_200       HDBSCAN_200     0.012762      0.099017   0.022610   \n",
       "\n",
       "    Adjusted Rand-Index  Silhouette Coefficient  \n",
       "0              0.104391                0.254827  \n",
       "1              0.121766                0.206593  \n",
       "2              0.099294                0.176643  \n",
       "3              0.120045                0.131434  \n",
       "4             -0.000018               -0.227272  \n",
       "5              0.000017               -0.270529  \n",
       "6              0.076011                0.138883  \n",
       "7              0.129206                0.167457  \n",
       "8              0.149595                0.113689  \n",
       "9              0.148674                0.124816  \n",
       "10            -0.000005               -0.253961  \n",
       "11             0.000006               -0.255885  \n",
       "12             0.100163                0.003814  \n",
       "13             0.099930                0.018462  \n",
       "14             0.123802                0.015935  \n",
       "15             0.107966                0.019255  \n",
       "16             0.000039               -0.278074  \n",
       "17             0.000091               -0.257762  \n",
       "18             0.074618                0.302051  \n",
       "19             0.081400                0.278883  \n",
       "20             0.068869                0.246978  \n",
       "21             0.081806                0.213347  \n",
       "22             0.024754                0.026554  \n",
       "23             0.000089               -0.282529  \n",
       "24             0.052493                0.174209  \n",
       "25             0.100763                0.228139  \n",
       "26             0.131347                0.180592  \n",
       "27             0.116940                0.177969  \n",
       "28            -0.000003               -0.305330  \n",
       "29             0.000021               -0.304754  \n",
       "30             0.340189                0.438730  \n",
       "31             0.448293                0.383208  \n",
       "32             0.386976                0.352785  \n",
       "33             0.432199                0.365103  \n",
       "34             0.001149               -0.030003  \n",
       "35             0.002798                0.025678  \n",
       "36             0.342365                0.436179  \n",
       "37             0.439677                0.377446  \n",
       "38             0.368264                0.325623  \n",
       "39             0.419030                0.365111  \n",
       "40             0.000873               -0.029370  \n",
       "41             0.003239                0.019672  \n",
       "42             0.341067                0.434374  \n",
       "43             0.459044                0.369268  \n",
       "44             0.378942                0.320624  \n",
       "45             0.420718                0.358121  \n",
       "46             0.001243               -0.036342  \n",
       "47             0.003244                0.020052  "
      ]
     },
     "execution_count": 19,
     "metadata": {},
     "output_type": "execute_result"
    }
   ],
   "source": [
    "# ================================================================== #\n",
    "# Clustering:\n",
    "#   Start the costum grid seach for all different clustering methods\n",
    "'''\n",
    "For the original dataset (without dimensionality reduction), it takes\n",
    "me over 1 hour to just run one K-Mean k=5 model and still have finished\n",
    "because Colab suffers from RAM issue or interruption. Therefore, I didn't\n",
    "test this dataset. However, it is also assumed that if a model take too\n",
    "long to converge, it is likely not a good model.\n",
    "'''\n",
    "# ================================================================== #\n",
    "\n",
    "# function for calculating all cluster measures\n",
    "def cluster_evaluation(X, y_true, y_pred):\n",
    "    score = {}\n",
    "    score[\"Homogeneity\"] = homogeneity_score(y_true, y_pred)\n",
    "    score[\"Completeness\"] = completeness_score(y_true, y_pred)\n",
    "    score[\"V-measure\"] = v_measure_score(y_true, y_pred)\n",
    "    score[\"Adjusted Rand-Index\"] = adjusted_rand_score(y_true, y_pred)\n",
    "    score[\"Silhouette Coefficient\"] = silhouette_score(X, y_pred)\n",
    "    \n",
    "    return score\n",
    "\n",
    "# parameters\n",
    "K = [10, 20, 50]\n",
    "N_CLUSTERS = [20]\n",
    "MIN_CLUSTER_SIZE = [100, 200]\n",
    "path = \"/content/drive/MyDrive/Colab Notebooks/ECE_219/Project2/Q17_grid_search\"\n",
    "dr_names = ['DR_SVD_5', 'DR_SVD_20', 'DR_SVD_200',\n",
    "            'DR_NMF_5', 'DR_NMF_20',\n",
    "            'DR_UMAP_5', 'DR_UMAP_20', 'DR_UMAP_200']\n",
    "score_names = ['Homogeneity', \"Completeness\", \"V-measure\", \n",
    "               \"Adjusted Rand-Index\", \"Silhouette Coefficient\"]\n",
    "\n",
    "# init\n",
    "X_train_dr = {}\n",
    "y_train_dr = {}\n",
    "df_grid_results = pd.DataFrame()\n",
    "\n",
    "# get multiple dimension-reduced features datasets\n",
    "for name in dr_names:\n",
    "    X_train_dr[name] = joblib.load(f'{path}/{name}.pkl')\n",
    "    y_train_dr[name] = newsgroups_train.target\n",
    "\n",
    "# run costum grid search \n",
    "for key in X_train_dr.keys():\n",
    "    # K-Means\n",
    "    for k in K:\n",
    "        kmeans = KMeans(n_clusters=k, max_iter=1000, n_init=50, random_state=0)\n",
    "        kmeans.fit(X_train_dr[key])\n",
    "        kmeans_score = cluster_evaluation(X_train_dr[key], y_train_dr[key], \n",
    "                                          kmeans.labels_)\n",
    "        # save\n",
    "        df_temp = pd.DataFrame([kmeans_score])\n",
    "        df_temp['dataset'] = key\n",
    "        df_temp['cluster'] = f'K-Means_{k}'\n",
    "        df_grid_results = df_grid_results.append(df_temp, ignore_index=True)\n",
    "\n",
    "    # Agglomerative Clustering\n",
    "    for n in N_CLUSTERS:\n",
    "        ac = AgglomerativeClustering(n_clusters=n, linkage='ward')\n",
    "        ac.fit(X_train_dr[key])\n",
    "        ac_score = cluster_evaluation(X_train_dr[key], y_train_dr[key], \n",
    "                                      ac.labels_)\n",
    "        # save\n",
    "        df_temp = pd.DataFrame([ac_score])\n",
    "        df_temp['dataset'] = key\n",
    "        df_temp['cluster'] = f'Agglomerative_{n}'\n",
    "        df_grid_results = df_grid_results.append(df_temp, ignore_index=True)\n",
    "\n",
    "    # HDBSCAN\n",
    "    for i in MIN_CLUSTER_SIZE:\n",
    "        hdbscan = HDBSCAN(min_cluster_size=i, allow_single_cluster=True)\n",
    "        hdbscan.fit(X_train_dr[key])\n",
    "        hdbscan_score = cluster_evaluation(X_train_dr[key], y_train_dr[key], \n",
    "                                           hdbscan.labels_)\n",
    "        # save\n",
    "        df_temp = pd.DataFrame([hdbscan_score])\n",
    "        df_temp['dataset'] = key\n",
    "        df_temp['cluster'] = f'HDBSCAN_{i}'\n",
    "        df_grid_results = df_grid_results.append(df_temp, ignore_index=True)\n",
    "\n",
    "\n",
    "# save and show the results\n",
    "df_grid_results = df_grid_results[['dataset', 'cluster'] + score_names]\n",
    "file_path = \"/content/drive/MyDrive/Colab Notebooks/ECE_219/Project2\"\n",
    "df_grid_results.to_csv(f'{file_path}/Q17_grid_result.csv')\n",
    "df_grid_results"
   ]
  },
  {
   "cell_type": "code",
   "execution_count": 13,
   "id": "OqxhAM6cHjuT",
   "metadata": {
    "colab": {
     "base_uri": "https://localhost:8080/",
     "height": 223
    },
    "executionInfo": {
     "elapsed": 188,
     "status": "ok",
     "timestamp": 1676248174498,
     "user": {
      "displayName": "PING-CHENG WEI",
      "userId": "17456108749581822272"
     },
     "user_tz": 480
    },
    "id": "OqxhAM6cHjuT",
    "outputId": "b478e3b9-262a-44f7-f783-8c1e0743a259"
   },
   "outputs": [
    {
     "data": {
      "text/html": [
       "<style type=\"text/css\">\n",
       "</style>\n",
       "<table id=\"T_da250_\" class=\"dataframe\">\n",
       "  <caption>Best Setting for each evaluation metric</caption>\n",
       "  <thead>\n",
       "    <tr>\n",
       "      <th class=\"blank level0\" >&nbsp;</th>\n",
       "      <th class=\"col_heading level0 col0\" >best_dataset</th>\n",
       "      <th class=\"col_heading level0 col1\" >best_cluter</th>\n",
       "      <th class=\"col_heading level0 col2\" >best_value</th>\n",
       "    </tr>\n",
       "  </thead>\n",
       "  <tbody>\n",
       "    <tr>\n",
       "      <th id=\"T_da250_level0_row0\" class=\"row_heading level0 row0\" >Homogeneity</th>\n",
       "      <td id=\"T_da250_row0_col0\" class=\"data row0 col0\" >DR_UMAP_200</td>\n",
       "      <td id=\"T_da250_row0_col1\" class=\"data row0 col1\" >K-Means_50</td>\n",
       "      <td id=\"T_da250_row0_col2\" class=\"data row0 col2\" >0.628740</td>\n",
       "    </tr>\n",
       "    <tr>\n",
       "      <th id=\"T_da250_level0_row1\" class=\"row_heading level0 row1\" >Completeness</th>\n",
       "      <td id=\"T_da250_row1_col0\" class=\"data row1 col0\" >DR_UMAP_200</td>\n",
       "      <td id=\"T_da250_row1_col1\" class=\"data row1 col1\" >K-Means_10</td>\n",
       "      <td id=\"T_da250_row1_col2\" class=\"data row1 col2\" >0.654378</td>\n",
       "    </tr>\n",
       "    <tr>\n",
       "      <th id=\"T_da250_level0_row2\" class=\"row_heading level0 row2\" >V-measure</th>\n",
       "      <td id=\"T_da250_row2_col0\" class=\"data row2 col0\" >DR_UMAP_200</td>\n",
       "      <td id=\"T_da250_row2_col1\" class=\"data row2 col1\" >K-Means_20</td>\n",
       "      <td id=\"T_da250_row2_col2\" class=\"data row2 col2\" >0.583932</td>\n",
       "    </tr>\n",
       "    <tr>\n",
       "      <th id=\"T_da250_level0_row3\" class=\"row_heading level0 row3\" >Adjusted Rand-Index</th>\n",
       "      <td id=\"T_da250_row3_col0\" class=\"data row3 col0\" >DR_UMAP_200</td>\n",
       "      <td id=\"T_da250_row3_col1\" class=\"data row3 col1\" >K-Means_20</td>\n",
       "      <td id=\"T_da250_row3_col2\" class=\"data row3 col2\" >0.459044</td>\n",
       "    </tr>\n",
       "    <tr>\n",
       "      <th id=\"T_da250_level0_row4\" class=\"row_heading level0 row4\" >Silhouette Coefficient</th>\n",
       "      <td id=\"T_da250_row4_col0\" class=\"data row4 col0\" >DR_UMAP_5</td>\n",
       "      <td id=\"T_da250_row4_col1\" class=\"data row4 col1\" >K-Means_10</td>\n",
       "      <td id=\"T_da250_row4_col2\" class=\"data row4 col2\" >0.438730</td>\n",
       "    </tr>\n",
       "  </tbody>\n",
       "</table>\n"
      ],
      "text/plain": [
       "<pandas.io.formats.style.Styler at 0x7f03ddd31280>"
      ]
     },
     "execution_count": 13,
     "metadata": {},
     "output_type": "execute_result"
    }
   ],
   "source": [
    "# plot out the best result\n",
    "score_names = ['Homogeneity', \"Completeness\", \"V-measure\", \n",
    "               \"Adjusted Rand-Index\", \"Silhouette Coefficient\"]\n",
    "\n",
    "best_results = {}\n",
    "for name in score_names:\n",
    "    cur_best = {}\n",
    "    best_idx = np.argmax(df_grid_results[name])\n",
    "    best_value = np.max(df_grid_results[name])\n",
    "    best_dataset = df_grid_results['dataset'][best_idx]\n",
    "    best_cluter = df_grid_results['cluster'][best_idx]\n",
    "    best_results[name] = [best_dataset, best_cluter, best_value]\n",
    "\n",
    "cols = ['best_dataset', 'best_cluter', 'best_value']\n",
    "best_results = pd.DataFrame.from_dict(best_results, orient='index', columns=cols)\n",
    "best_results = best_results.style.set_caption(\"Best Setting for each evaluation metric\")\n",
    "best_results"
   ]
  },
  {
   "cell_type": "markdown",
   "id": "2edfee7a",
   "metadata": {
    "id": "2edfee7a"
   },
   "source": [
    "<div class=\"alert alert-block alert-success\">\n",
    "<b>QUESTION 17:</b> Based on your experiments, which dimensionality reduction technique and clustering methods worked best together for 20-class text data and why? Follow the table below. If UMAP takes too long to converge, consider running it once and saving the intermediate results in a pickle file.\n",
    "    \n",
    "Hint: DBSCAN and HDBSCAN do not accept the number of clusters as an input parameter. So pay close attention to how the different clustering metrics are being computed for these methods.\n",
    "</div>"
   ]
  },
  {
   "cell_type": "markdown",
   "id": "02d1e618",
   "metadata": {
    "id": "02d1e618"
   },
   "source": [
    "<div class=\"alert alert-block alert-success\">\n",
    "<b>ANSWER 17:</b> Based on the \"Best Setting for each evaluation metric\" table shown above, the best dimensionality reduction technique can be easily concluded to the UMAP with a reduction to 200 features as it demonstrates to be the best dataset in 4 out of 5 evaluation metrics. To decide the best clustering method, I dive deep into the table of all experiment results, especially the part with UMAP and 200 features. One can notice that for each K-Means model, i.e. $k = 10, 20, 50$, They all have their advantages. $k = 10$, for example, has the highest completeness scores, $k = 50$ has the highest homogeneity, and $k = 20$ performs somewhere in between and thus with the highest v-measure score, which is per definition an average of homogeneity score and completeness score. However, further taking the adjusted rand-index into consideration, it can be conculded that the best clustering method is K-Means with $k = 20$, which yields the highest adjusted rand-index score. This result makes sense as the number of classes in newsgroups dataset ground truth is also 20. \n",
    "</div>"
   ]
  },
  {
   "cell_type": "code",
   "execution_count": null,
   "id": "PMLLgyhRMTuL",
   "metadata": {
    "id": "PMLLgyhRMTuL"
   },
   "outputs": [],
   "source": [
    "# ================================================================== #\n",
    "'''\n",
    "Grid Search:\n",
    "  Another way to complete the grid search with GridSearchCV.\n",
    "  But there are lots of problems so I decide not to use this one.\n",
    "  The whole pipeline, however, looks like the followings.\n",
    "'''\n",
    "# ================================================================== #\n",
    "\n",
    "# # add prediction function in AgglomerativeClustering\n",
    "# # to avoid error in grid search\n",
    "# class AgglomerativeClusteringWrapper(AgglomerativeClustering):\n",
    "#     def predict(self, X):\n",
    "#         return self.labels_.astype(int)\n",
    "\n",
    "# # set up pipeline\n",
    "# pipeline = Pipeline([('cluster', KMeans())])\n",
    "\n",
    "# # parameters\n",
    "# K = [10, 20, 50]\n",
    "# N_CLUSTERS = [20]\n",
    "# MIN_CLUSTER_SIZE = [100, 200]\n",
    "\n",
    "# # grid parameters\n",
    "# param_grid = [\n",
    "#     {\n",
    "#         'cluster': [KMeans(max_iter=1000, n_init=50, \n",
    "#                            random_state=0)],\n",
    "#         'cluster__n_clusters': K,\n",
    "#         # 3 choices\n",
    "#     },\n",
    "#     {\n",
    "#         'cluster': [AgglomerativeClusteringWrapper(linkage='ward')],\n",
    "#         'cluster__n_clusters': N_CLUSTERS,\n",
    "#         # 1 choice\n",
    "#     },\n",
    "#     {\n",
    "#         'cluster': [HDBSCAN(metric='euclidean',\n",
    "#                             cluster_selection_method='eom')],\n",
    "#         'cluster__min_cluster_size': MIN_CLUSTER_SIZE,\n",
    "#         # 2 choices\n",
    "#     },\n",
    "#     # 3 + 1 + 2 = 6 choices in total\n",
    "# ]\n",
    "\n",
    "# # init\n",
    "# path = \"/content/drive/MyDrive/Colab Notebooks/ECE_219/Project2/Q17_grid_search\"\n",
    "# dr_names = ['DR_None', \n",
    "#             'DR_SVD_5', 'DR_SVD_20', 'DR_SVD_200',\n",
    "#             'DR_NMF_5', 'DR_NMF_20', 'DR_NMF_200',\n",
    "#             'DR_UMAP_5', 'DR_UMAP_20', 'DR_UMAP_200']\n",
    "# scoring = ['homogeneity_score', 'completeness_score', \n",
    "#            'v_measure_score', 'adjusted_rand_score']\n",
    "# X_train_dr = {}\n",
    "# y_train_dr = {}\n",
    "# df_grid_results = pd.DataFrame()\n",
    "\n",
    "# # get multiple dimension-reduced features datasets\n",
    "# for name in dr_names:\n",
    "#     X_train_dr[name] = joblib.load(f'{path}/{name}.pkl')\n",
    "#     y_train_dr[name] = newsgroups_train.target\n",
    "\n",
    "# for key in X_train_dr.keys():\n",
    "#     # run grid search \n",
    "#     grid = GridSearchCV(estimator=pipeline, \n",
    "#                         param_grid=param_grid, \n",
    "#                         scoring=scoring, \n",
    "#                         ) # refit='adjusted_rand_score'\n",
    "#     grid.fit(X_train_dr[key], y_train_dr[key])\n",
    "\n",
    "#     # save the grid search results in the data frame\n",
    "#     df_temp = pd.DataFrame(grid.cv_results_)\n",
    "#     df_temp['dataset'] = key\n",
    "#     df_grid_results = df_grid_results.append(df_temp, ignore_index=True)\n",
    "\n",
    "# # show the results\n",
    "# get_values = lambda x: '_'.join(str(val) for val in x.values())\n",
    "# index_names = df_grid_results['params'].apply(get_values)\n",
    "# df_grid_results = df_grid_results.set_index(index_names).rename_axis('kernel')\n",
    "# df_grid_results[['kernel'] + scoring]"
   ]
  },
  {
   "cell_type": "markdown",
   "id": "HzoTSodsXho8",
   "metadata": {
    "id": "HzoTSodsXho8"
   },
   "source": [
    "#### Extra Credit\n",
    "\n",
    "Try to further improve the clustering performance of the best found model in Q17, which is UMAP with 200 features as dimensionality reduction technique and K-Means with 20 clusters as clustering methos."
   ]
  },
  {
   "cell_type": "code",
   "execution_count": 55,
   "id": "JTJm-KJ8ViAq",
   "metadata": {
    "colab": {
     "base_uri": "https://localhost:8080/",
     "height": 167
    },
    "executionInfo": {
     "elapsed": 580101,
     "status": "ok",
     "timestamp": 1676254332359,
     "user": {
      "displayName": "PING-CHENG WEI",
      "userId": "17456108749581822272"
     },
     "user_tz": 480
    },
    "id": "JTJm-KJ8ViAq",
    "outputId": "b1fbefa3-f21a-4c97-8fc9-a83170c2338d"
   },
   "outputs": [
    {
     "name": "stderr",
     "output_type": "stream",
     "text": [
      "/usr/local/lib/python3.8/dist-packages/sklearn/utils/validation.py:593: FutureWarning: np.matrix usage is deprecated in 1.0 and will raise a TypeError in 1.2. Please convert to a numpy array with np.asarray. For more information see: https://numpy.org/doc/stable/reference/generated/numpy.matrix.html\n",
      "  warnings.warn(\n"
     ]
    },
    {
     "data": {
      "text/html": [
       "\n",
       "  <div id=\"df-01f80375-543e-43c3-86a2-ed612864da51\">\n",
       "    <div class=\"colab-df-container\">\n",
       "      <div>\n",
       "<style scoped>\n",
       "    .dataframe tbody tr th:only-of-type {\n",
       "        vertical-align: middle;\n",
       "    }\n",
       "\n",
       "    .dataframe tbody tr th {\n",
       "        vertical-align: top;\n",
       "    }\n",
       "\n",
       "    .dataframe thead th {\n",
       "        text-align: right;\n",
       "    }\n",
       "</style>\n",
       "<table border=\"1\" class=\"dataframe\">\n",
       "  <thead>\n",
       "    <tr style=\"text-align: right;\">\n",
       "      <th></th>\n",
       "      <th>Homogeneity</th>\n",
       "      <th>Completeness</th>\n",
       "      <th>V-measure</th>\n",
       "      <th>Adjusted Rand-Index</th>\n",
       "      <th>Silhouette Coefficient</th>\n",
       "    </tr>\n",
       "  </thead>\n",
       "  <tbody>\n",
       "    <tr>\n",
       "      <th>old best found performance</th>\n",
       "      <td>0.575797</td>\n",
       "      <td>0.592301</td>\n",
       "      <td>0.583932</td>\n",
       "      <td>0.459044</td>\n",
       "      <td>0.369268</td>\n",
       "    </tr>\n",
       "    <tr>\n",
       "      <th>new best found performance</th>\n",
       "      <td>0.584414</td>\n",
       "      <td>0.619583</td>\n",
       "      <td>0.601485</td>\n",
       "      <td>0.454362</td>\n",
       "      <td>0.389403</td>\n",
       "    </tr>\n",
       "  </tbody>\n",
       "</table>\n",
       "</div>\n",
       "      <button class=\"colab-df-convert\" onclick=\"convertToInteractive('df-01f80375-543e-43c3-86a2-ed612864da51')\"\n",
       "              title=\"Convert this dataframe to an interactive table.\"\n",
       "              style=\"display:none;\">\n",
       "        \n",
       "  <svg xmlns=\"http://www.w3.org/2000/svg\" height=\"24px\"viewBox=\"0 0 24 24\"\n",
       "       width=\"24px\">\n",
       "    <path d=\"M0 0h24v24H0V0z\" fill=\"none\"/>\n",
       "    <path d=\"M18.56 5.44l.94 2.06.94-2.06 2.06-.94-2.06-.94-.94-2.06-.94 2.06-2.06.94zm-11 1L8.5 8.5l.94-2.06 2.06-.94-2.06-.94L8.5 2.5l-.94 2.06-2.06.94zm10 10l.94 2.06.94-2.06 2.06-.94-2.06-.94-.94-2.06-.94 2.06-2.06.94z\"/><path d=\"M17.41 7.96l-1.37-1.37c-.4-.4-.92-.59-1.43-.59-.52 0-1.04.2-1.43.59L10.3 9.45l-7.72 7.72c-.78.78-.78 2.05 0 2.83L4 21.41c.39.39.9.59 1.41.59.51 0 1.02-.2 1.41-.59l7.78-7.78 2.81-2.81c.8-.78.8-2.07 0-2.86zM5.41 20L4 18.59l7.72-7.72 1.47 1.35L5.41 20z\"/>\n",
       "  </svg>\n",
       "      </button>\n",
       "      \n",
       "  <style>\n",
       "    .colab-df-container {\n",
       "      display:flex;\n",
       "      flex-wrap:wrap;\n",
       "      gap: 12px;\n",
       "    }\n",
       "\n",
       "    .colab-df-convert {\n",
       "      background-color: #E8F0FE;\n",
       "      border: none;\n",
       "      border-radius: 50%;\n",
       "      cursor: pointer;\n",
       "      display: none;\n",
       "      fill: #1967D2;\n",
       "      height: 32px;\n",
       "      padding: 0 0 0 0;\n",
       "      width: 32px;\n",
       "    }\n",
       "\n",
       "    .colab-df-convert:hover {\n",
       "      background-color: #E2EBFA;\n",
       "      box-shadow: 0px 1px 2px rgba(60, 64, 67, 0.3), 0px 1px 3px 1px rgba(60, 64, 67, 0.15);\n",
       "      fill: #174EA6;\n",
       "    }\n",
       "\n",
       "    [theme=dark] .colab-df-convert {\n",
       "      background-color: #3B4455;\n",
       "      fill: #D2E3FC;\n",
       "    }\n",
       "\n",
       "    [theme=dark] .colab-df-convert:hover {\n",
       "      background-color: #434B5C;\n",
       "      box-shadow: 0px 1px 3px 1px rgba(0, 0, 0, 0.15);\n",
       "      filter: drop-shadow(0px 1px 2px rgba(0, 0, 0, 0.3));\n",
       "      fill: #FFFFFF;\n",
       "    }\n",
       "  </style>\n",
       "\n",
       "      <script>\n",
       "        const buttonEl =\n",
       "          document.querySelector('#df-01f80375-543e-43c3-86a2-ed612864da51 button.colab-df-convert');\n",
       "        buttonEl.style.display =\n",
       "          google.colab.kernel.accessAllowed ? 'block' : 'none';\n",
       "\n",
       "        async function convertToInteractive(key) {\n",
       "          const element = document.querySelector('#df-01f80375-543e-43c3-86a2-ed612864da51');\n",
       "          const dataTable =\n",
       "            await google.colab.kernel.invokeFunction('convertToInteractive',\n",
       "                                                     [key], {});\n",
       "          if (!dataTable) return;\n",
       "\n",
       "          const docLinkHtml = 'Like what you see? Visit the ' +\n",
       "            '<a target=\"_blank\" href=https://colab.research.google.com/notebooks/data_table.ipynb>data table notebook</a>'\n",
       "            + ' to learn more about interactive tables.';\n",
       "          element.innerHTML = '';\n",
       "          dataTable['output_type'] = 'display_data';\n",
       "          await google.colab.output.renderOutput(dataTable, element);\n",
       "          const docLink = document.createElement('div');\n",
       "          docLink.innerHTML = docLinkHtml;\n",
       "          element.appendChild(docLink);\n",
       "        }\n",
       "      </script>\n",
       "    </div>\n",
       "  </div>\n",
       "  "
      ],
      "text/plain": [
       "                            Homogeneity  Completeness  V-measure  \\\n",
       "old best found performance     0.575797      0.592301   0.583932   \n",
       "new best found performance     0.584414      0.619583   0.601485   \n",
       "\n",
       "                            Adjusted Rand-Index  Silhouette Coefficient  \n",
       "old best found performance             0.459044                0.369268  \n",
       "new best found performance             0.454362                0.389403  "
      ]
     },
     "execution_count": 55,
     "metadata": {},
     "output_type": "execute_result"
    }
   ],
   "source": [
    "# old best found performance \n",
    "umap_score_old = {'Homogeneity': 0.5757967524019446,\n",
    "                  'Completeness': 0.5923011716943956,\n",
    "                  'V-measure': 0.5839323640085016,\n",
    "                  'Adjusted Rand-Index': 0.4590439375224452,\n",
    "                  'Silhouette Coefficient': 0.369268}\n",
    "\n",
    "# set up UMAP\n",
    "umap = UMAP(n_components=300, metric='cosine', random_state=0, \n",
    "            n_neighbors=30)\n",
    "X_train_umap = umap.fit_transform(X_train_tfidf)\n",
    "\n",
    "# set up K-Means\n",
    "umap_kmeans = KMeans(n_clusters=20, max_iter=1000, n_init=50, \n",
    "                     random_state=0)\n",
    "umap_kmeans.fit(X_train_umap)\n",
    "\n",
    "# new best found performance \n",
    "umap_score_new = cluster_evaluation(X_train_umap, newsgroups_train.target,\n",
    "                                    umap_kmeans.labels_)\n",
    "\n",
    "# show\n",
    "idx_names = ['old best found performance', 'new best found performance']\n",
    "compare_df = pd.DataFrame([umap_score_old, umap_score_new], index=idx_names)\n",
    "compare_df"
   ]
  },
  {
   "cell_type": "markdown",
   "id": "da232ed8",
   "metadata": {
    "id": "da232ed8"
   },
   "source": [
    "<div class=\"alert alert-block alert-success\">\n",
    "<b>QUESTION 18:</b> Extra credit: If you can find creative ways to further enhance the clustering\n",
    "performance, report your method and the results you obtain.\n",
    "</div>"
   ]
  },
  {
   "cell_type": "markdown",
   "id": "1dc2e8c8",
   "metadata": {
    "id": "1dc2e8c8"
   },
   "source": [
    "<div class=\"alert alert-block alert-success\">\n",
    "<b>ANSWER 18:</b> The slightly improved performance is shown above. I found out that by increasing the n_components to 300 and n_neighbors to 30, the model can yields slightly higher performance.\n",
    "</div>"
   ]
  },
  {
   "cell_type": "markdown",
   "id": "ddf5033e",
   "metadata": {
    "id": "ddf5033e"
   },
   "source": [
    "# Part 2 - Deep Learning and Clustering of Image Data"
   ]
  },
  {
   "cell_type": "markdown",
   "id": "98963156",
   "metadata": {
    "id": "98963156"
   },
   "source": [
    "<div class=\"alert alert-block alert-success\">\n",
    "<b>QUESTION 19:</b> In a brief paragraph discuss: If the VGG network is trained on a dataset with perhaps totally different classes as targets, why would one expect the features derived from such a network to have discriminative power for a custom dataset?\n",
    "</div>"
   ]
  },
  {
   "cell_type": "markdown",
   "id": "ecb661eb",
   "metadata": {
    "id": "ecb661eb"
   },
   "source": [
    "<div class=\"alert alert-block alert-success\">\n",
    "<b>ANSWER 19:</b> \n",
    "Because a pre-trained model can potentially understand the features in a new custom dataset, which might have a certain degree of similarity in features, weights, etc., with respected to the pre-trained dataset. Therefore, by applying transfer learning in leveraging the knowledge it learned from the previously trained models, it can achieves optimal performance faster than the traditional ML models and have discriminative power. Even though the custom dataset does not look similar to the pre-trained dataset, such pre-trained model still has the capability to morph the highly non-smooth raw data input in higher dimension into a relative smoother lower-dimensional space if the pre-trained model is generalized well enough.\n",
    "</div>"
   ]
  },
  {
   "cell_type": "markdown",
   "id": "rW92eh13d5_q",
   "metadata": {
    "id": "rW92eh13d5_q"
   },
   "source": [
    "#### Use the helper code to load the flowers dataset, and extract their features. To perform computations on deep neural networks fast enough, GPU resources are often required. GPU resources can be freely accessed through “Google Colab”."
   ]
  },
  {
   "cell_type": "code",
   "execution_count": 2,
   "id": "65770ee9",
   "metadata": {
    "executionInfo": {
     "elapsed": 4386,
     "status": "ok",
     "timestamp": 1676254873992,
     "user": {
      "displayName": "PING-CHENG WEI",
      "userId": "17456108749581822272"
     },
     "user_tz": 480
    },
    "id": "65770ee9"
   },
   "outputs": [],
   "source": [
    "import torch\n",
    "import torch.nn as nn\n",
    "from torchvision import transforms, datasets\n",
    "from torch.utils.data import DataLoader, TensorDataset\n",
    "import numpy as np\n",
    "import matplotlib.pyplot as plt\n",
    "\n",
    "from tqdm import tqdm\n",
    "import requests\n",
    "import os\n",
    "import tarfile\n",
    "\n",
    "from sklearn.preprocessing import StandardScaler\n",
    "from sklearn.decomposition import PCA\n",
    "from sklearn.cluster import KMeans\n",
    "from sklearn.metrics import confusion_matrix, adjusted_rand_score, adjusted_mutual_info_score\n",
    "from sklearn.pipeline import Pipeline\n",
    "from sklearn.base import TransformerMixin"
   ]
  },
  {
   "cell_type": "markdown",
   "id": "Ob7WTq_ge-If",
   "metadata": {
    "id": "Ob7WTq_ge-If"
   },
   "source": [
    "## Flowers Dataset and VGG Features"
   ]
  },
  {
   "cell_type": "code",
   "execution_count": 3,
   "id": "-lgYWKa7enC2",
   "metadata": {
    "colab": {
     "base_uri": "https://localhost:8080/",
     "height": 190,
     "referenced_widgets": [
      "cac7484695304265b7d6e5312d5849af",
      "265bc7d0cff44032979f40f4a1f701e6",
      "93b3d952ce13416da3a69e173c1b30d4",
      "8b87becbac994af197a2e9e4458454f8",
      "a6cf41e3cf2f487880f1911355196295",
      "ec0718e733594ca7b47f2c268faec52c",
      "da6f5ce4a5ef481d909eebff99c74b13",
      "fe049d02edd7483382e38fe079b1686f",
      "356f8e42bbe441c3b09fb809b2330c5f",
      "4184f4bb0c4e4ba497675c5a4ac94fbc",
      "668936c0c5474162a9ccf22784eebc25"
     ]
    },
    "executionInfo": {
     "elapsed": 58408,
     "status": "ok",
     "timestamp": 1676254936419,
     "user": {
      "displayName": "PING-CHENG WEI",
      "userId": "17456108749581822272"
     },
     "user_tz": 480
    },
    "id": "-lgYWKa7enC2",
    "outputId": "84a2abbb-b8fa-4a52-d6b8-504db9edb7a5"
   },
   "outputs": [
    {
     "name": "stderr",
     "output_type": "stream",
     "text": [
      "Downloading: \"https://github.com/pytorch/vision/zipball/v0.10.0\" to /root/.cache/torch/hub/v0.10.0.zip\n",
      "/usr/local/lib/python3.8/dist-packages/torchvision/models/_utils.py:208: UserWarning: The parameter 'pretrained' is deprecated since 0.13 and may be removed in the future, please use 'weights' instead.\n",
      "  warnings.warn(\n",
      "/usr/local/lib/python3.8/dist-packages/torchvision/models/_utils.py:223: UserWarning: Arguments other than a weight enum or `None` for 'weights' are deprecated since 0.13 and may be removed in the future. The current behavior is equivalent to passing `weights=VGG16_Weights.IMAGENET1K_V1`. You can also use `weights=VGG16_Weights.DEFAULT` to get the most up-to-date weights.\n",
      "  warnings.warn(msg)\n",
      "Downloading: \"https://download.pytorch.org/models/vgg16-397923af.pth\" to /root/.cache/torch/hub/checkpoints/vgg16-397923af.pth\n"
     ]
    },
    {
     "data": {
      "application/vnd.jupyter.widget-view+json": {
       "model_id": "cac7484695304265b7d6e5312d5849af",
       "version_major": 2,
       "version_minor": 0
      },
      "text/plain": [
       "  0%|          | 0.00/528M [00:00<?, ?B/s]"
      ]
     },
     "metadata": {},
     "output_type": "display_data"
    },
    {
     "name": "stderr",
     "output_type": "stream",
     "text": [
      "100%|██████████| 58/58 [00:42<00:00,  1.36it/s]\n"
     ]
    }
   ],
   "source": [
    "filename = './flowers_features_and_labels.npz'\n",
    "\n",
    "if os.path.exists(filename):\n",
    "    file = np.load(filename)\n",
    "    f_all, y_all = file['f_all'], file['y_all']\n",
    "\n",
    "else:\n",
    "    if not os.path.exists('./flower_photos'):\n",
    "        # download the flowers dataset and extract its images\n",
    "        url = 'http://download.tensorflow.org/example_images/flower_photos.tgz'\n",
    "        with open('./flower_photos.tgz', 'wb') as file:\n",
    "            file.write(requests.get(url).content)\n",
    "        with tarfile.open('./flower_photos.tgz') as file:\n",
    "            file.extractall('./')\n",
    "        os.remove('./flower_photos.tgz')\n",
    "\n",
    "    class FeatureExtractor(nn.Module):\n",
    "        def __init__(self):\n",
    "            super().__init__()\n",
    "\n",
    "            vgg = torch.hub.load('pytorch/vision:v0.10.0', 'vgg16', pretrained=True)\n",
    "\n",
    "            # Extract VGG-16 Feature Layers\n",
    "            self.features = list(vgg.features)\n",
    "            self.features = nn.Sequential(*self.features)\n",
    "            # Extract VGG-16 Average Pooling Layer\n",
    "            self.pooling = vgg.avgpool\n",
    "            # Convert the image into one-dimensional vector\n",
    "            self.flatten = nn.Flatten()\n",
    "            # Extract the first part of fully-connected layer from VGG16\n",
    "            self.fc = vgg.classifier[0]\n",
    "\n",
    "        def forward(self, x):\n",
    "            # It will take the input 'x' until it returns the feature vector called 'out'\n",
    "            out = self.features(x)\n",
    "            out = self.pooling(out)\n",
    "            out = self.flatten(out)\n",
    "            out = self.fc(out) \n",
    "            return out \n",
    "\n",
    "    # Initialize the model\n",
    "    assert torch.cuda.is_available()\n",
    "    feature_extractor = FeatureExtractor().cuda().eval()\n",
    "\n",
    "    dataset = datasets.ImageFolder(root='./flower_photos',\n",
    "                                   transform=transforms.Compose([transforms.Resize(224),\n",
    "                                                                 transforms.CenterCrop(224),\n",
    "                                                                 transforms.ToTensor(),\n",
    "                                                                 transforms.Normalize(mean=[0.485, 0.456, 0.406], std=[0.229, 0.224, 0.225])]))\n",
    "    dataloader = DataLoader(dataset, batch_size=64, shuffle=True)\n",
    "\n",
    "    # Extract features and store them on disk\n",
    "    f_all, y_all = np.zeros((0, 4096)), np.zeros((0,))\n",
    "    for x, y in tqdm(dataloader):\n",
    "        with torch.no_grad():\n",
    "            f_all = np.vstack([f_all, feature_extractor(x.cuda()).cpu()])\n",
    "            y_all = np.concatenate([y_all, y])\n",
    "    np.savez(filename, f_all=f_all, y_all=y_all)"
   ]
  },
  {
   "cell_type": "markdown",
   "id": "bf5d9ea8",
   "metadata": {
    "id": "bf5d9ea8"
   },
   "source": [
    "<div class=\"alert alert-block alert-success\">\n",
    "<b>QUESTION 20:</b> In a brief paragraph explain how the helper code base is performing feature extraction.\n",
    "</div>"
   ]
  },
  {
   "cell_type": "markdown",
   "id": "30c74d1c",
   "metadata": {
    "id": "30c74d1c"
   },
   "source": [
    "<div class=\"alert alert-block alert-success\">\n",
    "<b>ANSWER 20:</b> The helper code first use the pre-trained VGG-16 feature layers to extract the intermediate representation of the input image, which is then processed by a VGG-16 average pooling layer. After that, the processed intermediate representation is flattened into one-dimensional vector with a flatten layer and output the final extracted feature vector through the first part of FC layer of the pretrained VGG-16 model.\n",
    "</div>"
   ]
  },
  {
   "cell_type": "code",
   "execution_count": 4,
   "id": "fafc1599",
   "metadata": {
    "colab": {
     "base_uri": "https://localhost:8080/"
    },
    "executionInfo": {
     "elapsed": 1082,
     "status": "ok",
     "timestamp": 1676254992549,
     "user": {
      "displayName": "PING-CHENG WEI",
      "userId": "17456108749581822272"
     },
     "user_tz": 480
    },
    "id": "fafc1599",
    "outputId": "c536aa2c-5903-4901-819d-fbf8aa2fad15"
   },
   "outputs": [
    {
     "name": "stdout",
     "output_type": "stream",
     "text": [
      "Shape of the original image 1: (313, 500, 3)\n",
      "Shape of the original image 2: (231, 320, 3)\n",
      "Shape of the original image 3: (231, 240, 3)\n",
      "Shape of each loaded batch: torch.Size([64, 3, 224, 224])\n",
      "Shape of the each extracted feature vector: 4096\n",
      "Number of total images samples: 3670\n"
     ]
    }
   ],
   "source": [
    "import matplotlib.image as mpimg\n",
    "\n",
    "# How many pixels are there in the original images?\n",
    "img1 = mpimg.imread('/content/flower_photos/daisy/10140303196_b88d3d6cec.jpg')\n",
    "print('Shape of the original image 1: {}'.format(img1.shape))\n",
    "img2 = mpimg.imread('/content/flower_photos/roses/10894627425_ec76bbc757_n.jpg')\n",
    "print('Shape of the original image 2: {}'.format(img2.shape))\n",
    "img3 = mpimg.imread('/content/flower_photos/sunflowers/10386503264_e05387e1f7_m.jpg')\n",
    "print('Shape of the original image 3: {}'.format(img3.shape))\n",
    "\n",
    "# shape of the batch in dataloader\n",
    "batch_shape = next(iter(dataloader))[0].shape\n",
    "print('Shape of each loaded batch: {}'.format(batch_shape))\n",
    "\n",
    "# How many features does the VGG network extract per image?\n",
    "num_samples = y_all.shape[0]\n",
    "num_features = f_all.shape[1]\n",
    "print(\"Shape of the each extracted feature vector: {}\".format(num_features))\n",
    "print(\"Number of total images samples: {}\".format(num_samples))"
   ]
  },
  {
   "cell_type": "markdown",
   "id": "9f58eeba",
   "metadata": {
    "id": "9f58eeba"
   },
   "source": [
    "<div class=\"alert alert-block alert-success\">\n",
    "<b>QUESTION 21:</b> How many pixels are there in the original images? How many features does the VGG network extract per image; i.e what is the dimension of each feature vector for an image sample?\n",
    "</div>"
   ]
  },
  {
   "cell_type": "markdown",
   "id": "8b38defc",
   "metadata": {
    "id": "8b38defc"
   },
   "source": [
    "<div class=\"alert alert-block alert-success\">\n",
    "<b>ANSWER 21:</b> The number of pixels in the original images (flower photos folder) varies between each image. Some examples of dimension here can be (313, 500, 3), (231, 320, 3), or (231, 240, 3). Therefore, we can only be certain that the original images are all RGB-image. The size of the loaded images in the dataloader, however, can be certain since a resize transformation to 224 is applied. Hense each loaded image has $224 \\times 224 \\times 3 = 150528$ pixels. The final extracted feature vector of an image has a dimension of 4096. \n",
    "</div>"
   ]
  },
  {
   "cell_type": "code",
   "execution_count": 5,
   "id": "90GTeFZSnZu0",
   "metadata": {
    "colab": {
     "base_uri": "https://localhost:8080/"
    },
    "executionInfo": {
     "elapsed": 249,
     "status": "ok",
     "timestamp": 1676255058057,
     "user": {
      "displayName": "PING-CHENG WEI",
      "userId": "17456108749581822272"
     },
     "user_tz": 480
    },
    "id": "90GTeFZSnZu0",
    "outputId": "0864f469-2cec-4cb1-8531-d3cb62a75ff4"
   },
   "outputs": [
    {
     "name": "stdout",
     "output_type": "stream",
     "text": [
      "Number of feature vectors with zero inside: 0\n"
     ]
    }
   ],
   "source": [
    "# print the number of nonzero elements \n",
    "# in the extracted featuress\n",
    "num_zeros_per_vector = (f_all==0).sum(axis=1)\n",
    "num_sample_w0 = (num_zeros_per_vector!=0).sum().astype(int)\n",
    "print('Number of feature vectors with zero inside: {}'.format(num_sample_w0))"
   ]
  },
  {
   "cell_type": "markdown",
   "id": "b058b452",
   "metadata": {
    "id": "b058b452"
   },
   "source": [
    "<div class=\"alert alert-block alert-success\">\n",
    "<b>QUESTION 22:</b> Are the extracted features dense or sparse? (Compare with sparse TF-IDF features in text.)\n",
    "</div>"
   ]
  },
  {
   "cell_type": "markdown",
   "id": "766f82b5",
   "metadata": {
    "id": "766f82b5"
   },
   "source": [
    "<div class=\"alert alert-block alert-success\">\n",
    "<b>ANSWER 22:</b> The extracted features are dense as there are basically no zero elements in the feature vectors.\n",
    "</div>"
   ]
  },
  {
   "cell_type": "markdown",
   "id": "DuaOtXSCrMxr",
   "metadata": {
    "id": "DuaOtXSCrMxr"
   },
   "source": [
    "### Apply t-SNE and visualize the ground truth clustering of the extracted features"
   ]
  },
  {
   "cell_type": "code",
   "execution_count": 6,
   "id": "t9eZqJbyq7mN",
   "metadata": {
    "colab": {
     "base_uri": "https://localhost:8080/",
     "height": 370
    },
    "executionInfo": {
     "elapsed": 37250,
     "status": "ok",
     "timestamp": 1676255125733,
     "user": {
      "displayName": "PING-CHENG WEI",
      "userId": "17456108749581822272"
     },
     "user_tz": 480
    },
    "id": "t9eZqJbyq7mN",
    "outputId": "6a4505a5-8a86-4e8d-a15b-73aeca1dc88d"
   },
   "outputs": [
    {
     "name": "stderr",
     "output_type": "stream",
     "text": [
      "/usr/local/lib/python3.8/dist-packages/sklearn/manifold/_t_sne.py:780: FutureWarning: The default initialization in TSNE will change from 'random' to 'pca' in 1.2.\n",
      "  warnings.warn(\n",
      "/usr/local/lib/python3.8/dist-packages/sklearn/manifold/_t_sne.py:790: FutureWarning: The default learning rate in TSNE will change from 200.0 to 'auto' in 1.2.\n",
      "  warnings.warn(\n"
     ]
    },
    {
     "data": {
      "image/png": "[encoded data removed]",
      "text/plain": [
       "<Figure size 432x288 with 1 Axes>"
      ]
     },
     "metadata": {
      "needs_background": "light"
     },
     "output_type": "display_data"
    }
   ],
   "source": [
    "from sklearn.manifold import TSNE\n",
    "\n",
    "f_tsne = TSNE(n_components=2).fit_transform(f_all)\n",
    "plt.scatter(*f_tsne.T, c=y_all)\n",
    "plt.title(\"Ground Truth Clustering with t-SNE\")\n",
    "plt.show()"
   ]
  },
  {
   "cell_type": "markdown",
   "id": "fdd9c8c0",
   "metadata": {
    "id": "fdd9c8c0"
   },
   "source": [
    "<div class=\"alert alert-block alert-success\">\n",
    "<b>QUESTION 23:</b> In order to inspect the high-dimensional features, t-SNE is a popular off-the-shelf choice for visualizing Vision features. Map the features you have extracted onto 2 dimensions with t-SNE. Then plot the mapped feature vectors along x and y axes. Color-code the data points with ground-truth labels. Describe your observation.\n",
    "</div>"
   ]
  },
  {
   "cell_type": "markdown",
   "id": "9f93242d",
   "metadata": {
    "id": "9f93242d"
   },
   "source": [
    "<div class=\"alert alert-block alert-success\">\n",
    "<b>ANSWER 23:</b> The plot is shown above. At the first glance, one can notice that there are in total 5 different colors, indicating a total of 5 different class label in ground truth. Moreover, based on the distribution, we know that the data points scatter messily, even just within the same class, and there are a lot of overlappings. This can potentially cause huge difficulty with clustering techniques and thus, achieving a good result might not be possible.\n",
    "</div>"
   ]
  },
  {
   "cell_type": "markdown",
   "id": "p_kwMm2ae5Ky",
   "metadata": {
    "id": "p_kwMm2ae5Ky"
   },
   "source": [
    "### Computing grid search to find the best dimensionality reduction technique and clustering methods that work best together for image data.\n"
   ]
  },
  {
   "cell_type": "code",
   "execution_count": 8,
   "id": "OjG6wRRPfgf6",
   "metadata": {
    "executionInfo": {
     "elapsed": 2,
     "status": "ok",
     "timestamp": 1676255296569,
     "user": {
      "displayName": "PING-CHENG WEI",
      "userId": "17456108749581822272"
     },
     "user_tz": 480
    },
    "id": "OjG6wRRPfgf6"
   },
   "outputs": [],
   "source": [
    "# !pip install umap-learn\n",
    "# !pip install hdbscan"
   ]
  },
  {
   "cell_type": "code",
   "execution_count": 9,
   "id": "yfkjS1OBfGo3",
   "metadata": {
    "executionInfo": {
     "elapsed": 31640,
     "status": "ok",
     "timestamp": 1676255331592,
     "user": {
      "displayName": "PING-CHENG WEI",
      "userId": "17456108749581822272"
     },
     "user_tz": 480
    },
    "id": "yfkjS1OBfGo3"
   },
   "outputs": [],
   "source": [
    "# import all necessary libraries\n",
    "\n",
    "# dataset, vectorizer\n",
    "from sklearn.datasets import fetch_20newsgroups\n",
    "from sklearn.feature_extraction.text import TfidfVectorizer\n",
    "# dimensionality reduction\n",
    "from sklearn.decomposition import TruncatedSVD, NMF\n",
    "from umap import UMAP\n",
    "# clustering\n",
    "from sklearn.cluster import KMeans\n",
    "from sklearn.cluster import AgglomerativeClustering\n",
    "from hdbscan import HDBSCAN\n",
    "# evaluation\n",
    "from sklearn.metrics import homogeneity_score, completeness_score\n",
    "from sklearn.metrics import v_measure_score, rand_score\n",
    "from sklearn.metrics import adjusted_rand_score, silhouette_score\n",
    "# save file\n",
    "import joblib\n",
    "# create table\n",
    "import pandas as pd\n",
    "# grid search\n",
    "from sklearn.model_selection import GridSearchCV\n",
    "from sklearn.pipeline import Pipeline\n",
    "# plot\n",
    "from sklearn.metrics.cluster import contingency_matrix\n",
    "from scipy.optimize import linear_sum_assignment\n",
    "from plotmat import plot_mat"
   ]
  },
  {
   "cell_type": "markdown",
   "id": "0kn8AV6agTFe",
   "metadata": {
    "id": "0kn8AV6agTFe"
   },
   "source": [
    "#### Helper function: Autoencoder"
   ]
  },
  {
   "cell_type": "code",
   "execution_count": 10,
   "id": "CbGppmxlgSpI",
   "metadata": {
    "executionInfo": {
     "elapsed": 3,
     "status": "ok",
     "timestamp": 1676255332380,
     "user": {
      "displayName": "PING-CHENG WEI",
      "userId": "17456108749581822272"
     },
     "user_tz": 480
    },
    "id": "CbGppmxlgSpI"
   },
   "outputs": [],
   "source": [
    "class Autoencoder(torch.nn.Module, TransformerMixin):\n",
    "    def __init__(self, n_components):\n",
    "        super().__init__()\n",
    "        self.n_components = n_components\n",
    "        self.n_features = None  # to be determined with data\n",
    "        self.encoder = None\n",
    "        self.decoder = None\n",
    "        \n",
    "    def _create_encoder(self):\n",
    "        return nn.Sequential(\n",
    "            nn.Linear(4096, 1280),\n",
    "            nn.ReLU(True),\n",
    "            nn.Linear(1280, 640),\n",
    "            nn.ReLU(True), nn.Linear(640, 120), nn.ReLU(True), nn.Linear(120, self.n_components))\n",
    "    \n",
    "    def _create_decoder(self):\n",
    "        return nn.Sequential(\n",
    "            nn.Linear(self.n_components, 120),\n",
    "            nn.ReLU(True),\n",
    "            nn.Linear(120, 640),\n",
    "            nn.ReLU(True),\n",
    "            nn.Linear(640, 1280),\n",
    "            nn.ReLU(True), nn.Linear(1280, 4096))\n",
    "    \n",
    "    def forward(self, X):\n",
    "        encoded = self.encoder(X)\n",
    "        decoded = self.decoder(encoded)\n",
    "        return decoded\n",
    "    \n",
    "    def fit(self, X):\n",
    "        X = torch.tensor(X, dtype=torch.float32, device='cuda')\n",
    "        self.n_features = X.shape[1]\n",
    "        self.encoder = self._create_encoder()\n",
    "        self.decoder = self._create_decoder()\n",
    "        self.cuda()\n",
    "        self.train()\n",
    "        \n",
    "        criterion = nn.MSELoss()\n",
    "        optimizer = torch.optim.Adam(self.parameters(), lr=1e-3, weight_decay=1e-5)\n",
    "\n",
    "        dataset = TensorDataset(X)\n",
    "        dataloader = DataLoader(dataset, batch_size=128, shuffle=True)\n",
    "\n",
    "        for epoch in tqdm(range(100)):\n",
    "            for (X_,) in dataloader:\n",
    "                X_ = X_.cuda()\n",
    "                # ===================forward=====================\n",
    "                output = self(X_)\n",
    "                loss = criterion(output, X_)\n",
    "                # ===================backward====================\n",
    "                optimizer.zero_grad()\n",
    "                loss.backward()\n",
    "                optimizer.step()\n",
    "\n",
    "        return self     \n",
    "        \n",
    "    def transform(self, X):\n",
    "        X = torch.tensor(X, dtype=torch.float32, device='cuda')\n",
    "        self.eval()\n",
    "        with torch.no_grad():\n",
    "            return self.encoder(X).cpu().numpy()"
   ]
  },
  {
   "cell_type": "code",
   "execution_count": 12,
   "id": "KjHJvpZDgwNo",
   "metadata": {
    "executionInfo": {
     "elapsed": 254,
     "status": "ok",
     "timestamp": 1676255580669,
     "user": {
      "displayName": "PING-CHENG WEI",
      "userId": "17456108749581822272"
     },
     "user_tz": 480
    },
    "id": "KjHJvpZDgwNo"
   },
   "outputs": [],
   "source": [
    "# =============================================================== #\n",
    "# Dimensionality Reduction:\n",
    "#   To speed up the runtime, I will just generate the \n",
    "#   dimension-reduced features with all different required \n",
    "#   techniques at here, save them, and call them out later \n",
    "#   for grid search. \n",
    "# =============================================================== #\n",
    "\n",
    "# init\n",
    "path = \"/content/drive/MyDrive/Colab Notebooks/ECE_219/Project2/Q24_grid_search\"\n",
    "r = 50\n",
    "\n",
    "# None\n",
    "joblib.dump(f_all, f'{path}/DR_None.pkl')\n",
    "\n",
    "# SVD\n",
    "svd = TruncatedSVD(n_components=r, n_iter=5, random_state=0)\n",
    "f_all_svd = svd.fit_transform(f_all)\n",
    "joblib.dump(f_all_svd, f'{path}/DR_SVD_{r}.pkl')\n",
    "\n",
    "# UMAP\n",
    "umap = UMAP(n_components=r, metric='cosine', random_state=0)\n",
    "f_all_umap = umap.fit_transform(f_all)\n",
    "joblib.dump(f_all_umap, f'{path}/DR_UMAP_{r}.pkl')\n",
    "\n",
    "# NMF\n",
    "ae = Autoencoder(n_components=r)\n",
    "f_all_ae = ae.fit_transform(f_all)\n",
    "joblib.dump(f_all_ae, f'{path}/DR_AE_{r}.pkl')"
   ]
  },
  {
   "cell_type": "code",
   "execution_count": 13,
   "id": "KNPm7LYOfGlz",
   "metadata": {
    "colab": {
     "base_uri": "https://localhost:8080/",
     "height": 1000
    },
    "executionInfo": {
     "elapsed": 889525,
     "status": "ok",
     "timestamp": 1676256585760,
     "user": {
      "displayName": "PING-CHENG WEI",
      "userId": "17456108749581822272"
     },
     "user_tz": 480
    },
    "id": "KNPm7LYOfGlz",
    "outputId": "95a6de60-22ec-47c2-a153-49199a114127"
   },
   "outputs": [
    {
     "data": {
      "text/html": [
       "\n",
       "  <div id=\"df-b5edfd55-0cb6-4c35-9c88-9362200b3095\">\n",
       "    <div class=\"colab-df-container\">\n",
       "      <div>\n",
       "<style scoped>\n",
       "    .dataframe tbody tr th:only-of-type {\n",
       "        vertical-align: middle;\n",
       "    }\n",
       "\n",
       "    .dataframe tbody tr th {\n",
       "        vertical-align: top;\n",
       "    }\n",
       "\n",
       "    .dataframe thead th {\n",
       "        text-align: right;\n",
       "    }\n",
       "</style>\n",
       "<table border=\"1\" class=\"dataframe\">\n",
       "  <thead>\n",
       "    <tr style=\"text-align: right;\">\n",
       "      <th></th>\n",
       "      <th>dataset</th>\n",
       "      <th>cluster</th>\n",
       "      <th>Homogeneity</th>\n",
       "      <th>Completeness</th>\n",
       "      <th>V-measure</th>\n",
       "      <th>Adjusted Rand-Index</th>\n",
       "      <th>Silhouette Coefficient</th>\n",
       "    </tr>\n",
       "  </thead>\n",
       "  <tbody>\n",
       "    <tr>\n",
       "      <th>0</th>\n",
       "      <td>DR_SVD_50</td>\n",
       "      <td>K-Means_5</td>\n",
       "      <td>0.325666</td>\n",
       "      <td>0.360670</td>\n",
       "      <td>0.342275</td>\n",
       "      <td>0.190924</td>\n",
       "      <td>0.105477</td>\n",
       "    </tr>\n",
       "    <tr>\n",
       "      <th>1</th>\n",
       "      <td>DR_SVD_50</td>\n",
       "      <td>Agglomerative_5</td>\n",
       "      <td>0.323964</td>\n",
       "      <td>0.404694</td>\n",
       "      <td>0.359857</td>\n",
       "      <td>0.146931</td>\n",
       "      <td>0.081855</td>\n",
       "    </tr>\n",
       "    <tr>\n",
       "      <th>2</th>\n",
       "      <td>DR_SVD_50</td>\n",
       "      <td>HDBSCAN_mcs100_ms5</td>\n",
       "      <td>0.003507</td>\n",
       "      <td>0.044884</td>\n",
       "      <td>0.006506</td>\n",
       "      <td>-0.001395</td>\n",
       "      <td>-0.131005</td>\n",
       "    </tr>\n",
       "    <tr>\n",
       "      <th>3</th>\n",
       "      <td>DR_SVD_50</td>\n",
       "      <td>HDBSCAN_mcs100_ms20</td>\n",
       "      <td>0.004508</td>\n",
       "      <td>0.057688</td>\n",
       "      <td>0.008363</td>\n",
       "      <td>-0.001117</td>\n",
       "      <td>-0.141515</td>\n",
       "    </tr>\n",
       "    <tr>\n",
       "      <th>4</th>\n",
       "      <td>DR_SVD_50</td>\n",
       "      <td>HDBSCAN_mcs100_ms50</td>\n",
       "      <td>0.003185</td>\n",
       "      <td>0.040759</td>\n",
       "      <td>0.005909</td>\n",
       "      <td>-0.000968</td>\n",
       "      <td>-0.143962</td>\n",
       "    </tr>\n",
       "    <tr>\n",
       "      <th>5</th>\n",
       "      <td>DR_SVD_50</td>\n",
       "      <td>HDBSCAN_mcs200_ms5</td>\n",
       "      <td>0.006856</td>\n",
       "      <td>0.051856</td>\n",
       "      <td>0.012110</td>\n",
       "      <td>-0.001988</td>\n",
       "      <td>-0.115738</td>\n",
       "    </tr>\n",
       "    <tr>\n",
       "      <th>6</th>\n",
       "      <td>DR_SVD_50</td>\n",
       "      <td>HDBSCAN_mcs200_ms20</td>\n",
       "      <td>0.005830</td>\n",
       "      <td>0.044101</td>\n",
       "      <td>0.010299</td>\n",
       "      <td>-0.001794</td>\n",
       "      <td>-0.123952</td>\n",
       "    </tr>\n",
       "    <tr>\n",
       "      <th>7</th>\n",
       "      <td>DR_SVD_50</td>\n",
       "      <td>HDBSCAN_mcs200_ms50</td>\n",
       "      <td>0.005453</td>\n",
       "      <td>0.041246</td>\n",
       "      <td>0.009632</td>\n",
       "      <td>-0.001612</td>\n",
       "      <td>-0.124261</td>\n",
       "    </tr>\n",
       "    <tr>\n",
       "      <th>8</th>\n",
       "      <td>DR_UMAP_50</td>\n",
       "      <td>K-Means_5</td>\n",
       "      <td>0.530458</td>\n",
       "      <td>0.542850</td>\n",
       "      <td>0.536582</td>\n",
       "      <td>0.467338</td>\n",
       "      <td>0.503066</td>\n",
       "    </tr>\n",
       "    <tr>\n",
       "      <th>9</th>\n",
       "      <td>DR_UMAP_50</td>\n",
       "      <td>Agglomerative_5</td>\n",
       "      <td>0.521732</td>\n",
       "      <td>0.538785</td>\n",
       "      <td>0.530121</td>\n",
       "      <td>0.458874</td>\n",
       "      <td>0.498167</td>\n",
       "    </tr>\n",
       "    <tr>\n",
       "      <th>10</th>\n",
       "      <td>DR_UMAP_50</td>\n",
       "      <td>HDBSCAN_mcs100_ms5</td>\n",
       "      <td>0.178518</td>\n",
       "      <td>0.633782</td>\n",
       "      <td>0.278570</td>\n",
       "      <td>0.094110</td>\n",
       "      <td>0.545895</td>\n",
       "    </tr>\n",
       "    <tr>\n",
       "      <th>11</th>\n",
       "      <td>DR_UMAP_50</td>\n",
       "      <td>HDBSCAN_mcs100_ms20</td>\n",
       "      <td>0.178518</td>\n",
       "      <td>0.633782</td>\n",
       "      <td>0.278570</td>\n",
       "      <td>0.094110</td>\n",
       "      <td>0.545895</td>\n",
       "    </tr>\n",
       "    <tr>\n",
       "      <th>12</th>\n",
       "      <td>DR_UMAP_50</td>\n",
       "      <td>HDBSCAN_mcs100_ms50</td>\n",
       "      <td>0.178518</td>\n",
       "      <td>0.633782</td>\n",
       "      <td>0.278570</td>\n",
       "      <td>0.094110</td>\n",
       "      <td>0.545895</td>\n",
       "    </tr>\n",
       "    <tr>\n",
       "      <th>13</th>\n",
       "      <td>DR_UMAP_50</td>\n",
       "      <td>HDBSCAN_mcs200_ms5</td>\n",
       "      <td>0.178518</td>\n",
       "      <td>0.633782</td>\n",
       "      <td>0.278570</td>\n",
       "      <td>0.094110</td>\n",
       "      <td>0.545895</td>\n",
       "    </tr>\n",
       "    <tr>\n",
       "      <th>14</th>\n",
       "      <td>DR_UMAP_50</td>\n",
       "      <td>HDBSCAN_mcs200_ms20</td>\n",
       "      <td>0.178518</td>\n",
       "      <td>0.633782</td>\n",
       "      <td>0.278570</td>\n",
       "      <td>0.094110</td>\n",
       "      <td>0.545895</td>\n",
       "    </tr>\n",
       "    <tr>\n",
       "      <th>15</th>\n",
       "      <td>DR_UMAP_50</td>\n",
       "      <td>HDBSCAN_mcs200_ms50</td>\n",
       "      <td>0.178518</td>\n",
       "      <td>0.633782</td>\n",
       "      <td>0.278570</td>\n",
       "      <td>0.094110</td>\n",
       "      <td>0.545895</td>\n",
       "    </tr>\n",
       "    <tr>\n",
       "      <th>16</th>\n",
       "      <td>DR_AE_50</td>\n",
       "      <td>K-Means_5</td>\n",
       "      <td>0.282758</td>\n",
       "      <td>0.307614</td>\n",
       "      <td>0.294663</td>\n",
       "      <td>0.212849</td>\n",
       "      <td>0.115690</td>\n",
       "    </tr>\n",
       "    <tr>\n",
       "      <th>17</th>\n",
       "      <td>DR_AE_50</td>\n",
       "      <td>Agglomerative_5</td>\n",
       "      <td>0.268816</td>\n",
       "      <td>0.280090</td>\n",
       "      <td>0.274337</td>\n",
       "      <td>0.176677</td>\n",
       "      <td>0.054936</td>\n",
       "    </tr>\n",
       "    <tr>\n",
       "      <th>18</th>\n",
       "      <td>DR_AE_50</td>\n",
       "      <td>HDBSCAN_mcs100_ms5</td>\n",
       "      <td>0.003859</td>\n",
       "      <td>0.049377</td>\n",
       "      <td>0.007158</td>\n",
       "      <td>-0.000992</td>\n",
       "      <td>-0.143572</td>\n",
       "    </tr>\n",
       "    <tr>\n",
       "      <th>19</th>\n",
       "      <td>DR_AE_50</td>\n",
       "      <td>HDBSCAN_mcs100_ms20</td>\n",
       "      <td>0.005285</td>\n",
       "      <td>0.067628</td>\n",
       "      <td>0.009803</td>\n",
       "      <td>-0.000919</td>\n",
       "      <td>-0.147295</td>\n",
       "    </tr>\n",
       "    <tr>\n",
       "      <th>20</th>\n",
       "      <td>DR_AE_50</td>\n",
       "      <td>HDBSCAN_mcs100_ms50</td>\n",
       "      <td>0.005178</td>\n",
       "      <td>0.066266</td>\n",
       "      <td>0.009606</td>\n",
       "      <td>-0.000674</td>\n",
       "      <td>-0.153736</td>\n",
       "    </tr>\n",
       "    <tr>\n",
       "      <th>21</th>\n",
       "      <td>DR_AE_50</td>\n",
       "      <td>HDBSCAN_mcs200_ms5</td>\n",
       "      <td>0.008440</td>\n",
       "      <td>0.063608</td>\n",
       "      <td>0.014903</td>\n",
       "      <td>-0.001431</td>\n",
       "      <td>-0.128753</td>\n",
       "    </tr>\n",
       "    <tr>\n",
       "      <th>22</th>\n",
       "      <td>DR_AE_50</td>\n",
       "      <td>HDBSCAN_mcs200_ms20</td>\n",
       "      <td>0.007883</td>\n",
       "      <td>0.059629</td>\n",
       "      <td>0.013926</td>\n",
       "      <td>-0.001593</td>\n",
       "      <td>-0.132615</td>\n",
       "    </tr>\n",
       "    <tr>\n",
       "      <th>23</th>\n",
       "      <td>DR_AE_50</td>\n",
       "      <td>HDBSCAN_mcs200_ms50</td>\n",
       "      <td>0.006836</td>\n",
       "      <td>0.051707</td>\n",
       "      <td>0.012076</td>\n",
       "      <td>-0.001350</td>\n",
       "      <td>-0.132757</td>\n",
       "    </tr>\n",
       "    <tr>\n",
       "      <th>24</th>\n",
       "      <td>DR_None</td>\n",
       "      <td>K-Means_5</td>\n",
       "      <td>0.333746</td>\n",
       "      <td>0.369742</td>\n",
       "      <td>0.350823</td>\n",
       "      <td>0.194958</td>\n",
       "      <td>0.071987</td>\n",
       "    </tr>\n",
       "    <tr>\n",
       "      <th>25</th>\n",
       "      <td>DR_None</td>\n",
       "      <td>Agglomerative_5</td>\n",
       "      <td>0.357424</td>\n",
       "      <td>0.414025</td>\n",
       "      <td>0.383648</td>\n",
       "      <td>0.188553</td>\n",
       "      <td>0.053036</td>\n",
       "    </tr>\n",
       "    <tr>\n",
       "      <th>26</th>\n",
       "      <td>DR_None</td>\n",
       "      <td>HDBSCAN_mcs100_ms5</td>\n",
       "      <td>0.005754</td>\n",
       "      <td>0.073629</td>\n",
       "      <td>0.010673</td>\n",
       "      <td>-0.001829</td>\n",
       "      <td>-0.149001</td>\n",
       "    </tr>\n",
       "    <tr>\n",
       "      <th>27</th>\n",
       "      <td>DR_None</td>\n",
       "      <td>HDBSCAN_mcs100_ms20</td>\n",
       "      <td>0.005857</td>\n",
       "      <td>0.074948</td>\n",
       "      <td>0.010865</td>\n",
       "      <td>-0.001497</td>\n",
       "      <td>-0.153572</td>\n",
       "    </tr>\n",
       "    <tr>\n",
       "      <th>28</th>\n",
       "      <td>DR_None</td>\n",
       "      <td>HDBSCAN_mcs100_ms50</td>\n",
       "      <td>0.004872</td>\n",
       "      <td>0.062340</td>\n",
       "      <td>0.009037</td>\n",
       "      <td>-0.001297</td>\n",
       "      <td>-0.154929</td>\n",
       "    </tr>\n",
       "    <tr>\n",
       "      <th>29</th>\n",
       "      <td>DR_None</td>\n",
       "      <td>HDBSCAN_mcs200_ms5</td>\n",
       "      <td>0.007138</td>\n",
       "      <td>0.053993</td>\n",
       "      <td>0.012609</td>\n",
       "      <td>-0.002122</td>\n",
       "      <td>-0.133036</td>\n",
       "    </tr>\n",
       "    <tr>\n",
       "      <th>30</th>\n",
       "      <td>DR_None</td>\n",
       "      <td>HDBSCAN_mcs200_ms20</td>\n",
       "      <td>0.006668</td>\n",
       "      <td>0.050439</td>\n",
       "      <td>0.011779</td>\n",
       "      <td>-0.001719</td>\n",
       "      <td>-0.134898</td>\n",
       "    </tr>\n",
       "    <tr>\n",
       "      <th>31</th>\n",
       "      <td>DR_None</td>\n",
       "      <td>HDBSCAN_mcs200_ms50</td>\n",
       "      <td>0.004948</td>\n",
       "      <td>0.037423</td>\n",
       "      <td>0.008740</td>\n",
       "      <td>-0.001626</td>\n",
       "      <td>-0.137256</td>\n",
       "    </tr>\n",
       "  </tbody>\n",
       "</table>\n",
       "</div>\n",
       "      <button class=\"colab-df-convert\" onclick=\"convertToInteractive('df-b5edfd55-0cb6-4c35-9c88-9362200b3095')\"\n",
       "              title=\"Convert this dataframe to an interactive table.\"\n",
       "              style=\"display:none;\">\n",
       "        \n",
       "  <svg xmlns=\"http://www.w3.org/2000/svg\" height=\"24px\"viewBox=\"0 0 24 24\"\n",
       "       width=\"24px\">\n",
       "    <path d=\"M0 0h24v24H0V0z\" fill=\"none\"/>\n",
       "    <path d=\"M18.56 5.44l.94 2.06.94-2.06 2.06-.94-2.06-.94-.94-2.06-.94 2.06-2.06.94zm-11 1L8.5 8.5l.94-2.06 2.06-.94-2.06-.94L8.5 2.5l-.94 2.06-2.06.94zm10 10l.94 2.06.94-2.06 2.06-.94-2.06-.94-.94-2.06-.94 2.06-2.06.94z\"/><path d=\"M17.41 7.96l-1.37-1.37c-.4-.4-.92-.59-1.43-.59-.52 0-1.04.2-1.43.59L10.3 9.45l-7.72 7.72c-.78.78-.78 2.05 0 2.83L4 21.41c.39.39.9.59 1.41.59.51 0 1.02-.2 1.41-.59l7.78-7.78 2.81-2.81c.8-.78.8-2.07 0-2.86zM5.41 20L4 18.59l7.72-7.72 1.47 1.35L5.41 20z\"/>\n",
       "  </svg>\n",
       "      </button>\n",
       "      \n",
       "  <style>\n",
       "    .colab-df-container {\n",
       "      display:flex;\n",
       "      flex-wrap:wrap;\n",
       "      gap: 12px;\n",
       "    }\n",
       "\n",
       "    .colab-df-convert {\n",
       "      background-color: #E8F0FE;\n",
       "      border: none;\n",
       "      border-radius: 50%;\n",
       "      cursor: pointer;\n",
       "      display: none;\n",
       "      fill: #1967D2;\n",
       "      height: 32px;\n",
       "      padding: 0 0 0 0;\n",
       "      width: 32px;\n",
       "    }\n",
       "\n",
       "    .colab-df-convert:hover {\n",
       "      background-color: #E2EBFA;\n",
       "      box-shadow: 0px 1px 2px rgba(60, 64, 67, 0.3), 0px 1px 3px 1px rgba(60, 64, 67, 0.15);\n",
       "      fill: #174EA6;\n",
       "    }\n",
       "\n",
       "    [theme=dark] .colab-df-convert {\n",
       "      background-color: #3B4455;\n",
       "      fill: #D2E3FC;\n",
       "    }\n",
       "\n",
       "    [theme=dark] .colab-df-convert:hover {\n",
       "      background-color: #434B5C;\n",
       "      box-shadow: 0px 1px 3px 1px rgba(0, 0, 0, 0.15);\n",
       "      filter: drop-shadow(0px 1px 2px rgba(0, 0, 0, 0.3));\n",
       "      fill: #FFFFFF;\n",
       "    }\n",
       "  </style>\n",
       "\n",
       "      <script>\n",
       "        const buttonEl =\n",
       "          document.querySelector('#df-b5edfd55-0cb6-4c35-9c88-9362200b3095 button.colab-df-convert');\n",
       "        buttonEl.style.display =\n",
       "          google.colab.kernel.accessAllowed ? 'block' : 'none';\n",
       "\n",
       "        async function convertToInteractive(key) {\n",
       "          const element = document.querySelector('#df-b5edfd55-0cb6-4c35-9c88-9362200b3095');\n",
       "          const dataTable =\n",
       "            await google.colab.kernel.invokeFunction('convertToInteractive',\n",
       "                                                     [key], {});\n",
       "          if (!dataTable) return;\n",
       "\n",
       "          const docLinkHtml = 'Like what you see? Visit the ' +\n",
       "            '<a target=\"_blank\" href=https://colab.research.google.com/notebooks/data_table.ipynb>data table notebook</a>'\n",
       "            + ' to learn more about interactive tables.';\n",
       "          element.innerHTML = '';\n",
       "          dataTable['output_type'] = 'display_data';\n",
       "          await google.colab.output.renderOutput(dataTable, element);\n",
       "          const docLink = document.createElement('div');\n",
       "          docLink.innerHTML = docLinkHtml;\n",
       "          element.appendChild(docLink);\n",
       "        }\n",
       "      </script>\n",
       "    </div>\n",
       "  </div>\n",
       "  "
      ],
      "text/plain": [
       "       dataset              cluster  Homogeneity  Completeness  V-measure  \\\n",
       "0    DR_SVD_50            K-Means_5     0.325666      0.360670   0.342275   \n",
       "1    DR_SVD_50      Agglomerative_5     0.323964      0.404694   0.359857   \n",
       "2    DR_SVD_50   HDBSCAN_mcs100_ms5     0.003507      0.044884   0.006506   \n",
       "3    DR_SVD_50  HDBSCAN_mcs100_ms20     0.004508      0.057688   0.008363   \n",
       "4    DR_SVD_50  HDBSCAN_mcs100_ms50     0.003185      0.040759   0.005909   \n",
       "5    DR_SVD_50   HDBSCAN_mcs200_ms5     0.006856      0.051856   0.012110   \n",
       "6    DR_SVD_50  HDBSCAN_mcs200_ms20     0.005830      0.044101   0.010299   \n",
       "7    DR_SVD_50  HDBSCAN_mcs200_ms50     0.005453      0.041246   0.009632   \n",
       "8   DR_UMAP_50            K-Means_5     0.530458      0.542850   0.536582   \n",
       "9   DR_UMAP_50      Agglomerative_5     0.521732      0.538785   0.530121   \n",
       "10  DR_UMAP_50   HDBSCAN_mcs100_ms5     0.178518      0.633782   0.278570   \n",
       "11  DR_UMAP_50  HDBSCAN_mcs100_ms20     0.178518      0.633782   0.278570   \n",
       "12  DR_UMAP_50  HDBSCAN_mcs100_ms50     0.178518      0.633782   0.278570   \n",
       "13  DR_UMAP_50   HDBSCAN_mcs200_ms5     0.178518      0.633782   0.278570   \n",
       "14  DR_UMAP_50  HDBSCAN_mcs200_ms20     0.178518      0.633782   0.278570   \n",
       "15  DR_UMAP_50  HDBSCAN_mcs200_ms50     0.178518      0.633782   0.278570   \n",
       "16    DR_AE_50            K-Means_5     0.282758      0.307614   0.294663   \n",
       "17    DR_AE_50      Agglomerative_5     0.268816      0.280090   0.274337   \n",
       "18    DR_AE_50   HDBSCAN_mcs100_ms5     0.003859      0.049377   0.007158   \n",
       "19    DR_AE_50  HDBSCAN_mcs100_ms20     0.005285      0.067628   0.009803   \n",
       "20    DR_AE_50  HDBSCAN_mcs100_ms50     0.005178      0.066266   0.009606   \n",
       "21    DR_AE_50   HDBSCAN_mcs200_ms5     0.008440      0.063608   0.014903   \n",
       "22    DR_AE_50  HDBSCAN_mcs200_ms20     0.007883      0.059629   0.013926   \n",
       "23    DR_AE_50  HDBSCAN_mcs200_ms50     0.006836      0.051707   0.012076   \n",
       "24     DR_None            K-Means_5     0.333746      0.369742   0.350823   \n",
       "25     DR_None      Agglomerative_5     0.357424      0.414025   0.383648   \n",
       "26     DR_None   HDBSCAN_mcs100_ms5     0.005754      0.073629   0.010673   \n",
       "27     DR_None  HDBSCAN_mcs100_ms20     0.005857      0.074948   0.010865   \n",
       "28     DR_None  HDBSCAN_mcs100_ms50     0.004872      0.062340   0.009037   \n",
       "29     DR_None   HDBSCAN_mcs200_ms5     0.007138      0.053993   0.012609   \n",
       "30     DR_None  HDBSCAN_mcs200_ms20     0.006668      0.050439   0.011779   \n",
       "31     DR_None  HDBSCAN_mcs200_ms50     0.004948      0.037423   0.008740   \n",
       "\n",
       "    Adjusted Rand-Index  Silhouette Coefficient  \n",
       "0              0.190924                0.105477  \n",
       "1              0.146931                0.081855  \n",
       "2             -0.001395               -0.131005  \n",
       "3             -0.001117               -0.141515  \n",
       "4             -0.000968               -0.143962  \n",
       "5             -0.001988               -0.115738  \n",
       "6             -0.001794               -0.123952  \n",
       "7             -0.001612               -0.124261  \n",
       "8              0.467338                0.503066  \n",
       "9              0.458874                0.498167  \n",
       "10             0.094110                0.545895  \n",
       "11             0.094110                0.545895  \n",
       "12             0.094110                0.545895  \n",
       "13             0.094110                0.545895  \n",
       "14             0.094110                0.545895  \n",
       "15             0.094110                0.545895  \n",
       "16             0.212849                0.115690  \n",
       "17             0.176677                0.054936  \n",
       "18            -0.000992               -0.143572  \n",
       "19            -0.000919               -0.147295  \n",
       "20            -0.000674               -0.153736  \n",
       "21            -0.001431               -0.128753  \n",
       "22            -0.001593               -0.132615  \n",
       "23            -0.001350               -0.132757  \n",
       "24             0.194958                0.071987  \n",
       "25             0.188553                0.053036  \n",
       "26            -0.001829               -0.149001  \n",
       "27            -0.001497               -0.153572  \n",
       "28            -0.001297               -0.154929  \n",
       "29            -0.002122               -0.133036  \n",
       "30            -0.001719               -0.134898  \n",
       "31            -0.001626               -0.137256  "
      ]
     },
     "execution_count": 13,
     "metadata": {},
     "output_type": "execute_result"
    }
   ],
   "source": [
    "# # ================================================================== #\n",
    "# # Clustering:\n",
    "# #   Start the costum grid seach for all different clustering methods\n",
    "# # ================================================================== #\n",
    "\n",
    "# function for calculating all cluster measures\n",
    "def cluster_evaluation(X, y_true, y_pred):\n",
    "    score = {}\n",
    "    score[\"Homogeneity\"] = homogeneity_score(y_true, y_pred)\n",
    "    score[\"Completeness\"] = completeness_score(y_true, y_pred)\n",
    "    score[\"V-measure\"] = v_measure_score(y_true, y_pred)\n",
    "    score[\"Adjusted Rand-Index\"] = adjusted_rand_score(y_true, y_pred)\n",
    "    score[\"Silhouette Coefficient\"] = silhouette_score(X, y_pred)\n",
    "    \n",
    "    return score\n",
    "\n",
    "# parameters\n",
    "K = [5]\n",
    "N_CLUSTERS = [5]\n",
    "MIN_CLUSTER_SIZE = [100, 200]\n",
    "MIN_SAMPLES = [5, 20, 50]\n",
    "path = \"/content/drive/MyDrive/Colab Notebooks/ECE_219/Project2/Q24_grid_search\"\n",
    "dr_names = ['DR_SVD_50', 'DR_UMAP_50', 'DR_AE_50', 'DR_None']\n",
    "score_names = ['Homogeneity', \"Completeness\", \"V-measure\", \n",
    "               \"Adjusted Rand-Index\", \"Silhouette Coefficient\"]\n",
    "\n",
    "# init\n",
    "X_train_dr = {}\n",
    "y_train_dr = {}\n",
    "df_grid_results = pd.DataFrame()\n",
    "\n",
    "# get multiple dimension-reduced features datasets\n",
    "for name in dr_names:\n",
    "    X_train_dr[name] = joblib.load(f'{path}/{name}.pkl')\n",
    "    y_train_dr[name] = y_all\n",
    "\n",
    "# run costum grid search \n",
    "for key in X_train_dr.keys():\n",
    "    # K-Means\n",
    "    for k in K:\n",
    "        kmeans = KMeans(n_clusters=k, max_iter=1000, n_init=50, random_state=0)\n",
    "        kmeans.fit(X_train_dr[key])\n",
    "        kmeans_score = cluster_evaluation(X_train_dr[key], y_train_dr[key], \n",
    "                                          kmeans.labels_)\n",
    "        # save\n",
    "        df_temp = pd.DataFrame([kmeans_score])\n",
    "        df_temp['dataset'] = key\n",
    "        df_temp['cluster'] = f'K-Means_{k}'\n",
    "        df_grid_results = df_grid_results.append(df_temp, ignore_index=True)\n",
    "\n",
    "    # Agglomerative Clustering\n",
    "    for n in N_CLUSTERS:\n",
    "        ac = AgglomerativeClustering(n_clusters=n, linkage='ward')\n",
    "        ac.fit(X_train_dr[key])\n",
    "        ac_score = cluster_evaluation(X_train_dr[key], y_train_dr[key], \n",
    "                                      ac.labels_)\n",
    "        # save\n",
    "        df_temp = pd.DataFrame([ac_score])\n",
    "        df_temp['dataset'] = key\n",
    "        df_temp['cluster'] = f'Agglomerative_{n}'\n",
    "        df_grid_results = df_grid_results.append(df_temp, ignore_index=True)\n",
    "\n",
    "    # HDBSCAN\n",
    "    for i in MIN_CLUSTER_SIZE:\n",
    "        for j in MIN_SAMPLES:\n",
    "            hdbscan = HDBSCAN(min_cluster_size=i, min_samples=j, \n",
    "                              allow_single_cluster=True)\n",
    "            hdbscan.fit(X_train_dr[key])\n",
    "            hdbscan_score = cluster_evaluation(X_train_dr[key], y_train_dr[key], \n",
    "                                              hdbscan.labels_)\n",
    "            # save\n",
    "            df_temp = pd.DataFrame([hdbscan_score])\n",
    "            df_temp['dataset'] = key\n",
    "            df_temp['cluster'] = f'HDBSCAN_mcs{i}_ms{j}'\n",
    "            df_grid_results = df_grid_results.append(df_temp, ignore_index=True)\n",
    "\n",
    "\n",
    "# save and show the results\n",
    "df_grid_results = df_grid_results[['dataset', 'cluster'] + score_names]\n",
    "file_path = \"/content/drive/MyDrive/Colab Notebooks/ECE_219/Project2\"\n",
    "df_grid_results.to_csv(f'{file_path}/Q24_grid_result.csv')\n",
    "df_grid_results"
   ]
  },
  {
   "cell_type": "code",
   "execution_count": 14,
   "id": "6gcN3IqludO8",
   "metadata": {
    "colab": {
     "base_uri": "https://localhost:8080/",
     "height": 223
    },
    "executionInfo": {
     "elapsed": 310,
     "status": "ok",
     "timestamp": 1676257403505,
     "user": {
      "displayName": "PING-CHENG WEI",
      "userId": "17456108749581822272"
     },
     "user_tz": 480
    },
    "id": "6gcN3IqludO8",
    "outputId": "73ca11f8-33c9-4531-ecf1-a507383ce4fb"
   },
   "outputs": [
    {
     "data": {
      "text/html": [
       "<style type=\"text/css\">\n",
       "</style>\n",
       "<table id=\"T_16883_\" class=\"dataframe\">\n",
       "  <caption>Best Setting for each evaluation metric</caption>\n",
       "  <thead>\n",
       "    <tr>\n",
       "      <th class=\"blank level0\" >&nbsp;</th>\n",
       "      <th class=\"col_heading level0 col0\" >best_dataset</th>\n",
       "      <th class=\"col_heading level0 col1\" >best_cluter</th>\n",
       "      <th class=\"col_heading level0 col2\" >best_value</th>\n",
       "    </tr>\n",
       "  </thead>\n",
       "  <tbody>\n",
       "    <tr>\n",
       "      <th id=\"T_16883_level0_row0\" class=\"row_heading level0 row0\" >Homogeneity</th>\n",
       "      <td id=\"T_16883_row0_col0\" class=\"data row0 col0\" >DR_UMAP_50</td>\n",
       "      <td id=\"T_16883_row0_col1\" class=\"data row0 col1\" >K-Means_5</td>\n",
       "      <td id=\"T_16883_row0_col2\" class=\"data row0 col2\" >0.530458</td>\n",
       "    </tr>\n",
       "    <tr>\n",
       "      <th id=\"T_16883_level0_row1\" class=\"row_heading level0 row1\" >Completeness</th>\n",
       "      <td id=\"T_16883_row1_col0\" class=\"data row1 col0\" >DR_UMAP_50</td>\n",
       "      <td id=\"T_16883_row1_col1\" class=\"data row1 col1\" >HDBSCAN_mcs100_ms5</td>\n",
       "      <td id=\"T_16883_row1_col2\" class=\"data row1 col2\" >0.633782</td>\n",
       "    </tr>\n",
       "    <tr>\n",
       "      <th id=\"T_16883_level0_row2\" class=\"row_heading level0 row2\" >V-measure</th>\n",
       "      <td id=\"T_16883_row2_col0\" class=\"data row2 col0\" >DR_UMAP_50</td>\n",
       "      <td id=\"T_16883_row2_col1\" class=\"data row2 col1\" >K-Means_5</td>\n",
       "      <td id=\"T_16883_row2_col2\" class=\"data row2 col2\" >0.536582</td>\n",
       "    </tr>\n",
       "    <tr>\n",
       "      <th id=\"T_16883_level0_row3\" class=\"row_heading level0 row3\" >Adjusted Rand-Index</th>\n",
       "      <td id=\"T_16883_row3_col0\" class=\"data row3 col0\" >DR_UMAP_50</td>\n",
       "      <td id=\"T_16883_row3_col1\" class=\"data row3 col1\" >K-Means_5</td>\n",
       "      <td id=\"T_16883_row3_col2\" class=\"data row3 col2\" >0.467338</td>\n",
       "    </tr>\n",
       "    <tr>\n",
       "      <th id=\"T_16883_level0_row4\" class=\"row_heading level0 row4\" >Silhouette Coefficient</th>\n",
       "      <td id=\"T_16883_row4_col0\" class=\"data row4 col0\" >DR_UMAP_50</td>\n",
       "      <td id=\"T_16883_row4_col1\" class=\"data row4 col1\" >HDBSCAN_mcs100_ms5</td>\n",
       "      <td id=\"T_16883_row4_col2\" class=\"data row4 col2\" >0.545895</td>\n",
       "    </tr>\n",
       "  </tbody>\n",
       "</table>\n"
      ],
      "text/plain": [
       "<pandas.io.formats.style.Styler at 0x7fb5ef3367c0>"
      ]
     },
     "execution_count": 14,
     "metadata": {},
     "output_type": "execute_result"
    }
   ],
   "source": [
    "# plot out the best result\n",
    "score_names = ['Homogeneity', \"Completeness\", \"V-measure\", \n",
    "               \"Adjusted Rand-Index\", \"Silhouette Coefficient\"]\n",
    "\n",
    "best_results = {}\n",
    "for name in score_names:\n",
    "    cur_best = {}\n",
    "    best_idx = np.argmax(df_grid_results[name])\n",
    "    best_value = np.max(df_grid_results[name])\n",
    "    best_dataset = df_grid_results['dataset'][best_idx]\n",
    "    best_cluter = df_grid_results['cluster'][best_idx]\n",
    "    best_results[name] = [best_dataset, best_cluter, best_value]\n",
    "\n",
    "cols = ['best_dataset', 'best_cluter', 'best_value']\n",
    "best_results = pd.DataFrame.from_dict(best_results, orient='index', columns=cols)\n",
    "best_results = best_results.style.set_caption(\"Best Setting for each evaluation metric\")\n",
    "best_results"
   ]
  },
  {
   "cell_type": "markdown",
   "id": "848ec742",
   "metadata": {
    "id": "848ec742"
   },
   "source": [
    "<div class=\"alert alert-block alert-success\">\n",
    "<b>QUESTION 24:</b> Report the best result (in terms of rand score) within the table below. For HDBSCAN, introduce a conservative parameter grid over min_cluster_size and min_samples.\n",
    "</div>"
   ]
  },
  {
   "cell_type": "markdown",
   "id": "7872d1f1",
   "metadata": {
    "id": "7872d1f1"
   },
   "source": [
    "<div class=\"alert alert-block alert-success\">\n",
    "<b>ANSWER 24:</b> In terms of the adjusted rand-index, the best dimensionality reduction technique for image data is UMAP with feature size 50, and the best clustering model is K-Means with 5 clusters, which also makes sence as the number of the ground truth class in the image dataset is 5.\n",
    "</div>"
   ]
  },
  {
   "cell_type": "code",
   "execution_count": 26,
   "id": "D_MkMzDXweJ2",
   "metadata": {
    "colab": {
     "base_uri": "https://localhost:8080/"
    },
    "executionInfo": {
     "elapsed": 297,
     "status": "ok",
     "timestamp": 1676257913028,
     "user": {
      "displayName": "PING-CHENG WEI",
      "userId": "17456108749581822272"
     },
     "user_tz": 480
    },
    "id": "D_MkMzDXweJ2",
    "outputId": "badd005f-ea3e-4bad-fe3c-8dd27aef79d6"
   },
   "outputs": [
    {
     "data": {
      "text/plain": [
       "dataset                   DR_UMAP_50\n",
       "cluster                    K-Means_5\n",
       "Homogeneity                 0.530458\n",
       "Completeness                 0.54285\n",
       "V-measure                   0.536582\n",
       "Adjusted Rand-Index         0.467338\n",
       "Silhouette Coefficient      0.503066\n",
       "Name: 8, dtype: object"
      ]
     },
     "execution_count": 26,
     "metadata": {},
     "output_type": "execute_result"
    }
   ],
   "source": [
    "# best model scores\n",
    "df_grid_results.iloc[8]"
   ]
  },
  {
   "cell_type": "markdown",
   "id": "H9tlAiRy82nH",
   "metadata": {
    "id": "H9tlAiRy82nH"
   },
   "source": [
    "#### Helper function: MLP model"
   ]
  },
  {
   "cell_type": "code",
   "execution_count": 129,
   "id": "69eb1da4",
   "metadata": {
    "executionInfo": {
     "elapsed": 240,
     "status": "ok",
     "timestamp": 1676260929463,
     "user": {
      "displayName": "PING-CHENG WEI",
      "userId": "17456108749581822272"
     },
     "user_tz": 480
    },
    "id": "69eb1da4"
   },
   "outputs": [],
   "source": [
    "from sklearn.metrics import accuracy_score\n",
    "\n",
    "class MLP(torch.nn.Module):\n",
    "    def __init__(self, num_features):\n",
    "        super().__init__()\n",
    "        self.model = nn.Sequential(\n",
    "            nn.Linear(num_features, 1280),\n",
    "            nn.ReLU(True),\n",
    "            nn.Linear(1280, 640),\n",
    "            nn.ReLU(True), \n",
    "            nn.Linear(640, 5),\n",
    "            nn.LogSoftmax(dim=1)\n",
    "        )\n",
    "        self.cuda()\n",
    "    \n",
    "    \n",
    "    def forward(self, X):\n",
    "        return self.model(X)\n",
    "    \n",
    "    def train(self, X, y):\n",
    "        X = torch.tensor(X, dtype=torch.float32, device='cuda')\n",
    "        y = torch.tensor(y, dtype=torch.int64, device='cuda')\n",
    "\n",
    "        self.model.train()\n",
    "        \n",
    "        criterion = nn.NLLLoss()\n",
    "        optimizer = torch.optim.Adam(self.parameters(), lr=1e-3, weight_decay=1e-5)\n",
    "\n",
    "        dataset = TensorDataset(X, y)\n",
    "        dataloader = DataLoader(dataset, batch_size=128, shuffle=True)\n",
    "\n",
    "        for epoch in tqdm(range(100)):\n",
    "            for (X_, y_) in dataloader:\n",
    "                ##################################\n",
    "                # you should implement this part #\n",
    "                ##################################\n",
    "                # move to GPU\n",
    "                X_ = X_.cuda()\n",
    "                y_ = y_.cuda()\n",
    "                # forward training\n",
    "                output = self.forward(X_)\n",
    "                loss = criterion(output, y_)\n",
    "                # backpropagation\n",
    "                optimizer.zero_grad()\n",
    "                loss.backward()\n",
    "                optimizer.step()\n",
    "        return self\n",
    "    \n",
    "    def eval(self, X_test, y_test):\n",
    "        ##################################\n",
    "        # you should implement this part #\n",
    "        ##################################\n",
    "        # start evaluation mode\n",
    "        with torch.no_grad():\n",
    "            # move to GPU\n",
    "            X_test = torch.tensor(X_test, dtype=torch.float32, device='cuda')\n",
    "            # start predicting\n",
    "            self.model.eval()\n",
    "            output = self.model(X_test)\n",
    "            # convert softmax back to class label\n",
    "            y_pred = np.argmax(output.cpu(), axis=1)\n",
    "            # calculate accuracy\n",
    "            acc = accuracy_score(y_test, y_pred)\n",
    "        return acc"
   ]
  },
  {
   "cell_type": "markdown",
   "id": "51DrE_9r84cL",
   "metadata": {
    "id": "51DrE_9r84cL"
   },
   "source": [
    "Train and test MLP classifier on the original VGG features without dimensionality reduction technique"
   ]
  },
  {
   "cell_type": "code",
   "execution_count": 135,
   "id": "1MjkshS38lnt",
   "metadata": {
    "colab": {
     "base_uri": "https://localhost:8080/"
    },
    "executionInfo": {
     "elapsed": 14985,
     "status": "ok",
     "timestamp": 1676261421813,
     "user": {
      "displayName": "PING-CHENG WEI",
      "userId": "17456108749581822272"
     },
     "user_tz": 480
    },
    "id": "1MjkshS38lnt",
    "outputId": "048fff7b-fb84-498c-a9d1-d66532b00694"
   },
   "outputs": [
    {
     "name": "stderr",
     "output_type": "stream",
     "text": [
      "100%|██████████| 100/100 [00:14<00:00,  6.96it/s]"
     ]
    },
    {
     "name": "stdout",
     "output_type": "stream",
     "text": [
      "\n",
      "\n",
      "Accuracy of MLP model with original features: 99.97275204359674%\n"
     ]
    },
    {
     "name": "stderr",
     "output_type": "stream",
     "text": [
      "\n"
     ]
    }
   ],
   "source": [
    "# set up, train, and test MLP model\n",
    "mlp = MLP(num_features=f_all.shape[1])\n",
    "mlp = mlp.train(f_all, y_all)\n",
    "acc = mlp.eval(f_all, y_all)\n",
    "print(f\"\\n\\nAccuracy of MLP model with original features: {acc*100}%\")"
   ]
  },
  {
   "cell_type": "markdown",
   "id": "KCi00RYJ9LZg",
   "metadata": {
    "id": "KCi00RYJ9LZg"
   },
   "source": [
    "Train and test MLP classifier on the original VGG features with dimensionality reduction technique"
   ]
  },
  {
   "cell_type": "code",
   "execution_count": 137,
   "id": "R3A7KiTFuIlZ",
   "metadata": {
    "colab": {
     "base_uri": "https://localhost:8080/"
    },
    "executionInfo": {
     "elapsed": 9042,
     "status": "ok",
     "timestamp": 1676261800107,
     "user": {
      "displayName": "PING-CHENG WEI",
      "userId": "17456108749581822272"
     },
     "user_tz": 480
    },
    "id": "R3A7KiTFuIlZ",
    "outputId": "cdff9ab0-453a-477f-c5f3-47b54a530b87"
   },
   "outputs": [
    {
     "name": "stderr",
     "output_type": "stream",
     "text": [
      "100%|██████████| 100/100 [00:08<00:00, 11.30it/s]"
     ]
    },
    {
     "name": "stdout",
     "output_type": "stream",
     "text": [
      "\n",
      "\n",
      "Accuracy of MLP model with reduced-dimension features: 82.28882833787466%\n"
     ]
    },
    {
     "name": "stderr",
     "output_type": "stream",
     "text": [
      "\n"
     ]
    }
   ],
   "source": [
    "# set up UMAP\n",
    "umap = UMAP(n_components=50, metric='cosine', random_state=0)\n",
    "f_all_umap = umap.fit_transform(f_all)\n",
    "\n",
    "# set up, train, and test MLP model\n",
    "mlp = MLP(num_features=f_all_umap.shape[1])\n",
    "mlp = mlp.train(f_all_umap, y_all)\n",
    "acc = mlp.eval(f_all_umap, y_all)\n",
    "print(\"\\n\\nAccuracy of MLP model with \"\\\n",
    "      f\"reduced-dimension features: {acc*100}%\")\n"
   ]
  },
  {
   "cell_type": "markdown",
   "id": "adf7d18a",
   "metadata": {
    "id": "adf7d18a"
   },
   "source": [
    "<div class=\"alert alert-block alert-success\">\n",
    "<b>QUESTION 25:</b> Report the test accuracy of the MLP classifier on the original VGG features.\n",
    "    \n",
    "Report the same when using the reduced-dimension features (you have freedom in choosing the dimensionality reduction algorithm and its parameters). Does the performance of the model suffer with the reduced-dimension representations? Is it significant? Does the success in classification make sense in the context of the clustering results obtained for the same features in Question 24.\n",
    "</div>"
   ]
  },
  {
   "cell_type": "markdown",
   "id": "76cb844a",
   "metadata": {
    "id": "76cb844a"
   },
   "source": [
    "<div class=\"alert alert-block alert-success\">\n",
    "<b>ANSWER 25:</b> Both test accuracies of the MLP with and without reduced-dimension features are reported above. With dimensionality reduction, a 82.29% accuracy is achieved, and without dimensionality reduction, a 99.97% accuracy is yielded. Therefore, it can be concluded that the model do suffer significantly from reduced-dimension representations as a great amount of information is lost during the data transformation. Even though I have chosen the best parameters setting I found previously for UMAP, a reduction of 18% perfomance can still be observed.\n",
    "\n",
    "In my opinion, the success in classification does make sense in the context of the clustering results obtained for the same features in Question 24. Based on the scatter plot of ground truth in Q23, we already have the expectation that the clustering method might not be able to work well due to the high overlapping of data points. Indeed, even with the best clustering model demonstrated in Q24, K-Means, it only yields around 50% accuracy (best Adjusted Rand-Index is 46.73%). However, for the classification with MLP, since there are lots of non-linear layers, it is expected that the model have sort of non-linear capability and could somehow work around the data points and find the relatively correct boundary to seperate each classes. Therefore, a huge better performance compared to clustering is expected. This assumption is also proven by the experiment at here.\n",
    "</div>"
   ]
  }
 ],
 "metadata": {
  "accelerator": "GPU",
  "colab": {
   "provenance": []
  },
  "gpuClass": "standard",
  "kernelspec": {
   "display_name": "Python 3 (ipykernel)",
   "language": "python",
   "name": "python3"
  },
  "language_info": {
   "codemirror_mode": {
    "name": "ipython",
    "version": 3
   },
   "file_extension": ".py",
   "mimetype": "text/x-python",
   "name": "python",
   "nbconvert_exporter": "python",
   "pygments_lexer": "ipython3",
   "version": "3.8.3"
  },
  "widgets": {
   "application/vnd.jupyter.widget-state+json": {
    "265bc7d0cff44032979f40f4a1f701e6": {
     "model_module": "@jupyter-widgets/controls",
     "model_module_version": "1.5.0",
     "model_name": "HTMLModel",
     "state": {
      "_dom_classes": [],
      "_model_module": "@jupyter-widgets/controls",
      "_model_module_version": "1.5.0",
      "_model_name": "HTMLModel",
      "_view_count": null,
      "_view_module": "@jupyter-widgets/controls",
      "_view_module_version": "1.5.0",
      "_view_name": "HTMLView",
      "description": "",
      "description_tooltip": null,
      "layout": "IPY_MODEL_ec0718e733594ca7b47f2c268faec52c",
      "placeholder": "​",
      "style": "IPY_MODEL_da6f5ce4a5ef481d909eebff99c74b13",
      "value": "100%"
     }
    },
    "356f8e42bbe441c3b09fb809b2330c5f": {
     "model_module": "@jupyter-widgets/controls",
     "model_module_version": "1.5.0",
     "model_name": "ProgressStyleModel",
     "state": {
      "_model_module": "@jupyter-widgets/controls",
      "_model_module_version": "1.5.0",
      "_model_name": "ProgressStyleModel",
      "_view_count": null,
      "_view_module": "@jupyter-widgets/base",
      "_view_module_version": "1.2.0",
      "_view_name": "StyleView",
      "bar_color": null,
      "description_width": ""
     }
    },
    "4184f4bb0c4e4ba497675c5a4ac94fbc": {
     "model_module": "@jupyter-widgets/base",
     "model_module_version": "1.2.0",
     "model_name": "LayoutModel",
     "state": {
      "_model_module": "@jupyter-widgets/base",
      "_model_module_version": "1.2.0",
      "_model_name": "LayoutModel",
      "_view_count": null,
      "_view_module": "@jupyter-widgets/base",
      "_view_module_version": "1.2.0",
      "_view_name": "LayoutView",
      "align_content": null,
      "align_items": null,
      "align_self": null,
      "border": null,
      "bottom": null,
      "display": null,
      "flex": null,
      "flex_flow": null,
      "grid_area": null,
      "grid_auto_columns": null,
      "grid_auto_flow": null,
      "grid_auto_rows": null,
      "grid_column": null,
      "grid_gap": null,
      "grid_row": null,
      "grid_template_areas": null,
      "grid_template_columns": null,
      "grid_template_rows": null,
      "height": null,
      "justify_content": null,
      "justify_items": null,
      "left": null,
      "margin": null,
      "max_height": null,
      "max_width": null,
      "min_height": null,
      "min_width": null,
      "object_fit": null,
      "object_position": null,
      "order": null,
      "overflow": null,
      "overflow_x": null,
      "overflow_y": null,
      "padding": null,
      "right": null,
      "top": null,
      "visibility": null,
      "width": null
     }
    },
    "668936c0c5474162a9ccf22784eebc25": {
     "model_module": "@jupyter-widgets/controls",
     "model_module_version": "1.5.0",
     "model_name": "DescriptionStyleModel",
     "state": {
      "_model_module": "@jupyter-widgets/controls",
      "_model_module_version": "1.5.0",
      "_model_name": "DescriptionStyleModel",
      "_view_count": null,
      "_view_module": "@jupyter-widgets/base",
      "_view_module_version": "1.2.0",
      "_view_name": "StyleView",
      "description_width": ""
     }
    },
    "8b87becbac994af197a2e9e4458454f8": {
     "model_module": "@jupyter-widgets/controls",
     "model_module_version": "1.5.0",
     "model_name": "HTMLModel",
     "state": {
      "_dom_classes": [],
      "_model_module": "@jupyter-widgets/controls",
      "_model_module_version": "1.5.0",
      "_model_name": "HTMLModel",
      "_view_count": null,
      "_view_module": "@jupyter-widgets/controls",
      "_view_module_version": "1.5.0",
      "_view_name": "HTMLView",
      "description": "",
      "description_tooltip": null,
      "layout": "IPY_MODEL_4184f4bb0c4e4ba497675c5a4ac94fbc",
      "placeholder": "​",
      "style": "IPY_MODEL_668936c0c5474162a9ccf22784eebc25",
      "value": " 528M/528M [00:02&lt;00:00, 234MB/s]"
     }
    },
    "93b3d952ce13416da3a69e173c1b30d4": {
     "model_module": "@jupyter-widgets/controls",
     "model_module_version": "1.5.0",
     "model_name": "FloatProgressModel",
     "state": {
      "_dom_classes": [],
      "_model_module": "@jupyter-widgets/controls",
      "_model_module_version": "1.5.0",
      "_model_name": "FloatProgressModel",
      "_view_count": null,
      "_view_module": "@jupyter-widgets/controls",
      "_view_module_version": "1.5.0",
      "_view_name": "ProgressView",
      "bar_style": "success",
      "description": "",
      "description_tooltip": null,
      "layout": "IPY_MODEL_fe049d02edd7483382e38fe079b1686f",
      "max": 553433881,
      "min": 0,
      "orientation": "horizontal",
      "style": "IPY_MODEL_356f8e42bbe441c3b09fb809b2330c5f",
      "value": 553433881
     }
    },
    "a6cf41e3cf2f487880f1911355196295": {
     "model_module": "@jupyter-widgets/base",
     "model_module_version": "1.2.0",
     "model_name": "LayoutModel",
     "state": {
      "_model_module": "@jupyter-widgets/base",
      "_model_module_version": "1.2.0",
      "_model_name": "LayoutModel",
      "_view_count": null,
      "_view_module": "@jupyter-widgets/base",
      "_view_module_version": "1.2.0",
      "_view_name": "LayoutView",
      "align_content": null,
      "align_items": null,
      "align_self": null,
      "border": null,
      "bottom": null,
      "display": null,
      "flex": null,
      "flex_flow": null,
      "grid_area": null,
      "grid_auto_columns": null,
      "grid_auto_flow": null,
      "grid_auto_rows": null,
      "grid_column": null,
      "grid_gap": null,
      "grid_row": null,
      "grid_template_areas": null,
      "grid_template_columns": null,
      "grid_template_rows": null,
      "height": null,
      "justify_content": null,
      "justify_items": null,
      "left": null,
      "margin": null,
      "max_height": null,
      "max_width": null,
      "min_height": null,
      "min_width": null,
      "object_fit": null,
      "object_position": null,
      "order": null,
      "overflow": null,
      "overflow_x": null,
      "overflow_y": null,
      "padding": null,
      "right": null,
      "top": null,
      "visibility": null,
      "width": null
     }
    },
    "cac7484695304265b7d6e5312d5849af": {
     "model_module": "@jupyter-widgets/controls",
     "model_module_version": "1.5.0",
     "model_name": "HBoxModel",
     "state": {
      "_dom_classes": [],
      "_model_module": "@jupyter-widgets/controls",
      "_model_module_version": "1.5.0",
      "_model_name": "HBoxModel",
      "_view_count": null,
      "_view_module": "@jupyter-widgets/controls",
      "_view_module_version": "1.5.0",
      "_view_name": "HBoxView",
      "box_style": "",
      "children": [
       "IPY_MODEL_265bc7d0cff44032979f40f4a1f701e6",
       "IPY_MODEL_93b3d952ce13416da3a69e173c1b30d4",
       "IPY_MODEL_8b87becbac994af197a2e9e4458454f8"
      ],
      "layout": "IPY_MODEL_a6cf41e3cf2f487880f1911355196295"
     }
    },
    "da6f5ce4a5ef481d909eebff99c74b13": {
     "model_module": "@jupyter-widgets/controls",
     "model_module_version": "1.5.0",
     "model_name": "DescriptionStyleModel",
     "state": {
      "_model_module": "@jupyter-widgets/controls",
      "_model_module_version": "1.5.0",
      "_model_name": "DescriptionStyleModel",
      "_view_count": null,
      "_view_module": "@jupyter-widgets/base",
      "_view_module_version": "1.2.0",
      "_view_name": "StyleView",
      "description_width": ""
     }
    },
    "ec0718e733594ca7b47f2c268faec52c": {
     "model_module": "@jupyter-widgets/base",
     "model_module_version": "1.2.0",
     "model_name": "LayoutModel",
     "state": {
      "_model_module": "@jupyter-widgets/base",
      "_model_module_version": "1.2.0",
      "_model_name": "LayoutModel",
      "_view_count": null,
      "_view_module": "@jupyter-widgets/base",
      "_view_module_version": "1.2.0",
      "_view_name": "LayoutView",
      "align_content": null,
      "align_items": null,
      "align_self": null,
      "border": null,
      "bottom": null,
      "display": null,
      "flex": null,
      "flex_flow": null,
      "grid_area": null,
      "grid_auto_columns": null,
      "grid_auto_flow": null,
      "grid_auto_rows": null,
      "grid_column": null,
      "grid_gap": null,
      "grid_row": null,
      "grid_template_areas": null,
      "grid_template_columns": null,
      "grid_template_rows": null,
      "height": null,
      "justify_content": null,
      "justify_items": null,
      "left": null,
      "margin": null,
      "max_height": null,
      "max_width": null,
      "min_height": null,
      "min_width": null,
      "object_fit": null,
      "object_position": null,
      "order": null,
      "overflow": null,
      "overflow_x": null,
      "overflow_y": null,
      "padding": null,
      "right": null,
      "top": null,
      "visibility": null,
      "width": null
     }
    },
    "fe049d02edd7483382e38fe079b1686f": {
     "model_module": "@jupyter-widgets/base",
     "model_module_version": "1.2.0",
     "model_name": "LayoutModel",
     "state": {
      "_model_module": "@jupyter-widgets/base",
      "_model_module_version": "1.2.0",
      "_model_name": "LayoutModel",
      "_view_count": null,
      "_view_module": "@jupyter-widgets/base",
      "_view_module_version": "1.2.0",
      "_view_name": "LayoutView",
      "align_content": null,
      "align_items": null,
      "align_self": null,
      "border": null,
      "bottom": null,
      "display": null,
      "flex": null,
      "flex_flow": null,
      "grid_area": null,
      "grid_auto_columns": null,
      "grid_auto_flow": null,
      "grid_auto_rows": null,
      "grid_column": null,
      "grid_gap": null,
      "grid_row": null,
      "grid_template_areas": null,
      "grid_template_columns": null,
      "grid_template_rows": null,
      "height": null,
      "justify_content": null,
      "justify_items": null,
      "left": null,
      "margin": null,
      "max_height": null,
      "max_width": null,
      "min_height": null,
      "min_width": null,
      "object_fit": null,
      "object_position": null,
      "order": null,
      "overflow": null,
      "overflow_x": null,
      "overflow_y": null,
      "padding": null,
      "right": null,
      "top": null,
      "visibility": null,
      "width": null
     }
    }
   }
  }
 },
 "nbformat": 4,
 "nbformat_minor": 5
}
