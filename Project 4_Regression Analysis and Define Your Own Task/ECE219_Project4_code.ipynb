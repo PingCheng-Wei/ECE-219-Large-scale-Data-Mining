{
 "cells": [
  {
   "attachments": {},
   "cell_type": "markdown",
   "id": "a4317d43",
   "metadata": {
    "id": "a4317d43"
   },
   "source": [
    "# ECE 219 Project 4: Regression Analysis and Define Your Own Task!\n"
   ]
  },
  {
   "cell_type": "code",
   "execution_count": 2,
   "id": "fc7aa088",
   "metadata": {
    "colab": {
     "base_uri": "https://localhost:8080/"
    },
    "executionInfo": {
     "elapsed": 21395,
     "status": "ok",
     "timestamp": 1679254231668,
     "user": {
      "displayName": "PING-CHENG WEI",
      "userId": "17456108749581822272"
     },
     "user_tz": 420
    },
    "id": "fc7aa088",
    "outputId": "abe288ba-04a1-4f84-cc4c-e9867af4f594"
   },
   "outputs": [],
   "source": [
    "# import all necessary libraries \n",
    "import numpy as np\n",
    "import pandas as pd\n",
    "import matplotlib.pyplot as plt\n",
    "\n",
    "# allows matlab plots to be generated in line\n",
    "%matplotlib inline\n",
    "\n",
    "from google.colab import drive\n",
    "drive.mount(\"/content/drive/\")\n",
    "\n",
    "# add system path to current directory\n",
    "import sys\n",
    "sys.path.append('/content/drive/MyDrive/Colab Notebooks/ECE_219/Project4')"
   ]
  },
  {
   "cell_type": "markdown",
   "id": "ruWtXQr2EC0O",
   "metadata": {
    "id": "ruWtXQr2EC0O"
   },
   "source": [
    "# Dataset 1: Diamond Characteristics"
   ]
  },
  {
   "cell_type": "code",
   "execution_count": 3,
   "id": "H13w-f1zEClT",
   "metadata": {
    "colab": {
     "base_uri": "https://localhost:8080/",
     "height": 223
    },
    "executionInfo": {
     "elapsed": 671,
     "status": "ok",
     "timestamp": 1679254499108,
     "user": {
      "displayName": "PING-CHENG WEI",
      "userId": "17456108749581822272"
     },
     "user_tz": 420
    },
    "id": "H13w-f1zEClT",
    "outputId": "add5e537-2bfb-4aa7-b3d6-2c9e10a527a6"
   },
   "outputs": [
    {
     "name": "stdout",
     "output_type": "stream",
     "text": [
      "Total number of rows: 53940 and columns: 10\n"
     ]
    },
    {
     "data": {
      "text/html": [
       "\n",
       "  <div id=\"df-88aeb8af-c581-4e53-ada3-9c850bb236db\">\n",
       "    <div class=\"colab-df-container\">\n",
       "      <div>\n",
       "<style scoped>\n",
       "    .dataframe tbody tr th:only-of-type {\n",
       "        vertical-align: middle;\n",
       "    }\n",
       "\n",
       "    .dataframe tbody tr th {\n",
       "        vertical-align: top;\n",
       "    }\n",
       "\n",
       "    .dataframe thead th {\n",
       "        text-align: right;\n",
       "    }\n",
       "</style>\n",
       "<table border=\"1\" class=\"dataframe\">\n",
       "  <thead>\n",
       "    <tr style=\"text-align: right;\">\n",
       "      <th></th>\n",
       "      <th>carat</th>\n",
       "      <th>cut</th>\n",
       "      <th>color</th>\n",
       "      <th>clarity</th>\n",
       "      <th>depth</th>\n",
       "      <th>table</th>\n",
       "      <th>price</th>\n",
       "      <th>x</th>\n",
       "      <th>y</th>\n",
       "      <th>z</th>\n",
       "    </tr>\n",
       "  </thead>\n",
       "  <tbody>\n",
       "    <tr>\n",
       "      <th>1</th>\n",
       "      <td>0.23</td>\n",
       "      <td>Ideal</td>\n",
       "      <td>E</td>\n",
       "      <td>SI2</td>\n",
       "      <td>61.5</td>\n",
       "      <td>55.0</td>\n",
       "      <td>330</td>\n",
       "      <td>3.95</td>\n",
       "      <td>3.98</td>\n",
       "      <td>2.43</td>\n",
       "    </tr>\n",
       "    <tr>\n",
       "      <th>2</th>\n",
       "      <td>0.21</td>\n",
       "      <td>Premium</td>\n",
       "      <td>E</td>\n",
       "      <td>SI1</td>\n",
       "      <td>59.8</td>\n",
       "      <td>61.0</td>\n",
       "      <td>327</td>\n",
       "      <td>3.89</td>\n",
       "      <td>3.84</td>\n",
       "      <td>2.31</td>\n",
       "    </tr>\n",
       "    <tr>\n",
       "      <th>3</th>\n",
       "      <td>0.23</td>\n",
       "      <td>Good</td>\n",
       "      <td>E</td>\n",
       "      <td>VS1</td>\n",
       "      <td>56.9</td>\n",
       "      <td>65.0</td>\n",
       "      <td>328</td>\n",
       "      <td>4.05</td>\n",
       "      <td>4.07</td>\n",
       "      <td>2.31</td>\n",
       "    </tr>\n",
       "    <tr>\n",
       "      <th>4</th>\n",
       "      <td>0.29</td>\n",
       "      <td>Premium</td>\n",
       "      <td>I</td>\n",
       "      <td>VS2</td>\n",
       "      <td>62.4</td>\n",
       "      <td>58.0</td>\n",
       "      <td>337</td>\n",
       "      <td>4.20</td>\n",
       "      <td>4.23</td>\n",
       "      <td>2.63</td>\n",
       "    </tr>\n",
       "    <tr>\n",
       "      <th>5</th>\n",
       "      <td>0.31</td>\n",
       "      <td>Good</td>\n",
       "      <td>J</td>\n",
       "      <td>SI2</td>\n",
       "      <td>63.3</td>\n",
       "      <td>58.0</td>\n",
       "      <td>338</td>\n",
       "      <td>4.34</td>\n",
       "      <td>4.35</td>\n",
       "      <td>2.75</td>\n",
       "    </tr>\n",
       "  </tbody>\n",
       "</table>\n",
       "</div>\n",
       "      <button class=\"colab-df-convert\" onclick=\"convertToInteractive('df-88aeb8af-c581-4e53-ada3-9c850bb236db')\"\n",
       "              title=\"Convert this dataframe to an interactive table.\"\n",
       "              style=\"display:none;\">\n",
       "        \n",
       "  <svg xmlns=\"http://www.w3.org/2000/svg\" height=\"24px\"viewBox=\"0 0 24 24\"\n",
       "       width=\"24px\">\n",
       "    <path d=\"M0 0h24v24H0V0z\" fill=\"none\"/>\n",
       "    <path d=\"M18.56 5.44l.94 2.06.94-2.06 2.06-.94-2.06-.94-.94-2.06-.94 2.06-2.06.94zm-11 1L8.5 8.5l.94-2.06 2.06-.94-2.06-.94L8.5 2.5l-.94 2.06-2.06.94zm10 10l.94 2.06.94-2.06 2.06-.94-2.06-.94-.94-2.06-.94 2.06-2.06.94z\"/><path d=\"M17.41 7.96l-1.37-1.37c-.4-.4-.92-.59-1.43-.59-.52 0-1.04.2-1.43.59L10.3 9.45l-7.72 7.72c-.78.78-.78 2.05 0 2.83L4 21.41c.39.39.9.59 1.41.59.51 0 1.02-.2 1.41-.59l7.78-7.78 2.81-2.81c.8-.78.8-2.07 0-2.86zM5.41 20L4 18.59l7.72-7.72 1.47 1.35L5.41 20z\"/>\n",
       "  </svg>\n",
       "      </button>\n",
       "      \n",
       "  <style>\n",
       "    .colab-df-container {\n",
       "      display:flex;\n",
       "      flex-wrap:wrap;\n",
       "      gap: 12px;\n",
       "    }\n",
       "\n",
       "    .colab-df-convert {\n",
       "      background-color: #E8F0FE;\n",
       "      border: none;\n",
       "      border-radius: 50%;\n",
       "      cursor: pointer;\n",
       "      display: none;\n",
       "      fill: #1967D2;\n",
       "      height: 32px;\n",
       "      padding: 0 0 0 0;\n",
       "      width: 32px;\n",
       "    }\n",
       "\n",
       "    .colab-df-convert:hover {\n",
       "      background-color: #E2EBFA;\n",
       "      box-shadow: 0px 1px 2px rgba(60, 64, 67, 0.3), 0px 1px 3px 1px rgba(60, 64, 67, 0.15);\n",
       "      fill: #174EA6;\n",
       "    }\n",
       "\n",
       "    [theme=dark] .colab-df-convert {\n",
       "      background-color: #3B4455;\n",
       "      fill: #D2E3FC;\n",
       "    }\n",
       "\n",
       "    [theme=dark] .colab-df-convert:hover {\n",
       "      background-color: #434B5C;\n",
       "      box-shadow: 0px 1px 3px 1px rgba(0, 0, 0, 0.15);\n",
       "      filter: drop-shadow(0px 1px 2px rgba(0, 0, 0, 0.3));\n",
       "      fill: #FFFFFF;\n",
       "    }\n",
       "  </style>\n",
       "\n",
       "      <script>\n",
       "        const buttonEl =\n",
       "          document.querySelector('#df-88aeb8af-c581-4e53-ada3-9c850bb236db button.colab-df-convert');\n",
       "        buttonEl.style.display =\n",
       "          google.colab.kernel.accessAllowed ? 'block' : 'none';\n",
       "\n",
       "        async function convertToInteractive(key) {\n",
       "          const element = document.querySelector('#df-88aeb8af-c581-4e53-ada3-9c850bb236db');\n",
       "          const dataTable =\n",
       "            await google.colab.kernel.invokeFunction('convertToInteractive',\n",
       "                                                     [key], {});\n",
       "          if (!dataTable) return;\n",
       "\n",
       "          const docLinkHtml = 'Like what you see? Visit the ' +\n",
       "            '<a target=\"_blank\" href=https://colab.research.google.com/notebooks/data_table.ipynb>data table notebook</a>'\n",
       "            + ' to learn more about interactive tables.';\n",
       "          element.innerHTML = '';\n",
       "          dataTable['output_type'] = 'display_data';\n",
       "          await google.colab.output.renderOutput(dataTable, element);\n",
       "          const docLink = document.createElement('div');\n",
       "          docLink.innerHTML = docLinkHtml;\n",
       "          element.appendChild(docLink);\n",
       "        }\n",
       "      </script>\n",
       "    </div>\n",
       "  </div>\n",
       "  "
      ],
      "text/plain": [
       "   carat      cut color clarity  depth  table  price     x     y     z\n",
       "1   0.23    Ideal     E     SI2   61.5   55.0    330  3.95  3.98  2.43\n",
       "2   0.21  Premium     E     SI1   59.8   61.0    327  3.89  3.84  2.31\n",
       "3   0.23     Good     E     VS1   56.9   65.0    328  4.05  4.07  2.31\n",
       "4   0.29  Premium     I     VS2   62.4   58.0    337  4.20  4.23  2.63\n",
       "5   0.31     Good     J     SI2   63.3   58.0    338  4.34  4.35  2.75"
      ]
     },
     "execution_count": 3,
     "metadata": {},
     "output_type": "execute_result"
    }
   ],
   "source": [
    "# read the csv file and get the shape\n",
    "file_path = '/content/drive/MyDrive/Colab Notebooks/ECE_219/Project4/dataset/diamonds.csv'\n",
    "diamond_df = pd.read_csv(file_path, index_col=0)\n",
    "\n",
    "rows, columns = diamond_df.shape\n",
    "\n",
    "print('Total number of rows: {0} and columns: {1}'.format(rows, columns))\n",
    "diamond_df.head(5)"
   ]
  },
  {
   "cell_type": "markdown",
   "id": "cP92GVjNFTD2",
   "metadata": {
    "id": "cP92GVjNFTD2"
   },
   "source": [
    "# 3 Required Steps"
   ]
  },
  {
   "cell_type": "markdown",
   "id": "CnLQvkYuFVQI",
   "metadata": {
    "id": "CnLQvkYuFVQI"
   },
   "source": [
    "## 3.1 Before Training"
   ]
  },
  {
   "cell_type": "markdown",
   "id": "lk_R1EPmFcQO",
   "metadata": {
    "id": "lk_R1EPmFcQO"
   },
   "source": [
    "### 3.1.1 Handling Categorical Features"
   ]
  },
  {
   "cell_type": "code",
   "execution_count": 4,
   "id": "121c9219",
   "metadata": {
    "colab": {
     "base_uri": "https://localhost:8080/",
     "height": 206
    },
    "executionInfo": {
     "elapsed": 209,
     "status": "ok",
     "timestamp": 1679255178693,
     "user": {
      "displayName": "PING-CHENG WEI",
      "userId": "17456108749581822272"
     },
     "user_tz": 420
    },
    "id": "121c9219",
    "outputId": "a301cc20-19ef-4496-fe44-3bdddae7dd76"
   },
   "outputs": [
    {
     "data": {
      "text/html": [
       "\n",
       "  <div id=\"df-74bac05b-242e-46cf-b466-e22e99407a44\">\n",
       "    <div class=\"colab-df-container\">\n",
       "      <div>\n",
       "<style scoped>\n",
       "    .dataframe tbody tr th:only-of-type {\n",
       "        vertical-align: middle;\n",
       "    }\n",
       "\n",
       "    .dataframe tbody tr th {\n",
       "        vertical-align: top;\n",
       "    }\n",
       "\n",
       "    .dataframe thead th {\n",
       "        text-align: right;\n",
       "    }\n",
       "</style>\n",
       "<table border=\"1\" class=\"dataframe\">\n",
       "  <thead>\n",
       "    <tr style=\"text-align: right;\">\n",
       "      <th></th>\n",
       "      <th>carat</th>\n",
       "      <th>cut</th>\n",
       "      <th>color</th>\n",
       "      <th>clarity</th>\n",
       "      <th>depth</th>\n",
       "      <th>table</th>\n",
       "      <th>price</th>\n",
       "      <th>x</th>\n",
       "      <th>y</th>\n",
       "      <th>z</th>\n",
       "    </tr>\n",
       "  </thead>\n",
       "  <tbody>\n",
       "    <tr>\n",
       "      <th>1</th>\n",
       "      <td>0.23</td>\n",
       "      <td>5</td>\n",
       "      <td>6</td>\n",
       "      <td>2</td>\n",
       "      <td>61.5</td>\n",
       "      <td>55.0</td>\n",
       "      <td>330</td>\n",
       "      <td>3.95</td>\n",
       "      <td>3.98</td>\n",
       "      <td>2.43</td>\n",
       "    </tr>\n",
       "    <tr>\n",
       "      <th>2</th>\n",
       "      <td>0.21</td>\n",
       "      <td>4</td>\n",
       "      <td>6</td>\n",
       "      <td>3</td>\n",
       "      <td>59.8</td>\n",
       "      <td>61.0</td>\n",
       "      <td>327</td>\n",
       "      <td>3.89</td>\n",
       "      <td>3.84</td>\n",
       "      <td>2.31</td>\n",
       "    </tr>\n",
       "    <tr>\n",
       "      <th>3</th>\n",
       "      <td>0.23</td>\n",
       "      <td>2</td>\n",
       "      <td>6</td>\n",
       "      <td>5</td>\n",
       "      <td>56.9</td>\n",
       "      <td>65.0</td>\n",
       "      <td>328</td>\n",
       "      <td>4.05</td>\n",
       "      <td>4.07</td>\n",
       "      <td>2.31</td>\n",
       "    </tr>\n",
       "    <tr>\n",
       "      <th>4</th>\n",
       "      <td>0.29</td>\n",
       "      <td>4</td>\n",
       "      <td>2</td>\n",
       "      <td>4</td>\n",
       "      <td>62.4</td>\n",
       "      <td>58.0</td>\n",
       "      <td>337</td>\n",
       "      <td>4.20</td>\n",
       "      <td>4.23</td>\n",
       "      <td>2.63</td>\n",
       "    </tr>\n",
       "    <tr>\n",
       "      <th>5</th>\n",
       "      <td>0.31</td>\n",
       "      <td>2</td>\n",
       "      <td>1</td>\n",
       "      <td>2</td>\n",
       "      <td>63.3</td>\n",
       "      <td>58.0</td>\n",
       "      <td>338</td>\n",
       "      <td>4.34</td>\n",
       "      <td>4.35</td>\n",
       "      <td>2.75</td>\n",
       "    </tr>\n",
       "  </tbody>\n",
       "</table>\n",
       "</div>\n",
       "      <button class=\"colab-df-convert\" onclick=\"convertToInteractive('df-74bac05b-242e-46cf-b466-e22e99407a44')\"\n",
       "              title=\"Convert this dataframe to an interactive table.\"\n",
       "              style=\"display:none;\">\n",
       "        \n",
       "  <svg xmlns=\"http://www.w3.org/2000/svg\" height=\"24px\"viewBox=\"0 0 24 24\"\n",
       "       width=\"24px\">\n",
       "    <path d=\"M0 0h24v24H0V0z\" fill=\"none\"/>\n",
       "    <path d=\"M18.56 5.44l.94 2.06.94-2.06 2.06-.94-2.06-.94-.94-2.06-.94 2.06-2.06.94zm-11 1L8.5 8.5l.94-2.06 2.06-.94-2.06-.94L8.5 2.5l-.94 2.06-2.06.94zm10 10l.94 2.06.94-2.06 2.06-.94-2.06-.94-.94-2.06-.94 2.06-2.06.94z\"/><path d=\"M17.41 7.96l-1.37-1.37c-.4-.4-.92-.59-1.43-.59-.52 0-1.04.2-1.43.59L10.3 9.45l-7.72 7.72c-.78.78-.78 2.05 0 2.83L4 21.41c.39.39.9.59 1.41.59.51 0 1.02-.2 1.41-.59l7.78-7.78 2.81-2.81c.8-.78.8-2.07 0-2.86zM5.41 20L4 18.59l7.72-7.72 1.47 1.35L5.41 20z\"/>\n",
       "  </svg>\n",
       "      </button>\n",
       "      \n",
       "  <style>\n",
       "    .colab-df-container {\n",
       "      display:flex;\n",
       "      flex-wrap:wrap;\n",
       "      gap: 12px;\n",
       "    }\n",
       "\n",
       "    .colab-df-convert {\n",
       "      background-color: #E8F0FE;\n",
       "      border: none;\n",
       "      border-radius: 50%;\n",
       "      cursor: pointer;\n",
       "      display: none;\n",
       "      fill: #1967D2;\n",
       "      height: 32px;\n",
       "      padding: 0 0 0 0;\n",
       "      width: 32px;\n",
       "    }\n",
       "\n",
       "    .colab-df-convert:hover {\n",
       "      background-color: #E2EBFA;\n",
       "      box-shadow: 0px 1px 2px rgba(60, 64, 67, 0.3), 0px 1px 3px 1px rgba(60, 64, 67, 0.15);\n",
       "      fill: #174EA6;\n",
       "    }\n",
       "\n",
       "    [theme=dark] .colab-df-convert {\n",
       "      background-color: #3B4455;\n",
       "      fill: #D2E3FC;\n",
       "    }\n",
       "\n",
       "    [theme=dark] .colab-df-convert:hover {\n",
       "      background-color: #434B5C;\n",
       "      box-shadow: 0px 1px 3px 1px rgba(0, 0, 0, 0.15);\n",
       "      filter: drop-shadow(0px 1px 2px rgba(0, 0, 0, 0.3));\n",
       "      fill: #FFFFFF;\n",
       "    }\n",
       "  </style>\n",
       "\n",
       "      <script>\n",
       "        const buttonEl =\n",
       "          document.querySelector('#df-74bac05b-242e-46cf-b466-e22e99407a44 button.colab-df-convert');\n",
       "        buttonEl.style.display =\n",
       "          google.colab.kernel.accessAllowed ? 'block' : 'none';\n",
       "\n",
       "        async function convertToInteractive(key) {\n",
       "          const element = document.querySelector('#df-74bac05b-242e-46cf-b466-e22e99407a44');\n",
       "          const dataTable =\n",
       "            await google.colab.kernel.invokeFunction('convertToInteractive',\n",
       "                                                     [key], {});\n",
       "          if (!dataTable) return;\n",
       "\n",
       "          const docLinkHtml = 'Like what you see? Visit the ' +\n",
       "            '<a target=\"_blank\" href=https://colab.research.google.com/notebooks/data_table.ipynb>data table notebook</a>'\n",
       "            + ' to learn more about interactive tables.';\n",
       "          element.innerHTML = '';\n",
       "          dataTable['output_type'] = 'display_data';\n",
       "          await google.colab.output.renderOutput(dataTable, element);\n",
       "          const docLink = document.createElement('div');\n",
       "          docLink.innerHTML = docLinkHtml;\n",
       "          element.appendChild(docLink);\n",
       "        }\n",
       "      </script>\n",
       "    </div>\n",
       "  </div>\n",
       "  "
      ],
      "text/plain": [
       "   carat  cut  color  clarity  depth  table  price     x     y     z\n",
       "1   0.23    5      6        2   61.5   55.0    330  3.95  3.98  2.43\n",
       "2   0.21    4      6        3   59.8   61.0    327  3.89  3.84  2.31\n",
       "3   0.23    2      6        5   56.9   65.0    328  4.05  4.07  2.31\n",
       "4   0.29    4      2        4   62.4   58.0    337  4.20  4.23  2.63\n",
       "5   0.31    2      1        2   63.3   58.0    338  4.34  4.35  2.75"
      ]
     },
     "execution_count": 4,
     "metadata": {},
     "output_type": "execute_result"
    }
   ],
   "source": [
    "mapping_table = {'cut':{'Fair': 1, 'Good': 2, 'Very Good': 3, 'Premium': 4, 'Ideal': 5},\n",
    "                 'color':{'J': 1, 'I': 2, 'H': 3, 'G': 4, 'F': 5, 'E': 6, 'D': 7},\n",
    "                 'clarity':{'I1': 1, 'SI2': 2, 'SI1': 3, 'VS2': 4, 'VS1': 5, \n",
    "                            'VVS2': 6, 'VVS1': 7, 'IF': 8}\n",
    "                 }\n",
    "\n",
    "# convert the categorical features\n",
    "diamond_df = diamond_df.replace(mapping_table)\n",
    "diamond_df.head()"
   ]
  },
  {
   "cell_type": "markdown",
   "id": "bVHpyLAbJSn4",
   "metadata": {
    "id": "bVHpyLAbJSn4"
   },
   "source": [
    "### 3.1.2 Data Inspection"
   ]
  },
  {
   "cell_type": "code",
   "execution_count": 6,
   "id": "e8a4294b",
   "metadata": {
    "colab": {
     "base_uri": "https://localhost:8080/",
     "height": 501
    },
    "executionInfo": {
     "elapsed": 948,
     "status": "ok",
     "timestamp": 1679256906694,
     "user": {
      "displayName": "PING-CHENG WEI",
      "userId": "17456108749581822272"
     },
     "user_tz": 420
    },
    "id": "e8a4294b",
    "outputId": "6598041f-6d57-4c5b-b0d1-a37c115af9cb"
   },
   "outputs": [
    {
     "data": {
      "text/plain": [
       "carat      0.921591\n",
       "cut       -0.053493\n",
       "color     -0.172509\n",
       "clarity   -0.146802\n",
       "depth     -0.010648\n",
       "table      0.127134\n",
       "price      1.000000\n",
       "x          0.884436\n",
       "y          0.865422\n",
       "z          0.861250\n",
       "Name: price, dtype: float64"
      ]
     },
     "execution_count": 6,
     "metadata": {},
     "output_type": "execute_result"
    },
    {
     "data": {
      "image/png": "[encoded data removed]",
      "text/plain": [
       "<Figure size 432x288 with 2 Axes>"
      ]
     },
     "metadata": {
      "needs_background": "light"
     },
     "output_type": "display_data"
    }
   ],
   "source": [
    "# calculate the pearson correlation\n",
    "pearson_corr = diamond_df.corr(method='pearson')\n",
    "\n",
    "# plot\n",
    "f = plt.figure(figsize=(6, 4))\n",
    "plt.matshow(pearson_corr.corr(), fignum=f.number)\n",
    "plt.xticks(range(pearson_corr.select_dtypes(['number']).shape[1]), \n",
    "           pearson_corr.select_dtypes(['number']).columns, fontsize=10, rotation=45)\n",
    "plt.yticks(range(pearson_corr.select_dtypes(['number']).shape[1]), \n",
    "           pearson_corr.select_dtypes(['number']).columns, fontsize=10)\n",
    "cb = plt.colorbar()\n",
    "cb.ax.tick_params(labelsize=10)\n",
    "plt.title('Pearson Correlation Matrix', fontsize=12)\n",
    "\n",
    "# only look at the price column\n",
    "pearson_corr['price']"
   ]
  },
  {
   "cell_type": "markdown",
   "id": "lMPAqNgJJZAe",
   "metadata": {
    "id": "lMPAqNgJJZAe"
   },
   "source": [
    "<div class=\"alert alert-block alert-success\">\n",
    "<b>QUESTION 1.1:</b> Plot a heatmap of the Pearson correlation matrix of the dataset columns. Report which features have the highest absolute correlation with the target variable. In the context of either dataset, describe what the correlation patterns suggest.\n",
    "</div>"
   ]
  },
  {
   "cell_type": "markdown",
   "id": "CozbZj52JaLA",
   "metadata": {
    "id": "CozbZj52JaLA"
   },
   "source": [
    "<div class=\"alert alert-block alert-success\">\n",
    "<b>ANSWER 1.1:</b> The plot is shown above. Carat is the feature with the highest absolute correlation with the target variable, price. Based on the pattern of the pearson correlation matrix, one can tell that the features such as carat, x, y and z are highly related to the price and thus are the most important features to utilize to trian the model. The rest of the features, on the other hand, might as well also provide some useful information but not as informative as those four for the purpose of price estimation.\n",
    "</div>"
   ]
  },
  {
   "cell_type": "code",
   "execution_count": null,
   "id": "e79c3c38",
   "metadata": {
    "colab": {
     "base_uri": "https://localhost:8080/",
     "height": 1000
    },
    "executionInfo": {
     "elapsed": 11035,
     "status": "ok",
     "timestamp": 1679199545722,
     "user": {
      "displayName": "PING-CHENG WEI",
      "userId": "17456108749581822272"
     },
     "user_tz": 420
    },
    "id": "BNkqqeK5_RLG",
    "outputId": "0a1de2b4-dc3d-4940-93a1-b5183fc76e78",
    "scrolled": false
   },
   "outputs": [
    {
     "data": {
      "image/png": "[encoded data removed]",
      "text/plain": [
       "<Figure size 1080x2160 with 6 Axes>"
      ]
     },
     "metadata": {
      "needs_background": "light"
     },
     "output_type": "display_data"
    }
   ],
   "source": [
    "# the numerical features are carat, depth, table, x, y, z\n",
    "\n",
    "# plot\n",
    "fig, axes = plt.subplots(nrows=6, ncols=1, figsize=(15, 30))\n",
    "\n",
    "# histogram of 'carat'\n",
    "unique, counts = np.unique(diamond_df['carat'].to_numpy(), return_counts=True)\n",
    "axes[0].bar(range(len(unique)), counts)\n",
    "axes[0].set_xticks(range(len(unique)), unique, rotation=45)\n",
    "axes[0].xaxis.set_major_locator(plt.MaxNLocator(100))\n",
    "axes[0].set_xlabel('Value of Carat')\n",
    "axes[0].set_ylabel('Number of each Carat')\n",
    "axes[0].set_title('Histogram of Carat')\n",
    "\n",
    "# histogram of 'depth'\n",
    "unique, counts = np.unique(diamond_df['depth'].to_numpy(), return_counts=True)\n",
    "axes[1].bar(range(len(unique)), counts)\n",
    "axes[1].set_xticks(range(len(unique)), unique, rotation=45)\n",
    "axes[1].xaxis.set_major_locator(plt.MaxNLocator(100))\n",
    "axes[1].set_xlabel('Value of Depth')\n",
    "axes[1].set_ylabel('Number of each Depth')\n",
    "axes[1].set_title('Histogram of Depth')\n",
    "\n",
    "# histogram of 'table'\n",
    "unique, counts = np.unique(diamond_df['table'].to_numpy(), return_counts=True)\n",
    "axes[2].bar(range(len(unique)), counts)\n",
    "axes[2].set_xticks(range(len(unique)), unique, rotation=45)\n",
    "axes[2].xaxis.set_major_locator(plt.MaxNLocator(100))\n",
    "axes[2].set_xlabel('Value of Table')\n",
    "axes[2].set_ylabel('Number of each Table')\n",
    "axes[2].set_title('Histogram of Table')\n",
    "\n",
    "# histogram of 'x'\n",
    "unique, counts = np.unique(diamond_df['x'].to_numpy(), return_counts=True)\n",
    "axes[3].bar(range(len(unique)), counts)\n",
    "axes[3].set_xticks(range(len(unique)), unique, rotation=45)\n",
    "axes[3].xaxis.set_major_locator(plt.MaxNLocator(100))\n",
    "axes[3].set_xlabel('Value of x')\n",
    "axes[3].set_ylabel('Number of x')\n",
    "axes[3].set_title('Histogram of x')\n",
    "\n",
    "# histogram of 'y'\n",
    "unique, counts = np.unique(diamond_df['y'].to_numpy(), return_counts=True)\n",
    "axes[4].bar(range(len(unique)), counts)\n",
    "axes[4].set_xticks(range(len(unique)), unique, rotation=45)\n",
    "axes[4].xaxis.set_major_locator(plt.MaxNLocator(100))\n",
    "axes[4].set_xlabel('Value of y')\n",
    "axes[4].set_ylabel('Number of y')\n",
    "axes[4].set_title('Histogram of y')\n",
    "\n",
    "# histogram of 'z'\n",
    "unique, counts = np.unique(diamond_df['z'].to_numpy(), return_counts=True)\n",
    "axes[5].bar(range(len(unique)), counts)\n",
    "axes[5].set_xticks(range(len(unique)), unique, rotation=45)\n",
    "axes[5].xaxis.set_major_locator(plt.MaxNLocator(100))\n",
    "axes[5].set_xlabel('Value of z')\n",
    "axes[5].set_ylabel('Number of z')\n",
    "axes[5].set_title('Histogram of z')\n",
    "\n",
    "fig.tight_layout()\n",
    "plt.show()"
   ]
  },
  {
   "cell_type": "markdown",
   "id": "I2gDOYJ7OQ0Z",
   "metadata": {
    "id": "I2gDOYJ7OQ0Z"
   },
   "source": [
    "<div class=\"alert alert-block alert-success\">\n",
    "<b>QUESTION 1.2:</b> Plot the histogram of numerical features. What preprocessing can be done if the distribution of a feature has high skewness?\n",
    "</div>"
   ]
  },
  {
   "cell_type": "markdown",
   "id": "3GfgXYi0ORSU",
   "metadata": {
    "id": "3GfgXYi0ORSU"
   },
   "source": [
    "<div class=\"alert alert-block alert-success\">\n",
    "<b>ANSWER 1.2:</b> The results of the histogram of numerical features are shown above. If the distribution of a certain feature has high skewness, one can apply normalization or standardization techniques to resolve it.  \n",
    "</div>"
   ]
  },
  {
   "cell_type": "code",
   "execution_count": null,
   "id": "ed4b1d4b",
   "metadata": {
    "colab": {
     "base_uri": "https://localhost:8080/",
     "height": 282
    },
    "executionInfo": {
     "elapsed": 667,
     "status": "ok",
     "timestamp": 1679203546258,
     "user": {
      "displayName": "PING-CHENG WEI",
      "userId": "17456108749581822272"
     },
     "user_tz": 420
    },
    "id": "ed4b1d4b",
    "outputId": "0f0c4c9e-f450-4c20-cb83-04c818ed34da"
   },
   "outputs": [
    {
     "data": {
      "text/plain": [
       "<Axes: >"
      ]
     },
     "execution_count": 44,
     "metadata": {},
     "output_type": "execute_result"
    },
    {
     "data": {
      "image/png": "[encoded data removed]",
      "text/plain": [
       "<Figure size 432x288 with 1 Axes>"
      ]
     },
     "metadata": {
      "needs_background": "light"
     },
     "output_type": "display_data"
    }
   ],
   "source": [
    "diamond_df.boxplot(column=['cut', 'color', 'clarity'])"
   ]
  },
  {
   "cell_type": "code",
   "execution_count": 7,
   "id": "xtAZls3chDp6",
   "metadata": {
    "colab": {
     "base_uri": "https://localhost:8080/",
     "height": 282
    },
    "executionInfo": {
     "elapsed": 689,
     "status": "ok",
     "timestamp": 1679257004827,
     "user": {
      "displayName": "PING-CHENG WEI",
      "userId": "17456108749581822272"
     },
     "user_tz": 420
    },
    "id": "xtAZls3chDp6",
    "outputId": "b40cab9b-caa3-4ebc-c19a-b8969876c44a"
   },
   "outputs": [
    {
     "data": {
      "text/plain": [
       "<Axes: >"
      ]
     },
     "execution_count": 7,
     "metadata": {},
     "output_type": "execute_result"
    },
    {
     "data": {
      "image/png": "[encoded data removed]",
      "text/plain": [
       "<Figure size 432x288 with 1 Axes>"
      ]
     },
     "metadata": {
      "needs_background": "light"
     },
     "output_type": "display_data"
    }
   ],
   "source": [
    "diamond_df.boxplot(column=['price'])"
   ]
  },
  {
   "cell_type": "markdown",
   "id": "-MrnF4GjOuZ_",
   "metadata": {
    "id": "-MrnF4GjOuZ_"
   },
   "source": [
    "<div class=\"alert alert-block alert-success\">\n",
    "<b>QUESTION 1.3:</b> Construct and inspect the box plot of categorical features vs target variable. What do you find?\n",
    "</div>"
   ]
  },
  {
   "cell_type": "markdown",
   "id": "RYyVLrWUOuO0",
   "metadata": {
    "id": "RYyVLrWUOuO0"
   },
   "source": [
    "<div class=\"alert alert-block alert-success\">\n",
    "<b>ANSWER 1.3:</b> The price of a diamond is affected differently between each categorical feature. It seems not to depend on the quality of the cut since most of the diamond (the upper quartile) have high quality cut but the price is still relative low. Clarity and color, on the other hand, show more correlation with the price. But still, the price of most of the diamond (the upper quartile)is relative low compared to the highest price, which means there might be other factors that affect more to the price of a diamond.\n",
    "</div>"
   ]
  },
  {
   "cell_type": "code",
   "execution_count": 8,
   "id": "41219c08",
   "metadata": {
    "colab": {
     "base_uri": "https://localhost:8080/",
     "height": 265
    },
    "executionInfo": {
     "elapsed": 432,
     "status": "ok",
     "timestamp": 1679257191357,
     "user": {
      "displayName": "PING-CHENG WEI",
      "userId": "17456108749581822272"
     },
     "user_tz": 420
    },
    "id": "41219c08",
    "outputId": "687a6910-736f-44c3-d629-3c3ab382308b"
   },
   "outputs": [
    {
     "data": {
      "image/png": "[encoded data removed]",
      "text/plain": [
       "<Figure size 432x288 with 1 Axes>"
      ]
     },
     "metadata": {
      "needs_background": "light"
     },
     "output_type": "display_data"
    }
   ],
   "source": [
    "color_unique, color_counts = np.unique(diamond_df['color'].to_numpy(), return_counts=True)\n",
    "cut_unique, cut_counts = np.unique(diamond_df['cut'].to_numpy(), return_counts=True)\n",
    "clarity_unique, clarity_counts = np.unique(diamond_df['clarity'].to_numpy(), return_counts=True)\n",
    "\n",
    "plt.plot(color_unique, color_counts, label='color')\n",
    "plt.plot(cut_unique, cut_counts, label='cut')\n",
    "plt.plot(clarity_unique, clarity_counts, label='clarity')\n",
    "plt.legend(loc=4)\n",
    "plt.show()"
   ]
  },
  {
   "cell_type": "markdown",
   "id": "p1O0txj3O4-g",
   "metadata": {
    "id": "p1O0txj3O4-g"
   },
   "source": [
    "<div class=\"alert alert-block alert-success\">\n",
    "<b>QUESTION 1.4:</b> Plot the counts by color, cut and clarity.\n",
    "</div>"
   ]
  },
  {
   "cell_type": "markdown",
   "id": "RUYpi7sWO47B",
   "metadata": {
    "id": "RUYpi7sWO47B"
   },
   "source": [
    "<div class=\"alert alert-block alert-success\">\n",
    "<b>ANSWER 1.4:</b> The plots are shown above.\n",
    "</div>"
   ]
  },
  {
   "cell_type": "markdown",
   "id": "EHenI3NDWdrK",
   "metadata": {
    "id": "EHenI3NDWdrK"
   },
   "source": [
    "### 3.1.3 Standardization"
   ]
  },
  {
   "cell_type": "code",
   "execution_count": 9,
   "id": "U7ZWDgGwZpjQ",
   "metadata": {
    "colab": {
     "base_uri": "https://localhost:8080/",
     "height": 206
    },
    "executionInfo": {
     "elapsed": 1658,
     "status": "ok",
     "timestamp": 1679258183010,
     "user": {
      "displayName": "PING-CHENG WEI",
      "userId": "17456108749581822272"
     },
     "user_tz": 420
    },
    "id": "U7ZWDgGwZpjQ",
    "outputId": "0877a15b-e3a8-4dd6-ceee-e53fcbb53f96"
   },
   "outputs": [
    {
     "data": {
      "text/html": [
       "\n",
       "  <div id=\"df-5c7da25a-9e1a-418f-8c53-8d414a898ac8\">\n",
       "    <div class=\"colab-df-container\">\n",
       "      <div>\n",
       "<style scoped>\n",
       "    .dataframe tbody tr th:only-of-type {\n",
       "        vertical-align: middle;\n",
       "    }\n",
       "\n",
       "    .dataframe tbody tr th {\n",
       "        vertical-align: top;\n",
       "    }\n",
       "\n",
       "    .dataframe thead th {\n",
       "        text-align: right;\n",
       "    }\n",
       "</style>\n",
       "<table border=\"1\" class=\"dataframe\">\n",
       "  <thead>\n",
       "    <tr style=\"text-align: right;\">\n",
       "      <th></th>\n",
       "      <th>carat</th>\n",
       "      <th>cut</th>\n",
       "      <th>color</th>\n",
       "      <th>clarity</th>\n",
       "      <th>depth</th>\n",
       "      <th>table</th>\n",
       "      <th>x</th>\n",
       "      <th>y</th>\n",
       "      <th>z</th>\n",
       "    </tr>\n",
       "  </thead>\n",
       "  <tbody>\n",
       "    <tr>\n",
       "      <th>1</th>\n",
       "      <td>-1.198168</td>\n",
       "      <td>0.981473</td>\n",
       "      <td>0.937163</td>\n",
       "      <td>-1.245215</td>\n",
       "      <td>-0.174092</td>\n",
       "      <td>-1.099672</td>\n",
       "      <td>-1.587837</td>\n",
       "      <td>-1.536196</td>\n",
       "      <td>-1.571129</td>\n",
       "    </tr>\n",
       "    <tr>\n",
       "      <th>2</th>\n",
       "      <td>-1.240361</td>\n",
       "      <td>0.085889</td>\n",
       "      <td>0.937163</td>\n",
       "      <td>-0.638095</td>\n",
       "      <td>-1.360738</td>\n",
       "      <td>1.585529</td>\n",
       "      <td>-1.641325</td>\n",
       "      <td>-1.658774</td>\n",
       "      <td>-1.741175</td>\n",
       "    </tr>\n",
       "    <tr>\n",
       "      <th>3</th>\n",
       "      <td>-1.198168</td>\n",
       "      <td>-1.705279</td>\n",
       "      <td>0.937163</td>\n",
       "      <td>0.576145</td>\n",
       "      <td>-3.385019</td>\n",
       "      <td>3.375663</td>\n",
       "      <td>-1.498691</td>\n",
       "      <td>-1.457395</td>\n",
       "      <td>-1.741175</td>\n",
       "    </tr>\n",
       "    <tr>\n",
       "      <th>4</th>\n",
       "      <td>-1.071587</td>\n",
       "      <td>0.085889</td>\n",
       "      <td>-1.414272</td>\n",
       "      <td>-0.030975</td>\n",
       "      <td>0.454133</td>\n",
       "      <td>0.242928</td>\n",
       "      <td>-1.364971</td>\n",
       "      <td>-1.317305</td>\n",
       "      <td>-1.287720</td>\n",
       "    </tr>\n",
       "    <tr>\n",
       "      <th>5</th>\n",
       "      <td>-1.029394</td>\n",
       "      <td>-1.705279</td>\n",
       "      <td>-2.002131</td>\n",
       "      <td>-1.245215</td>\n",
       "      <td>1.082358</td>\n",
       "      <td>0.242928</td>\n",
       "      <td>-1.240167</td>\n",
       "      <td>-1.212238</td>\n",
       "      <td>-1.117674</td>\n",
       "    </tr>\n",
       "  </tbody>\n",
       "</table>\n",
       "</div>\n",
       "      <button class=\"colab-df-convert\" onclick=\"convertToInteractive('df-5c7da25a-9e1a-418f-8c53-8d414a898ac8')\"\n",
       "              title=\"Convert this dataframe to an interactive table.\"\n",
       "              style=\"display:none;\">\n",
       "        \n",
       "  <svg xmlns=\"http://www.w3.org/2000/svg\" height=\"24px\"viewBox=\"0 0 24 24\"\n",
       "       width=\"24px\">\n",
       "    <path d=\"M0 0h24v24H0V0z\" fill=\"none\"/>\n",
       "    <path d=\"M18.56 5.44l.94 2.06.94-2.06 2.06-.94-2.06-.94-.94-2.06-.94 2.06-2.06.94zm-11 1L8.5 8.5l.94-2.06 2.06-.94-2.06-.94L8.5 2.5l-.94 2.06-2.06.94zm10 10l.94 2.06.94-2.06 2.06-.94-2.06-.94-.94-2.06-.94 2.06-2.06.94z\"/><path d=\"M17.41 7.96l-1.37-1.37c-.4-.4-.92-.59-1.43-.59-.52 0-1.04.2-1.43.59L10.3 9.45l-7.72 7.72c-.78.78-.78 2.05 0 2.83L4 21.41c.39.39.9.59 1.41.59.51 0 1.02-.2 1.41-.59l7.78-7.78 2.81-2.81c.8-.78.8-2.07 0-2.86zM5.41 20L4 18.59l7.72-7.72 1.47 1.35L5.41 20z\"/>\n",
       "  </svg>\n",
       "      </button>\n",
       "      \n",
       "  <style>\n",
       "    .colab-df-container {\n",
       "      display:flex;\n",
       "      flex-wrap:wrap;\n",
       "      gap: 12px;\n",
       "    }\n",
       "\n",
       "    .colab-df-convert {\n",
       "      background-color: #E8F0FE;\n",
       "      border: none;\n",
       "      border-radius: 50%;\n",
       "      cursor: pointer;\n",
       "      display: none;\n",
       "      fill: #1967D2;\n",
       "      height: 32px;\n",
       "      padding: 0 0 0 0;\n",
       "      width: 32px;\n",
       "    }\n",
       "\n",
       "    .colab-df-convert:hover {\n",
       "      background-color: #E2EBFA;\n",
       "      box-shadow: 0px 1px 2px rgba(60, 64, 67, 0.3), 0px 1px 3px 1px rgba(60, 64, 67, 0.15);\n",
       "      fill: #174EA6;\n",
       "    }\n",
       "\n",
       "    [theme=dark] .colab-df-convert {\n",
       "      background-color: #3B4455;\n",
       "      fill: #D2E3FC;\n",
       "    }\n",
       "\n",
       "    [theme=dark] .colab-df-convert:hover {\n",
       "      background-color: #434B5C;\n",
       "      box-shadow: 0px 1px 3px 1px rgba(0, 0, 0, 0.15);\n",
       "      filter: drop-shadow(0px 1px 2px rgba(0, 0, 0, 0.3));\n",
       "      fill: #FFFFFF;\n",
       "    }\n",
       "  </style>\n",
       "\n",
       "      <script>\n",
       "        const buttonEl =\n",
       "          document.querySelector('#df-5c7da25a-9e1a-418f-8c53-8d414a898ac8 button.colab-df-convert');\n",
       "        buttonEl.style.display =\n",
       "          google.colab.kernel.accessAllowed ? 'block' : 'none';\n",
       "\n",
       "        async function convertToInteractive(key) {\n",
       "          const element = document.querySelector('#df-5c7da25a-9e1a-418f-8c53-8d414a898ac8');\n",
       "          const dataTable =\n",
       "            await google.colab.kernel.invokeFunction('convertToInteractive',\n",
       "                                                     [key], {});\n",
       "          if (!dataTable) return;\n",
       "\n",
       "          const docLinkHtml = 'Like what you see? Visit the ' +\n",
       "            '<a target=\"_blank\" href=https://colab.research.google.com/notebooks/data_table.ipynb>data table notebook</a>'\n",
       "            + ' to learn more about interactive tables.';\n",
       "          element.innerHTML = '';\n",
       "          dataTable['output_type'] = 'display_data';\n",
       "          await google.colab.output.renderOutput(dataTable, element);\n",
       "          const docLink = document.createElement('div');\n",
       "          docLink.innerHTML = docLinkHtml;\n",
       "          element.appendChild(docLink);\n",
       "        }\n",
       "      </script>\n",
       "    </div>\n",
       "  </div>\n",
       "  "
      ],
      "text/plain": [
       "      carat       cut     color   clarity     depth     table         x  \\\n",
       "1 -1.198168  0.981473  0.937163 -1.245215 -0.174092 -1.099672 -1.587837   \n",
       "2 -1.240361  0.085889  0.937163 -0.638095 -1.360738  1.585529 -1.641325   \n",
       "3 -1.198168 -1.705279  0.937163  0.576145 -3.385019  3.375663 -1.498691   \n",
       "4 -1.071587  0.085889 -1.414272 -0.030975  0.454133  0.242928 -1.364971   \n",
       "5 -1.029394 -1.705279 -2.002131 -1.245215  1.082358  0.242928 -1.240167   \n",
       "\n",
       "          y         z  \n",
       "1 -1.536196 -1.571129  \n",
       "2 -1.658774 -1.741175  \n",
       "3 -1.457395 -1.741175  \n",
       "4 -1.317305 -1.287720  \n",
       "5 -1.212238 -1.117674  "
      ]
     },
     "execution_count": 9,
     "metadata": {},
     "output_type": "execute_result"
    }
   ],
   "source": [
    "from sklearn.preprocessing import StandardScaler\n",
    "from sklearn_pandas import DataFrameMapper\n",
    "\n",
    "# split into training features and target\n",
    "X_df = diamond_df[['carat', 'cut', 'color', 'clarity', 'depth', 'table', 'x', 'y','z']]\n",
    "y_df = diamond_df['price']\n",
    "\n",
    "mapper = DataFrameMapper([(X_df.columns, StandardScaler())])\n",
    "X_scaled = mapper.fit_transform(X_df.copy(), len(X_df.columns))\n",
    "X_scaled_df = pd.DataFrame(X_scaled, index=X_df.index, columns=X_df.columns)\n",
    "X_scaled_df.head(5)"
   ]
  },
  {
   "cell_type": "markdown",
   "id": "jz9JmIbdWkvE",
   "metadata": {
    "id": "jz9JmIbdWkvE"
   },
   "source": [
    "<div class=\"alert alert-block alert-success\">\n",
    "<b>QUESTION 2.1:</b> Standardize feature columns and prepare them for training.\n",
    "</div>\n"
   ]
  },
  {
   "cell_type": "markdown",
   "id": "Ng_X0OgzWksh",
   "metadata": {
    "id": "Ng_X0OgzWksh"
   },
   "source": [
    "<div class=\"alert alert-block alert-success\">\n",
    "<b>ANSWER 2.1:</b> The standardized results are shown above.\n",
    "</div>"
   ]
  },
  {
   "cell_type": "markdown",
   "id": "4a4LRpQbdDD7",
   "metadata": {
    "id": "4a4LRpQbdDD7"
   },
   "source": [
    "### 3.1.4 Feature Selection"
   ]
  },
  {
   "cell_type": "code",
   "execution_count": 10,
   "id": "T_0rMFAHdCay",
   "metadata": {
    "executionInfo": {
     "elapsed": 5794,
     "status": "ok",
     "timestamp": 1679258194067,
     "user": {
      "displayName": "PING-CHENG WEI",
      "userId": "17456108749581822272"
     },
     "user_tz": 420
    },
    "id": "T_0rMFAHdCay"
   },
   "outputs": [],
   "source": [
    "from sklearn.feature_selection import mutual_info_regression, f_regression\n",
    "\n",
    "# get features and target\n",
    "X = X_scaled\n",
    "y = y_df.to_numpy()\n",
    "\n",
    "# calculate the mutual info and f-score \n",
    "mi_reg = mutual_info_regression(X, y)\n",
    "f_reg = f_regression(X, y)"
   ]
  },
  {
   "cell_type": "code",
   "execution_count": 11,
   "id": "0202bda2",
   "metadata": {
    "colab": {
     "base_uri": "https://localhost:8080/"
    },
    "executionInfo": {
     "elapsed": 8,
     "status": "ok",
     "timestamp": 1679258194068,
     "user": {
      "displayName": "PING-CHENG WEI",
      "userId": "17456108749581822272"
     },
     "user_tz": 420
    },
    "id": "0202bda2",
    "outputId": "ca590fa8-8aad-4fde-8332-d0b45b379a84"
   },
   "outputs": [
    {
     "data": {
      "text/plain": [
       "carat      1.652971\n",
       "y          1.420542\n",
       "x          1.413453\n",
       "z          1.361221\n",
       "clarity    0.215971\n",
       "color      0.137740\n",
       "cut        0.058884\n",
       "table      0.035162\n",
       "depth      0.031628\n",
       "dtype: float64"
      ]
     },
     "execution_count": 11,
     "metadata": {},
     "output_type": "execute_result"
    }
   ],
   "source": [
    "mi_reg_pd = pd.Series(mi_reg)\n",
    "mi_reg_pd.index = X_scaled_df.columns\n",
    "mi_reg_pd.sort_values(ascending=False)"
   ]
  },
  {
   "cell_type": "code",
   "execution_count": 12,
   "id": "90da5b51",
   "metadata": {
    "colab": {
     "base_uri": "https://localhost:8080/",
     "height": 112
    },
    "executionInfo": {
     "elapsed": 7,
     "status": "ok",
     "timestamp": 1679258194070,
     "user": {
      "displayName": "PING-CHENG WEI",
      "userId": "17456108749581822272"
     },
     "user_tz": 420
    },
    "id": "90da5b51",
    "outputId": "3921f923-a3ec-4163-8719-86231f0b1bc0"
   },
   "outputs": [
    {
     "data": {
      "text/html": [
       "\n",
       "  <div id=\"df-53a57ba5-cdd4-483e-b26e-c9e4818e0078\">\n",
       "    <div class=\"colab-df-container\">\n",
       "      <div>\n",
       "<style scoped>\n",
       "    .dataframe tbody tr th:only-of-type {\n",
       "        vertical-align: middle;\n",
       "    }\n",
       "\n",
       "    .dataframe tbody tr th {\n",
       "        vertical-align: top;\n",
       "    }\n",
       "\n",
       "    .dataframe thead th {\n",
       "        text-align: right;\n",
       "    }\n",
       "</style>\n",
       "<table border=\"1\" class=\"dataframe\">\n",
       "  <thead>\n",
       "    <tr style=\"text-align: right;\">\n",
       "      <th></th>\n",
       "      <th>carat</th>\n",
       "      <th>cut</th>\n",
       "      <th>color</th>\n",
       "      <th>clarity</th>\n",
       "      <th>depth</th>\n",
       "      <th>table</th>\n",
       "      <th>x</th>\n",
       "      <th>y</th>\n",
       "      <th>z</th>\n",
       "    </tr>\n",
       "  </thead>\n",
       "  <tbody>\n",
       "    <tr>\n",
       "      <th>F-statistic</th>\n",
       "      <td>304051.486619</td>\n",
       "      <td>1.547845e+02</td>\n",
       "      <td>1654.401244</td>\n",
       "      <td>1.188007e+03</td>\n",
       "      <td>6.115863</td>\n",
       "      <td>8.861194e+02</td>\n",
       "      <td>193741.523066</td>\n",
       "      <td>160915.662263</td>\n",
       "      <td>154923.266553</td>\n",
       "    </tr>\n",
       "    <tr>\n",
       "      <th>p-values</th>\n",
       "      <td>0.000000</td>\n",
       "      <td>1.746019e-35</td>\n",
       "      <td>0.000000</td>\n",
       "      <td>1.571721e-257</td>\n",
       "      <td>0.013400</td>\n",
       "      <td>3.769963e-193</td>\n",
       "      <td>0.000000</td>\n",
       "      <td>0.000000</td>\n",
       "      <td>0.000000</td>\n",
       "    </tr>\n",
       "  </tbody>\n",
       "</table>\n",
       "</div>\n",
       "      <button class=\"colab-df-convert\" onclick=\"convertToInteractive('df-53a57ba5-cdd4-483e-b26e-c9e4818e0078')\"\n",
       "              title=\"Convert this dataframe to an interactive table.\"\n",
       "              style=\"display:none;\">\n",
       "        \n",
       "  <svg xmlns=\"http://www.w3.org/2000/svg\" height=\"24px\"viewBox=\"0 0 24 24\"\n",
       "       width=\"24px\">\n",
       "    <path d=\"M0 0h24v24H0V0z\" fill=\"none\"/>\n",
       "    <path d=\"M18.56 5.44l.94 2.06.94-2.06 2.06-.94-2.06-.94-.94-2.06-.94 2.06-2.06.94zm-11 1L8.5 8.5l.94-2.06 2.06-.94-2.06-.94L8.5 2.5l-.94 2.06-2.06.94zm10 10l.94 2.06.94-2.06 2.06-.94-2.06-.94-.94-2.06-.94 2.06-2.06.94z\"/><path d=\"M17.41 7.96l-1.37-1.37c-.4-.4-.92-.59-1.43-.59-.52 0-1.04.2-1.43.59L10.3 9.45l-7.72 7.72c-.78.78-.78 2.05 0 2.83L4 21.41c.39.39.9.59 1.41.59.51 0 1.02-.2 1.41-.59l7.78-7.78 2.81-2.81c.8-.78.8-2.07 0-2.86zM5.41 20L4 18.59l7.72-7.72 1.47 1.35L5.41 20z\"/>\n",
       "  </svg>\n",
       "      </button>\n",
       "      \n",
       "  <style>\n",
       "    .colab-df-container {\n",
       "      display:flex;\n",
       "      flex-wrap:wrap;\n",
       "      gap: 12px;\n",
       "    }\n",
       "\n",
       "    .colab-df-convert {\n",
       "      background-color: #E8F0FE;\n",
       "      border: none;\n",
       "      border-radius: 50%;\n",
       "      cursor: pointer;\n",
       "      display: none;\n",
       "      fill: #1967D2;\n",
       "      height: 32px;\n",
       "      padding: 0 0 0 0;\n",
       "      width: 32px;\n",
       "    }\n",
       "\n",
       "    .colab-df-convert:hover {\n",
       "      background-color: #E2EBFA;\n",
       "      box-shadow: 0px 1px 2px rgba(60, 64, 67, 0.3), 0px 1px 3px 1px rgba(60, 64, 67, 0.15);\n",
       "      fill: #174EA6;\n",
       "    }\n",
       "\n",
       "    [theme=dark] .colab-df-convert {\n",
       "      background-color: #3B4455;\n",
       "      fill: #D2E3FC;\n",
       "    }\n",
       "\n",
       "    [theme=dark] .colab-df-convert:hover {\n",
       "      background-color: #434B5C;\n",
       "      box-shadow: 0px 1px 3px 1px rgba(0, 0, 0, 0.15);\n",
       "      filter: drop-shadow(0px 1px 2px rgba(0, 0, 0, 0.3));\n",
       "      fill: #FFFFFF;\n",
       "    }\n",
       "  </style>\n",
       "\n",
       "      <script>\n",
       "        const buttonEl =\n",
       "          document.querySelector('#df-53a57ba5-cdd4-483e-b26e-c9e4818e0078 button.colab-df-convert');\n",
       "        buttonEl.style.display =\n",
       "          google.colab.kernel.accessAllowed ? 'block' : 'none';\n",
       "\n",
       "        async function convertToInteractive(key) {\n",
       "          const element = document.querySelector('#df-53a57ba5-cdd4-483e-b26e-c9e4818e0078');\n",
       "          const dataTable =\n",
       "            await google.colab.kernel.invokeFunction('convertToInteractive',\n",
       "                                                     [key], {});\n",
       "          if (!dataTable) return;\n",
       "\n",
       "          const docLinkHtml = 'Like what you see? Visit the ' +\n",
       "            '<a target=\"_blank\" href=https://colab.research.google.com/notebooks/data_table.ipynb>data table notebook</a>'\n",
       "            + ' to learn more about interactive tables.';\n",
       "          element.innerHTML = '';\n",
       "          dataTable['output_type'] = 'display_data';\n",
       "          await google.colab.output.renderOutput(dataTable, element);\n",
       "          const docLink = document.createElement('div');\n",
       "          docLink.innerHTML = docLinkHtml;\n",
       "          element.appendChild(docLink);\n",
       "        }\n",
       "      </script>\n",
       "    </div>\n",
       "  </div>\n",
       "  "
      ],
      "text/plain": [
       "                     carat           cut        color        clarity  \\\n",
       "F-statistic  304051.486619  1.547845e+02  1654.401244   1.188007e+03   \n",
       "p-values          0.000000  1.746019e-35     0.000000  1.571721e-257   \n",
       "\n",
       "                depth          table              x              y  \\\n",
       "F-statistic  6.115863   8.861194e+02  193741.523066  160915.662263   \n",
       "p-values     0.013400  3.769963e-193       0.000000       0.000000   \n",
       "\n",
       "                         z  \n",
       "F-statistic  154923.266553  \n",
       "p-values          0.000000  "
      ]
     },
     "execution_count": 12,
     "metadata": {},
     "output_type": "execute_result"
    }
   ],
   "source": [
    "f_reg_pd = pd.DataFrame(f_reg, index=np.array(['F-statistic', 'p-values']), \n",
    "                        columns=X_scaled_df.columns)\n",
    "f_reg_pd"
   ]
  },
  {
   "cell_type": "markdown",
   "id": "P5MMfzaFnaQO",
   "metadata": {
    "id": "P5MMfzaFnaQO"
   },
   "source": [
    "<div class=\"alert alert-block alert-success\">\n",
    "<b>QUESTION 2.2:</b> You **may** use these functions to select features that yield better regression results (especially in the classical models). Describe how this step qualitatively affects the performance of your models in terms of test RMSE. Is it true for all model types? Also list two features for either dataset that has the lowest MI w.r.t to the target.\n",
    "</div>"
   ]
  },
  {
   "cell_type": "markdown",
   "id": "GGcgomUNnsLQ",
   "metadata": {
    "id": "GGcgomUNnsLQ"
   },
   "source": [
    "<div class=\"alert alert-block alert-success\">\n",
    "<b>ANSWER 2.2:</b> Feature selection is an important step in machine learning. A good and strong correlated feature with high MI value can lead to a model with high performance and low test RMSE. A week or uncorrelated feature with low MI value will cause a hard time to train a good and robust model since such feature is not representative and uninformative enough to the target variable and is like noise to the model. Thus, including such feature, will increase the test RMSE and decrease the model performance. In diamond dataset, 'depth' and 'table' are the features with the lowest MI w.r.t to the target. \n",
    "</div>"
   ]
  },
  {
   "cell_type": "markdown",
   "id": "Av0pQO33nzVS",
   "metadata": {
    "id": "Av0pQO33nzVS"
   },
   "source": [
    "## 3.2 Training + 3.3 Evaluation"
   ]
  },
  {
   "cell_type": "markdown",
   "id": "ysvR2jGhoJ82",
   "metadata": {
    "id": "ysvR2jGhoJ82"
   },
   "source": [
    "<div class=\"alert alert-block alert-success\">\n",
    "<b>QUESTION 3:</b> For random forest model, measure “Out-of-Bag Error” (OOB) as well.Explain what OOB error and $R^2$ score means given this link.\n",
    "</div>"
   ]
  },
  {
   "cell_type": "markdown",
   "id": "0b_Z_LRxopGh",
   "metadata": {
    "id": "0b_Z_LRxopGh"
   },
   "source": [
    "<div class=\"alert alert-block alert-success\">\n",
    "<b>ANSWER 3:</b> The out-of-bag (OOB) error is the average error on each training sample $x_i$ predicted by the trained models such as random forest that didn't include $x_i$ in their bootstrap sample under the utilization of bootstrap aggregating technique/algorithm. $R^2$ score is a statistical measure in a regression model that determines the proportion of variance in the dependent variable that can be explained by the independent variable. It explains the goodness of the data fitting in the regression model and the variance of one variable against another. \n",
    "</div>"
   ]
  },
  {
   "cell_type": "markdown",
   "id": "vNgWJ-KRzTU4",
   "metadata": {
    "id": "vNgWJ-KRzTU4"
   },
   "source": [
    "### 3.3.1 Linear Regression"
   ]
  },
  {
   "cell_type": "code",
   "execution_count": 13,
   "id": "XB2WXznc5dkp",
   "metadata": {
    "executionInfo": {
     "elapsed": 356,
     "status": "ok",
     "timestamp": 1679258248326,
     "user": {
      "displayName": "PING-CHENG WEI",
      "userId": "17456108749581822272"
     },
     "user_tz": 420
    },
    "id": "XB2WXznc5dkp"
   },
   "outputs": [],
   "source": [
    "from sklearn.linear_model import LinearRegression, Lasso, Ridge\n",
    "from sklearn.model_selection import cross_val_score\n",
    "from sklearn.model_selection import ShuffleSplit, KFold"
   ]
  },
  {
   "cell_type": "code",
   "execution_count": 34,
   "id": "wwD6HkAboJfl",
   "metadata": {
    "colab": {
     "base_uri": "https://localhost:8080/"
    },
    "executionInfo": {
     "elapsed": 233,
     "status": "ok",
     "timestamp": 1679258681670,
     "user": {
      "displayName": "PING-CHENG WEI",
      "userId": "17456108749581822272"
     },
     "user_tz": 420
    },
    "id": "wwD6HkAboJfl",
    "outputId": "5bfa179d-f4df-4be9-da4f-04ef1c9afd8a"
   },
   "outputs": [
    {
     "name": "stdout",
     "output_type": "stream",
     "text": [
      "Linear Regression - RMSE: 1222.4796\n",
      "Lasso Regression - RMSE: 1221.4436 with the best alpha: 1\n",
      "Ridge Regression - RMSE: 1222.3082 with the best alpha: 10\n"
     ]
    }
   ],
   "source": [
    "'''\n",
    "Training regression models with standardized features\n",
    "'''\n",
    "\n",
    "# get the standardized features and select\n",
    "# here I choose 'carat', 'cut', 'color', 'clarity', 'x', 'y', 'z' as features to train\n",
    "X = X_scaled_df[['carat', 'cut', 'color', 'clarity', 'x', 'y', 'z']].to_numpy()\n",
    "y = y_df.to_numpy()\n",
    "\n",
    "\n",
    "# normal linear regression\n",
    "LR = LinearRegression()\n",
    "cv = KFold(n_splits=10, shuffle=True, random_state=42)\n",
    "LR_errors = cross_val_score(LR, X, y , cv=cv, scoring='neg_root_mean_squared_error')\n",
    "LR_error = LR_errors.mean()*-1\n",
    "print('Linear Regression - RMSE: {:5.4f}'.format(LR_error))\n",
    "\n",
    "\n",
    "# lasso regression, alpha: 1e-5 ~ 1e5\n",
    "l1_best_error = np.inf\n",
    "LR_l1_error_list = []\n",
    "for k in range(-5, 5+1):\n",
    "    # lasso model\n",
    "    alpha = 10**k\n",
    "    LR_l1 = Lasso(alpha)\n",
    "    # train with cross validation\n",
    "    cv = KFold(n_splits=10, shuffle=True, random_state=42)\n",
    "    LR_l1_errors = cross_val_score(LR_l1, X, y, cv=cv, scoring='neg_root_mean_squared_error')\n",
    "    cur_error = LR_l1_errors.mean()*-1\n",
    "    LR_l1_error_list.append(cur_error)\n",
    "    # find the best\n",
    "    if cur_error < l1_best_error:\n",
    "        l1_best_error = cur_error\n",
    "        l1_best_alpha = alpha\n",
    "print('Lasso Regression - RMSE: {:5.4f} with the best alpha: {}'.format(l1_best_error, l1_best_alpha))\n",
    "\n",
    "\n",
    "# ridge regression, alpha: 1e-5 ~ 1e5\n",
    "l2_best_error = np.inf\n",
    "LR_l2_error_list = []\n",
    "for k in range(-5, 5+1):\n",
    "    # lasso model\n",
    "    alpha = 10**k\n",
    "    LR_l2 = Ridge(alpha)\n",
    "    # train with cross validation\n",
    "    cv = KFold(n_splits=10, shuffle=True, random_state=42)\n",
    "    LR_l2_errors = cross_val_score(LR_l2, X, y, cv=cv, scoring='neg_root_mean_squared_error')\n",
    "    cur_error = LR_l2_errors.mean()*-1\n",
    "    LR_l2_error_list.append(cur_error)\n",
    "    # find the best\n",
    "    if cur_error < l2_best_error:\n",
    "        l2_best_error = cur_error\n",
    "        l2_best_alpha = alpha\n",
    "print('Ridge Regression - RMSE: {:5.4f} with the best alpha: {}'.format(l2_best_error, l2_best_alpha))"
   ]
  },
  {
   "cell_type": "markdown",
   "id": "PBREbqdN3Q0K",
   "metadata": {
    "id": "PBREbqdN3Q0K"
   },
   "source": [
    "<div class=\"alert alert-block alert-success\">\n",
    "<b>QUESTION 4.1:</b> Explain how each regularization scheme affects the learned parameter set.\n",
    "</div>"
   ]
  },
  {
   "cell_type": "markdown",
   "id": "xEODCBQ73Qws",
   "metadata": {
    "id": "xEODCBQ73Qws"
   },
   "source": [
    "<div class=\"alert alert-block alert-success\">\n",
    "<b>ANSWER 4.1:</b> By adding the regularization term, there is a chance that the validation error will reduce due to the reduction of the variance of the model. For lasso regression, an $l_1$-norm term is added to the objective function which helps to handle the sparsity of the learned coefficients, meaning that it decreases the less important feature’s coefficient to zero and inherently performs feature selection. For ridge regression, an $l_2$-norm term is added to the objective function which provides the ability to avoid overfitting. It adds a penalty to the excessive fluctuation of the learned coefficients and forces weights toward zero.\n",
    "</div>"
   ]
  },
  {
   "cell_type": "markdown",
   "id": "NumgGJth3iIb",
   "metadata": {
    "id": "NumgGJth3iIb"
   },
   "source": [
    "<div class=\"alert alert-block alert-success\">\n",
    "<b>QUESTION 4.2:</b> Report your choice of the best regularization scheme along with the optimal penalty parameter and explain how you computed it.\n",
    "</div>"
   ]
  },
  {
   "cell_type": "markdown",
   "id": "2fOtGmYj3hXV",
   "metadata": {
    "id": "2fOtGmYj3hXV"
   },
   "source": [
    "<div class=\"alert alert-block alert-success\">\n",
    "<b>ANSWER 4.2:</b> Based on the results shown above, the best regularization model is lasso regression with $\\alpha = 1$ as the optimal penalty parameter. I find this by computing each regression model and compare their best achieved error. For each lasso and ridge regression, $\\alpha$ is varies in range $10^{-5}$ to $10^{5}$. The errors are then computed and compared to search for the optimal penalty parameter.\n",
    "</div>"
   ]
  },
  {
   "cell_type": "code",
   "execution_count": 35,
   "id": "TIFsYV6gDDfO",
   "metadata": {
    "colab": {
     "base_uri": "https://localhost:8080/"
    },
    "executionInfo": {
     "elapsed": 1574,
     "status": "ok",
     "timestamp": 1679258780329,
     "user": {
      "displayName": "PING-CHENG WEI",
      "userId": "17456108749581822272"
     },
     "user_tz": 420
    },
    "id": "TIFsYV6gDDfO",
    "outputId": "47bd09ad-6287-4cce-edb1-93bf330d6df2"
   },
   "outputs": [
    {
     "name": "stdout",
     "output_type": "stream",
     "text": [
      "Ridge Regression with original data - RMSE: 1222.4035 with the best alpha: 10\n"
     ]
    }
   ],
   "source": [
    "'''\n",
    "Training ridge regression with original features (no standardization)\n",
    "'''\n",
    "\n",
    "# get the original features and select\n",
    "# here I choose 'carat', 'cut', 'color', 'clarity', 'x', 'y', 'z' as features to train\n",
    "X_orig = X_df[['carat', 'cut', 'color', 'clarity', 'x', 'y', 'z']].to_numpy()\n",
    "y = y_df.to_numpy()\n",
    "\n",
    "# ridge regression, alpha: 1e-5 ~ 1e5\n",
    "l2_orig_best_error = np.inf\n",
    "LR_l2_orig_error_list = []\n",
    "for k in range(-5, 5+1):\n",
    "    # lasso model\n",
    "    alpha = 10**k\n",
    "    LR_l2_orig = Ridge(alpha)\n",
    "    # train with cross validation\n",
    "    cv = KFold(n_splits=10, shuffle=True, random_state=42)\n",
    "    LR_l2_orig_errors = cross_val_score(LR_l2_orig, X_orig, y, cv=cv, \n",
    "                                        scoring='neg_root_mean_squared_error')\n",
    "    cur_error = LR_l2_orig_errors.mean()*-1\n",
    "    LR_l2_orig_error_list.append(cur_error)\n",
    "    # find the best\n",
    "    if cur_error < l2_orig_best_error:\n",
    "        l2_orig_best_error = cur_error\n",
    "        l2_orig_best_alpha = alpha\n",
    "print('Ridge Regression with original data '\\\n",
    "      '- RMSE: {:5.4f} with the best alpha: {}'.format(l2_orig_best_error, l2_orig_best_alpha))"
   ]
  },
  {
   "cell_type": "markdown",
   "id": "qiIlyvke3_Ru",
   "metadata": {
    "id": "qiIlyvke3_Ru"
   },
   "source": [
    "<div class=\"alert alert-block alert-success\">\n",
    "<b>QUESTION 4.3:</b>  Does feature standardization play a role in improving the model performance (in the cases with ridge regularization)? Justify your answer.\n",
    "</div>"
   ]
  },
  {
   "cell_type": "markdown",
   "id": "9qrlGxf73_OP",
   "metadata": {
    "id": "9qrlGxf73_OP"
   },
   "source": [
    "<div class=\"alert alert-block alert-success\">\n",
    "<b>ANSWER 4.3:</b> Yes. According to the results shown above, a RMSE of 1222.3082 is achieved with standardization and a RMSE of 1222.4035 without standardization. Therefore, we can observe a slight improvement of performance by applying standardization.\n",
    "</div>"
   ]
  },
  {
   "cell_type": "code",
   "execution_count": 37,
   "id": "7nSlkhGoF7xm",
   "metadata": {
    "colab": {
     "base_uri": "https://localhost:8080/"
    },
    "executionInfo": {
     "elapsed": 1537,
     "status": "ok",
     "timestamp": 1679258921659,
     "user": {
      "displayName": "PING-CHENG WEI",
      "userId": "17456108749581822272"
     },
     "user_tz": 420
    },
    "id": "7nSlkhGoF7xm",
    "outputId": "db4e5e5a-f40e-4a11-dcd6-61117a180b8e"
   },
   "outputs": [
    {
     "name": "stdout",
     "output_type": "stream",
     "text": [
      "x1     0.000000e+00\n",
      "x2     1.486538e-22\n",
      "x3    4.895631e-189\n",
      "x4     0.000000e+00\n",
      "x5     2.786948e-10\n",
      "x6     2.662459e-01\n",
      "x7     1.164380e-02\n",
      "Name: P>|t|, dtype: float64\n"
     ]
    }
   ],
   "source": [
    "import statsmodels.api as sm\n",
    "\n",
    "# get selected features\n",
    "X = X_scaled_df[['carat', 'cut', 'color', 'clarity', 'x', 'y', 'z']].to_numpy()\n",
    "y = y_df.to_numpy()\n",
    "\n",
    "# find p-values\n",
    "estimator = sm.OLS(y, X)\n",
    "est_fit = estimator.fit()\n",
    "print(est_fit.summary2().tables[1]['P>|t|'])"
   ]
  },
  {
   "cell_type": "markdown",
   "id": "B0t7VlL93_L2",
   "metadata": {
    "id": "B0t7VlL93_L2"
   },
   "source": [
    "<div class=\"alert alert-block alert-success\">\n",
    "<b>QUESTION 4.4:</b> Some linear regression packages return p-values for different features. What is the meaning of these p-values and how can you infer the most significant features?\n",
    "</div>"
   ]
  },
  {
   "cell_type": "markdown",
   "id": "NSApLfDZ3-7M",
   "metadata": {
    "id": "NSApLfDZ3-7M"
   },
   "source": [
    "<div class=\"alert alert-block alert-success\">\n",
    "<b>ANSWER 4.4:</b> The linear regression p-value for each independent variable tests the null hypothesis that the variable has no correlation with the dependent variable. A low p-value indicates that the null hypothesis can be rejected (no effect). This means that a predictor is likely to be a meaningful in addition to the model because changes in the predictor's value are related to changes in the response variable. On the other hand, a larger (insignificant) p-value suggests that changes in the predictor are not associated with changes in the response. Therefore, it is typical to use the coefficient p-values to determine which features to keep in the regression model. Features with the lowest value of p-value are the most significant, which are 'carat' and 'clarity' in this dataset.\n",
    "</div>"
   ]
  },
  {
   "cell_type": "markdown",
   "id": "lpl-ND_dKh6D",
   "metadata": {
    "id": "lpl-ND_dKh6D"
   },
   "source": [
    "### 3.3.2 Polynomial Regression"
   ]
  },
  {
   "cell_type": "code",
   "execution_count": 38,
   "id": "-dqgoPrcPMYQ",
   "metadata": {
    "executionInfo": {
     "elapsed": 216,
     "status": "ok",
     "timestamp": 1679259179605,
     "user": {
      "displayName": "PING-CHENG WEI",
      "userId": "17456108749581822272"
     },
     "user_tz": 420
    },
    "id": "-dqgoPrcPMYQ"
   },
   "outputs": [],
   "source": [
    "from sklearn.preprocessing import PolynomialFeatures\n",
    "from sklearn.linear_model import LinearRegression"
   ]
  },
  {
   "cell_type": "code",
   "execution_count": 42,
   "id": "mnCf-u7HSNBn",
   "metadata": {
    "colab": {
     "base_uri": "https://localhost:8080/"
    },
    "executionInfo": {
     "elapsed": 2019,
     "status": "ok",
     "timestamp": 1679259255515,
     "user": {
      "displayName": "PING-CHENG WEI",
      "userId": "17456108749581822272"
     },
     "user_tz": 420
    },
    "id": "mnCf-u7HSNBn",
    "outputId": "84eb7f7a-9e08-4203-8eb8-daefc238cc8a"
   },
   "outputs": [
    {
     "name": "stdout",
     "output_type": "stream",
     "text": [
      "Polynomial Regression with multiple features - RMSE: 2753.7405 with the best degree: 2\n"
     ]
    }
   ],
   "source": [
    "'''\n",
    "Training polynomial regression with multiple features\n",
    "'''\n",
    "\n",
    "# get the standardized features, select, and then multiply together\n",
    "# here I choose 'carat', 'y', 'x' as features to train\n",
    "X = X_scaled_df[['carat', 'y', 'x']].to_numpy()\n",
    "X = np.prod(X, axis=1)\n",
    "y = y_df.to_numpy()\n",
    "\n",
    "# polynomial regression\n",
    "PR_best_error = np.inf\n",
    "PR_error_list = []\n",
    "degrees = np.arange(1, 6+1)\n",
    "for i in degrees:\n",
    "    # preprocessing (max degress = 6)\n",
    "    poly = PolynomialFeatures(degree=i, include_bias=False)\n",
    "    poly_features = poly.fit_transform(X.reshape(-1, 1))\n",
    "\n",
    "    # train polynomial regression with cross validation\n",
    "    PR = LinearRegression()\n",
    "    cv = KFold(n_splits=10, shuffle=True, random_state=42)\n",
    "    PR_errors = cross_val_score(PR, poly_features, y, cv=cv, \n",
    "                                scoring='neg_root_mean_squared_error')\n",
    "    PR_cur_error = PR_errors.mean()*-1\n",
    "    PR_error_list.append(PR_cur_error)\n",
    "\n",
    "    # find the best\n",
    "    if PR_cur_error < PR_best_error:\n",
    "        PR_best_error = PR_cur_error\n",
    "        PR_best_degree = i\n",
    "print('Polynomial Regression with multiple features - RMSE: {:5.4f} '\\\n",
    "      'with the best degree: {}'.format(PR_best_error, PR_best_degree))"
   ]
  },
  {
   "cell_type": "code",
   "execution_count": 44,
   "id": "cU7cA-H3KhmE",
   "metadata": {
    "colab": {
     "base_uri": "https://localhost:8080/"
    },
    "executionInfo": {
     "elapsed": 4363,
     "status": "ok",
     "timestamp": 1679259295857,
     "user": {
      "displayName": "PING-CHENG WEI",
      "userId": "17456108749581822272"
     },
     "user_tz": 420
    },
    "id": "cU7cA-H3KhmE",
    "outputId": "940f59dd-8cf6-4422-f195-ecfe7b63edfb"
   },
   "outputs": [
    {
     "name": "stdout",
     "output_type": "stream",
     "text": [
      "Polynomial Regression based on carat only - RMSE: 1435.8302 with the best degree: 6\n",
      "Polynomial Regression based on clarity only - RMSE: 3983.7127 with the best degree: 6\n"
     ]
    }
   ],
   "source": [
    "'''\n",
    "Training polynomial regression with single feature\n",
    "'''\n",
    "\n",
    "# get the standardized features, select, and then multiply together\n",
    "# here I choose 'carat' only\n",
    "X = X_scaled_df[['carat']].to_numpy()\n",
    "X = np.prod(X, axis=1)\n",
    "y = y_df.to_numpy()\n",
    "\n",
    "# polynomial regression\n",
    "PR_best_error = np.inf\n",
    "PR_error_list = []\n",
    "degrees = np.arange(1, 6+1)\n",
    "for i in degrees:\n",
    "    # preprocessing (max degress = 6)\n",
    "    poly = PolynomialFeatures(degree=i, include_bias=False)\n",
    "    poly_features = poly.fit_transform(X.reshape(-1, 1))\n",
    "\n",
    "    # train polynomial regression with cross validation\n",
    "    PR = LinearRegression()\n",
    "    cv = KFold(n_splits=10, shuffle=True, random_state=42)\n",
    "    PR_errors = cross_val_score(PR, poly_features, y, cv=cv, \n",
    "                                scoring='neg_root_mean_squared_error')\n",
    "    PR_cur_error = PR_errors.mean()*-1\n",
    "    PR_error_list.append(PR_cur_error)\n",
    "\n",
    "    # find the best\n",
    "    if PR_cur_error < PR_best_error:\n",
    "        PR_best_error = PR_cur_error\n",
    "        PR_best_degree = i\n",
    "print('Polynomial Regression based on carat only - RMSE: {:5.4f} '\\\n",
    "      'with the best degree: {}'.format(PR_best_error, PR_best_degree))\n",
    "\n",
    "\n",
    "# get the standardized features, select, and then multiply together\n",
    "# here I choose 'depth' only\n",
    "X = X_scaled_df[['depth']].to_numpy()\n",
    "X = np.prod(X, axis=1)\n",
    "y = y_df.to_numpy()\n",
    "\n",
    "# polynomial regression\n",
    "PR_best_error = np.inf\n",
    "PR_error_list = []\n",
    "degrees = np.arange(1, 6+1)\n",
    "for i in degrees:\n",
    "    # preprocessing (max degress = 6)\n",
    "    poly = PolynomialFeatures(degree=i, include_bias=False)\n",
    "    poly_features = poly.fit_transform(X.reshape(-1, 1))\n",
    "\n",
    "    # train polynomial regression with cross validation\n",
    "    PR = LinearRegression()\n",
    "    cv = KFold(n_splits=10, shuffle=True, random_state=42)\n",
    "    PR_errors = cross_val_score(PR, poly_features, y, cv=cv, \n",
    "                                scoring='neg_root_mean_squared_error')\n",
    "    PR_cur_error = PR_errors.mean()*-1\n",
    "    PR_error_list.append(PR_cur_error)\n",
    "\n",
    "    # find the best\n",
    "    if PR_cur_error < PR_best_error:\n",
    "        PR_best_error = PR_cur_error\n",
    "        PR_best_degree = i\n",
    "print('Polynomial Regression based on clarity only - RMSE: {:5.4f} '\\\n",
    "      'with the best degree: {}'.format(PR_best_error, PR_best_degree))"
   ]
  },
  {
   "cell_type": "markdown",
   "id": "8TLffy1ZKq9m",
   "metadata": {
    "id": "8TLffy1ZKq9m"
   },
   "source": [
    "<div class=\"alert alert-block alert-success\">\n",
    "<b>QUESTION 5.1:</b> What are the most salient features? Why?\n",
    "</div>"
   ]
  },
  {
   "cell_type": "markdown",
   "id": "X5mUa5ptKq5d",
   "metadata": {
    "id": "X5mUa5ptKq5d"
   },
   "source": [
    "<div class=\"alert alert-block alert-success\">\n",
    "<b>ANSWER 5.1:</b> For training based on single feature, 'carat' is the most salient feature since it achieves the lowest RMSE compared with the others. For training based on multiple features, 'carat', 'y', 'x' are the most salient features. Based on the experients where I test with different combinations, fusing 'carat', 'y', 'x' features achieves the lowest RMSE. Removing any one of them or adding other features will increase the error.\n",
    "</div>"
   ]
  },
  {
   "cell_type": "markdown",
   "id": "45ns3GbvKqPz",
   "metadata": {
    "id": "45ns3GbvKqPz"
   },
   "source": [
    "<div class=\"alert alert-block alert-success\">\n",
    "<b>QUESTION 5.2:</b> What degree of polynomial is best? How did you find the optimal degree? What does a very high-order polynomial imply about the fit on the training data? What about its performance on testing data?\n",
    "</div>"
   ]
  },
  {
   "cell_type": "markdown",
   "id": "pWjG8BfmKqJ_",
   "metadata": {
    "id": "pWjG8BfmKqJ_"
   },
   "source": [
    "<div class=\"alert alert-block alert-success\">\n",
    "<b>ANSWER 5.2:</b> For training based on multiple features, the optimal degree of polynomial is 2. I find this by looping through different degree of polynomial, training the models and comparing the achieved RMSE errors. A very high-order polynomial implies that the fit get wigglier to the training data, meaning it tries to fit the trianing data perfectly. This, however, could lead to overfitting problem and thus cause higher test / validation RMSE, which corresponds to a worse performance. \n",
    "</div>"
   ]
  },
  {
   "cell_type": "markdown",
   "id": "PpuIjEVxYwk1",
   "metadata": {
    "id": "PpuIjEVxYwk1"
   },
   "source": [
    "### 3.3.3 Neural Network"
   ]
  },
  {
   "cell_type": "code",
   "execution_count": 130,
   "id": "634c8edf",
   "metadata": {
    "executionInfo": {
     "elapsed": 158,
     "status": "ok",
     "timestamp": 1679266838690,
     "user": {
      "displayName": "PING-CHENG WEI",
      "userId": "17456108749581822272"
     },
     "user_tz": 420
    },
    "id": "634c8edf"
   },
   "outputs": [],
   "source": [
    "from sklearn.neural_network import MLPRegressor\n",
    "# grid seach related\n",
    "from sklearn.model_selection import GridSearchCV\n",
    "from sklearn.pipeline import Pipeline"
   ]
  },
  {
   "cell_type": "code",
   "execution_count": 131,
   "id": "UajTvTWuaAW1",
   "metadata": {
    "executionInfo": {
     "elapsed": 165,
     "status": "ok",
     "timestamp": 1679266841011,
     "user": {
      "displayName": "PING-CHENG WEI",
      "userId": "17456108749581822272"
     },
     "user_tz": 420
    },
    "id": "UajTvTWuaAW1"
   },
   "outputs": [],
   "source": [
    "'''\n",
    "Training neural network with standardized features\n",
    "'''\n",
    "\n",
    "# get the standardized features and select\n",
    "# here I choose 'carat', 'cut', 'color', 'clarity', 'x', 'y', 'z' as features to train\n",
    "X = X_scaled_df[['carat', 'cut', 'color', 'clarity', 'x', 'y', 'z']].to_numpy()\n",
    "y = y_df.to_numpy()\n",
    "\n",
    "# set up pipeline\n",
    "pipeline = Pipeline([\n",
    "    ('nn', MLPRegressor(learning_rate='adaptive')),\n",
    "])\n",
    "\n",
    "# parameters\n",
    "HIDDEN_LAYER_SIZES = [(64, ), (32, ), (16, ), (16, 8), (32, 16), (32, 16, 8)]\n",
    "ALPHA = [1e-3, 1e-4, 1e-5] # 1e-4, 1e-5\n",
    "\n",
    "param_grid = [\n",
    "    {\n",
    "        'nn__hidden_layer_sizes': HIDDEN_LAYER_SIZES, # 6 choices\n",
    "        'nn__alpha': ALPHA                            # 3 choices\n",
    "        # 18 choices in total\n",
    "    },\n",
    "]"
   ]
  },
  {
   "cell_type": "code",
   "execution_count": 136,
   "id": "7D4Ui98CaTIj",
   "metadata": {
    "executionInfo": {
     "elapsed": 181,
     "status": "ok",
     "timestamp": 1679274214232,
     "user": {
      "displayName": "PING-CHENG WEI",
      "userId": "17456108749581822272"
     },
     "user_tz": 420
    },
    "id": "7D4Ui98CaTIj"
   },
   "outputs": [],
   "source": [
    "# start grid search\n",
    "num_folds = 10\n",
    "grid = GridSearchCV(pipeline, param_grid=param_grid, cv=num_folds,\n",
    "                    scoring='neg_root_mean_squared_error', n_jobs=1)\n",
    "grid.fit(X, y)"
   ]
  },
  {
   "cell_type": "code",
   "execution_count": 140,
   "id": "qHC2MRslgsj8",
   "metadata": {
    "colab": {
     "base_uri": "https://localhost:8080/"
    },
    "executionInfo": {
     "elapsed": 210,
     "status": "ok",
     "timestamp": 1679274397143,
     "user": {
      "displayName": "PING-CHENG WEI",
      "userId": "17456108749581822272"
     },
     "user_tz": 420
    },
    "id": "qHC2MRslgsj8",
    "outputId": "007f57e7-dc3a-4097-ba9e-436722899ab1"
   },
   "outputs": [
    {
     "name": "stdout",
     "output_type": "stream",
     "text": [
      "The best combinations from top to bottom are:\n",
      "{'nn__alpha': 1e-05, 'nn__hidden_layer_sizes': (32, 16, 8)} - RMSE: 723.6293871652804\n",
      "{'nn__alpha': 1e-05, 'nn__hidden_layer_sizes': (16, 8)} - RMSE: 726.3236031015405\n",
      "{'nn__alpha': 0.001, 'nn__hidden_layer_sizes': (32, 16)} - RMSE: 730.7512714577322\n",
      "{'nn__alpha': 1e-05, 'nn__hidden_layer_sizes': (32, 16)} - RMSE: 731.9783171963811\n",
      "{'nn__alpha': 0.0001, 'nn__hidden_layer_sizes': (32, 16)} - RMSE: 770.9000980691015\n",
      "{'nn__alpha': 0.0001, 'nn__hidden_layer_sizes': (16, 8)} - RMSE: 771.1557310811\n",
      "{'nn__alpha': 0.0001, 'nn__hidden_layer_sizes': (32, 16, 8)} - RMSE: 777.4503395135331\n",
      "{'nn__alpha': 0.0001, 'nn__hidden_layer_sizes': (64,)} - RMSE: 793.8125700290535\n",
      "{'nn__alpha': 0.001, 'nn__hidden_layer_sizes': (16, 8)} - RMSE: 793.8975042772227\n",
      "{'nn__alpha': 0.001, 'nn__hidden_layer_sizes': (64,)} - RMSE: 794.4192147904672\n",
      "{'nn__alpha': 1e-05, 'nn__hidden_layer_sizes': (64,)} - RMSE: 794.9277815467547\n",
      "{'nn__alpha': 0.001, 'nn__hidden_layer_sizes': (32, 16, 8)} - RMSE: 795.8283939229015\n",
      "{'nn__alpha': 0.0001, 'nn__hidden_layer_sizes': (32,)} - RMSE: 884.8374843447084\n",
      "{'nn__alpha': 0.001, 'nn__hidden_layer_sizes': (32,)} - RMSE: 889.5258217109565\n",
      "{'nn__alpha': 1e-05, 'nn__hidden_layer_sizes': (32,)} - RMSE: 890.3370440638366\n",
      "{'nn__alpha': 1e-05, 'nn__hidden_layer_sizes': (16,)} - RMSE: 1002.5854772257222\n",
      "{'nn__alpha': 0.001, 'nn__hidden_layer_sizes': (16,)} - RMSE: 1003.4286003597821\n",
      "{'nn__alpha': 0.0001, 'nn__hidden_layer_sizes': (16,)} - RMSE: 1027.6506606248167\n"
     ]
    }
   ],
   "source": [
    "# get all mean test scores on validation (max 20)\n",
    "best_scores = np.sort(grid.cv_results_['mean_test_score'])[::-1][:20]\n",
    "# print('The test scores on validation are: {}'.format(best_scores*-1))\n",
    "\n",
    "# get the corresponding indices\n",
    "best_scores_idx = np.argsort(grid.cv_results_['mean_test_score'])[::-1][:20]\n",
    "\n",
    "# print the best combinations in descending order\n",
    "print('The best combinations from top to bottom are:')\n",
    "for i in range(len(best_scores_idx)):\n",
    "    print('{} - RMSE: {}'.format(grid.cv_results_['params'][best_scores_idx[i]], best_scores[i]*-1))"
   ]
  },
  {
   "cell_type": "markdown",
   "id": "y81CErSnY0E9",
   "metadata": {
    "id": "y81CErSnY0E9"
   },
   "source": [
    "<div class=\"alert alert-block alert-success\">\n",
    "<b>QUESTION 6.1:</b> Adjust your network size (number of hidden neurons and depth), and weight decay as regularization. Find a good hyper-parameter set systematically (no more than 20 experiments in total).\n",
    "</div>"
   ]
  },
  {
   "cell_type": "markdown",
   "id": "sehdAM3HY0BJ",
   "metadata": {
    "id": "sehdAM3HY0BJ"
   },
   "source": [
    "<div class=\"alert alert-block alert-success\">\n",
    "<b>ANSWER 6.1:</b> To find a good hyper-parameter set systematically, I apply grid search at here and the results are shown above. I set the following values for each hyperparameter:\n",
    "<ul>\n",
    "  <li>'hidden_layer_sizes': [(64, ), (32, ), (16, ), (16, 8), (32, 16), (32, 16, 8)] </li>\n",
    "  <li>'alpha' (weight decay) : [$10^{-3}$, $10^{-4}$, $10^{-5}$] </li>\n",
    "</ul>\n",
    "</div>"
   ]
  },
  {
   "cell_type": "markdown",
   "id": "xy0iS861Yz28",
   "metadata": {
    "id": "xy0iS861Yz28"
   },
   "source": [
    "<div class=\"alert alert-block alert-success\">\n",
    "<b>QUESTION 6.2:</b> How does the performance generally compare with linear regression? Why?\n",
    "</div>"
   ]
  },
  {
   "cell_type": "markdown",
   "id": "_1wRrkYjYzqA",
   "metadata": {
    "id": "_1wRrkYjYzqA"
   },
   "source": [
    "<div class=\"alert alert-block alert-success\">\n",
    "<b>ANSWER 6.2:</b> Generally, the neural network model performs better than the linear regression model. The worst RMSE score achieved in NN is 1027.65, whereas the best score lasso regressor achieved is 1221.44. The reason why NN performs better is because it introduces non-linearity in training. Since most of the real world data are not fully linearly seperable, model with the capability of non-linear transformation will yield better performance by fitting the training data better.\n",
    "</div>"
   ]
  },
  {
   "cell_type": "markdown",
   "id": "-nBoFxwvYzjx",
   "metadata": {
    "id": "-nBoFxwvYzjx"
   },
   "source": [
    "<div class=\"alert alert-block alert-success\">\n",
    "<b>QUESTION 6.3:</b> What activation function did you use for the output and why? You may use none\n",
    "</div>"
   ]
  },
  {
   "cell_type": "markdown",
   "id": "mya3OY1mYzc5",
   "metadata": {
    "id": "mya3OY1mYzc5"
   },
   "source": [
    "<div class=\"alert alert-block alert-success\">\n",
    "<b>ANSWER 6.3:</b> Since we are doing regression at here and not classification, I didn't use any activation function like sigmoid or so for the output layer. I just let the model predict the regression value.\n",
    "</div>"
   ]
  },
  {
   "cell_type": "markdown",
   "id": "h6elpX7rZNsh",
   "metadata": {
    "id": "h6elpX7rZNsh"
   },
   "source": [
    "<div class=\"alert alert-block alert-success\">\n",
    "<b>QUESTION 6.4:</b> What is the risk of increasing the depth of the network too far?\n",
    "</div>"
   ]
  },
  {
   "cell_type": "markdown",
   "id": "hJ003VMIZNpD",
   "metadata": {
    "id": "hJ003VMIZNpD"
   },
   "source": [
    "<div class=\"alert alert-block alert-success\">\n",
    "<b>ANSWER 6.4:</b> Overfitting is the risk of increasing the depth of the network too far as the model complexity becomes too high and tries the fit the training data perfectly.\n",
    "</div>"
   ]
  },
  {
   "cell_type": "markdown",
   "id": "GhLsUF_lnYQg",
   "metadata": {
    "id": "GhLsUF_lnYQg"
   },
   "source": [
    "### 3.3.4 Random Forest"
   ]
  },
  {
   "cell_type": "code",
   "execution_count": 46,
   "id": "7Zszi-VpoV81",
   "metadata": {
    "executionInfo": {
     "elapsed": 183,
     "status": "ok",
     "timestamp": 1679259390996,
     "user": {
      "displayName": "PING-CHENG WEI",
      "userId": "17456108749581822272"
     },
     "user_tz": 420
    },
    "id": "7Zszi-VpoV81"
   },
   "outputs": [],
   "source": [
    "from sklearn.ensemble import RandomForestRegressor\n",
    "from sklearn.model_selection import cross_val_score\n",
    "from sklearn.model_selection import ShuffleSplit, KFold"
   ]
  },
  {
   "cell_type": "code",
   "execution_count": 72,
   "id": "IwTB-tJIoV5Z",
   "metadata": {
    "colab": {
     "base_uri": "https://localhost:8080/"
    },
    "executionInfo": {
     "elapsed": 24872,
     "status": "ok",
     "timestamp": 1679261236729,
     "user": {
      "displayName": "PING-CHENG WEI",
      "userId": "17456108749581822272"
     },
     "user_tz": 420
    },
    "id": "IwTB-tJIoV5Z",
    "outputId": "405ef68a-8a7c-4628-e91b-769264020e7e"
   },
   "outputs": [
    {
     "name": "stdout",
     "output_type": "stream",
     "text": [
      "Random Forest Regression - RMSE: 1101.0223\n"
     ]
    }
   ],
   "source": [
    "'''\n",
    "Training random forest wih standardized features\n",
    "'''\n",
    "\n",
    "# get the standardized features and select\n",
    "# here I choose 'carat', 'y', 'x', 'z', 'clarity', 'color' as features to train\n",
    "X = X_scaled_df[['carat', 'cut', 'color', 'clarity', 'x', 'y', 'z']].to_numpy()\n",
    "y = y_df.to_numpy()\n",
    "\n",
    "# Random Forest\n",
    "RFR = RandomForestRegressor(max_features=3, n_estimators=100, max_depth=4, oob_score=True)\n",
    "# train with cross validation\n",
    "cv = KFold(n_splits=10, shuffle=True, random_state=42)\n",
    "RFR_errors = cross_val_score(RFR, X, y, cv=cv, scoring='neg_root_mean_squared_error')\n",
    "RFR_error = RFR_errors.mean()*-1\n",
    "\n",
    "print('Random Forest Regression - RMSE: {:5.4f}'.format(RFR_error))"
   ]
  },
  {
   "cell_type": "markdown",
   "id": "Z8gl-cZMnfz1",
   "metadata": {
    "id": "Z8gl-cZMnfz1"
   },
   "source": [
    "<div class=\"alert alert-block alert-success\">\n",
    "<b>QUESTION 7.1:</b> Explain how these hyper-parameters affect the overall performance. Describe if and how each hyper-parameter results in a regularization effect during training.\n",
    "</div>"
   ]
  },
  {
   "cell_type": "markdown",
   "id": "_HrIops7nfwV",
   "metadata": {
    "id": "_HrIops7nfwV"
   },
   "source": [
    "<div class=\"alert alert-block alert-success\">\n",
    "<b>ANSWER 7.1:</b> After testing around with different setting of those hyper-parameters, one can find out that increasing either one of those will result in lower RMSE, meaning a better model performance. However, with such flexibility decision trees provide, the model might also easily overfit the data since they can keep growing until having exactly one leaf node for every single data point and thus perfectly predicting all of them. To avoid this and achieve some regularization effect, one can limit these hyper-parameters. By limiting the maximum number of features, we reduce the number of features to be considered when looking for the best split, which reduces the chance of overfitting. Limiting the number of trees, can also reduce the overall complexity of the random forest regressor and thus reduce overfitting. Lastly and most importantly, limiting the depth of each tree can avoid the tree keep growing and overfit the training data, which is also a regularization effect.\n",
    "</div>"
   ]
  },
  {
   "cell_type": "markdown",
   "id": "SjMvzZsNnfgu",
   "metadata": {
    "id": "SjMvzZsNnfgu"
   },
   "source": [
    "<div class=\"alert alert-block alert-success\">\n",
    "<b>QUESTION 7.2:</b> How do random forests create a highly non-linear decision boundary despite the fact\n",
    "that all we do at each layer is apply a threshold on a feature?\n",
    "</div>"
   ]
  },
  {
   "cell_type": "markdown",
   "id": "VRpBuEUknfdH",
   "metadata": {
    "id": "VRpBuEUknfdH"
   },
   "source": [
    "<div class=\"alert alert-block alert-success\">\n",
    "<b>ANSWER 7.2:</b> Random forests are able to create a highly non-linear decision boundary because they cluster the data based on threshold at each layer and create lots of rectangular-like clusters with such decision boundary (like vertical/horizontal lines). These rectangle cluster of the same class can be far away from each other with other class rectangles in between which is similar to how nonlinear relations are modeled. This is why it can create a highly non-linear decision boundary. Moreover, the final decision is also based on the bootstrap aggregation, which also acts as extra non-linear layer.\n",
    "</div>"
   ]
  },
  {
   "cell_type": "code",
   "execution_count": 87,
   "id": "bgLPdjZgxX78",
   "metadata": {
    "colab": {
     "base_uri": "https://localhost:8080/",
     "height": 545
    },
    "executionInfo": {
     "elapsed": 1670,
     "status": "ok",
     "timestamp": 1679261422106,
     "user": {
      "displayName": "PING-CHENG WEI",
      "userId": "17456108749581822272"
     },
     "user_tz": 420
    },
    "id": "bgLPdjZgxX78",
    "outputId": "4291cf83-1dee-4fbd-cee5-97582c7a7058"
   },
   "outputs": [
    {
     "data": {
      "image/png": "[encoded data removed]",
      "text/plain": [
       "<Figure size 1440x720 with 1 Axes>"
      ]
     },
     "metadata": {
      "needs_background": "light"
     },
     "output_type": "display_data"
    }
   ],
   "source": [
    "'''\n",
    "plot the structure of one of the decision trees\n",
    "'''\n",
    "\n",
    "from sklearn.tree import plot_tree\n",
    "\n",
    "# Train\n",
    "RFR = RandomForestRegressor(max_features=3, n_estimators=100, \n",
    "                            max_depth=4, oob_score=True)\n",
    "RFR.fit(X, y)\n",
    "\n",
    "fig, axe = plt.subplots(figsize=(20,10))\n",
    "tree_structure = plot_tree(RFR.estimators_[13], \n",
    "                           feature_names=['carat', 'cut', 'color', 'clarity', 'x', 'y', 'z'],\n",
    "                           class_names=['price'], ax=axe, fontsize=8,\n",
    "                           filled=True, impurity=True, rounded=True)"
   ]
  },
  {
   "cell_type": "markdown",
   "id": "UXEuwAbFne7F",
   "metadata": {
    "id": "UXEuwAbFne7F"
   },
   "source": [
    "<div class=\"alert alert-block alert-success\">\n",
    "<b>QUESTION 7.3:</b> Randomly pick a tree in your random forest model (with maximum depth of 4) and plot its structure. Which feature is selected for branching at the root node? What can you infer about the importance of this feature as opposed to others? Do the important features correspond to what you got in part 3.3.1?\n",
    "</div>"
   ]
  },
  {
   "cell_type": "markdown",
   "id": "CkvyVHrRoDwG",
   "metadata": {
    "id": "CkvyVHrRoDwG"
   },
   "source": [
    "<div class=\"alert alert-block alert-success\">\n",
    "<b>ANSWER 7.3:</b> The example of tree structure is shown above. The feature selected for branching at the root node is 'carat', which means this is the most important feature compared to others as it yields the decision boundary with the lowest error. This result of the most important feature corresponds to the result in part 3.3.1.\n",
    "</div>"
   ]
  },
  {
   "cell_type": "code",
   "execution_count": 88,
   "id": "08UaKOk5EVp7",
   "metadata": {
    "colab": {
     "base_uri": "https://localhost:8080/"
    },
    "executionInfo": {
     "elapsed": 181,
     "status": "ok",
     "timestamp": 1679261441696,
     "user": {
      "displayName": "PING-CHENG WEI",
      "userId": "17456108749581822272"
     },
     "user_tz": 420
    },
    "id": "08UaKOk5EVp7",
    "outputId": "07e2caef-915d-4da6-af62-c370d9291df8"
   },
   "outputs": [
    {
     "name": "stdout",
     "output_type": "stream",
     "text": [
      "The out-of-bag (OOB) error is: 0.9241314326322944\n"
     ]
    }
   ],
   "source": [
    "print('The out-of-bag (OOB) error is: {}'.format(RFR.oob_score_))"
   ]
  },
  {
   "cell_type": "markdown",
   "id": "9YfodlJ6oDsU",
   "metadata": {
    "id": "9YfodlJ6oDsU"
   },
   "source": [
    "<div class=\"alert alert-block alert-success\">\n",
    "<b>QUESTION 7.4:</b> Measure “Out-of-Bag Error” (OOB). Explain what OOB error and R2 score means.\n",
    "</div>"
   ]
  },
  {
   "cell_type": "markdown",
   "id": "egPl_vTzoDpO",
   "metadata": {
    "id": "egPl_vTzoDpO"
   },
   "source": [
    "<div class=\"alert alert-block alert-success\">\n",
    "<b>ANSWER 7.4:</b> \n",
    "The measure of OOB is 0.9241.\n",
    "\n",
    "The out-of-bag (OOB) error is the average error on each training sample $x_i$ predicted by the trained models such as random forest that didn't include $x_i$ in their bootstrap sample under the utilization of bootstrap aggregating technique/algorithm. $R^2$ score is a statistical measure in a regression model that determines the proportion of variance in the dependent variable that can be explained by the independent variable. It explains the goodness of the data fitting in the regression model and the variance of one variable against another.\n",
    "</div>"
   ]
  },
  {
   "cell_type": "markdown",
   "id": "srojrpdatNR8",
   "metadata": {
    "id": "srojrpdatNR8"
   },
   "source": [
    "### 3.3.5 LightGBM, CatBoost and Bayesian Optimization"
   ]
  },
  {
   "cell_type": "code",
   "execution_count": 68,
   "id": "cb320479",
   "metadata": {
    "executionInfo": {
     "elapsed": 159,
     "status": "ok",
     "timestamp": 1679260949300,
     "user": {
      "displayName": "PING-CHENG WEI",
      "userId": "17456108749581822272"
     },
     "user_tz": 420
    },
    "id": "cb320479"
   },
   "outputs": [],
   "source": [
    "# ! pip install scikit-optimize"
   ]
  },
  {
   "cell_type": "code",
   "execution_count": 124,
   "id": "YK4Wo0wkwKi2",
   "metadata": {
    "executionInfo": {
     "elapsed": 177,
     "status": "ok",
     "timestamp": 1679265908341,
     "user": {
      "displayName": "PING-CHENG WEI",
      "userId": "17456108749581822272"
     },
     "user_tz": 420
    },
    "id": "YK4Wo0wkwKi2"
   },
   "outputs": [],
   "source": [
    "import lightgbm as lgb\n",
    "from skopt import BayesSearchCV"
   ]
  },
  {
   "cell_type": "code",
   "execution_count": 137,
   "id": "BHEmJdus4uhg",
   "metadata": {
    "executionInfo": {
     "elapsed": 338,
     "status": "ok",
     "timestamp": 1679274229094,
     "user": {
      "displayName": "PING-CHENG WEI",
      "userId": "17456108749581822272"
     },
     "user_tz": 420
    },
    "id": "BHEmJdus4uhg"
   },
   "outputs": [],
   "source": [
    "# start grid search\n",
    "opt = BayesSearchCV(\n",
    "    lgb.LGBMRegressor(task='train', application='regression',\n",
    "                      objective='root_mean_squared_error',\n",
    "                      metric='rmse', random_state=42),\n",
    "    {\n",
    "        'num_leaves':[7, 15, 31],\n",
    "        'max_depth' :[4, 8, 10],\n",
    "        'min_data_in_leaf':[20, 30],\n",
    "    },\n",
    "    scoring='neg_root_mean_squared_error', \n",
    "    n_jobs=1,\n",
    "    cv=10\n",
    ")\n",
    "\n",
    "opt.fit(X, y)"
   ]
  },
  {
   "cell_type": "code",
   "execution_count": 139,
   "id": "DQawEGYui9F-",
   "metadata": {
    "colab": {
     "base_uri": "https://localhost:8080/"
    },
    "executionInfo": {
     "elapsed": 189,
     "status": "ok",
     "timestamp": 1679274342565,
     "user": {
      "displayName": "PING-CHENG WEI",
      "userId": "17456108749581822272"
     },
     "user_tz": 420
    },
    "id": "DQawEGYui9F-",
    "outputId": "eaef25de-7908-4bda-e117-2e64036dc21e"
   },
   "outputs": [
    {
     "name": "stdout",
     "output_type": "stream",
     "text": [
      "The best combinations from top to bottom are:\n",
      "OrderedDict([('max_depth', 8), ('min_data_in_leaf', 29), ('num_leaves', 15)]) - RMSE: 654.4696527746863\n",
      "OrderedDict([('max_depth', 8), ('min_data_in_leaf', 29), ('num_leaves', 15)]) - RMSE: 654.4696527746863\n",
      "OrderedDict([('max_depth', 8), ('min_data_in_leaf', 29), ('num_leaves', 15)]) - RMSE: 654.4696527746863\n",
      "OrderedDict([('max_depth', 8), ('min_data_in_leaf', 29), ('num_leaves', 15)]) - RMSE: 654.4696527746863\n",
      "OrderedDict([('max_depth', 8), ('min_data_in_leaf', 29), ('num_leaves', 15)]) - RMSE: 654.4696527746863\n",
      "OrderedDict([('max_depth', 8), ('min_data_in_leaf', 29), ('num_leaves', 15)]) - RMSE: 654.4696527746863\n",
      "OrderedDict([('max_depth', 8), ('min_data_in_leaf', 29), ('num_leaves', 15)]) - RMSE: 654.4696527746863\n",
      "OrderedDict([('max_depth', 8), ('min_data_in_leaf', 29), ('num_leaves', 15)]) - RMSE: 654.4696527746863\n",
      "OrderedDict([('max_depth', 8), ('min_data_in_leaf', 29), ('num_leaves', 15)]) - RMSE: 654.4696527746863\n",
      "OrderedDict([('max_depth', 4), ('min_data_in_leaf', 21), ('num_leaves', 31)]) - RMSE: 654.9409653794248\n",
      "OrderedDict([('max_depth', 10), ('min_data_in_leaf', 30), ('num_leaves', 15)]) - RMSE: 654.9952707746922\n",
      "OrderedDict([('max_depth', 10), ('min_data_in_leaf', 30), ('num_leaves', 15)]) - RMSE: 654.9952707746922\n",
      "OrderedDict([('max_depth', 10), ('min_data_in_leaf', 30), ('num_leaves', 15)]) - RMSE: 654.9952707746922\n",
      "OrderedDict([('max_depth', 10), ('min_data_in_leaf', 30), ('num_leaves', 15)]) - RMSE: 654.9952707746922\n",
      "OrderedDict([('max_depth', 10), ('min_data_in_leaf', 30), ('num_leaves', 15)]) - RMSE: 654.9952707746922\n",
      "OrderedDict([('max_depth', 10), ('min_data_in_leaf', 30), ('num_leaves', 15)]) - RMSE: 654.9952707746922\n",
      "OrderedDict([('max_depth', 10), ('min_data_in_leaf', 30), ('num_leaves', 15)]) - RMSE: 654.9952707746922\n",
      "OrderedDict([('max_depth', 10), ('min_data_in_leaf', 28), ('num_leaves', 15)]) - RMSE: 655.2932160885142\n",
      "OrderedDict([('max_depth', 10), ('min_data_in_leaf', 29), ('num_leaves', 15)]) - RMSE: 655.3696989745987\n",
      "OrderedDict([('max_depth', 8), ('min_data_in_leaf', 25), ('num_leaves', 15)]) - RMSE: 655.4936394641583\n"
     ]
    }
   ],
   "source": [
    "# get all mean test scores on validation (max 20)\n",
    "best_scores = np.sort(opt.cv_results_['mean_test_score'])[::-1][:20]\n",
    "# print('The test scores on validation are: {}'.format(best_scores*-1))\n",
    "\n",
    "# get the corresponding indices\n",
    "best_scores_idx = np.argsort(opt.cv_results_['mean_test_score'])[::-1][:20]\n",
    "\n",
    "# print the best combinations in descending order\n",
    "print('The best combinations from top to bottom are:')\n",
    "for i in range(len(best_scores_idx)):\n",
    "    print('{} - RMSE: {}'.format(opt.cv_results_['params'][best_scores_idx[i]], best_scores[i]*-1))"
   ]
  },
  {
   "cell_type": "markdown",
   "id": "j0ygMSLRtY_Z",
   "metadata": {
    "id": "j0ygMSLRtY_Z"
   },
   "source": [
    "<div class=\"alert alert-block alert-success\">\n",
    "<b>QUESTION 8.1:</b> Read the documentation of LightGBM OR CatBoost and determine the important hyperparameters along with a search space for the tuning of these parameters (keep the search space small).\n",
    "</div>"
   ]
  },
  {
   "cell_type": "markdown",
   "id": "tyr61mXltYqw",
   "metadata": {
    "id": "tyr61mXltYqw"
   },
   "source": [
    "<div class=\"alert alert-block alert-success\">\n",
    "<b>ANSWER 8.1:</b> The important hyperparameters for LightGBM are 'num_leaves', 'max_depth', 'min_data_in_leaf' since they are similar hyperparameters as in random forest regression that also provide the regularization effect during training. For the search space, I set the following values for each hyperparameter:\n",
    "<ul>\n",
    "  <li>'num_leaves': [7, 15, 31] </li>\n",
    "  <li>'max_depth' : [4, 8, 10] </li>\n",
    "  <li>'min_data_in_leaf': [20, 30] </li>\n",
    "</ul>\n",
    "</div>"
   ]
  },
  {
   "cell_type": "markdown",
   "id": "5LuWBPJvtYaF",
   "metadata": {
    "id": "5LuWBPJvtYaF"
   },
   "source": [
    "<div class=\"alert alert-block alert-success\">\n",
    "<b>QUESTION 8.2:</b> Apply Bayesian optimization using skopt.BayesSearchCV from scikit-optmize to find the ideal hyperparameter combination in your search space. Report the best hyperparameter set found and the corresponding RMSE.\n",
    "</div>"
   ]
  },
  {
   "cell_type": "markdown",
   "id": "jb2TM2VitYEA",
   "metadata": {
    "id": "jb2TM2VitYEA"
   },
   "source": [
    "<div class=\"alert alert-block alert-success\">\n",
    "<b>ANSWER 8.2:</b> The results of Bayesian optimization are shown above. The best found hyperparameter set is ('max_depth' = 8, 'min_data_in_leaf' = 29, 'num_leaves' = 15) with the lowest RMSE: 654.47.\n",
    "</div>"
   ]
  },
  {
   "cell_type": "markdown",
   "id": "52DIUFuvtYAn",
   "metadata": {
    "id": "52DIUFuvtYAn"
   },
   "source": [
    "<div class=\"alert alert-block alert-success\">\n",
    "<b>QUESTION 8.3:</b> Qualitatively interpret the effect of the hyperparameters using the Bayesian optimization results: Which of them helps with performance? Which helps with regularization (shrinks the generalization gap)? Which affects the fitting efficiency?\n",
    "</div>"
   ]
  },
  {
   "cell_type": "markdown",
   "id": "aZP4NsE1tX1A",
   "metadata": {
    "id": "aZP4NsE1tX1A"
   },
   "source": [
    "<div class=\"alert alert-block alert-success\">\n",
    "<b>ANSWER 8.3:</b> 'num_leaves' controls the complexity of the tree model, which is highly related to the model performance. Higher value of 'num_leaves' will lead to a complex model and thus potentially better model performance. However, one has to aslo be aware of overfitting. 'min_data_in_leaf' prevents overfitting in a leaf-wise tree, which provides regularization effect. Setting it too large can avoid growing too deep tree, but may cause under-fitting. 'max_depth' is also another hyperparameter for regularization as it limit the maximum depth of the tree and avoid the model to be too complex and overfit the training data. As for affecting the fitting efficiency, a low value of 'num_leaves' and 'max_depth' will increase the train efficiency, however, it's a trade-off between training time and model performance.\n",
    "</div>"
   ]
  },
  {
   "cell_type": "markdown",
   "id": "MvEyG3QEWTP3",
   "metadata": {
    "id": "MvEyG3QEWTP3"
   },
   "source": [
    "# Show Us Your Skills: Twitter Data"
   ]
  },
  {
   "cell_type": "markdown",
   "id": "G6Ru-XNGWWg3",
   "metadata": {
    "id": "G6Ru-XNGWWg3"
   },
   "source": [
    "## 3.4 About the Data"
   ]
  },
  {
   "cell_type": "code",
   "execution_count": 49,
   "id": "246533d0",
   "metadata": {},
   "outputs": [],
   "source": [
    "# import all necessary libraries \n",
    "import numpy as np\n",
    "import pandas as pd\n",
    "import matplotlib.pyplot as plt\n",
    "import statsmodels.api as sm\n",
    "from sklearn.metrics import mean_squared_error\n",
    "import json\n",
    "import datetime\n",
    "import pytz\n",
    "\n",
    "\n",
    "# allows matlab plots to be generated in line\n",
    "%matplotlib inline"
   ]
  },
  {
   "cell_type": "code",
   "execution_count": 8,
   "id": "796c2724",
   "metadata": {},
   "outputs": [
    {
     "name": "stdout",
     "output_type": "stream",
     "text": [
      "Statistics for tweets_#gohawks.txt\n",
      "- Average number of tweets per hour: 292.48785062173687\n",
      "- Average number of followers of users posting the tweets per tweet: 2217.9237355281984\n",
      "- Average number of retweets per tweet: 2.0132093991319877\n",
      "================================================================================\n",
      "Statistics for tweets_#gopatriots.txt\n",
      "- Average number of tweets per hour: 40.95469800606194\n",
      "- Average number of followers of users posting the tweets per tweet: 1427.2526051635405\n",
      "- Average number of retweets per tweet: 1.4081919101697078\n",
      "================================================================================\n",
      "Statistics for tweets_#nfl.txt\n",
      "- Average number of tweets per hour: 397.0213901819841\n",
      "- Average number of followers of users posting the tweets per tweet: 4662.37544523693\n",
      "- Average number of retweets per tweet: 1.5344602655543254\n",
      "================================================================================\n",
      "Statistics for tweets_#patriots.txt\n",
      "- Average number of tweets per hour: 750.89426460689\n",
      "- Average number of followers of users posting the tweets per tweet: 3280.4635616550277\n",
      "- Average number of retweets per tweet: 1.7852871288476946\n",
      "================================================================================\n",
      "Statistics for tweets_#sb49.txt\n",
      "- Average number of tweets per hour: 1276.8570598680474\n",
      "- Average number of followers of users posting the tweets per tweet: 10374.160292019487\n",
      "- Average number of retweets per tweet: 2.52713444111402\n",
      "================================================================================\n",
      "Statistics for tweets_#superbowl.txt\n",
      "- Average number of tweets per hour: 2072.11840170408\n",
      "- Average number of followers of users posting the tweets per tweet: 8814.96799424623\n",
      "- Average number of retweets per tweet: 2.3911895819207736\n",
      "================================================================================\n"
     ]
    }
   ],
   "source": [
    "hashtags = ['tweets_#gohawks.txt', 'tweets_#gopatriots.txt', \n",
    "            'tweets_#nfl.txt', 'tweets_#patriots.txt', \n",
    "            'tweets_#sb49.txt', 'tweets_#superbowl.txt']\n",
    "\n",
    "# iterate through each file\n",
    "for tweet_file in hashtags:\n",
    "    file_path = f'D:\\\\ECE219\\\\ECE219_tweet_data\\\\{tweet_file}'\n",
    "    \n",
    "    # init\n",
    "    hours, num_followers, num_retweets = [], [], []\n",
    "    num_tweets = 0\n",
    "    \n",
    "    # read file and store the needed values\n",
    "    with open(file_path, mode='r', encoding=\"utf8\") as file:\n",
    "        for line in file:\n",
    "            tweet = json.loads(line)\n",
    "            hours.append(tweet['citation_date'])\n",
    "            num_followers.append(tweet['author']['followers'])\n",
    "            num_retweets.append(tweet['metrics']['citations']['total'])\n",
    "            num_tweets += 1\n",
    "\n",
    "    avg_num_tweet = num_tweets/((max(hours) - min(hours))/3600)\n",
    "    avg_num_followers = sum(num_followers)/float(num_tweets)\n",
    "    avg_num_retweets = sum(num_retweets)/float(num_tweets)\n",
    "\n",
    "    print('Statistics for {}'.format(tweet_file))\n",
    "    print('- Average number of tweets per hour: {}'.format(avg_num_tweet))\n",
    "    print('- Average number of followers of users '\\ \n",
    "          'posting the tweets per tweet: {}'.format(avg_num_followers))\n",
    "    print('- Average number of retweets per tweet: {}'.format(avg_num_retweets))\n",
    "    print('='*80)\n",
    "        "
   ]
  },
  {
   "cell_type": "markdown",
   "id": "0WSuRANMWZkT",
   "metadata": {
    "id": "0WSuRANMWZkT"
   },
   "source": [
    "<div class=\"alert alert-block alert-success\">\n",
    "<b>QUESTION 9.1:</b> Report the following statistics for each hashtag, i.e. each file has:\n",
    "<ul>\n",
    "  <li>Average number of tweets per hour</li>\n",
    "  <li>Average number of followers of users posting the tweets per tweet (to make it simple, we average over the number of tweets; if a users posted twice, we count the user and the user’s followers twice as well)</li>\n",
    "  <li>Average number of retweets per tweet</li>\n",
    "</ul>\n",
    "</div>"
   ]
  },
  {
   "cell_type": "markdown",
   "id": "qf1vAs8xW6Cs",
   "metadata": {
    "id": "qf1vAs8xW6Cs"
   },
   "source": [
    "<div class=\"alert alert-block alert-success\">\n",
    "<b>ANSWER 9.1:</b> The statistics for each hashtag are printed above\n",
    "</div>"
   ]
  },
  {
   "cell_type": "markdown",
   "id": "c1292566",
   "metadata": {},
   "source": [
    "### Superbowl"
   ]
  },
  {
   "cell_type": "code",
   "execution_count": 13,
   "id": "6f988ef7",
   "metadata": {
    "id": "6f988ef7"
   },
   "outputs": [
    {
     "data": {
      "image/png": "[encoded data removed]",
      "text/plain": [
       "<Figure size 576x432 with 1 Axes>"
      ]
     },
     "metadata": {
      "needs_background": "light"
     },
     "output_type": "display_data"
    }
   ],
   "source": [
    "# get file path\n",
    "tweet_file = 'tweets_#superbowl.txt'\n",
    "file_path = f'D:\\\\ECE219\\\\ECE219_tweet_data\\\\{tweet_file}'\n",
    "    \n",
    "# init\n",
    "hours = []\n",
    "num_tweets = 0\n",
    "\n",
    "# read file and store the needed values\n",
    "with open(file_path, mode='r', encoding=\"utf8\") as file:\n",
    "    for line in file:\n",
    "        tweet = json.loads(line)\n",
    "        hours.append(tweet['citation_date'])\n",
    "        num_tweets += 1\n",
    "\n",
    "# init list of tweet per hour\n",
    "tweets_hr = [0] * int((max(hours)-min(hours))/3600+1)\n",
    "start = min(hours)\n",
    "# start calculating\n",
    "for i in hours:\n",
    "    tweets_hr[int((i-start)/3600)] += 1\n",
    "\n",
    "# plot\n",
    "f = plt.figure(figsize=(8, 6))    \n",
    "x = [i for i in range(0,len(tweets_hr))]\n",
    "plt.bar(x, tweets_hr, 1)\n",
    "plt.xlabel(\"Hour\")\n",
    "plt.ylabel(\"Number of tweets\")\n",
    "plt.title(tweet_file)\n",
    "plt.show()"
   ]
  },
  {
   "cell_type": "markdown",
   "id": "49ca366e",
   "metadata": {},
   "source": [
    "### NFL"
   ]
  },
  {
   "cell_type": "code",
   "execution_count": 14,
   "id": "9b5ef44d",
   "metadata": {},
   "outputs": [
    {
     "data": {
      "image/png": "[encoded data removed]",
      "text/plain": [
       "<Figure size 576x432 with 1 Axes>"
      ]
     },
     "metadata": {
      "needs_background": "light"
     },
     "output_type": "display_data"
    }
   ],
   "source": [
    "# get file path\n",
    "tweet_file = 'tweets_#nfl.txt'\n",
    "file_path = f'D:\\\\ECE219\\\\ECE219_tweet_data\\\\{tweet_file}'\n",
    "    \n",
    "# init\n",
    "hours = []\n",
    "num_tweets = 0\n",
    "\n",
    "# read file and store the needed values\n",
    "with open(file_path, mode='r', encoding=\"utf8\") as file:\n",
    "    for line in file:\n",
    "        tweet = json.loads(line)\n",
    "        hours.append(tweet['citation_date'])\n",
    "        num_tweets += 1\n",
    "\n",
    "# init list of tweet per hour\n",
    "tweets_hr = [0] * int((max(hours)-min(hours))/3600+1)\n",
    "start = min(hours)\n",
    "# start calculating\n",
    "for i in hours:\n",
    "    tweets_hr[int((i-start)/3600)] += 1\n",
    "\n",
    "# plot\n",
    "f = plt.figure(figsize=(8, 6))    \n",
    "x = [i for i in range(0,len(tweets_hr))]\n",
    "plt.bar(x, tweets_hr, 1)\n",
    "plt.xlabel(\"Hour\")\n",
    "plt.ylabel(\"Number of tweets\")\n",
    "plt.title(tweet_file)\n",
    "plt.show()"
   ]
  },
  {
   "cell_type": "markdown",
   "id": "agk1herNW5r7",
   "metadata": {
    "id": "agk1herNW5r7"
   },
   "source": [
    "<div class=\"alert alert-block alert-success\">\n",
    "<b>QUESTION 9.2:</b> Plot \"number of tweets in hour\" over time for <b>#SuperBowl</b> and <b>#NFL</b> (a bar plot with 1-hour bins). The tweets are stored in separate files for different hashtags and files are named as tweet [#hashtag].txt.\n",
    "</div>"
   ]
  },
  {
   "cell_type": "markdown",
   "id": "RkE_LsGYW5iQ",
   "metadata": {
    "id": "RkE_LsGYW5iQ"
   },
   "source": [
    "<div class=\"alert alert-block alert-success\">\n",
    "<b>ANSWER 9.2:</b> The plots of \"number of tweets in hour\" for <b>#SuperBowl</b> and <b>#NFL</b> are shown above.\n",
    "</div>"
   ]
  },
  {
   "cell_type": "markdown",
   "id": "3L8FJoXCXop0",
   "metadata": {
    "id": "3L8FJoXCXop0"
   },
   "source": [
    "<div class=\"alert alert-block alert-success\">\n",
    "<b>QUESTION 10:</b> Follow the steps outlined below:\n",
    "<ul>\n",
    "  <li>Describe your task.</li>\n",
    "  <li>Explore the data and any metadata (you can even incorporate additional datasets if you choose).</li>\n",
    "  <li>Describe the feature engineering process. Implement it with reason: Why are you extracting features this way - why not in any other way?</li>\n",
    "  <li>Generate baselines for your final ML model.</li>\n",
    "  <li>A thorough evaluation is necessary.</li>\n",
    "  <li>Be creative in your task design - use things you have learned in other classes too if you are excited about them!</li>\n",
    "</ul>\n",
    "</div>"
   ]
  },
  {
   "cell_type": "markdown",
   "id": "895fef1b",
   "metadata": {},
   "source": [
    "<div class=\"alert alert-block alert-success\">\n",
    "<b>ANSWER 10:</b> Since this tweet dataset contains tweets that were posted before, during, and after the Superbowl, I want to find out the most indicative features at each time period that correlated to the number of tweets in the next next hour or minute. With such information hand, I can then predict the number of the tweets in the future (Part 1). Moreover, one can even consider using this representative features at each time period along with more complex models to do more complex future prediction such as the predicted winning team, the predicted scores, increment of followers, etc (Part 2). However, since I am doing this project alone and considering the work load, I only complete the first part.\n",
    "    \n",
    "For feature engineering process, I extract 'date', 'time', 'tweets', 'followers', 'retweets', 'mentions', 'score', 'hashtags' as the features needed for the training and standardize most of them to avoid imbalance scale range across different features and bias.\n",
    "</div>"
   ]
  },
  {
   "cell_type": "markdown",
   "id": "b02335c8",
   "metadata": {},
   "source": [
    "### Get all necessary data and create data frame"
   ]
  },
  {
   "cell_type": "code",
   "execution_count": 15,
   "id": "b33d9521",
   "metadata": {
    "id": "b33d9521"
   },
   "outputs": [],
   "source": [
    "# get file path\n",
    "tweet_file = 'tweets_#superbowl.txt'\n",
    "file_path = f'D:\\\\ECE219\\\\ECE219_tweet_data\\\\{tweet_file}'\n",
    "\n",
    "# init\n",
    "date, time, time_5min = [], [], []\n",
    "num_tweets, num_followers, num_retweets = [], [], []\n",
    "num_mentions, rank_score, num_hashtags = [], [], []\n",
    "\n",
    "# parameter\n",
    "pst_tz = pytz.timezone('America/Los_Angeles')\n",
    "\n",
    "# read file and store the needed values\n",
    "with open(file_path, mode='r', encoding=\"utf8\") as file:\n",
    "    for line in file:\n",
    "        tweet = json.loads(line)\n",
    "        \n",
    "        # lA time\n",
    "        timestamp = tweet['citation_date']\n",
    "        timestamp = str(datetime.datetime.fromtimestamp(int(timestamp), pst_tz))\n",
    "        time_split = ''.join(timestamp[0:10].split('-'))\n",
    "        date.append(int(time_split))\n",
    "        time.append(int(timestamp[11:13]))\n",
    "        \n",
    "        # get time windows\n",
    "        a, b, c, _ = timestamp.split(':')\n",
    "        rounded = str(int((int(b)/5))*5).zfill(2)\n",
    "        time_mins = timestamp[11:13] + rounded\n",
    "        time_5min.append(int(time_mins))\n",
    "        \n",
    "        num_tweets.append(1)\n",
    "        num_followers.append(tweet['author']['followers'])\n",
    "        num_retweets.append(tweet['metrics']['citations']['total'])\n",
    "        num_mentions.append(len(tweet['tweet']['entities']['user_mentions']))\n",
    "        rank_score.append(tweet['metrics']['ranking_score'])\n",
    "        num_hashtags.append(tweet['title'].count('#'))"
   ]
  },
  {
   "cell_type": "code",
   "execution_count": 92,
   "id": "77d8b1bd",
   "metadata": {
    "id": "77d8b1bd"
   },
   "outputs": [],
   "source": [
    "columns = ['date', 'time', 'tweets', 'followers', \n",
    "           'retweets', 'mentions', 'score', 'hashtags']\n",
    "\n",
    "df1 = pd.DataFrame({'date': date, 'time': time, 'tweets': num_tweets,\n",
    "                   'followers': num_followers, 'retweets': num_retweets,\n",
    "                   'mentions': num_mentions, 'score': rank_score,\n",
    "                   'hashtags': num_hashtags}, columns=columns)\n",
    "\n",
    "df1 = df1.groupby(['date', 'time']).agg({'time': np.max, 'tweets': np.sum,\n",
    "                                         'followers': np.sum, 'retweets': np.sum, \n",
    "                                         'mentions': np.sum, 'score': np.sum, \n",
    "                                         'hashtags': np.sum})\n",
    "\n",
    "df_5 = pd.DataFrame({'date': date, 'time': time_5min, 'tweets': num_tweets,\n",
    "                     'followers': num_followers, 'retweets': num_retweets, \n",
    "                     'mentions': num_mentions, 'score': rank_score, \n",
    "                     'hashtags': num_hashtags}, columns=columns)\n",
    "\n",
    "df_5 = df_5.groupby(['date', 'time']).agg({'time': np.max, 'tweets': np.sum,\n",
    "                                           'followers': np.sum, 'retweets': np.sum, \n",
    "                                           'mentions': np.sum, 'score': np.sum, \n",
    "                                           'hashtags': np.sum})\n",
    "\n",
    "time_frame1 = df1.query('date < 20150201 or (date == 20150201 and time < 8)')\n",
    "time_frame2 = df_5.query('date == 20150201 and (time >= 800 and time <= 2000)')\n",
    "time_frame3 = df1.query('date > 20150201 or (date == 20150201 and time > 20)')"
   ]
  },
  {
   "cell_type": "markdown",
   "id": "1d83714f",
   "metadata": {},
   "source": [
    "### Data inspection"
   ]
  },
  {
   "cell_type": "code",
   "execution_count": 93,
   "id": "010bef39",
   "metadata": {},
   "outputs": [
    {
     "data": {
      "text/html": [
       "<div>\n",
       "<style scoped>\n",
       "    .dataframe tbody tr th:only-of-type {\n",
       "        vertical-align: middle;\n",
       "    }\n",
       "\n",
       "    .dataframe tbody tr th {\n",
       "        vertical-align: top;\n",
       "    }\n",
       "\n",
       "    .dataframe thead th {\n",
       "        text-align: right;\n",
       "    }\n",
       "</style>\n",
       "<table border=\"1\" class=\"dataframe\">\n",
       "  <thead>\n",
       "    <tr style=\"text-align: right;\">\n",
       "      <th></th>\n",
       "      <th></th>\n",
       "      <th>time</th>\n",
       "      <th>tweets</th>\n",
       "      <th>followers</th>\n",
       "      <th>retweets</th>\n",
       "      <th>mentions</th>\n",
       "      <th>score</th>\n",
       "      <th>hashtags</th>\n",
       "    </tr>\n",
       "    <tr>\n",
       "      <th>date</th>\n",
       "      <th>time</th>\n",
       "      <th></th>\n",
       "      <th></th>\n",
       "      <th></th>\n",
       "      <th></th>\n",
       "      <th></th>\n",
       "      <th></th>\n",
       "      <th></th>\n",
       "    </tr>\n",
       "  </thead>\n",
       "  <tbody>\n",
       "    <tr>\n",
       "      <th rowspan=\"5\" valign=\"top\">20150114</th>\n",
       "      <th>0</th>\n",
       "      <td>0</td>\n",
       "      <td>8</td>\n",
       "      <td>3181.0</td>\n",
       "      <td>9</td>\n",
       "      <td>10</td>\n",
       "      <td>33.149173</td>\n",
       "      <td>20</td>\n",
       "    </tr>\n",
       "    <tr>\n",
       "      <th>1</th>\n",
       "      <td>1</td>\n",
       "      <td>6</td>\n",
       "      <td>12618.0</td>\n",
       "      <td>8</td>\n",
       "      <td>7</td>\n",
       "      <td>24.862325</td>\n",
       "      <td>17</td>\n",
       "    </tr>\n",
       "    <tr>\n",
       "      <th>2</th>\n",
       "      <td>2</td>\n",
       "      <td>12</td>\n",
       "      <td>1406539.0</td>\n",
       "      <td>75</td>\n",
       "      <td>7</td>\n",
       "      <td>61.154177</td>\n",
       "      <td>22</td>\n",
       "    </tr>\n",
       "    <tr>\n",
       "      <th>3</th>\n",
       "      <td>3</td>\n",
       "      <td>10</td>\n",
       "      <td>3210.0</td>\n",
       "      <td>10</td>\n",
       "      <td>6</td>\n",
       "      <td>41.463227</td>\n",
       "      <td>26</td>\n",
       "    </tr>\n",
       "    <tr>\n",
       "      <th>4</th>\n",
       "      <td>4</td>\n",
       "      <td>11</td>\n",
       "      <td>27896.0</td>\n",
       "      <td>16</td>\n",
       "      <td>7</td>\n",
       "      <td>51.386322</td>\n",
       "      <td>30</td>\n",
       "    </tr>\n",
       "  </tbody>\n",
       "</table>\n",
       "</div>"
      ],
      "text/plain": [
       "               time  tweets  followers  retweets  mentions      score  \\\n",
       "date     time                                                           \n",
       "20150114 0        0       8     3181.0         9        10  33.149173   \n",
       "         1        1       6    12618.0         8         7  24.862325   \n",
       "         2        2      12  1406539.0        75         7  61.154177   \n",
       "         3        3      10     3210.0        10         6  41.463227   \n",
       "         4        4      11    27896.0        16         7  51.386322   \n",
       "\n",
       "               hashtags  \n",
       "date     time            \n",
       "20150114 0           20  \n",
       "         1           17  \n",
       "         2           22  \n",
       "         3           26  \n",
       "         4           30  "
      ]
     },
     "execution_count": 93,
     "metadata": {},
     "output_type": "execute_result"
    }
   ],
   "source": [
    "time_frame1.head()"
   ]
  },
  {
   "cell_type": "code",
   "execution_count": 94,
   "id": "37554689",
   "metadata": {},
   "outputs": [
    {
     "data": {
      "text/html": [
       "<div>\n",
       "<style scoped>\n",
       "    .dataframe tbody tr th:only-of-type {\n",
       "        vertical-align: middle;\n",
       "    }\n",
       "\n",
       "    .dataframe tbody tr th {\n",
       "        vertical-align: top;\n",
       "    }\n",
       "\n",
       "    .dataframe thead th {\n",
       "        text-align: right;\n",
       "    }\n",
       "</style>\n",
       "<table border=\"1\" class=\"dataframe\">\n",
       "  <thead>\n",
       "    <tr style=\"text-align: right;\">\n",
       "      <th></th>\n",
       "      <th></th>\n",
       "      <th>time</th>\n",
       "      <th>tweets</th>\n",
       "      <th>followers</th>\n",
       "      <th>retweets</th>\n",
       "      <th>mentions</th>\n",
       "      <th>score</th>\n",
       "      <th>hashtags</th>\n",
       "    </tr>\n",
       "    <tr>\n",
       "      <th>date</th>\n",
       "      <th>time</th>\n",
       "      <th></th>\n",
       "      <th></th>\n",
       "      <th></th>\n",
       "      <th></th>\n",
       "      <th></th>\n",
       "      <th></th>\n",
       "      <th></th>\n",
       "    </tr>\n",
       "  </thead>\n",
       "  <tbody>\n",
       "    <tr>\n",
       "      <th rowspan=\"5\" valign=\"top\">20150201</th>\n",
       "      <th>800</th>\n",
       "      <td>800</td>\n",
       "      <td>815</td>\n",
       "      <td>31752316.0</td>\n",
       "      <td>2065</td>\n",
       "      <td>330</td>\n",
       "      <td>3937.105762</td>\n",
       "      <td>1799</td>\n",
       "    </tr>\n",
       "    <tr>\n",
       "      <th>805</th>\n",
       "      <td>805</td>\n",
       "      <td>838</td>\n",
       "      <td>7014228.0</td>\n",
       "      <td>1706</td>\n",
       "      <td>304</td>\n",
       "      <td>3778.794464</td>\n",
       "      <td>2274</td>\n",
       "    </tr>\n",
       "    <tr>\n",
       "      <th>810</th>\n",
       "      <td>810</td>\n",
       "      <td>705</td>\n",
       "      <td>3938937.0</td>\n",
       "      <td>1163</td>\n",
       "      <td>294</td>\n",
       "      <td>3229.159620</td>\n",
       "      <td>1805</td>\n",
       "    </tr>\n",
       "    <tr>\n",
       "      <th>815</th>\n",
       "      <td>815</td>\n",
       "      <td>758</td>\n",
       "      <td>5736082.0</td>\n",
       "      <td>1312</td>\n",
       "      <td>334</td>\n",
       "      <td>3430.129700</td>\n",
       "      <td>1779</td>\n",
       "    </tr>\n",
       "    <tr>\n",
       "      <th>820</th>\n",
       "      <td>820</td>\n",
       "      <td>747</td>\n",
       "      <td>4954814.0</td>\n",
       "      <td>1168</td>\n",
       "      <td>274</td>\n",
       "      <td>3318.970026</td>\n",
       "      <td>2061</td>\n",
       "    </tr>\n",
       "  </tbody>\n",
       "</table>\n",
       "</div>"
      ],
      "text/plain": [
       "               time  tweets   followers  retweets  mentions        score  \\\n",
       "date     time                                                              \n",
       "20150201 800    800     815  31752316.0      2065       330  3937.105762   \n",
       "         805    805     838   7014228.0      1706       304  3778.794464   \n",
       "         810    810     705   3938937.0      1163       294  3229.159620   \n",
       "         815    815     758   5736082.0      1312       334  3430.129700   \n",
       "         820    820     747   4954814.0      1168       274  3318.970026   \n",
       "\n",
       "               hashtags  \n",
       "date     time            \n",
       "20150201 800       1799  \n",
       "         805       2274  \n",
       "         810       1805  \n",
       "         815       1779  \n",
       "         820       2061  "
      ]
     },
     "execution_count": 94,
     "metadata": {},
     "output_type": "execute_result"
    }
   ],
   "source": [
    "time_frame2.head()"
   ]
  },
  {
   "cell_type": "code",
   "execution_count": 95,
   "id": "01bce8b6",
   "metadata": {},
   "outputs": [
    {
     "data": {
      "text/html": [
       "<div>\n",
       "<style scoped>\n",
       "    .dataframe tbody tr th:only-of-type {\n",
       "        vertical-align: middle;\n",
       "    }\n",
       "\n",
       "    .dataframe tbody tr th {\n",
       "        vertical-align: top;\n",
       "    }\n",
       "\n",
       "    .dataframe thead th {\n",
       "        text-align: right;\n",
       "    }\n",
       "</style>\n",
       "<table border=\"1\" class=\"dataframe\">\n",
       "  <thead>\n",
       "    <tr style=\"text-align: right;\">\n",
       "      <th></th>\n",
       "      <th></th>\n",
       "      <th>time</th>\n",
       "      <th>tweets</th>\n",
       "      <th>followers</th>\n",
       "      <th>retweets</th>\n",
       "      <th>mentions</th>\n",
       "      <th>score</th>\n",
       "      <th>hashtags</th>\n",
       "    </tr>\n",
       "    <tr>\n",
       "      <th>date</th>\n",
       "      <th>time</th>\n",
       "      <th></th>\n",
       "      <th></th>\n",
       "      <th></th>\n",
       "      <th></th>\n",
       "      <th></th>\n",
       "      <th></th>\n",
       "      <th></th>\n",
       "    </tr>\n",
       "  </thead>\n",
       "  <tbody>\n",
       "    <tr>\n",
       "      <th rowspan=\"3\" valign=\"top\">20150201</th>\n",
       "      <th>21</th>\n",
       "      <td>21</td>\n",
       "      <td>1771</td>\n",
       "      <td>47501907.0</td>\n",
       "      <td>11006</td>\n",
       "      <td>862</td>\n",
       "      <td>8212.099064</td>\n",
       "      <td>5673</td>\n",
       "    </tr>\n",
       "    <tr>\n",
       "      <th>22</th>\n",
       "      <td>22</td>\n",
       "      <td>2579</td>\n",
       "      <td>15615953.0</td>\n",
       "      <td>10597</td>\n",
       "      <td>1207</td>\n",
       "      <td>11514.393423</td>\n",
       "      <td>8448</td>\n",
       "    </tr>\n",
       "    <tr>\n",
       "      <th>23</th>\n",
       "      <td>23</td>\n",
       "      <td>1546</td>\n",
       "      <td>9276926.0</td>\n",
       "      <td>4444</td>\n",
       "      <td>638</td>\n",
       "      <td>6838.339453</td>\n",
       "      <td>5121</td>\n",
       "    </tr>\n",
       "    <tr>\n",
       "      <th rowspan=\"2\" valign=\"top\">20150202</th>\n",
       "      <th>0</th>\n",
       "      <td>0</td>\n",
       "      <td>1097</td>\n",
       "      <td>13775183.0</td>\n",
       "      <td>6362</td>\n",
       "      <td>482</td>\n",
       "      <td>4827.763922</td>\n",
       "      <td>3551</td>\n",
       "    </tr>\n",
       "    <tr>\n",
       "      <th>1</th>\n",
       "      <td>1</td>\n",
       "      <td>890</td>\n",
       "      <td>4621085.0</td>\n",
       "      <td>1506</td>\n",
       "      <td>396</td>\n",
       "      <td>3927.715512</td>\n",
       "      <td>2885</td>\n",
       "    </tr>\n",
       "  </tbody>\n",
       "</table>\n",
       "</div>"
      ],
      "text/plain": [
       "               time  tweets   followers  retweets  mentions         score  \\\n",
       "date     time                                                               \n",
       "20150201 21      21    1771  47501907.0     11006       862   8212.099064   \n",
       "         22      22    2579  15615953.0     10597      1207  11514.393423   \n",
       "         23      23    1546   9276926.0      4444       638   6838.339453   \n",
       "20150202 0        0    1097  13775183.0      6362       482   4827.763922   \n",
       "         1        1     890   4621085.0      1506       396   3927.715512   \n",
       "\n",
       "               hashtags  \n",
       "date     time            \n",
       "20150201 21        5673  \n",
       "         22        8448  \n",
       "         23        5121  \n",
       "20150202 0         3551  \n",
       "         1         2885  "
      ]
     },
     "execution_count": 95,
     "metadata": {},
     "output_type": "execute_result"
    }
   ],
   "source": [
    "time_frame3.head()"
   ]
  },
  {
   "cell_type": "markdown",
   "id": "4d15e05d",
   "metadata": {},
   "source": [
    "### Data preprocessing"
   ]
  },
  {
   "cell_type": "code",
   "execution_count": 98,
   "id": "8d6c3f97",
   "metadata": {},
   "outputs": [],
   "source": [
    "from sklearn.preprocessing import StandardScaler\n",
    "from sklearn_pandas import DataFrameMapper\n",
    "\n",
    "'''\n",
    "Standardize all data in each time frame\n",
    "'''\n",
    "mapper = DataFrameMapper([(time_frame1.iloc[:, 2:].columns, StandardScaler())])\n",
    "\n",
    "# time frame 1\n",
    "time_frame1_scaled = mapper.fit_transform(time_frame1.iloc[:, 2:].copy(), \n",
    "                                          len(time_frame1.iloc[:, 2:].columns))\n",
    "time_frame1.loc[:, 'followers':] = pd.DataFrame(time_frame1_scaled,\n",
    "                                             index=time_frame1.iloc[:, 2:].index, \n",
    "                                             columns=time_frame1.iloc[:, 2:].columns)\n",
    "\n",
    "# time frame 2\n",
    "time_frame2_scaled = mapper.fit_transform(time_frame2.iloc[:, 2:].copy(), \n",
    "                                          len(time_frame2.iloc[:, 2:].columns))\n",
    "time_frame2.loc[:, 'followers':] = pd.DataFrame(time_frame2_scaled,\n",
    "                                             index=time_frame2.iloc[:, 2:].index, \n",
    "                                             columns=time_frame2.iloc[:, 2:].columns)\n",
    "\n",
    "# time frame 3\n",
    "time_frame3_scaled = mapper.fit_transform(time_frame3.iloc[:, 2:].copy(), \n",
    "                                          len(time_frame3.iloc[:, 2:].columns))\n",
    "time_frame3.loc[:, 'followers':] = pd.DataFrame(time_frame3_scaled,\n",
    "                                             index=time_frame3.iloc[:, 2:].index, \n",
    "                                             columns=time_frame3.iloc[:, 2:].columns)"
   ]
  },
  {
   "cell_type": "markdown",
   "id": "ee32cf2c",
   "metadata": {},
   "source": [
    "### Model training and evaluation"
   ]
  },
  {
   "cell_type": "code",
   "execution_count": 100,
   "id": "82814c98",
   "metadata": {},
   "outputs": [
    {
     "name": "stdout",
     "output_type": "stream",
     "text": [
      "MSE for tweets_#superbowl.txt for before Feb 1 - RMSE: 695.9451\n",
      "                            OLS Regression Results                            \n",
      "==============================================================================\n",
      "Dep. Variable:                      y   R-squared:                       0.439\n",
      "Model:                            OLS   Adj. R-squared:                  0.431\n",
      "Method:                 Least Squares   F-statistic:                     56.28\n",
      "Date:                Sun, 19 Mar 2023   Prob (F-statistic):           3.06e-51\n",
      "Time:                        23:03:01   Log-Likelihood:                -3496.3\n",
      "No. Observations:                 439   AIC:                             7007.\n",
      "Df Residuals:                     432   BIC:                             7035.\n",
      "Df Model:                           6                                         \n",
      "Covariance Type:            nonrobust                                         \n",
      "==============================================================================\n",
      "                 coef    std err          t      P>|t|      [0.025      0.975]\n",
      "------------------------------------------------------------------------------\n",
      "const      -2299.8094    990.478     -2.322      0.021   -4246.564    -353.055\n",
      "x1             6.2633      2.255      2.778      0.006       1.832      10.695\n",
      "x2           165.7670     62.156      2.667      0.008      43.602     287.932\n",
      "x3          -172.2764    146.299     -1.178      0.240    -459.823     115.270\n",
      "x4           856.1031    215.873      3.966      0.000     431.811    1280.395\n",
      "x5         -5852.3777   2159.816     -2.710      0.007   -1.01e+04   -1607.323\n",
      "x6           -99.1736    298.347     -0.332      0.740    -685.567     487.219\n",
      "==============================================================================\n",
      "Omnibus:                      627.399   Durbin-Watson:                   1.949\n",
      "Prob(Omnibus):                  0.000   Jarque-Bera (JB):           121111.266\n",
      "Skew:                           7.343   Prob(JB):                         0.00\n",
      "Kurtosis:                      83.034   Cond. No.                     6.89e+04\n",
      "==============================================================================\n",
      "\n",
      "Notes:\n",
      "[1] Standard Errors assume that the covariance matrix of the errors is correctly specified.\n",
      "[2] The condition number is large, 6.89e+04. This might indicate that there are\n",
      "strong multicollinearity or other numerical problems.\n"
     ]
    }
   ],
   "source": [
    "'''\n",
    "Time frame 1: before Feb. 1, 8:00am - 1 hour window\n",
    "'''\n",
    "\n",
    "# get data\n",
    "X = []\n",
    "for i in time_frame1.index:\n",
    "    X.append(time_frame1.loc[i, 'tweets':].values)\n",
    "X.pop()\n",
    "X = sm.add_constant(X)\n",
    "y = time_frame1.loc[time_frame1.index[1]:, 'tweets'].values\n",
    "\n",
    "# train model and predict\n",
    "model = sm.OLS(y,X).fit()\n",
    "pred_y = model.predict(X)\n",
    "\n",
    "# print\n",
    "print('MSE for {} for before Feb 1 '\\\n",
    "      '- RMSE: {:5.4f}'.format(tweet_file, np.sqrt(mean_squared_error(y, pred_y))))\n",
    "print(model.summary())"
   ]
  },
  {
   "cell_type": "code",
   "execution_count": 101,
   "id": "1fc63b6e",
   "metadata": {},
   "outputs": [
    {
     "name": "stdout",
     "output_type": "stream",
     "text": [
      "MSE for tweets_#superbowl.txt for between Feb 1 - RMSE: 2443.4510\n",
      "                            OLS Regression Results                            \n",
      "==============================================================================\n",
      "Dep. Variable:                      y   R-squared:                       0.904\n",
      "Model:                            OLS   Adj. R-squared:                  0.900\n",
      "Method:                 Least Squares   F-statistic:                     215.4\n",
      "Date:                Sun, 19 Mar 2023   Prob (F-statistic):           3.51e-67\n",
      "Time:                        23:03:05   Log-Likelihood:                -1327.7\n",
      "No. Observations:                 144   AIC:                             2669.\n",
      "Df Residuals:                     137   BIC:                             2690.\n",
      "Df Model:                           6                                         \n",
      "Covariance Type:            nonrobust                                         \n",
      "==============================================================================\n",
      "                 coef    std err          t      P>|t|      [0.025      0.975]\n",
      "------------------------------------------------------------------------------\n",
      "const       3.422e+04   1.95e+04      1.752      0.082   -4400.376    7.28e+04\n",
      "x1            -4.3682      3.064     -1.426      0.156     -10.427       1.690\n",
      "x2          -410.3663    618.576     -0.663      0.508   -1633.559     812.826\n",
      "x3          -826.1702    363.202     -2.275      0.024   -1544.377    -107.964\n",
      "x4          1568.4573   1056.847      1.484      0.140    -521.386    3658.300\n",
      "x5          4.997e+04   2.12e+04      2.360      0.020    8107.940    9.18e+04\n",
      "x6         -8623.8371   5057.950     -1.705      0.090   -1.86e+04    1377.912\n",
      "==============================================================================\n",
      "Omnibus:                       46.490   Durbin-Watson:                   1.548\n",
      "Prob(Omnibus):                  0.000   Jarque-Bera (JB):              203.297\n",
      "Skew:                           1.068   Prob(JB):                     7.16e-45\n",
      "Kurtosis:                       8.415   Cond. No.                     1.41e+06\n",
      "==============================================================================\n",
      "\n",
      "Notes:\n",
      "[1] Standard Errors assume that the covariance matrix of the errors is correctly specified.\n",
      "[2] The condition number is large, 1.41e+06. This might indicate that there are\n",
      "strong multicollinearity or other numerical problems.\n"
     ]
    }
   ],
   "source": [
    "'''\n",
    "Time frame 2: between Feb. 1, 8:00am ~ 8:00pm - 5 minutes window\n",
    "'''\n",
    "\n",
    "# get data\n",
    "X = []\n",
    "for i in time_frame2.index:\n",
    "    X.append(time_frame2.loc[i, 'tweets':].values)\n",
    "X.pop()\n",
    "X = sm.add_constant(X)\n",
    "y = time_frame2.loc[time_frame2.index[1]:, 'tweets'].values\n",
    "\n",
    "# train model and predict\n",
    "model = sm.OLS(y,X).fit()\n",
    "pred_y = model.predict(X)\n",
    "\n",
    "# print\n",
    "print('MSE for {} for between Feb 1 '\\\n",
    "      '- RMSE: {:5.4f}'.format(tweet_file, np.sqrt(mean_squared_error(y, pred_y))))\n",
    "print(model.summary())"
   ]
  },
  {
   "cell_type": "code",
   "execution_count": 102,
   "id": "324ac57b",
   "metadata": {},
   "outputs": [
    {
     "name": "stdout",
     "output_type": "stream",
     "text": [
      "MSE for tweets_#superbowl.txt for after Feb 1 - MSE: 79534.4816\n",
      "                            OLS Regression Results                            \n",
      "==============================================================================\n",
      "Dep. Variable:                      y   R-squared:                       0.888\n",
      "Model:                            OLS   Adj. R-squared:                  0.882\n",
      "Method:                 Least Squares   F-statistic:                     165.9\n",
      "Date:                Sun, 19 Mar 2023   Prob (F-statistic):           2.54e-57\n",
      "Time:                        23:03:05   Log-Likelihood:                -939.10\n",
      "No. Observations:                 133   AIC:                             1892.\n",
      "Df Residuals:                     126   BIC:                             1912.\n",
      "Df Model:                           6                                         \n",
      "Covariance Type:            nonrobust                                         \n",
      "==============================================================================\n",
      "                 coef    std err          t      P>|t|      [0.025      0.975]\n",
      "------------------------------------------------------------------------------\n",
      "const       5172.5140   1105.719      4.678      0.000    2984.329    7360.699\n",
      "x1            -6.5396      1.607     -4.069      0.000      -9.720      -3.359\n",
      "x2            88.4593     87.418      1.012      0.314     -84.538     261.456\n",
      "x3           -26.5039     44.618     -0.594      0.554    -114.802      61.794\n",
      "x4          -100.9199    142.599     -0.708      0.480    -383.119     181.279\n",
      "x5          5805.1153   1306.620      4.443      0.000    3219.354    8390.877\n",
      "x6           534.2747    217.892      2.452      0.016     103.073     965.476\n",
      "==============================================================================\n",
      "Omnibus:                      197.984   Durbin-Watson:                   2.135\n",
      "Prob(Omnibus):                  0.000   Jarque-Bera (JB):            17236.959\n",
      "Skew:                           5.782   Prob(JB):                         0.00\n",
      "Kurtosis:                      57.559   Cond. No.                     7.39e+04\n",
      "==============================================================================\n",
      "\n",
      "Notes:\n",
      "[1] Standard Errors assume that the covariance matrix of the errors is correctly specified.\n",
      "[2] The condition number is large, 7.39e+04. This might indicate that there are\n",
      "strong multicollinearity or other numerical problems.\n"
     ]
    }
   ],
   "source": [
    "'''\n",
    "Time frame 3: after Feb. 1, 8:00pm - 1 hour window\n",
    "'''\n",
    "\n",
    "# get data\n",
    "X = []\n",
    "for i in time_frame3.index:\n",
    "    X.append(time_frame3.loc[i, 'tweets':].values)\n",
    "X.pop()\n",
    "X = sm.add_constant(X)\n",
    "y = time_frame3.loc[time_frame3.index[1]:, 'tweets'].values\n",
    "\n",
    "# train model and predict\n",
    "model = sm.OLS(y,X).fit()\n",
    "pred_y = model.predict(X)\n",
    "\n",
    "# print\n",
    "print('MSE for {} for after Feb 1 '\\\n",
    "      '- MSE: {:5.4f}'.format(tweet_file, mean_squared_error(y, pred_y)))\n",
    "print(model.summary())"
   ]
  },
  {
   "cell_type": "markdown",
   "id": "89251f8a",
   "metadata": {},
   "source": [
    "### Discussion"
   ]
  },
  {
   "cell_type": "markdown",
   "id": "f075a4d3",
   "metadata": {
    "id": "1ba05692"
   },
   "source": [
    "<div class=\"alert alert-block alert-success\">\n",
    "Before the superbowl started, one can notice that x1('tweets'), x2('followers'), x4('mentions'), x5('score') are the main features that are most informative for predicting the number of tweets in the future since the p-score is almost 0. During the superbowl, x3('retweets') and x5('score') are the most indicative features and after the superbowl, x1('tweets'), x5('score'), and x6('hashtags') are the best features for the prediction of number of tweets in the near future. By combining all together, one can discover that x5('score') is the sole feature that always shows high correlation to the number of tweets in the near future. Therefore, if we want to build a simple model to predict the number of tweets in the near future, we can just choose 'score' as feature and it might already be able to yield good result. However, for more complexe cases, one can use an ensemble of different models trained on those representative features at each time period to achieve high model performance.\n",
    "</div>"
   ]
  },
  {
   "cell_type": "code",
   "execution_count": null,
   "id": "1dd8febe",
   "metadata": {
    "id": "1dd8febe"
   },
   "outputs": [],
   "source": []
  }
 ],
 "metadata": {
  "colab": {
   "provenance": []
  },
  "kernelspec": {
   "display_name": "Python 3 (ipykernel)",
   "language": "python",
   "name": "python3"
  },
  "language_info": {
   "codemirror_mode": {
    "name": "ipython",
    "version": 3
   },
   "file_extension": ".py",
   "mimetype": "text/x-python",
   "name": "python",
   "nbconvert_exporter": "python",
   "pygments_lexer": "ipython3",
   "version": "3.8.3"
  }
 },
 "nbformat": 4,
 "nbformat_minor": 5
}
